{
  "nbformat": 4,
  "nbformat_minor": 0,
  "metadata": {
    "kernelspec": {
      "name": "python3",
      "display_name": "Python 3"
    },
    "colab": {
      "name": "Lab5.ipynb",
      "provenance": []
    },
    "language_info": {
      "name": "python"
    },
    "accelerator": "GPU"
  },
  "cells": [
    {
      "cell_type": "markdown",
      "metadata": {
        "id": "03X_F_UxLffR"
      },
      "source": [
        "# Lab 5"
      ]
    },
    {
      "cell_type": "markdown",
      "metadata": {
        "id": "tS_Qw1vLLffS"
      },
      "source": [
        "<table class=\"tfo-notebook-buttons\" align=\"left\">\n",
        "  <td>\n",
        "    <a target=\"_blank\" href=\"https://colab.research.google.com/github/taipeitechmmslab/MMSLAB-TF2/blob/master/Lab5.ipynb\"><img src=\"https://www.tensorflow.org/images/colab_logo_32px.png\" />Run in Google Colab</a>\n",
        "  </td>\n",
        "  <td>\n",
        "    <a target=\"_blank\" href=\"https://github.com/taipeitechmmslab/MMSLAB-TF2/blob/master/Lab5.ipynb\"><img src=\"https://www.tensorflow.org/images/GitHub-Mark-32px.png\" />View source on GitHub</a>\n",
        "  </td>\n",
        "</table>"
      ]
    },
    {
      "cell_type": "markdown",
      "metadata": {
        "id": "mYcbaYqlLffT"
      },
      "source": [
        "### Import"
      ]
    },
    {
      "cell_type": "code",
      "metadata": {
        "id": "myerHfGkLffT"
      },
      "source": [
        "import os\n",
        "import numpy as np\n",
        "import pandas as pd\n",
        "import tensorflow as tf\n",
        "import matplotlib.pyplot as plt\n",
        "import tensorflow_datasets as tfds\n",
        "\n",
        "from tensorflow import keras\n",
        "from tensorflow.keras import layers\n",
        "from tensorflow.keras import initializers\n",
        "#把preprocessing.py 檔案放置到content底下\n",
        "from preprocessing import parse_aug_fn, parse_fn"
      ],
      "execution_count": 1,
      "outputs": []
    },
    {
      "cell_type": "markdown",
      "metadata": {
        "id": "0q20oLZQLffU"
      },
      "source": [
        "## Activation Function 激活函數"
      ]
    },
    {
      "cell_type": "markdown",
      "metadata": {
        "id": "z4Avl9qmLffU"
      },
      "source": [
        "1. ReLU"
      ]
    },
    {
      "cell_type": "code",
      "metadata": {
        "scrolled": true,
        "colab": {
          "base_uri": "https://localhost:8080/",
          "height": 282
        },
        "id": "uVly55PnLffV",
        "outputId": "984f10d5-5b03-449f-9acc-e9f7aba00ddf"
      },
      "source": [
        "x = np.arange(-2, 2, 0.01)\n",
        "y = np.where(x>0, x, 0)\n",
        "plt.plot(x, y, label='ReLU')\n",
        "plt.grid(True)\n",
        "x = np.arange(-2, 2, 0.01)\n",
        "y = np.where(x>0, 1, 0)\n",
        "plt.plot(x, y, label='Derivative of ReLU')\n",
        "plt.grid(True)\n",
        "plt.legend(loc='upper left')"
      ],
      "execution_count": 2,
      "outputs": [
        {
          "output_type": "execute_result",
          "data": {
            "text/plain": [
              "<matplotlib.legend.Legend at 0x7f6d51034350>"
            ]
          },
          "metadata": {
            "tags": []
          },
          "execution_count": 2
        },
        {
          "output_type": "display_data",
          "data": {
            "image/png": "[encoded data removed]",
            "text/plain": [
              "<Figure size 432x288 with 1 Axes>"
            ]
          },
          "metadata": {
            "tags": [],
            "needs_background": "light"
          }
        }
      ]
    },
    {
      "cell_type": "markdown",
      "metadata": {
        "id": "-Beiu3EmLffW"
      },
      "source": [
        "2. Sigmoid"
      ]
    },
    {
      "cell_type": "code",
      "metadata": {
        "colab": {
          "base_uri": "https://localhost:8080/",
          "height": 282
        },
        "id": "-m7qfND9LffW",
        "outputId": "c7f584b5-9efb-4f3b-aae8-b0bec5c5ee9b"
      },
      "source": [
        "x1 = np.arange(-5, 5, 0.01)\n",
        "y1 = 1 / (1 + np.exp(-x1))\n",
        "plt.plot(x1, y1, label='Sigmoid')\n",
        "plt.grid(True)\n",
        "x2 = np.arange(-5, 5, 0.01)\n",
        "y2 = (1 / (1 + np.exp(-x2))) * (1 - (1 / (1 + np.exp(-x2))))\n",
        "plt.plot(x2, y2, label='Derivative of Sigmoid')\n",
        "plt.grid(True)\n",
        "plt.legend(loc='upper left')"
      ],
      "execution_count": 3,
      "outputs": [
        {
          "output_type": "execute_result",
          "data": {
            "text/plain": [
              "<matplotlib.legend.Legend at 0x7f6d50179850>"
            ]
          },
          "metadata": {
            "tags": []
          },
          "execution_count": 3
        },
        {
          "output_type": "display_data",
          "data": {
            "image/png": "[encoded data removed]",
            "text/plain": [
              "<Figure size 432x288 with 1 Axes>"
            ]
          },
          "metadata": {
            "tags": [],
            "needs_background": "light"
          }
        }
      ]
    },
    {
      "cell_type": "markdown",
      "metadata": {
        "id": "M7FPjb8HLffX"
      },
      "source": [
        "3. Tanh"
      ]
    },
    {
      "cell_type": "code",
      "metadata": {
        "scrolled": true,
        "colab": {
          "base_uri": "https://localhost:8080/",
          "height": 282
        },
        "id": "PIeqFZylLffX",
        "outputId": "773a1dc1-c89c-41e2-cffa-1f8f4509239b"
      },
      "source": [
        "x = np.arange(-5, 5, 0.01)\n",
        "y = (np.exp(x) - np.exp(-x)) / (np.exp(x) + np.exp(-x))\n",
        "plt.plot(x, y, label='Tanh')\n",
        "plt.grid(True)\n",
        "x = np.arange(-5, 5, 0.01)\n",
        "y = 1 - np.square((np.exp(x) - np.exp(-x)) / (np.exp(x) + np.exp(-x)))\n",
        "plt.plot(x, y, label='Derivative of Tanh')\n",
        "plt.grid(True)\n",
        "plt.legend(loc='upper left')"
      ],
      "execution_count": 4,
      "outputs": [
        {
          "output_type": "execute_result",
          "data": {
            "text/plain": [
              "<matplotlib.legend.Legend at 0x7f6d50100710>"
            ]
          },
          "metadata": {
            "tags": []
          },
          "execution_count": 4
        },
        {
          "output_type": "display_data",
          "data": {
            "image/png": "[encoded data removed]",
            "text/plain": [
              "<Figure size 432x288 with 1 Axes>"
            ]
          },
          "metadata": {
            "tags": [],
            "needs_background": "light"
          }
        }
      ]
    },
    {
      "cell_type": "markdown",
      "metadata": {
        "id": "uypQ7DPeLffX"
      },
      "source": [
        "## 權重初始化"
      ]
    },
    {
      "cell_type": "markdown",
      "metadata": {
        "id": "vHN9y98uLffY"
      },
      "source": [
        "1. RandomNormal (std 1 )"
      ]
    },
    {
      "cell_type": "code",
      "metadata": {
        "id": "WMY89n8sLffY"
      },
      "source": [
        "inputs = keras.Input(shape=(100,))\n",
        "x1 = layers.Dense(100, 'sigmoid', False, initializers.RandomNormal(0, 1))(inputs)\n",
        "x2 = layers.Dense(100, 'sigmoid', False, initializers.RandomNormal(0, 1))(x1)\n",
        "x3 = layers.Dense(100, 'sigmoid', False, initializers.RandomNormal(0, 1))(x2)\n",
        "x4 = layers.Dense(100, 'sigmoid', False, initializers.RandomNormal(0, 1))(x3)\n",
        "x5 = layers.Dense(100, 'sigmoid', False, initializers.RandomNormal(0, 1))(x4)\n",
        "model_1 = keras.Model(inputs, [x1, x2, x3, x4, x5])"
      ],
      "execution_count": 5,
      "outputs": []
    },
    {
      "cell_type": "code",
      "metadata": {
        "scrolled": true,
        "colab": {
          "base_uri": "https://localhost:8080/",
          "height": 281
        },
        "id": "Ys2eZqqYLffY",
        "outputId": "35cd93a2-ac30-4ef9-89ea-f05a8b68ba74"
      },
      "source": [
        "x = np.random.randn(100, 100)\n",
        "outputs = model_1.predict(x)\n",
        "for i, layer_output in enumerate(outputs):\n",
        "    plt.subplot(1, 5, i+1)  # 選擇顯示在表中的哪個格子裡\n",
        "    plt.title(str(i+1) + \"-layer\")  # 設定值方圖的標題\n",
        "    if i != 0: plt.yticks([], [])  # 只顯示第一列值方圖的y軸\n",
        "    plt.hist(layer_output.flatten(), 30, range=[0,1])  # 畫出值方圖\n",
        "plt.show()"
      ],
      "execution_count": 6,
      "outputs": [
        {
          "output_type": "display_data",
          "data": {
            "image/png": "[encoded data removed]",
            "text/plain": [
              "<Figure size 432x288 with 5 Axes>"
            ]
          },
          "metadata": {
            "tags": [],
            "needs_background": "light"
          }
        }
      ]
    },
    {
      "cell_type": "markdown",
      "metadata": {
        "id": "Hz61UujsLffZ"
      },
      "source": [
        "2. RandomNormal (std 0.05 )"
      ]
    },
    {
      "cell_type": "code",
      "metadata": {
        "id": "vmW3XTBKLffZ"
      },
      "source": [
        "inputs = keras.Input(shape=(100,))\n",
        "x1 = layers.Dense(100, 'sigmoid', False, initializers.RandomNormal(0, 0.01))(inputs)\n",
        "x2 = layers.Dense(100, 'sigmoid', False, initializers.RandomNormal(0, 0.01))(x1)\n",
        "x3 = layers.Dense(100, 'sigmoid', False, initializers.RandomNormal(0, 0.01))(x2)\n",
        "x4 = layers.Dense(100, 'sigmoid', False, initializers.RandomNormal(0, 0.01))(x3)\n",
        "x5 = layers.Dense(100, 'sigmoid', False, initializers.RandomNormal(0, 0.01))(x4)\n",
        "model_2 = keras.Model(inputs, [x1, x2, x3, x4, x5])"
      ],
      "execution_count": 7,
      "outputs": []
    },
    {
      "cell_type": "code",
      "metadata": {
        "colab": {
          "base_uri": "https://localhost:8080/",
          "height": 281
        },
        "id": "vKyNTpIHLffa",
        "outputId": "3efdadb2-3d27-4ea6-a5aa-0de77ab609d2"
      },
      "source": [
        "x = np.random.randn(100, 100)\n",
        "outputs = model_2.predict(x)\n",
        "for i, layer_output in enumerate(outputs):\n",
        "    plt.subplot(1, 5, i+1)  # 選擇顯示在表中的哪個格子裡\n",
        "    plt.title(str(i+1) + \"-layer\")  # 設定值方圖的標題\n",
        "    if i != 0: plt.yticks([], [])  # 只顯示第一列值方圖的y軸\n",
        "    plt.hist(layer_output.flatten(), 30, range=[0,1])  # 畫出值方圖\n",
        "plt.show()"
      ],
      "execution_count": 8,
      "outputs": [
        {
          "output_type": "display_data",
          "data": {
            "image/png": "[encoded data removed]",
            "text/plain": [
              "<Figure size 432x288 with 5 Axes>"
            ]
          },
          "metadata": {
            "tags": [],
            "needs_background": "light"
          }
        }
      ]
    },
    {
      "cell_type": "markdown",
      "metadata": {
        "id": "TH9oxZYuLffa"
      },
      "source": [
        "3. Xavier/Glorot Initialization (Sigmoid)"
      ]
    },
    {
      "cell_type": "code",
      "metadata": {
        "id": "tJgAuRcKLffa"
      },
      "source": [
        "inputs = keras.Input(shape=(100,))\n",
        "x1 = layers.Dense(100, 'sigmoid', False, initializers.glorot_normal())(inputs)\n",
        "x2 = layers.Dense(100, 'sigmoid', False, initializers.glorot_normal())(x1)\n",
        "x3 = layers.Dense(100, 'sigmoid', False, initializers.glorot_normal())(x2)\n",
        "x4 = layers.Dense(100, 'sigmoid', False, initializers.glorot_normal())(x3)\n",
        "x5 = layers.Dense(100, 'sigmoid', False, initializers.glorot_normal())(x4)\n",
        "model_3 = keras.Model(inputs, [x1, x2, x3, x4, x5])"
      ],
      "execution_count": 9,
      "outputs": []
    },
    {
      "cell_type": "code",
      "metadata": {
        "colab": {
          "base_uri": "https://localhost:8080/",
          "height": 281
        },
        "id": "CD0nVpPULffa",
        "outputId": "5f065f25-14d8-485b-b0e3-06e273136fc8"
      },
      "source": [
        "x = np.random.randn(100, 100)\n",
        "outputs = model_3.predict(x)\n",
        "for i, layer_output in enumerate(outputs):\n",
        "    plt.subplot(1, 5, i+1)  # 選擇顯示在表中的哪個格子裡\n",
        "    plt.title(str(i+1) + \"-layer\")  # 設定值方圖的標題\n",
        "    if i != 0: plt.yticks([], [])  # 只顯示第一列值方圖的y軸\n",
        "    plt.hist(layer_output.flatten(), 30, range=[0,1])  # 畫出值方圖\n",
        "plt.show()"
      ],
      "execution_count": 10,
      "outputs": [
        {
          "output_type": "display_data",
          "data": {
            "image/png": "[encoded data removed]",
            "text/plain": [
              "<Figure size 432x288 with 5 Axes>"
            ]
          },
          "metadata": {
            "tags": [],
            "needs_background": "light"
          }
        }
      ]
    },
    {
      "cell_type": "markdown",
      "metadata": {
        "id": "2e47Bud3Lffb"
      },
      "source": [
        "4. Xavier/Glorot Initialization (ReLU)"
      ]
    },
    {
      "cell_type": "code",
      "metadata": {
        "id": "Fa71GmwxLffb"
      },
      "source": [
        "inputs = keras.Input(shape=(100,))\n",
        "x1 = layers.Dense(100, 'relu', False, initializers.glorot_normal())(inputs)\n",
        "x2 = layers.Dense(100, 'relu', False, initializers.glorot_normal())(x1)\n",
        "x3 = layers.Dense(100, 'relu', False, initializers.glorot_normal())(x2)\n",
        "x4 = layers.Dense(100, 'relu', False, initializers.glorot_normal())(x3)\n",
        "x5 = layers.Dense(100, 'relu', False, initializers.glorot_normal())(x4)\n",
        "model_4 = keras.Model(inputs, [x1, x2, x3, x4, x5])"
      ],
      "execution_count": 11,
      "outputs": []
    },
    {
      "cell_type": "code",
      "metadata": {
        "colab": {
          "base_uri": "https://localhost:8080/",
          "height": 281
        },
        "id": "6OqT1aH8Lffc",
        "outputId": "c4c89e33-1239-4f82-abb2-52c0d636908d"
      },
      "source": [
        "x = np.random.randn(100, 100)\n",
        "outputs = model_4.predict(x)\n",
        "for i, layer_output in enumerate(outputs):\n",
        "    plt.subplot(1, 5, i+1)  # 選擇顯示在表中的哪個格子裡\n",
        "    plt.title(str(i+1) + \"-layer\")  # 設定值方圖的標題\n",
        "    if i != 0: plt.yticks([], [])  # 只顯示第一列值方圖的y軸\n",
        "    plt.hist(layer_output.flatten(), 30, range=[0,1])  # 畫出值方圖\n",
        "plt.show()"
      ],
      "execution_count": 12,
      "outputs": [
        {
          "output_type": "display_data",
          "data": {
            "image/png": "[encoded data removed]",
            "text/plain": [
              "<Figure size 432x288 with 5 Axes>"
            ]
          },
          "metadata": {
            "tags": [],
            "needs_background": "light"
          }
        }
      ]
    },
    {
      "cell_type": "markdown",
      "metadata": {
        "id": "UVmN06ckLffc"
      },
      "source": [
        "5. He initialization"
      ]
    },
    {
      "cell_type": "code",
      "metadata": {
        "id": "jpAh3Sl4Lffc"
      },
      "source": [
        "inputs = keras.Input(shape=(100,))\n",
        "x1 = layers.Dense(100, 'relu', False, initializers.he_normal())(inputs)\n",
        "x2 = layers.Dense(100, 'relu', False, initializers.he_normal())(x1)\n",
        "x3 = layers.Dense(100, 'relu', False, initializers.he_normal())(x2)\n",
        "x4 = layers.Dense(100, 'relu', False, initializers.he_normal())(x3)\n",
        "x5 = layers.Dense(100, 'relu', False, initializers.he_normal())(x4)\n",
        "model_5 = keras.Model(inputs, [x1, x2, x3, x4, x5])"
      ],
      "execution_count": 13,
      "outputs": []
    },
    {
      "cell_type": "code",
      "metadata": {
        "colab": {
          "base_uri": "https://localhost:8080/",
          "height": 281
        },
        "id": "uIxmL8bKLffd",
        "outputId": "6dde54e6-557c-4949-a953-f409aacfba9b"
      },
      "source": [
        "x = np.random.randn(100, 100)\n",
        "outputs = model_5.predict(x)\n",
        "for i, layer_output in enumerate(outputs):\n",
        "    plt.subplot(1, 5, i+1)  # 選擇顯示在表中的哪個格子裡\n",
        "    plt.title(str(i+1) + \"-layer\")  # 設定值方圖的標題\n",
        "    if i != 0: plt.yticks([], [])  # 只顯示第一列值方圖的y軸\n",
        "    plt.hist(layer_output.flatten(), 30, range=[0,1])  # 畫出值方圖\n",
        "plt.show()"
      ],
      "execution_count": 14,
      "outputs": [
        {
          "output_type": "display_data",
          "data": {
            "image/png": "[encoded data removed]",
            "text/plain": [
              "<Figure size 432x288 with 5 Axes>"
            ]
          },
          "metadata": {
            "tags": [],
            "needs_background": "light"
          }
        }
      ]
    },
    {
      "cell_type": "markdown",
      "metadata": {
        "id": "zG9XvArKLffd"
      },
      "source": [
        "# 實驗一：使用CIFAR-10數據集實驗證三種權重初始化方法"
      ]
    },
    {
      "cell_type": "markdown",
      "metadata": {
        "id": "TQR80wImLffd"
      },
      "source": [
        "### Import必要套件"
      ]
    },
    {
      "cell_type": "code",
      "metadata": {
        "id": "4lSHskPPLffe"
      },
      "source": [
        "import os\n",
        "import numpy as np\n",
        "import pandas as pd\n",
        "import tensorflow as tf\n",
        "import tensorflow_datasets as tfds\n",
        "import matplotlib.pyplot as plt\n",
        "from tensorflow import keras\n",
        "from tensorflow.keras import layers\n",
        "from tensorflow.keras import initializers \n",
        "# 從資料夾中的preprocessing.py檔案中Import parse_aug_fn和parse_fn函數\n",
        "from preprocessing import parse_aug_fn, parse_fn"
      ],
      "execution_count": 15,
      "outputs": []
    },
    {
      "cell_type": "markdown",
      "metadata": {
        "id": "ZTD3zxjDLffe"
      },
      "source": [
        "### 讀取數據並分析\n",
        "載入Cifar10數據集："
      ]
    },
    {
      "cell_type": "code",
      "metadata": {
        "id": "vvOFoiu2Lffe"
      },
      "source": [
        "# 將train Data重新分成9:1等分，分別分給train data, valid data\n",
        "train_split, valid_split = ['train[:90%]', 'train[90%:]']\n",
        "# 取得訓練數據，並順便讀取data的資訊\n",
        "\n",
        "train_data, info = tfds.load(\"cifar10\", split=train_split, with_info=True, data_dir='/home/share/dataset/tensorflow-datasets')\n",
        "# 取得驗證數據\n",
        "valid_data = tfds.load(\"cifar10\", split=valid_split, data_dir='/home/share/dataset/tensorflow-datasets')\n",
        "# 取得測試數據\n",
        "test_data = tfds.load(\"cifar10\", split=tfds.Split.TEST, data_dir='/home/share/dataset/tensorflow-datasets')"
      ],
      "execution_count": 18,
      "outputs": []
    },
    {
      "cell_type": "markdown",
      "metadata": {
        "id": "lR6fpm_lLffe"
      },
      "source": [
        "### Dataset 設定"
      ]
    },
    {
      "cell_type": "code",
      "metadata": {
        "id": "5NetR9UzLffe"
      },
      "source": [
        "AUTOTUNE = tf.data.experimental.AUTOTUNE  # 自動調整模式\n",
        "batch_size = 64  # 批次大小\n",
        "train_num = int(info.splits['train'].num_examples / 10) * 9  # 訓練資料數量\n",
        "\n",
        "train_data = train_data.shuffle(train_num)  # 打散資料集\n",
        "# 載入預處理「 parse_aug_fn」function，cpu數量為自動調整模式\n",
        "train_data = train_data.map(map_func=parse_aug_fn, num_parallel_calls=AUTOTUNE)\n",
        "# 設定批次大小並將prefetch模式開啟(暫存空間為自動調整模式)\n",
        "train_data = train_data.batch(batch_size).prefetch(buffer_size=AUTOTUNE)\n",
        "\n",
        "# 載入預處理「 parse_fn」function，cpu數量為自動調整模式\n",
        "valid_data = valid_data.map(map_func=parse_fn, num_parallel_calls=AUTOTUNE)\n",
        "# 設定批次大小並將prefetch模式開啟(暫存空間為自動調整模式)\n",
        "valid_data = valid_data.batch(batch_size).prefetch(buffer_size=AUTOTUNE)\n",
        "\n",
        "# 載入預處理「 parse_fn」function，cpu數量為自動調整模式\n",
        "test_data = test_data.map(map_func=parse_fn, num_parallel_calls=AUTOTUNE)\n",
        "# 設定批次大小並將prefetch模式開啟(暫存空間為自動調整模式)\n",
        "test_data = test_data.batch(batch_size).prefetch(buffer_size=AUTOTUNE)"
      ],
      "execution_count": 19,
      "outputs": []
    },
    {
      "cell_type": "markdown",
      "metadata": {
        "id": "7-ucKm4iLfff"
      },
      "source": [
        "### 訓練網路模型"
      ]
    },
    {
      "cell_type": "code",
      "metadata": {
        "id": "Gj5yjQt2Lfff"
      },
      "source": [
        "def build_and_train_model(run_name, init):\n",
        "    \"\"\"\n",
        "    run_name:傳入目前執行的任務名子\n",
        "    init:傳入網路層初始化化的方式\n",
        "    \"\"\"\n",
        "    inputs = keras.Input(shape=(32, 32, 3))\n",
        "    x = layers.Conv2D(64, (3, 3), activation='relu', kernel_initializer=init)(inputs)\n",
        "    x = layers.MaxPool2D()(x)\n",
        "    x = layers.Conv2D(128, (3, 3), activation='relu', kernel_initializer=init)(x)\n",
        "    x = layers.Conv2D(256, (3, 3), activation='relu', kernel_initializer=init)(x)\n",
        "    x = layers.Conv2D(128, (3, 3), activation='relu', kernel_initializer=init)(x)\n",
        "    x = layers.Conv2D(64, (3, 3), activation='relu', kernel_initializer=init)(x)\n",
        "    x = layers.Flatten()(x)\n",
        "    x = layers.Dense(64, activation='relu', kernel_initializer=init)(x)\n",
        "    x = layers.Dropout(0.5)(x)\n",
        "    outputs = layers.Dense(10, activation='softmax')(x)\n",
        "    # 建立網路模型(將輸入到輸出所有經過的網路層連接起來)\n",
        "    model = keras.Model(inputs, outputs)\n",
        "    \n",
        "    # 儲存訓練記錄檔\n",
        "    logfiles = 'lab5-logs/{}-{}'.format(run_name, init.__class__.__name__)\n",
        "    model_cbk = keras.callbacks.TensorBoard(log_dir=logfiles, \n",
        "                                            histogram_freq=1)\n",
        "    # 儲存最好的網路模型權重\n",
        "    modelfiles = model_dir + '/{}-best-model.h5'.format(run_name)\n",
        "    model_mckp = keras.callbacks.ModelCheckpoint(modelfiles, \n",
        "                                                 monitor='val_categorical_accuracy', \n",
        "                                                 save_best_only=True, \n",
        "                                                 mode='max')\n",
        "    \n",
        "    # 設定訓練使用的優化器、損失函數和指標函數\n",
        "    model.compile(keras.optimizers.Adam(), \n",
        "               loss=keras.losses.CategoricalCrossentropy(), \n",
        "               metrics=[keras.metrics.CategoricalAccuracy()])\n",
        "    \n",
        "    # 訓練網路模型\n",
        "    model.fit(train_data,\n",
        "              epochs=100, \n",
        "              validation_data=valid_data,\n",
        "              callbacks=[model_cbk, model_mckp])"
      ],
      "execution_count": 20,
      "outputs": []
    },
    {
      "cell_type": "code",
      "metadata": {
        "scrolled": true,
        "colab": {
          "base_uri": "https://localhost:8080/"
        },
        "id": "pMXmserKLfff",
        "outputId": "8c7d89f7-b384-4403-e81e-1539ce452beb"
      },
      "source": [
        "session_num = 1\n",
        "# 設定儲存權重目錄\n",
        "model_dir = 'lab5-logs/models/'\n",
        "os.makedirs(model_dir)\n",
        "# 設定要測試的三種初始化方法\n",
        "weights_initialization_list = [initializers.RandomNormal(0, 0.01),\n",
        "                        initializers.glorot_normal(),\n",
        "                        initializers.he_normal()]\n",
        "\n",
        "for init in weights_initialization_list:\n",
        "    print('--- Running training session %d' % (session_num))\n",
        "    run_name = \"run-%d\" % session_num\n",
        "    build_and_train_model(run_name, init)  # 創建和訓練網路\n",
        "    session_num += 1"
      ],
      "execution_count": 21,
      "outputs": [
        {
          "output_type": "stream",
          "text": [
            "--- Running training session 1\n",
            "Epoch 1/100\n",
            "704/704 [==============================] - 46s 18ms/step - loss: 2.1229 - categorical_accuracy: 0.1895 - val_loss: 2.0303 - val_categorical_accuracy: 0.2410\n",
            "Epoch 2/100\n",
            "704/704 [==============================] - 11s 15ms/step - loss: 2.0150 - categorical_accuracy: 0.2418 - val_loss: 1.8209 - val_categorical_accuracy: 0.3296\n",
            "Epoch 3/100\n",
            "704/704 [==============================] - 11s 15ms/step - loss: 1.9473 - categorical_accuracy: 0.2778 - val_loss: 1.6869 - val_categorical_accuracy: 0.3734\n",
            "Epoch 4/100\n",
            "704/704 [==============================] - 11s 15ms/step - loss: 1.8652 - categorical_accuracy: 0.3095 - val_loss: 1.5664 - val_categorical_accuracy: 0.4170\n",
            "Epoch 5/100\n",
            "704/704 [==============================] - 11s 16ms/step - loss: 1.7995 - categorical_accuracy: 0.3372 - val_loss: 1.5606 - val_categorical_accuracy: 0.4356\n",
            "Epoch 6/100\n",
            "704/704 [==============================] - 11s 16ms/step - loss: 1.7470 - categorical_accuracy: 0.3565 - val_loss: 1.4728 - val_categorical_accuracy: 0.4792\n",
            "Epoch 7/100\n",
            "704/704 [==============================] - 11s 16ms/step - loss: 1.7068 - categorical_accuracy: 0.3732 - val_loss: 1.4440 - val_categorical_accuracy: 0.4826\n",
            "Epoch 8/100\n",
            "704/704 [==============================] - 11s 15ms/step - loss: 1.6664 - categorical_accuracy: 0.3899 - val_loss: 1.4287 - val_categorical_accuracy: 0.4794\n",
            "Epoch 9/100\n",
            "704/704 [==============================] - 11s 15ms/step - loss: 1.6378 - categorical_accuracy: 0.4030 - val_loss: 1.3483 - val_categorical_accuracy: 0.5210\n",
            "Epoch 10/100\n",
            "704/704 [==============================] - 11s 15ms/step - loss: 1.5963 - categorical_accuracy: 0.4172 - val_loss: 1.2577 - val_categorical_accuracy: 0.5558\n",
            "Epoch 11/100\n",
            "704/704 [==============================] - 11s 15ms/step - loss: 1.5642 - categorical_accuracy: 0.4321 - val_loss: 1.2611 - val_categorical_accuracy: 0.5428\n",
            "Epoch 12/100\n",
            "704/704 [==============================] - 11s 16ms/step - loss: 1.5514 - categorical_accuracy: 0.4377 - val_loss: 1.2083 - val_categorical_accuracy: 0.5776\n",
            "Epoch 13/100\n",
            "704/704 [==============================] - 11s 15ms/step - loss: 1.5195 - categorical_accuracy: 0.4495 - val_loss: 1.1588 - val_categorical_accuracy: 0.5892\n",
            "Epoch 14/100\n",
            "704/704 [==============================] - 11s 15ms/step - loss: 1.5079 - categorical_accuracy: 0.4573 - val_loss: 1.1650 - val_categorical_accuracy: 0.5956\n",
            "Epoch 15/100\n",
            "704/704 [==============================] - 11s 15ms/step - loss: 1.4856 - categorical_accuracy: 0.4681 - val_loss: 1.1262 - val_categorical_accuracy: 0.5996\n",
            "Epoch 16/100\n",
            "704/704 [==============================] - 11s 15ms/step - loss: 1.4730 - categorical_accuracy: 0.4731 - val_loss: 1.1280 - val_categorical_accuracy: 0.6084\n",
            "Epoch 17/100\n",
            "704/704 [==============================] - 11s 15ms/step - loss: 1.4466 - categorical_accuracy: 0.4812 - val_loss: 1.1098 - val_categorical_accuracy: 0.6118\n",
            "Epoch 18/100\n",
            "704/704 [==============================] - 11s 15ms/step - loss: 1.4289 - categorical_accuracy: 0.4885 - val_loss: 1.1221 - val_categorical_accuracy: 0.6028\n",
            "Epoch 19/100\n",
            "704/704 [==============================] - 11s 15ms/step - loss: 1.4191 - categorical_accuracy: 0.4943 - val_loss: 1.2023 - val_categorical_accuracy: 0.5906\n",
            "Epoch 20/100\n",
            "704/704 [==============================] - 11s 15ms/step - loss: 1.3945 - categorical_accuracy: 0.5057 - val_loss: 1.1027 - val_categorical_accuracy: 0.6190\n",
            "Epoch 21/100\n",
            "704/704 [==============================] - 11s 15ms/step - loss: 1.3825 - categorical_accuracy: 0.5117 - val_loss: 1.0542 - val_categorical_accuracy: 0.6406\n",
            "Epoch 22/100\n",
            "704/704 [==============================] - 11s 15ms/step - loss: 1.3504 - categorical_accuracy: 0.5243 - val_loss: 1.0550 - val_categorical_accuracy: 0.6310\n",
            "Epoch 23/100\n",
            "704/704 [==============================] - 11s 15ms/step - loss: 1.3553 - categorical_accuracy: 0.5248 - val_loss: 1.0634 - val_categorical_accuracy: 0.6260\n",
            "Epoch 24/100\n",
            "704/704 [==============================] - 11s 15ms/step - loss: 1.3313 - categorical_accuracy: 0.5304 - val_loss: 0.9774 - val_categorical_accuracy: 0.6610\n",
            "Epoch 25/100\n",
            "704/704 [==============================] - 11s 16ms/step - loss: 1.3206 - categorical_accuracy: 0.5380 - val_loss: 0.9754 - val_categorical_accuracy: 0.6588\n",
            "Epoch 26/100\n",
            "704/704 [==============================] - 11s 15ms/step - loss: 1.3056 - categorical_accuracy: 0.5435 - val_loss: 0.9754 - val_categorical_accuracy: 0.6618\n",
            "Epoch 27/100\n",
            "704/704 [==============================] - 11s 15ms/step - loss: 1.2967 - categorical_accuracy: 0.5462 - val_loss: 1.0009 - val_categorical_accuracy: 0.6468\n",
            "Epoch 28/100\n",
            "704/704 [==============================] - 11s 16ms/step - loss: 1.2806 - categorical_accuracy: 0.5530 - val_loss: 0.9466 - val_categorical_accuracy: 0.6694\n",
            "Epoch 29/100\n",
            "704/704 [==============================] - 11s 16ms/step - loss: 1.2734 - categorical_accuracy: 0.5536 - val_loss: 0.9554 - val_categorical_accuracy: 0.6626\n",
            "Epoch 30/100\n",
            "704/704 [==============================] - 11s 15ms/step - loss: 1.2654 - categorical_accuracy: 0.5577 - val_loss: 0.9252 - val_categorical_accuracy: 0.6688\n",
            "Epoch 31/100\n",
            "704/704 [==============================] - 11s 16ms/step - loss: 1.2632 - categorical_accuracy: 0.5592 - val_loss: 0.9267 - val_categorical_accuracy: 0.6700\n",
            "Epoch 32/100\n",
            "704/704 [==============================] - 12s 16ms/step - loss: 1.2440 - categorical_accuracy: 0.5664 - val_loss: 0.9611 - val_categorical_accuracy: 0.6646\n",
            "Epoch 33/100\n",
            "704/704 [==============================] - 11s 15ms/step - loss: 1.2428 - categorical_accuracy: 0.5688 - val_loss: 0.9153 - val_categorical_accuracy: 0.6798\n",
            "Epoch 34/100\n",
            "704/704 [==============================] - 11s 16ms/step - loss: 1.2349 - categorical_accuracy: 0.5709 - val_loss: 0.9072 - val_categorical_accuracy: 0.6806\n",
            "Epoch 35/100\n",
            "704/704 [==============================] - 11s 15ms/step - loss: 1.2185 - categorical_accuracy: 0.5766 - val_loss: 0.9106 - val_categorical_accuracy: 0.6778\n",
            "Epoch 36/100\n",
            "704/704 [==============================] - 11s 16ms/step - loss: 1.2160 - categorical_accuracy: 0.5802 - val_loss: 0.9526 - val_categorical_accuracy: 0.6762\n",
            "Epoch 37/100\n",
            "704/704 [==============================] - 11s 15ms/step - loss: 1.2111 - categorical_accuracy: 0.5790 - val_loss: 0.8735 - val_categorical_accuracy: 0.6906\n",
            "Epoch 38/100\n",
            "704/704 [==============================] - 11s 16ms/step - loss: 1.2038 - categorical_accuracy: 0.5795 - val_loss: 0.9039 - val_categorical_accuracy: 0.6798\n",
            "Epoch 39/100\n",
            "704/704 [==============================] - 12s 17ms/step - loss: 1.2066 - categorical_accuracy: 0.5816 - val_loss: 0.8990 - val_categorical_accuracy: 0.6878\n",
            "Epoch 40/100\n",
            "704/704 [==============================] - 11s 16ms/step - loss: 1.1935 - categorical_accuracy: 0.5852 - val_loss: 0.8726 - val_categorical_accuracy: 0.6934\n",
            "Epoch 41/100\n",
            "704/704 [==============================] - 11s 16ms/step - loss: 1.1908 - categorical_accuracy: 0.5859 - val_loss: 0.8838 - val_categorical_accuracy: 0.6908\n",
            "Epoch 42/100\n",
            "704/704 [==============================] - 12s 16ms/step - loss: 1.1881 - categorical_accuracy: 0.5868 - val_loss: 0.8729 - val_categorical_accuracy: 0.6938\n",
            "Epoch 43/100\n",
            "704/704 [==============================] - 11s 16ms/step - loss: 1.1672 - categorical_accuracy: 0.5956 - val_loss: 0.8781 - val_categorical_accuracy: 0.6928\n",
            "Epoch 44/100\n",
            "704/704 [==============================] - 12s 17ms/step - loss: 1.1681 - categorical_accuracy: 0.5946 - val_loss: 0.8775 - val_categorical_accuracy: 0.6944\n",
            "Epoch 45/100\n",
            "704/704 [==============================] - 11s 16ms/step - loss: 1.1582 - categorical_accuracy: 0.6016 - val_loss: 0.8776 - val_categorical_accuracy: 0.6992\n",
            "Epoch 46/100\n",
            "704/704 [==============================] - 11s 16ms/step - loss: 1.1542 - categorical_accuracy: 0.5998 - val_loss: 0.8816 - val_categorical_accuracy: 0.6934\n",
            "Epoch 47/100\n",
            "704/704 [==============================] - 12s 16ms/step - loss: 1.1560 - categorical_accuracy: 0.6025 - val_loss: 0.8842 - val_categorical_accuracy: 0.6960\n",
            "Epoch 48/100\n",
            "704/704 [==============================] - 12s 16ms/step - loss: 1.1475 - categorical_accuracy: 0.6036 - val_loss: 0.8680 - val_categorical_accuracy: 0.6978\n",
            "Epoch 49/100\n",
            "704/704 [==============================] - 11s 16ms/step - loss: 1.1409 - categorical_accuracy: 0.6060 - val_loss: 0.8559 - val_categorical_accuracy: 0.7068\n",
            "Epoch 50/100\n",
            "704/704 [==============================] - 11s 16ms/step - loss: 1.1395 - categorical_accuracy: 0.6067 - val_loss: 0.8381 - val_categorical_accuracy: 0.7130\n",
            "Epoch 51/100\n",
            "704/704 [==============================] - 11s 16ms/step - loss: 1.1290 - categorical_accuracy: 0.6108 - val_loss: 0.8260 - val_categorical_accuracy: 0.7198\n",
            "Epoch 52/100\n",
            "704/704 [==============================] - 11s 16ms/step - loss: 1.1246 - categorical_accuracy: 0.6123 - val_loss: 0.8695 - val_categorical_accuracy: 0.6988\n",
            "Epoch 53/100\n",
            "704/704 [==============================] - 11s 15ms/step - loss: 1.1195 - categorical_accuracy: 0.6165 - val_loss: 0.8424 - val_categorical_accuracy: 0.7076\n",
            "Epoch 54/100\n",
            "704/704 [==============================] - 11s 16ms/step - loss: 1.1188 - categorical_accuracy: 0.6165 - val_loss: 0.8069 - val_categorical_accuracy: 0.7158\n",
            "Epoch 55/100\n",
            "704/704 [==============================] - 11s 16ms/step - loss: 1.1100 - categorical_accuracy: 0.6199 - val_loss: 0.8388 - val_categorical_accuracy: 0.7098\n",
            "Epoch 56/100\n",
            "704/704 [==============================] - 12s 16ms/step - loss: 1.1074 - categorical_accuracy: 0.6203 - val_loss: 0.8257 - val_categorical_accuracy: 0.7166\n",
            "Epoch 57/100\n",
            "704/704 [==============================] - 11s 16ms/step - loss: 1.1038 - categorical_accuracy: 0.6208 - val_loss: 0.8187 - val_categorical_accuracy: 0.7154\n",
            "Epoch 58/100\n",
            "704/704 [==============================] - 12s 16ms/step - loss: 1.0997 - categorical_accuracy: 0.6221 - val_loss: 0.8269 - val_categorical_accuracy: 0.7196\n",
            "Epoch 59/100\n",
            "704/704 [==============================] - 11s 15ms/step - loss: 1.0937 - categorical_accuracy: 0.6264 - val_loss: 0.8316 - val_categorical_accuracy: 0.7128\n",
            "Epoch 60/100\n",
            "704/704 [==============================] - 11s 16ms/step - loss: 1.0857 - categorical_accuracy: 0.6279 - val_loss: 0.8258 - val_categorical_accuracy: 0.7202\n",
            "Epoch 61/100\n",
            "704/704 [==============================] - 12s 16ms/step - loss: 1.0876 - categorical_accuracy: 0.6250 - val_loss: 0.8048 - val_categorical_accuracy: 0.7272\n",
            "Epoch 62/100\n",
            "704/704 [==============================] - 11s 16ms/step - loss: 1.0785 - categorical_accuracy: 0.6319 - val_loss: 0.7944 - val_categorical_accuracy: 0.7266\n",
            "Epoch 63/100\n",
            "704/704 [==============================] - 11s 16ms/step - loss: 1.0730 - categorical_accuracy: 0.6341 - val_loss: 0.7896 - val_categorical_accuracy: 0.7318\n",
            "Epoch 64/100\n",
            "704/704 [==============================] - 11s 16ms/step - loss: 1.0722 - categorical_accuracy: 0.6324 - val_loss: 0.7719 - val_categorical_accuracy: 0.7334\n",
            "Epoch 65/100\n",
            "704/704 [==============================] - 11s 16ms/step - loss: 1.0655 - categorical_accuracy: 0.6374 - val_loss: 0.7978 - val_categorical_accuracy: 0.7284\n",
            "Epoch 66/100\n",
            "704/704 [==============================] - 11s 16ms/step - loss: 1.0561 - categorical_accuracy: 0.6412 - val_loss: 0.7630 - val_categorical_accuracy: 0.7402\n",
            "Epoch 67/100\n",
            "704/704 [==============================] - 11s 15ms/step - loss: 1.0544 - categorical_accuracy: 0.6421 - val_loss: 0.7740 - val_categorical_accuracy: 0.7412\n",
            "Epoch 68/100\n",
            "704/704 [==============================] - 11s 16ms/step - loss: 1.0601 - categorical_accuracy: 0.6387 - val_loss: 0.7894 - val_categorical_accuracy: 0.7392\n",
            "Epoch 69/100\n",
            "704/704 [==============================] - 11s 16ms/step - loss: 1.0502 - categorical_accuracy: 0.6429 - val_loss: 0.7737 - val_categorical_accuracy: 0.7436\n",
            "Epoch 70/100\n",
            "704/704 [==============================] - 12s 16ms/step - loss: 1.0537 - categorical_accuracy: 0.6436 - val_loss: 0.9144 - val_categorical_accuracy: 0.6908\n",
            "Epoch 71/100\n",
            "704/704 [==============================] - 11s 16ms/step - loss: 1.0479 - categorical_accuracy: 0.6430 - val_loss: 0.7649 - val_categorical_accuracy: 0.7340\n",
            "Epoch 72/100\n",
            "704/704 [==============================] - 11s 15ms/step - loss: 1.0404 - categorical_accuracy: 0.6432 - val_loss: 0.7717 - val_categorical_accuracy: 0.7346\n",
            "Epoch 73/100\n",
            "704/704 [==============================] - 11s 16ms/step - loss: 1.0340 - categorical_accuracy: 0.6476 - val_loss: 0.7775 - val_categorical_accuracy: 0.7396\n",
            "Epoch 74/100\n",
            "704/704 [==============================] - 11s 15ms/step - loss: 1.0284 - categorical_accuracy: 0.6504 - val_loss: 0.8101 - val_categorical_accuracy: 0.7324\n",
            "Epoch 75/100\n",
            "704/704 [==============================] - 11s 16ms/step - loss: 1.0249 - categorical_accuracy: 0.6522 - val_loss: 0.7792 - val_categorical_accuracy: 0.7412\n",
            "Epoch 76/100\n",
            "704/704 [==============================] - 11s 15ms/step - loss: 1.0186 - categorical_accuracy: 0.6546 - val_loss: 0.7577 - val_categorical_accuracy: 0.7434\n",
            "Epoch 77/100\n",
            "704/704 [==============================] - 11s 16ms/step - loss: 1.0236 - categorical_accuracy: 0.6534 - val_loss: 0.7572 - val_categorical_accuracy: 0.7474\n",
            "Epoch 78/100\n",
            "704/704 [==============================] - 11s 15ms/step - loss: 1.0156 - categorical_accuracy: 0.6546 - val_loss: 0.7299 - val_categorical_accuracy: 0.7504\n",
            "Epoch 79/100\n",
            "704/704 [==============================] - 11s 16ms/step - loss: 1.0234 - categorical_accuracy: 0.6545 - val_loss: 0.7910 - val_categorical_accuracy: 0.7338\n",
            "Epoch 80/100\n",
            "704/704 [==============================] - 11s 16ms/step - loss: 1.0136 - categorical_accuracy: 0.6575 - val_loss: 0.7647 - val_categorical_accuracy: 0.7406\n",
            "Epoch 81/100\n",
            "704/704 [==============================] - 11s 15ms/step - loss: 1.0153 - categorical_accuracy: 0.6564 - val_loss: 0.8239 - val_categorical_accuracy: 0.7242\n",
            "Epoch 82/100\n",
            "704/704 [==============================] - 11s 15ms/step - loss: 1.0038 - categorical_accuracy: 0.6606 - val_loss: 0.7677 - val_categorical_accuracy: 0.7356\n",
            "Epoch 83/100\n",
            "704/704 [==============================] - 11s 15ms/step - loss: 1.0025 - categorical_accuracy: 0.6610 - val_loss: 0.7521 - val_categorical_accuracy: 0.7480\n",
            "Epoch 84/100\n",
            "704/704 [==============================] - 11s 15ms/step - loss: 1.0057 - categorical_accuracy: 0.6582 - val_loss: 0.7241 - val_categorical_accuracy: 0.7510\n",
            "Epoch 85/100\n",
            "704/704 [==============================] - 11s 16ms/step - loss: 0.9951 - categorical_accuracy: 0.6638 - val_loss: 0.7215 - val_categorical_accuracy: 0.7524\n",
            "Epoch 86/100\n",
            "704/704 [==============================] - 11s 16ms/step - loss: 0.9882 - categorical_accuracy: 0.6647 - val_loss: 0.7084 - val_categorical_accuracy: 0.7574\n",
            "Epoch 87/100\n",
            "704/704 [==============================] - 11s 16ms/step - loss: 0.9914 - categorical_accuracy: 0.6664 - val_loss: 0.7519 - val_categorical_accuracy: 0.7454\n",
            "Epoch 88/100\n",
            "704/704 [==============================] - 12s 16ms/step - loss: 0.9821 - categorical_accuracy: 0.6699 - val_loss: 0.7365 - val_categorical_accuracy: 0.7548\n",
            "Epoch 89/100\n",
            "704/704 [==============================] - 11s 16ms/step - loss: 0.9763 - categorical_accuracy: 0.6704 - val_loss: 0.7485 - val_categorical_accuracy: 0.7504\n",
            "Epoch 90/100\n",
            "704/704 [==============================] - 11s 16ms/step - loss: 0.9861 - categorical_accuracy: 0.6678 - val_loss: 0.7511 - val_categorical_accuracy: 0.7436\n",
            "Epoch 91/100\n",
            "704/704 [==============================] - 11s 16ms/step - loss: 0.9734 - categorical_accuracy: 0.6744 - val_loss: 0.7622 - val_categorical_accuracy: 0.7476\n",
            "Epoch 92/100\n",
            "704/704 [==============================] - 11s 16ms/step - loss: 0.9776 - categorical_accuracy: 0.6711 - val_loss: 0.7361 - val_categorical_accuracy: 0.7562\n",
            "Epoch 93/100\n",
            "704/704 [==============================] - 11s 16ms/step - loss: 0.9591 - categorical_accuracy: 0.6762 - val_loss: 0.7069 - val_categorical_accuracy: 0.7642\n",
            "Epoch 94/100\n",
            "704/704 [==============================] - 11s 16ms/step - loss: 0.9683 - categorical_accuracy: 0.6746 - val_loss: 0.7244 - val_categorical_accuracy: 0.7612\n",
            "Epoch 95/100\n",
            "704/704 [==============================] - 11s 16ms/step - loss: 0.9653 - categorical_accuracy: 0.6746 - val_loss: 0.7165 - val_categorical_accuracy: 0.7614\n",
            "Epoch 96/100\n",
            "704/704 [==============================] - 11s 15ms/step - loss: 0.9589 - categorical_accuracy: 0.6792 - val_loss: 0.7428 - val_categorical_accuracy: 0.7522\n",
            "Epoch 97/100\n",
            "704/704 [==============================] - 11s 15ms/step - loss: 0.9461 - categorical_accuracy: 0.6827 - val_loss: 0.7201 - val_categorical_accuracy: 0.7606\n",
            "Epoch 98/100\n",
            "704/704 [==============================] - 11s 16ms/step - loss: 0.9517 - categorical_accuracy: 0.6797 - val_loss: 0.7128 - val_categorical_accuracy: 0.7652\n",
            "Epoch 99/100\n",
            "704/704 [==============================] - 11s 16ms/step - loss: 0.9577 - categorical_accuracy: 0.6781 - val_loss: 0.7217 - val_categorical_accuracy: 0.7626\n",
            "Epoch 100/100\n",
            "704/704 [==============================] - 11s 16ms/step - loss: 0.9475 - categorical_accuracy: 0.6803 - val_loss: 0.7166 - val_categorical_accuracy: 0.7648\n",
            "--- Running training session 2\n",
            "Epoch 1/100\n",
            "704/704 [==============================] - 12s 17ms/step - loss: 2.0781 - categorical_accuracy: 0.2189 - val_loss: 1.8455 - val_categorical_accuracy: 0.3320\n",
            "Epoch 2/100\n",
            "704/704 [==============================] - 11s 15ms/step - loss: 1.9149 - categorical_accuracy: 0.2921 - val_loss: 1.6330 - val_categorical_accuracy: 0.4044\n",
            "Epoch 3/100\n",
            "704/704 [==============================] - 11s 15ms/step - loss: 1.8011 - categorical_accuracy: 0.3390 - val_loss: 1.5432 - val_categorical_accuracy: 0.4640\n",
            "Epoch 4/100\n",
            "704/704 [==============================] - 11s 15ms/step - loss: 1.7204 - categorical_accuracy: 0.3737 - val_loss: 1.3844 - val_categorical_accuracy: 0.4978\n",
            "Epoch 5/100\n",
            "704/704 [==============================] - 11s 15ms/step - loss: 1.6457 - categorical_accuracy: 0.4040 - val_loss: 1.3259 - val_categorical_accuracy: 0.5128\n",
            "Epoch 6/100\n",
            "704/704 [==============================] - 11s 16ms/step - loss: 1.5910 - categorical_accuracy: 0.4288 - val_loss: 1.2616 - val_categorical_accuracy: 0.5530\n",
            "Epoch 7/100\n",
            "704/704 [==============================] - 11s 16ms/step - loss: 1.5324 - categorical_accuracy: 0.4536 - val_loss: 1.2045 - val_categorical_accuracy: 0.5644\n",
            "Epoch 8/100\n",
            "704/704 [==============================] - 11s 15ms/step - loss: 1.4841 - categorical_accuracy: 0.4749 - val_loss: 1.1288 - val_categorical_accuracy: 0.6012\n",
            "Epoch 9/100\n",
            "704/704 [==============================] - 11s 16ms/step - loss: 1.4494 - categorical_accuracy: 0.4846 - val_loss: 1.1561 - val_categorical_accuracy: 0.5840\n",
            "Epoch 10/100\n",
            "704/704 [==============================] - 11s 16ms/step - loss: 1.4143 - categorical_accuracy: 0.5019 - val_loss: 1.0522 - val_categorical_accuracy: 0.6226\n",
            "Epoch 11/100\n",
            "704/704 [==============================] - 11s 16ms/step - loss: 1.3947 - categorical_accuracy: 0.5117 - val_loss: 1.0229 - val_categorical_accuracy: 0.6338\n",
            "Epoch 12/100\n",
            "704/704 [==============================] - 11s 16ms/step - loss: 1.3614 - categorical_accuracy: 0.5226 - val_loss: 1.0145 - val_categorical_accuracy: 0.6424\n",
            "Epoch 13/100\n",
            "704/704 [==============================] - 11s 16ms/step - loss: 1.3264 - categorical_accuracy: 0.5346 - val_loss: 0.9855 - val_categorical_accuracy: 0.6508\n",
            "Epoch 14/100\n",
            "704/704 [==============================] - 11s 16ms/step - loss: 1.3135 - categorical_accuracy: 0.5421 - val_loss: 0.9972 - val_categorical_accuracy: 0.6394\n",
            "Epoch 15/100\n",
            "704/704 [==============================] - 11s 15ms/step - loss: 1.2857 - categorical_accuracy: 0.5504 - val_loss: 0.9869 - val_categorical_accuracy: 0.6522\n",
            "Epoch 16/100\n",
            "704/704 [==============================] - 11s 16ms/step - loss: 1.2698 - categorical_accuracy: 0.5527 - val_loss: 0.9547 - val_categorical_accuracy: 0.6606\n",
            "Epoch 17/100\n",
            "704/704 [==============================] - 11s 16ms/step - loss: 1.2585 - categorical_accuracy: 0.5640 - val_loss: 0.9618 - val_categorical_accuracy: 0.6552\n",
            "Epoch 18/100\n",
            "704/704 [==============================] - 11s 16ms/step - loss: 1.2318 - categorical_accuracy: 0.5729 - val_loss: 0.9383 - val_categorical_accuracy: 0.6654\n",
            "Epoch 19/100\n",
            "704/704 [==============================] - 11s 16ms/step - loss: 1.2137 - categorical_accuracy: 0.5756 - val_loss: 0.8917 - val_categorical_accuracy: 0.6888\n",
            "Epoch 20/100\n",
            "704/704 [==============================] - 11s 16ms/step - loss: 1.2171 - categorical_accuracy: 0.5774 - val_loss: 0.9212 - val_categorical_accuracy: 0.6694\n",
            "Epoch 21/100\n",
            "704/704 [==============================] - 11s 16ms/step - loss: 1.1808 - categorical_accuracy: 0.5919 - val_loss: 0.8729 - val_categorical_accuracy: 0.6862\n",
            "Epoch 22/100\n",
            "704/704 [==============================] - 12s 16ms/step - loss: 1.1833 - categorical_accuracy: 0.5924 - val_loss: 0.9002 - val_categorical_accuracy: 0.6774\n",
            "Epoch 23/100\n",
            "704/704 [==============================] - 11s 16ms/step - loss: 1.1719 - categorical_accuracy: 0.5971 - val_loss: 0.8691 - val_categorical_accuracy: 0.6890\n",
            "Epoch 24/100\n",
            "704/704 [==============================] - 11s 16ms/step - loss: 1.1646 - categorical_accuracy: 0.5994 - val_loss: 0.8780 - val_categorical_accuracy: 0.6958\n",
            "Epoch 25/100\n",
            "704/704 [==============================] - 11s 16ms/step - loss: 1.1430 - categorical_accuracy: 0.6063 - val_loss: 0.8476 - val_categorical_accuracy: 0.7038\n",
            "Epoch 26/100\n",
            "704/704 [==============================] - 12s 17ms/step - loss: 1.1309 - categorical_accuracy: 0.6108 - val_loss: 0.8792 - val_categorical_accuracy: 0.6910\n",
            "Epoch 27/100\n",
            "704/704 [==============================] - 12s 16ms/step - loss: 1.1221 - categorical_accuracy: 0.6157 - val_loss: 0.8297 - val_categorical_accuracy: 0.7064\n",
            "Epoch 28/100\n",
            "704/704 [==============================] - 12s 17ms/step - loss: 1.1109 - categorical_accuracy: 0.6201 - val_loss: 0.7897 - val_categorical_accuracy: 0.7210\n",
            "Epoch 29/100\n",
            "704/704 [==============================] - 12s 16ms/step - loss: 1.0979 - categorical_accuracy: 0.6208 - val_loss: 0.8341 - val_categorical_accuracy: 0.7114\n",
            "Epoch 30/100\n",
            "704/704 [==============================] - 12s 16ms/step - loss: 1.0944 - categorical_accuracy: 0.6245 - val_loss: 0.8373 - val_categorical_accuracy: 0.7124\n",
            "Epoch 31/100\n",
            "704/704 [==============================] - 12s 17ms/step - loss: 1.0860 - categorical_accuracy: 0.6258 - val_loss: 0.7838 - val_categorical_accuracy: 0.7242\n",
            "Epoch 32/100\n",
            "704/704 [==============================] - 13s 18ms/step - loss: 1.0687 - categorical_accuracy: 0.6332 - val_loss: 0.7827 - val_categorical_accuracy: 0.7288\n",
            "Epoch 33/100\n",
            "704/704 [==============================] - 12s 17ms/step - loss: 1.0670 - categorical_accuracy: 0.6359 - val_loss: 0.8232 - val_categorical_accuracy: 0.7242\n",
            "Epoch 34/100\n",
            "704/704 [==============================] - 12s 17ms/step - loss: 1.0561 - categorical_accuracy: 0.6384 - val_loss: 0.7961 - val_categorical_accuracy: 0.7240\n",
            "Epoch 35/100\n",
            "704/704 [==============================] - 12s 17ms/step - loss: 1.0464 - categorical_accuracy: 0.6421 - val_loss: 0.7636 - val_categorical_accuracy: 0.7336\n",
            "Epoch 36/100\n",
            "704/704 [==============================] - 12s 17ms/step - loss: 1.0419 - categorical_accuracy: 0.6452 - val_loss: 0.7810 - val_categorical_accuracy: 0.7286\n",
            "Epoch 37/100\n",
            "704/704 [==============================] - 12s 17ms/step - loss: 1.0381 - categorical_accuracy: 0.6463 - val_loss: 0.7875 - val_categorical_accuracy: 0.7302\n",
            "Epoch 38/100\n",
            "704/704 [==============================] - 12s 16ms/step - loss: 1.0175 - categorical_accuracy: 0.6505 - val_loss: 0.7625 - val_categorical_accuracy: 0.7390\n",
            "Epoch 39/100\n",
            "704/704 [==============================] - 12s 17ms/step - loss: 1.0193 - categorical_accuracy: 0.6556 - val_loss: 0.7847 - val_categorical_accuracy: 0.7362\n",
            "Epoch 40/100\n",
            "704/704 [==============================] - 12s 17ms/step - loss: 1.0167 - categorical_accuracy: 0.6523 - val_loss: 0.7827 - val_categorical_accuracy: 0.7338\n",
            "Epoch 41/100\n",
            "704/704 [==============================] - 12s 17ms/step - loss: 1.0149 - categorical_accuracy: 0.6549 - val_loss: 0.7663 - val_categorical_accuracy: 0.7362\n",
            "Epoch 42/100\n",
            "704/704 [==============================] - 12s 17ms/step - loss: 1.0015 - categorical_accuracy: 0.6580 - val_loss: 0.7098 - val_categorical_accuracy: 0.7516\n",
            "Epoch 43/100\n",
            "704/704 [==============================] - 11s 16ms/step - loss: 0.9973 - categorical_accuracy: 0.6605 - val_loss: 0.7283 - val_categorical_accuracy: 0.7524\n",
            "Epoch 44/100\n",
            "704/704 [==============================] - 12s 17ms/step - loss: 0.9949 - categorical_accuracy: 0.6632 - val_loss: 0.7249 - val_categorical_accuracy: 0.7516\n",
            "Epoch 45/100\n",
            "704/704 [==============================] - 11s 16ms/step - loss: 0.9755 - categorical_accuracy: 0.6683 - val_loss: 0.7610 - val_categorical_accuracy: 0.7456\n",
            "Epoch 46/100\n",
            "704/704 [==============================] - 12s 17ms/step - loss: 0.9883 - categorical_accuracy: 0.6654 - val_loss: 0.7525 - val_categorical_accuracy: 0.7434\n",
            "Epoch 47/100\n",
            "704/704 [==============================] - 12s 16ms/step - loss: 0.9793 - categorical_accuracy: 0.6690 - val_loss: 0.7142 - val_categorical_accuracy: 0.7558\n",
            "Epoch 48/100\n",
            "704/704 [==============================] - 12s 16ms/step - loss: 0.9739 - categorical_accuracy: 0.6726 - val_loss: 0.7068 - val_categorical_accuracy: 0.7620\n",
            "Epoch 49/100\n",
            "704/704 [==============================] - 12s 16ms/step - loss: 0.9727 - categorical_accuracy: 0.6714 - val_loss: 0.7325 - val_categorical_accuracy: 0.7496\n",
            "Epoch 50/100\n",
            "704/704 [==============================] - 12s 17ms/step - loss: 0.9603 - categorical_accuracy: 0.6777 - val_loss: 0.7086 - val_categorical_accuracy: 0.7630\n",
            "Epoch 51/100\n",
            "704/704 [==============================] - 12s 16ms/step - loss: 0.9624 - categorical_accuracy: 0.6718 - val_loss: 0.7012 - val_categorical_accuracy: 0.7662\n",
            "Epoch 52/100\n",
            "704/704 [==============================] - 12s 17ms/step - loss: 0.9665 - categorical_accuracy: 0.6744 - val_loss: 0.7402 - val_categorical_accuracy: 0.7418\n",
            "Epoch 53/100\n",
            "704/704 [==============================] - 11s 16ms/step - loss: 0.9454 - categorical_accuracy: 0.6839 - val_loss: 0.6994 - val_categorical_accuracy: 0.7594\n",
            "Epoch 54/100\n",
            "704/704 [==============================] - 12s 16ms/step - loss: 0.9406 - categorical_accuracy: 0.6793 - val_loss: 0.7197 - val_categorical_accuracy: 0.7594\n",
            "Epoch 55/100\n",
            "704/704 [==============================] - 12s 16ms/step - loss: 0.9438 - categorical_accuracy: 0.6825 - val_loss: 0.6758 - val_categorical_accuracy: 0.7654\n",
            "Epoch 56/100\n",
            "704/704 [==============================] - 12s 16ms/step - loss: 0.9407 - categorical_accuracy: 0.6863 - val_loss: 0.7031 - val_categorical_accuracy: 0.7596\n",
            "Epoch 57/100\n",
            "704/704 [==============================] - 12s 16ms/step - loss: 0.9222 - categorical_accuracy: 0.6899 - val_loss: 0.6998 - val_categorical_accuracy: 0.7580\n",
            "Epoch 58/100\n",
            "704/704 [==============================] - 12s 16ms/step - loss: 0.9388 - categorical_accuracy: 0.6864 - val_loss: 0.7127 - val_categorical_accuracy: 0.7608\n",
            "Epoch 59/100\n",
            "704/704 [==============================] - 11s 16ms/step - loss: 0.9198 - categorical_accuracy: 0.6888 - val_loss: 0.6781 - val_categorical_accuracy: 0.7700\n",
            "Epoch 60/100\n",
            "704/704 [==============================] - 12s 17ms/step - loss: 0.9182 - categorical_accuracy: 0.6918 - val_loss: 0.6765 - val_categorical_accuracy: 0.7780\n",
            "Epoch 61/100\n",
            "704/704 [==============================] - 11s 16ms/step - loss: 0.9166 - categorical_accuracy: 0.6934 - val_loss: 0.6726 - val_categorical_accuracy: 0.7708\n",
            "Epoch 62/100\n",
            "704/704 [==============================] - 12s 17ms/step - loss: 0.9230 - categorical_accuracy: 0.6909 - val_loss: 0.6791 - val_categorical_accuracy: 0.7686\n",
            "Epoch 63/100\n",
            "704/704 [==============================] - 11s 16ms/step - loss: 0.9121 - categorical_accuracy: 0.6955 - val_loss: 0.6652 - val_categorical_accuracy: 0.7798\n",
            "Epoch 64/100\n",
            "704/704 [==============================] - 11s 16ms/step - loss: 0.9048 - categorical_accuracy: 0.6967 - val_loss: 0.7210 - val_categorical_accuracy: 0.7640\n",
            "Epoch 65/100\n",
            "704/704 [==============================] - 11s 16ms/step - loss: 0.8967 - categorical_accuracy: 0.6991 - val_loss: 0.6814 - val_categorical_accuracy: 0.7686\n",
            "Epoch 66/100\n",
            "704/704 [==============================] - 12s 16ms/step - loss: 0.9048 - categorical_accuracy: 0.6979 - val_loss: 0.6639 - val_categorical_accuracy: 0.7726\n",
            "Epoch 67/100\n",
            "704/704 [==============================] - 11s 16ms/step - loss: 0.8908 - categorical_accuracy: 0.7005 - val_loss: 0.7438 - val_categorical_accuracy: 0.7504\n",
            "Epoch 68/100\n",
            "704/704 [==============================] - 12s 17ms/step - loss: 0.8971 - categorical_accuracy: 0.6971 - val_loss: 0.6904 - val_categorical_accuracy: 0.7746\n",
            "Epoch 69/100\n",
            "704/704 [==============================] - 11s 16ms/step - loss: 0.8810 - categorical_accuracy: 0.7028 - val_loss: 0.7321 - val_categorical_accuracy: 0.7530\n",
            "Epoch 70/100\n",
            "704/704 [==============================] - 12s 16ms/step - loss: 0.8836 - categorical_accuracy: 0.7037 - val_loss: 0.6895 - val_categorical_accuracy: 0.7680\n",
            "Epoch 71/100\n",
            "704/704 [==============================] - 12s 17ms/step - loss: 0.8896 - categorical_accuracy: 0.7042 - val_loss: 0.6884 - val_categorical_accuracy: 0.7758\n",
            "Epoch 72/100\n",
            "704/704 [==============================] - 11s 16ms/step - loss: 0.8717 - categorical_accuracy: 0.7089 - val_loss: 0.6650 - val_categorical_accuracy: 0.7760\n",
            "Epoch 73/100\n",
            "704/704 [==============================] - 12s 16ms/step - loss: 0.8733 - categorical_accuracy: 0.7064 - val_loss: 0.6549 - val_categorical_accuracy: 0.7772\n",
            "Epoch 74/100\n",
            "704/704 [==============================] - 11s 16ms/step - loss: 0.8653 - categorical_accuracy: 0.7094 - val_loss: 0.7007 - val_categorical_accuracy: 0.7702\n",
            "Epoch 75/100\n",
            "704/704 [==============================] - 12s 16ms/step - loss: 0.8598 - categorical_accuracy: 0.7143 - val_loss: 0.7062 - val_categorical_accuracy: 0.7630\n",
            "Epoch 76/100\n",
            "704/704 [==============================] - 12s 17ms/step - loss: 0.8623 - categorical_accuracy: 0.7114 - val_loss: 0.6731 - val_categorical_accuracy: 0.7714\n",
            "Epoch 77/100\n",
            "704/704 [==============================] - 12s 17ms/step - loss: 0.8581 - categorical_accuracy: 0.7154 - val_loss: 0.6600 - val_categorical_accuracy: 0.7810\n",
            "Epoch 78/100\n",
            "704/704 [==============================] - 12s 16ms/step - loss: 0.8613 - categorical_accuracy: 0.7132 - val_loss: 0.6707 - val_categorical_accuracy: 0.7728\n",
            "Epoch 79/100\n",
            "704/704 [==============================] - 12s 16ms/step - loss: 0.8579 - categorical_accuracy: 0.7128 - val_loss: 0.7159 - val_categorical_accuracy: 0.7674\n",
            "Epoch 80/100\n",
            "704/704 [==============================] - 11s 16ms/step - loss: 0.8556 - categorical_accuracy: 0.7178 - val_loss: 0.6583 - val_categorical_accuracy: 0.7836\n",
            "Epoch 81/100\n",
            "704/704 [==============================] - 12s 17ms/step - loss: 0.8659 - categorical_accuracy: 0.7121 - val_loss: 0.6307 - val_categorical_accuracy: 0.7862\n",
            "Epoch 82/100\n",
            "704/704 [==============================] - 11s 16ms/step - loss: 0.8486 - categorical_accuracy: 0.7176 - val_loss: 0.6586 - val_categorical_accuracy: 0.7770\n",
            "Epoch 83/100\n",
            "704/704 [==============================] - 11s 16ms/step - loss: 0.8372 - categorical_accuracy: 0.7227 - val_loss: 0.6598 - val_categorical_accuracy: 0.7826\n",
            "Epoch 84/100\n",
            "704/704 [==============================] - 12s 16ms/step - loss: 0.8471 - categorical_accuracy: 0.7178 - val_loss: 0.6867 - val_categorical_accuracy: 0.7792\n",
            "Epoch 85/100\n",
            "704/704 [==============================] - 11s 16ms/step - loss: 0.8442 - categorical_accuracy: 0.7187 - val_loss: 0.6534 - val_categorical_accuracy: 0.7822\n",
            "Epoch 86/100\n",
            "704/704 [==============================] - 11s 16ms/step - loss: 0.8328 - categorical_accuracy: 0.7220 - val_loss: 0.6813 - val_categorical_accuracy: 0.7752\n",
            "Epoch 87/100\n",
            "704/704 [==============================] - 12s 16ms/step - loss: 0.8371 - categorical_accuracy: 0.7209 - val_loss: 0.6484 - val_categorical_accuracy: 0.7826\n",
            "Epoch 88/100\n",
            "704/704 [==============================] - 11s 16ms/step - loss: 0.8345 - categorical_accuracy: 0.7245 - val_loss: 0.6767 - val_categorical_accuracy: 0.7748\n",
            "Epoch 89/100\n",
            "704/704 [==============================] - 11s 16ms/step - loss: 0.8358 - categorical_accuracy: 0.7226 - val_loss: 0.6439 - val_categorical_accuracy: 0.7858\n",
            "Epoch 90/100\n",
            "704/704 [==============================] - 12s 17ms/step - loss: 0.8380 - categorical_accuracy: 0.7218 - val_loss: 0.6435 - val_categorical_accuracy: 0.7884\n",
            "Epoch 91/100\n",
            "704/704 [==============================] - 12s 16ms/step - loss: 0.8200 - categorical_accuracy: 0.7290 - val_loss: 0.7130 - val_categorical_accuracy: 0.7776\n",
            "Epoch 92/100\n",
            "704/704 [==============================] - 12s 17ms/step - loss: 0.8329 - categorical_accuracy: 0.7251 - val_loss: 0.6450 - val_categorical_accuracy: 0.7872\n",
            "Epoch 93/100\n",
            "704/704 [==============================] - 12s 17ms/step - loss: 0.8292 - categorical_accuracy: 0.7270 - val_loss: 0.6548 - val_categorical_accuracy: 0.7814\n",
            "Epoch 94/100\n",
            "704/704 [==============================] - 12s 16ms/step - loss: 0.8188 - categorical_accuracy: 0.7277 - val_loss: 0.6595 - val_categorical_accuracy: 0.7858\n",
            "Epoch 95/100\n",
            "704/704 [==============================] - 12s 16ms/step - loss: 0.8082 - categorical_accuracy: 0.7326 - val_loss: 0.6372 - val_categorical_accuracy: 0.7904\n",
            "Epoch 96/100\n",
            "704/704 [==============================] - 11s 16ms/step - loss: 0.8204 - categorical_accuracy: 0.7291 - val_loss: 0.6596 - val_categorical_accuracy: 0.7772\n",
            "Epoch 97/100\n",
            "704/704 [==============================] - 12s 16ms/step - loss: 0.8187 - categorical_accuracy: 0.7300 - val_loss: 0.6844 - val_categorical_accuracy: 0.7734\n",
            "Epoch 98/100\n",
            "704/704 [==============================] - 12s 17ms/step - loss: 0.8108 - categorical_accuracy: 0.7305 - val_loss: 0.6473 - val_categorical_accuracy: 0.7908\n",
            "Epoch 99/100\n",
            "704/704 [==============================] - 12s 17ms/step - loss: 0.8169 - categorical_accuracy: 0.7297 - val_loss: 0.6771 - val_categorical_accuracy: 0.7866\n",
            "Epoch 100/100\n",
            "704/704 [==============================] - 12s 16ms/step - loss: 0.8090 - categorical_accuracy: 0.7308 - val_loss: 0.6491 - val_categorical_accuracy: 0.7920\n",
            "--- Running training session 3\n",
            "Epoch 1/100\n",
            "704/704 [==============================] - 13s 17ms/step - loss: 2.1247 - categorical_accuracy: 0.2004 - val_loss: 1.7502 - val_categorical_accuracy: 0.3470\n",
            "Epoch 2/100\n",
            "704/704 [==============================] - 12s 16ms/step - loss: 1.8659 - categorical_accuracy: 0.3078 - val_loss: 1.5647 - val_categorical_accuracy: 0.4322\n",
            "Epoch 3/100\n",
            "704/704 [==============================] - 12s 16ms/step - loss: 1.7399 - categorical_accuracy: 0.3635 - val_loss: 1.4277 - val_categorical_accuracy: 0.4814\n",
            "Epoch 4/100\n",
            "704/704 [==============================] - 12s 16ms/step - loss: 1.6424 - categorical_accuracy: 0.4041 - val_loss: 1.2688 - val_categorical_accuracy: 0.5436\n",
            "Epoch 5/100\n",
            "704/704 [==============================] - 12s 17ms/step - loss: 1.5662 - categorical_accuracy: 0.4366 - val_loss: 1.2301 - val_categorical_accuracy: 0.5600\n",
            "Epoch 6/100\n",
            "704/704 [==============================] - 12s 16ms/step - loss: 1.4920 - categorical_accuracy: 0.4706 - val_loss: 1.1007 - val_categorical_accuracy: 0.5984\n",
            "Epoch 7/100\n",
            "704/704 [==============================] - 12s 17ms/step - loss: 1.4221 - categorical_accuracy: 0.4962 - val_loss: 1.1526 - val_categorical_accuracy: 0.6022\n",
            "Epoch 8/100\n",
            "704/704 [==============================] - 12s 16ms/step - loss: 1.3772 - categorical_accuracy: 0.5207 - val_loss: 1.0076 - val_categorical_accuracy: 0.6494\n",
            "Epoch 9/100\n",
            "704/704 [==============================] - 12s 17ms/step - loss: 1.3247 - categorical_accuracy: 0.5384 - val_loss: 0.9558 - val_categorical_accuracy: 0.6672\n",
            "Epoch 10/100\n",
            "704/704 [==============================] - 12s 17ms/step - loss: 1.2871 - categorical_accuracy: 0.5526 - val_loss: 0.9571 - val_categorical_accuracy: 0.6570\n",
            "Epoch 11/100\n",
            "704/704 [==============================] - 12s 17ms/step - loss: 1.2623 - categorical_accuracy: 0.5618 - val_loss: 0.9345 - val_categorical_accuracy: 0.6790\n",
            "Epoch 12/100\n",
            "704/704 [==============================] - 12s 17ms/step - loss: 1.2283 - categorical_accuracy: 0.5718 - val_loss: 0.8960 - val_categorical_accuracy: 0.6816\n",
            "Epoch 13/100\n",
            "704/704 [==============================] - 12s 17ms/step - loss: 1.2027 - categorical_accuracy: 0.5885 - val_loss: 0.8701 - val_categorical_accuracy: 0.6952\n",
            "Epoch 14/100\n",
            "704/704 [==============================] - 12s 17ms/step - loss: 1.1857 - categorical_accuracy: 0.5921 - val_loss: 0.8453 - val_categorical_accuracy: 0.7048\n",
            "Epoch 15/100\n",
            "704/704 [==============================] - 11s 16ms/step - loss: 1.1544 - categorical_accuracy: 0.6036 - val_loss: 0.8351 - val_categorical_accuracy: 0.7112\n",
            "Epoch 16/100\n",
            "704/704 [==============================] - 12s 17ms/step - loss: 1.1377 - categorical_accuracy: 0.6100 - val_loss: 0.8491 - val_categorical_accuracy: 0.7056\n",
            "Epoch 17/100\n",
            "704/704 [==============================] - 12s 17ms/step - loss: 1.1202 - categorical_accuracy: 0.6143 - val_loss: 0.8050 - val_categorical_accuracy: 0.7232\n",
            "Epoch 18/100\n",
            "704/704 [==============================] - 12s 17ms/step - loss: 1.0975 - categorical_accuracy: 0.6234 - val_loss: 0.7903 - val_categorical_accuracy: 0.7268\n",
            "Epoch 19/100\n",
            "704/704 [==============================] - 12s 16ms/step - loss: 1.0846 - categorical_accuracy: 0.6301 - val_loss: 0.7939 - val_categorical_accuracy: 0.7332\n",
            "Epoch 20/100\n",
            "704/704 [==============================] - 12s 17ms/step - loss: 1.0768 - categorical_accuracy: 0.6335 - val_loss: 0.7762 - val_categorical_accuracy: 0.7308\n",
            "Epoch 21/100\n",
            "704/704 [==============================] - 12s 17ms/step - loss: 1.0553 - categorical_accuracy: 0.6394 - val_loss: 0.7759 - val_categorical_accuracy: 0.7316\n",
            "Epoch 22/100\n",
            "704/704 [==============================] - 12s 16ms/step - loss: 1.0447 - categorical_accuracy: 0.6455 - val_loss: 0.7755 - val_categorical_accuracy: 0.7372\n",
            "Epoch 23/100\n",
            "704/704 [==============================] - 11s 16ms/step - loss: 1.0309 - categorical_accuracy: 0.6511 - val_loss: 0.7506 - val_categorical_accuracy: 0.7400\n",
            "Epoch 24/100\n",
            "704/704 [==============================] - 12s 17ms/step - loss: 1.0154 - categorical_accuracy: 0.6577 - val_loss: 0.7488 - val_categorical_accuracy: 0.7436\n",
            "Epoch 25/100\n",
            "704/704 [==============================] - 12s 17ms/step - loss: 1.0109 - categorical_accuracy: 0.6550 - val_loss: 0.7764 - val_categorical_accuracy: 0.7382\n",
            "Epoch 26/100\n",
            "704/704 [==============================] - 12s 17ms/step - loss: 1.0061 - categorical_accuracy: 0.6567 - val_loss: 0.7522 - val_categorical_accuracy: 0.7444\n",
            "Epoch 27/100\n",
            "704/704 [==============================] - 12s 16ms/step - loss: 0.9833 - categorical_accuracy: 0.6662 - val_loss: 0.7184 - val_categorical_accuracy: 0.7600\n",
            "Epoch 28/100\n",
            "704/704 [==============================] - 12s 17ms/step - loss: 0.9807 - categorical_accuracy: 0.6700 - val_loss: 0.7255 - val_categorical_accuracy: 0.7500\n",
            "Epoch 29/100\n",
            "704/704 [==============================] - 12s 16ms/step - loss: 0.9786 - categorical_accuracy: 0.6713 - val_loss: 0.7460 - val_categorical_accuracy: 0.7452\n",
            "Epoch 30/100\n",
            "704/704 [==============================] - 12s 16ms/step - loss: 0.9626 - categorical_accuracy: 0.6761 - val_loss: 0.7379 - val_categorical_accuracy: 0.7506\n",
            "Epoch 31/100\n",
            "704/704 [==============================] - 12s 17ms/step - loss: 0.9486 - categorical_accuracy: 0.6834 - val_loss: 0.7129 - val_categorical_accuracy: 0.7578\n",
            "Epoch 32/100\n",
            "704/704 [==============================] - 12s 18ms/step - loss: 0.9433 - categorical_accuracy: 0.6816 - val_loss: 0.7067 - val_categorical_accuracy: 0.7562\n",
            "Epoch 33/100\n",
            "704/704 [==============================] - 12s 17ms/step - loss: 0.9369 - categorical_accuracy: 0.6863 - val_loss: 0.7339 - val_categorical_accuracy: 0.7518\n",
            "Epoch 34/100\n",
            "704/704 [==============================] - 12s 17ms/step - loss: 0.9348 - categorical_accuracy: 0.6829 - val_loss: 0.6893 - val_categorical_accuracy: 0.7676\n",
            "Epoch 35/100\n",
            "704/704 [==============================] - 12s 17ms/step - loss: 0.9253 - categorical_accuracy: 0.6886 - val_loss: 0.6754 - val_categorical_accuracy: 0.7648\n",
            "Epoch 36/100\n",
            "704/704 [==============================] - 12s 17ms/step - loss: 0.9189 - categorical_accuracy: 0.6904 - val_loss: 0.7027 - val_categorical_accuracy: 0.7682\n",
            "Epoch 37/100\n",
            "704/704 [==============================] - 12s 17ms/step - loss: 0.9082 - categorical_accuracy: 0.6953 - val_loss: 0.6788 - val_categorical_accuracy: 0.7752\n",
            "Epoch 38/100\n",
            "704/704 [==============================] - 12s 17ms/step - loss: 0.9115 - categorical_accuracy: 0.6958 - val_loss: 0.6921 - val_categorical_accuracy: 0.7674\n",
            "Epoch 39/100\n",
            "704/704 [==============================] - 12s 16ms/step - loss: 0.9010 - categorical_accuracy: 0.6991 - val_loss: 0.6670 - val_categorical_accuracy: 0.7744\n",
            "Epoch 40/100\n",
            "704/704 [==============================] - 12s 16ms/step - loss: 0.8931 - categorical_accuracy: 0.7011 - val_loss: 0.6456 - val_categorical_accuracy: 0.7804\n",
            "Epoch 41/100\n",
            "704/704 [==============================] - 11s 16ms/step - loss: 0.8865 - categorical_accuracy: 0.7035 - val_loss: 0.6433 - val_categorical_accuracy: 0.7800\n",
            "Epoch 42/100\n",
            "704/704 [==============================] - 12s 17ms/step - loss: 0.8805 - categorical_accuracy: 0.7057 - val_loss: 0.6654 - val_categorical_accuracy: 0.7834\n",
            "Epoch 43/100\n",
            "704/704 [==============================] - 12s 17ms/step - loss: 0.8775 - categorical_accuracy: 0.7055 - val_loss: 0.6525 - val_categorical_accuracy: 0.7900\n",
            "Epoch 44/100\n",
            "704/704 [==============================] - 12s 16ms/step - loss: 0.8665 - categorical_accuracy: 0.7102 - val_loss: 0.6738 - val_categorical_accuracy: 0.7746\n",
            "Epoch 45/100\n",
            "704/704 [==============================] - 12s 16ms/step - loss: 0.8635 - categorical_accuracy: 0.7111 - val_loss: 0.6557 - val_categorical_accuracy: 0.7886\n",
            "Epoch 46/100\n",
            "704/704 [==============================] - 12s 16ms/step - loss: 0.8666 - categorical_accuracy: 0.7121 - val_loss: 0.6707 - val_categorical_accuracy: 0.7732\n",
            "Epoch 47/100\n",
            "704/704 [==============================] - 12s 17ms/step - loss: 0.8544 - categorical_accuracy: 0.7134 - val_loss: 0.6515 - val_categorical_accuracy: 0.7864\n",
            "Epoch 48/100\n",
            "704/704 [==============================] - 12s 16ms/step - loss: 0.8571 - categorical_accuracy: 0.7136 - val_loss: 0.6477 - val_categorical_accuracy: 0.7838\n",
            "Epoch 49/100\n",
            "704/704 [==============================] - 12s 16ms/step - loss: 0.8458 - categorical_accuracy: 0.7184 - val_loss: 0.6414 - val_categorical_accuracy: 0.7922\n",
            "Epoch 50/100\n",
            "704/704 [==============================] - 12s 17ms/step - loss: 0.8427 - categorical_accuracy: 0.7174 - val_loss: 0.6572 - val_categorical_accuracy: 0.7840\n",
            "Epoch 51/100\n",
            "704/704 [==============================] - 12s 16ms/step - loss: 0.8406 - categorical_accuracy: 0.7197 - val_loss: 0.6611 - val_categorical_accuracy: 0.7860\n",
            "Epoch 52/100\n",
            "704/704 [==============================] - 11s 16ms/step - loss: 0.8423 - categorical_accuracy: 0.7175 - val_loss: 0.6347 - val_categorical_accuracy: 0.7926\n",
            "Epoch 53/100\n",
            "704/704 [==============================] - 11s 16ms/step - loss: 0.8339 - categorical_accuracy: 0.7237 - val_loss: 0.6477 - val_categorical_accuracy: 0.7870\n",
            "Epoch 54/100\n",
            "704/704 [==============================] - 12s 16ms/step - loss: 0.8310 - categorical_accuracy: 0.7212 - val_loss: 0.6789 - val_categorical_accuracy: 0.7874\n",
            "Epoch 55/100\n",
            "704/704 [==============================] - 12s 17ms/step - loss: 0.8268 - categorical_accuracy: 0.7240 - val_loss: 0.6258 - val_categorical_accuracy: 0.7930\n",
            "Epoch 56/100\n",
            "704/704 [==============================] - 12s 17ms/step - loss: 0.8228 - categorical_accuracy: 0.7277 - val_loss: 0.6827 - val_categorical_accuracy: 0.7754\n",
            "Epoch 57/100\n",
            "704/704 [==============================] - 12s 17ms/step - loss: 0.8233 - categorical_accuracy: 0.7260 - val_loss: 0.6468 - val_categorical_accuracy: 0.7834\n",
            "Epoch 58/100\n",
            "704/704 [==============================] - 12s 17ms/step - loss: 0.8167 - categorical_accuracy: 0.7294 - val_loss: 0.6672 - val_categorical_accuracy: 0.7848\n",
            "Epoch 59/100\n",
            "704/704 [==============================] - 12s 16ms/step - loss: 0.8251 - categorical_accuracy: 0.7259 - val_loss: 0.6707 - val_categorical_accuracy: 0.7816\n",
            "Epoch 60/100\n",
            "704/704 [==============================] - 12s 17ms/step - loss: 0.8039 - categorical_accuracy: 0.7337 - val_loss: 0.7092 - val_categorical_accuracy: 0.7722\n",
            "Epoch 61/100\n",
            "704/704 [==============================] - 12s 16ms/step - loss: 0.8119 - categorical_accuracy: 0.7306 - val_loss: 0.6769 - val_categorical_accuracy: 0.7802\n",
            "Epoch 62/100\n",
            "704/704 [==============================] - 12s 17ms/step - loss: 0.8167 - categorical_accuracy: 0.7282 - val_loss: 0.6401 - val_categorical_accuracy: 0.7914\n",
            "Epoch 63/100\n",
            "704/704 [==============================] - 12s 17ms/step - loss: 0.8069 - categorical_accuracy: 0.7330 - val_loss: 0.6210 - val_categorical_accuracy: 0.8002\n",
            "Epoch 64/100\n",
            "704/704 [==============================] - 12s 17ms/step - loss: 0.7939 - categorical_accuracy: 0.7360 - val_loss: 0.6797 - val_categorical_accuracy: 0.7814\n",
            "Epoch 65/100\n",
            "704/704 [==============================] - 12s 17ms/step - loss: 0.8028 - categorical_accuracy: 0.7332 - val_loss: 0.6593 - val_categorical_accuracy: 0.7920\n",
            "Epoch 66/100\n",
            "704/704 [==============================] - 12s 17ms/step - loss: 0.7980 - categorical_accuracy: 0.7361 - val_loss: 0.6573 - val_categorical_accuracy: 0.7926\n",
            "Epoch 67/100\n",
            "704/704 [==============================] - 12s 17ms/step - loss: 0.8018 - categorical_accuracy: 0.7358 - val_loss: 0.6225 - val_categorical_accuracy: 0.8008\n",
            "Epoch 68/100\n",
            "704/704 [==============================] - 12s 17ms/step - loss: 0.7838 - categorical_accuracy: 0.7420 - val_loss: 0.6397 - val_categorical_accuracy: 0.7964\n",
            "Epoch 69/100\n",
            "704/704 [==============================] - 12s 17ms/step - loss: 0.7896 - categorical_accuracy: 0.7374 - val_loss: 0.6651 - val_categorical_accuracy: 0.7894\n",
            "Epoch 70/100\n",
            "704/704 [==============================] - 12s 17ms/step - loss: 0.8008 - categorical_accuracy: 0.7375 - val_loss: 0.6492 - val_categorical_accuracy: 0.7944\n",
            "Epoch 71/100\n",
            "704/704 [==============================] - 12s 17ms/step - loss: 0.7882 - categorical_accuracy: 0.7383 - val_loss: 0.6380 - val_categorical_accuracy: 0.7950\n",
            "Epoch 72/100\n",
            "704/704 [==============================] - 12s 17ms/step - loss: 0.7927 - categorical_accuracy: 0.7359 - val_loss: 0.6730 - val_categorical_accuracy: 0.7854\n",
            "Epoch 73/100\n",
            "704/704 [==============================] - 12s 17ms/step - loss: 0.7761 - categorical_accuracy: 0.7413 - val_loss: 0.6199 - val_categorical_accuracy: 0.7960\n",
            "Epoch 74/100\n",
            "704/704 [==============================] - 12s 18ms/step - loss: 0.7769 - categorical_accuracy: 0.7434 - val_loss: 0.6646 - val_categorical_accuracy: 0.7912\n",
            "Epoch 75/100\n",
            "704/704 [==============================] - 12s 17ms/step - loss: 0.7734 - categorical_accuracy: 0.7425 - val_loss: 0.6382 - val_categorical_accuracy: 0.8030\n",
            "Epoch 76/100\n",
            "704/704 [==============================] - 12s 17ms/step - loss: 0.7689 - categorical_accuracy: 0.7484 - val_loss: 0.6612 - val_categorical_accuracy: 0.7896\n",
            "Epoch 77/100\n",
            "704/704 [==============================] - 12s 16ms/step - loss: 0.7836 - categorical_accuracy: 0.7404 - val_loss: 0.6128 - val_categorical_accuracy: 0.8040\n",
            "Epoch 78/100\n",
            "704/704 [==============================] - 12s 17ms/step - loss: 0.7742 - categorical_accuracy: 0.7459 - val_loss: 0.6745 - val_categorical_accuracy: 0.7860\n",
            "Epoch 79/100\n",
            "704/704 [==============================] - 12s 17ms/step - loss: 0.7696 - categorical_accuracy: 0.7454 - val_loss: 0.6779 - val_categorical_accuracy: 0.7882\n",
            "Epoch 80/100\n",
            "704/704 [==============================] - 12s 17ms/step - loss: 0.7577 - categorical_accuracy: 0.7503 - val_loss: 0.6307 - val_categorical_accuracy: 0.8000\n",
            "Epoch 81/100\n",
            "704/704 [==============================] - 12s 16ms/step - loss: 0.7648 - categorical_accuracy: 0.7460 - val_loss: 0.6359 - val_categorical_accuracy: 0.8034\n",
            "Epoch 82/100\n",
            "704/704 [==============================] - 12s 17ms/step - loss: 0.7706 - categorical_accuracy: 0.7456 - val_loss: 0.6702 - val_categorical_accuracy: 0.7858\n",
            "Epoch 83/100\n",
            "704/704 [==============================] - 11s 16ms/step - loss: 0.7686 - categorical_accuracy: 0.7466 - val_loss: 0.6256 - val_categorical_accuracy: 0.7984\n",
            "Epoch 84/100\n",
            "704/704 [==============================] - 12s 16ms/step - loss: 0.7753 - categorical_accuracy: 0.7476 - val_loss: 0.6293 - val_categorical_accuracy: 0.7944\n",
            "Epoch 85/100\n",
            "704/704 [==============================] - 12s 16ms/step - loss: 0.7611 - categorical_accuracy: 0.7491 - val_loss: 0.6294 - val_categorical_accuracy: 0.7998\n",
            "Epoch 86/100\n",
            "704/704 [==============================] - 12s 17ms/step - loss: 0.7601 - categorical_accuracy: 0.7496 - val_loss: 0.6769 - val_categorical_accuracy: 0.7880\n",
            "Epoch 87/100\n",
            "704/704 [==============================] - 12s 17ms/step - loss: 0.7539 - categorical_accuracy: 0.7498 - val_loss: 0.6626 - val_categorical_accuracy: 0.7960\n",
            "Epoch 88/100\n",
            "704/704 [==============================] - 12s 17ms/step - loss: 0.7615 - categorical_accuracy: 0.7474 - val_loss: 0.6556 - val_categorical_accuracy: 0.7966\n",
            "Epoch 89/100\n",
            "704/704 [==============================] - 12s 16ms/step - loss: 0.7497 - categorical_accuracy: 0.7542 - val_loss: 0.6050 - val_categorical_accuracy: 0.8028\n",
            "Epoch 90/100\n",
            "704/704 [==============================] - 12s 17ms/step - loss: 0.7641 - categorical_accuracy: 0.7480 - val_loss: 0.6028 - val_categorical_accuracy: 0.8068\n",
            "Epoch 91/100\n",
            "704/704 [==============================] - 12s 17ms/step - loss: 0.7545 - categorical_accuracy: 0.7513 - val_loss: 0.6299 - val_categorical_accuracy: 0.8052\n",
            "Epoch 92/100\n",
            "704/704 [==============================] - 12s 16ms/step - loss: 0.7545 - categorical_accuracy: 0.7521 - val_loss: 0.6915 - val_categorical_accuracy: 0.7870\n",
            "Epoch 93/100\n",
            "704/704 [==============================] - 12s 16ms/step - loss: 0.7472 - categorical_accuracy: 0.7526 - val_loss: 0.6469 - val_categorical_accuracy: 0.7992\n",
            "Epoch 94/100\n",
            "704/704 [==============================] - 13s 18ms/step - loss: 0.7492 - categorical_accuracy: 0.7528 - val_loss: 0.5994 - val_categorical_accuracy: 0.8110\n",
            "Epoch 95/100\n",
            "704/704 [==============================] - 12s 17ms/step - loss: 0.7428 - categorical_accuracy: 0.7587 - val_loss: 0.6106 - val_categorical_accuracy: 0.8104\n",
            "Epoch 96/100\n",
            "704/704 [==============================] - 12s 17ms/step - loss: 0.7462 - categorical_accuracy: 0.7531 - val_loss: 0.6967 - val_categorical_accuracy: 0.7918\n",
            "Epoch 97/100\n",
            "704/704 [==============================] - 12s 16ms/step - loss: 0.7487 - categorical_accuracy: 0.7542 - val_loss: 0.6411 - val_categorical_accuracy: 0.7974\n",
            "Epoch 98/100\n",
            "704/704 [==============================] - 12s 17ms/step - loss: 0.7481 - categorical_accuracy: 0.7548 - val_loss: 0.6494 - val_categorical_accuracy: 0.7940\n",
            "Epoch 99/100\n",
            "704/704 [==============================] - 12s 17ms/step - loss: 0.7400 - categorical_accuracy: 0.7568 - val_loss: 0.6852 - val_categorical_accuracy: 0.7930\n",
            "Epoch 100/100\n",
            "704/704 [==============================] - 12s 16ms/step - loss: 0.7420 - categorical_accuracy: 0.7586 - val_loss: 0.6312 - val_categorical_accuracy: 0.8000\n"
          ],
          "name": "stdout"
        }
      ]
    },
    {
      "cell_type": "markdown",
      "metadata": {
        "id": "oCjTAyN8Lffg"
      },
      "source": [
        "### 比較三種初始化的訓練結果"
      ]
    },
    {
      "cell_type": "code",
      "metadata": {
        "colab": {
          "base_uri": "https://localhost:8080/"
        },
        "id": "l3Tzu1jbLffg",
        "outputId": "2a190def-44e4-4460-a092-a4c635802457"
      },
      "source": [
        "model_1 = keras.models.load_model('lab5-logs/models/run-1-best-model.h5')\n",
        "model_2 = keras.models.load_model('lab5-logs/models/run-2-best-model.h5')\n",
        "model_3 = keras.models.load_model('lab5-logs/models/run-3-best-model.h5')\n",
        "loss_1, acc_1 = model_1.evaluate(test_data)\n",
        "loss_2, acc_2 = model_2.evaluate(test_data)\n",
        "loss_3, acc_3 = model_3.evaluate(test_data)"
      ],
      "execution_count": 22,
      "outputs": [
        {
          "output_type": "stream",
          "text": [
            "157/157 [==============================] - 2s 12ms/step - loss: 0.7325 - categorical_accuracy: 0.7516\n",
            "157/157 [==============================] - 1s 5ms/step - loss: 0.6523 - categorical_accuracy: 0.7866\n",
            "157/157 [==============================] - 1s 5ms/step - loss: 0.6216 - categorical_accuracy: 0.8054\n"
          ],
          "name": "stdout"
        }
      ]
    },
    {
      "cell_type": "markdown",
      "metadata": {
        "id": "89VSsXChLffg"
      },
      "source": [
        "顯示預測的損失值與準確度結果："
      ]
    },
    {
      "cell_type": "code",
      "metadata": {
        "colab": {
          "base_uri": "https://localhost:8080/",
          "height": 142
        },
        "id": "quWIN5urLffh",
        "outputId": "570a8a2a-b1db-4861-97e9-74182e474014"
      },
      "source": [
        "loss = [loss_1, loss_2, loss_3]  \n",
        "acc = [acc_1, acc_2, acc_3]\n",
        "\n",
        "dict = {\"Loss\": loss,  \n",
        "        \"Accuracy\": acc}\n",
        "\n",
        "df = pd.DataFrame(dict)\n",
        "df"
      ],
      "execution_count": 23,
      "outputs": [
        {
          "output_type": "execute_result",
          "data": {
            "text/html": [
              "<div>\n",
              "<style scoped>\n",
              "    .dataframe tbody tr th:only-of-type {\n",
              "        vertical-align: middle;\n",
              "    }\n",
              "\n",
              "    .dataframe tbody tr th {\n",
              "        vertical-align: top;\n",
              "    }\n",
              "\n",
              "    .dataframe thead th {\n",
              "        text-align: right;\n",
              "    }\n",
              "</style>\n",
              "<table border=\"1\" class=\"dataframe\">\n",
              "  <thead>\n",
              "    <tr style=\"text-align: right;\">\n",
              "      <th></th>\n",
              "      <th>Loss</th>\n",
              "      <th>Accuracy</th>\n",
              "    </tr>\n",
              "  </thead>\n",
              "  <tbody>\n",
              "    <tr>\n",
              "      <th>0</th>\n",
              "      <td>0.732505</td>\n",
              "      <td>0.7516</td>\n",
              "    </tr>\n",
              "    <tr>\n",
              "      <th>1</th>\n",
              "      <td>0.652258</td>\n",
              "      <td>0.7866</td>\n",
              "    </tr>\n",
              "    <tr>\n",
              "      <th>2</th>\n",
              "      <td>0.621569</td>\n",
              "      <td>0.8054</td>\n",
              "    </tr>\n",
              "  </tbody>\n",
              "</table>\n",
              "</div>"
            ],
            "text/plain": [
              "       Loss  Accuracy\n",
              "0  0.732505    0.7516\n",
              "1  0.652258    0.7866\n",
              "2  0.621569    0.8054"
            ]
          },
          "metadata": {
            "tags": []
          },
          "execution_count": 23
        }
      ]
    },
    {
      "cell_type": "markdown",
      "metadata": {
        "id": "3oXsijs8Lffh"
      },
      "source": [
        "# 實驗二：使用CIFAR-10數據集實驗Batch Normalization方法"
      ]
    },
    {
      "cell_type": "markdown",
      "metadata": {
        "id": "O20ug7MBLffh"
      },
      "source": [
        "建立網路模型，這邊使用到以下幾種網路層：\n",
        "- keras.Input：輸入層(輸入影像大小為32x32x3)\n",
        "- layers.Conv2D：卷積層(使用3x3大小的kernel)\n",
        "- layers.BatchNormalization：BatchNormalization層(使用預設參數)\n",
        "- layers.ReLU：ReLU激活函數層(使用在BatchNormalization層之後)\n",
        "- layers.MaxPool2D：池化層(對特徵圖下採樣)\n",
        "- layers.Flatten：扁平層(特徵圖轉成一維Tensor)\n",
        "- layers.Dropout：Dropout層(每次訓練隨機丟棄50%網路)\n",
        "- layers.Dense：全連接層(隱藏層使用ReLU激活函數，輸出層使用Softmax激活函數)\n",
        "\n",
        "因為大部分激活函數都會在BatchNormalization之後，所以這邊的搭建與前幾個model有些差別。"
      ]
    },
    {
      "cell_type": "code",
      "metadata": {
        "scrolled": false,
        "colab": {
          "base_uri": "https://localhost:8080/"
        },
        "id": "IflBfLndLffi",
        "outputId": "d24ba546-1ba4-4ad2-e432-19fa9d1867d4"
      },
      "source": [
        "inputs = keras.Input(shape=(32, 32, 3))\n",
        "x = layers.Conv2D(64, (3, 3))(inputs)\n",
        "x = layers.BatchNormalization()(x)\n",
        "x = layers.ReLU()(x)\n",
        "x = layers.MaxPool2D()(x)\n",
        "x = layers.Conv2D(128, (3, 3))(x)\n",
        "x = layers.BatchNormalization()(x)\n",
        "x = layers.ReLU()(x)\n",
        "x = layers.Conv2D(256, (3, 3))(x)\n",
        "x = layers.BatchNormalization()(x)\n",
        "x = layers.ReLU()(x)\n",
        "x = layers.Conv2D(128, (3, 3))(x)\n",
        "x = layers.BatchNormalization()(x)\n",
        "x = layers.ReLU()(x)\n",
        "x = layers.Conv2D(64, (3, 3))(x)\n",
        "x = layers.BatchNormalization()(x)\n",
        "x = layers.ReLU()(x)\n",
        "x = layers.Flatten()(x)\n",
        "x = layers.Dense(64)(x)\n",
        "x = layers.BatchNormalization()(x)\n",
        "x = layers.ReLU()(x)\n",
        "x = layers.Dropout(0.5)(x)\n",
        "outputs = layers.Dense(10, activation='softmax')(x)\n",
        "# 建立網路模型(將輸入到輸出所有經過的網路層連接起來)\n",
        "model_4 = keras.Model(inputs, outputs, name='model-4')\n",
        "model_4.summary()  # 顯示網路架構"
      ],
      "execution_count": 24,
      "outputs": [
        {
          "output_type": "stream",
          "text": [
            "Model: \"model-4\"\n",
            "_________________________________________________________________\n",
            "Layer (type)                 Output Shape              Param #   \n",
            "=================================================================\n",
            "input_9 (InputLayer)         [(None, 32, 32, 3)]       0         \n",
            "_________________________________________________________________\n",
            "conv2d_15 (Conv2D)           (None, 30, 30, 64)        1792      \n",
            "_________________________________________________________________\n",
            "batch_normalization (BatchNo (None, 30, 30, 64)        256       \n",
            "_________________________________________________________________\n",
            "re_lu (ReLU)                 (None, 30, 30, 64)        0         \n",
            "_________________________________________________________________\n",
            "max_pooling2d_3 (MaxPooling2 (None, 15, 15, 64)        0         \n",
            "_________________________________________________________________\n",
            "conv2d_16 (Conv2D)           (None, 13, 13, 128)       73856     \n",
            "_________________________________________________________________\n",
            "batch_normalization_1 (Batch (None, 13, 13, 128)       512       \n",
            "_________________________________________________________________\n",
            "re_lu_1 (ReLU)               (None, 13, 13, 128)       0         \n",
            "_________________________________________________________________\n",
            "conv2d_17 (Conv2D)           (None, 11, 11, 256)       295168    \n",
            "_________________________________________________________________\n",
            "batch_normalization_2 (Batch (None, 11, 11, 256)       1024      \n",
            "_________________________________________________________________\n",
            "re_lu_2 (ReLU)               (None, 11, 11, 256)       0         \n",
            "_________________________________________________________________\n",
            "conv2d_18 (Conv2D)           (None, 9, 9, 128)         295040    \n",
            "_________________________________________________________________\n",
            "batch_normalization_3 (Batch (None, 9, 9, 128)         512       \n",
            "_________________________________________________________________\n",
            "re_lu_3 (ReLU)               (None, 9, 9, 128)         0         \n",
            "_________________________________________________________________\n",
            "conv2d_19 (Conv2D)           (None, 7, 7, 64)          73792     \n",
            "_________________________________________________________________\n",
            "batch_normalization_4 (Batch (None, 7, 7, 64)          256       \n",
            "_________________________________________________________________\n",
            "re_lu_4 (ReLU)               (None, 7, 7, 64)          0         \n",
            "_________________________________________________________________\n",
            "flatten_3 (Flatten)          (None, 3136)              0         \n",
            "_________________________________________________________________\n",
            "dense_31 (Dense)             (None, 64)                200768    \n",
            "_________________________________________________________________\n",
            "batch_normalization_5 (Batch (None, 64)                256       \n",
            "_________________________________________________________________\n",
            "re_lu_5 (ReLU)               (None, 64)                0         \n",
            "_________________________________________________________________\n",
            "dropout_3 (Dropout)          (None, 64)                0         \n",
            "_________________________________________________________________\n",
            "dense_32 (Dense)             (None, 10)                650       \n",
            "=================================================================\n",
            "Total params: 943,882\n",
            "Trainable params: 942,474\n",
            "Non-trainable params: 1,408\n",
            "_________________________________________________________________\n"
          ],
          "name": "stdout"
        }
      ]
    },
    {
      "cell_type": "markdown",
      "metadata": {
        "id": "ueYvWwhsLffi"
      },
      "source": [
        "建立Callback function："
      ]
    },
    {
      "cell_type": "code",
      "metadata": {
        "id": "zJp7A0XLLffi"
      },
      "source": [
        "# 儲存訓練記錄檔\n",
        "log_dir = os.path.join('lab5-logs', 'run-4-batchnormalization')\n",
        "model_cbk = keras.callbacks.TensorBoard(log_dir=log_dir)\n",
        "# 儲存最好的網路模型權重\n",
        "model_mckp = keras.callbacks.ModelCheckpoint(model_dir + '/run-4-best-model.h5', \n",
        "                                             monitor='val_categorical_accuracy', \n",
        "                                             save_best_only=True, \n",
        "                                             mode='max')"
      ],
      "execution_count": 25,
      "outputs": []
    },
    {
      "cell_type": "markdown",
      "metadata": {
        "id": "z-oShvAgLffi"
      },
      "source": [
        "設定訓練使用的優化器、損失函數和指標函數"
      ]
    },
    {
      "cell_type": "code",
      "metadata": {
        "id": "LavJ8PViLffi"
      },
      "source": [
        "model_4.compile(keras.optimizers.Adam(), \n",
        "               loss=keras.losses.CategoricalCrossentropy(), \n",
        "               metrics=[keras.metrics.CategoricalAccuracy()])"
      ],
      "execution_count": 26,
      "outputs": []
    },
    {
      "cell_type": "markdown",
      "metadata": {
        "id": "qzts1XUtLffj"
      },
      "source": [
        "訓練網路模型"
      ]
    },
    {
      "cell_type": "code",
      "metadata": {
        "scrolled": true,
        "colab": {
          "base_uri": "https://localhost:8080/"
        },
        "id": "CVxvAe0TLffj",
        "outputId": "b9bbe618-cde8-49bc-eda2-1e1865e2520d"
      },
      "source": [
        "history_4 = model_4.fit(train_data,\n",
        "                        epochs=100, \n",
        "                        validation_data=valid_data,\n",
        "                        callbacks=[model_cbk, model_mckp])"
      ],
      "execution_count": 27,
      "outputs": [
        {
          "output_type": "stream",
          "text": [
            "Epoch 1/100\n",
            "704/704 [==============================] - 13s 17ms/step - loss: 1.8548 - categorical_accuracy: 0.3310 - val_loss: 2.1953 - val_categorical_accuracy: 0.2740\n",
            "Epoch 2/100\n",
            "704/704 [==============================] - 12s 16ms/step - loss: 1.5278 - categorical_accuracy: 0.4590 - val_loss: 1.2993 - val_categorical_accuracy: 0.5556\n",
            "Epoch 3/100\n",
            "704/704 [==============================] - 12s 17ms/step - loss: 1.3664 - categorical_accuracy: 0.5184 - val_loss: 1.3082 - val_categorical_accuracy: 0.5380\n",
            "Epoch 4/100\n",
            "704/704 [==============================] - 12s 16ms/step - loss: 1.2772 - categorical_accuracy: 0.5586 - val_loss: 1.3425 - val_categorical_accuracy: 0.5384\n",
            "Epoch 5/100\n",
            "704/704 [==============================] - 12s 17ms/step - loss: 1.1968 - categorical_accuracy: 0.5853 - val_loss: 1.0467 - val_categorical_accuracy: 0.6316\n",
            "Epoch 6/100\n",
            "704/704 [==============================] - 11s 16ms/step - loss: 1.1364 - categorical_accuracy: 0.6053 - val_loss: 3.0610 - val_categorical_accuracy: 0.4246\n",
            "Epoch 7/100\n",
            "704/704 [==============================] - 12s 16ms/step - loss: 1.0894 - categorical_accuracy: 0.6256 - val_loss: 1.0339 - val_categorical_accuracy: 0.6530\n",
            "Epoch 8/100\n",
            "704/704 [==============================] - 12s 17ms/step - loss: 1.0413 - categorical_accuracy: 0.6430 - val_loss: 1.1330 - val_categorical_accuracy: 0.6248\n",
            "Epoch 9/100\n",
            "704/704 [==============================] - 13s 18ms/step - loss: 1.0056 - categorical_accuracy: 0.6591 - val_loss: 1.0379 - val_categorical_accuracy: 0.6560\n",
            "Epoch 10/100\n",
            "704/704 [==============================] - 12s 17ms/step - loss: 0.9779 - categorical_accuracy: 0.6692 - val_loss: 0.8907 - val_categorical_accuracy: 0.7006\n",
            "Epoch 11/100\n",
            "704/704 [==============================] - 12s 17ms/step - loss: 0.9442 - categorical_accuracy: 0.6825 - val_loss: 0.8666 - val_categorical_accuracy: 0.6930\n",
            "Epoch 12/100\n",
            "704/704 [==============================] - 12s 16ms/step - loss: 0.9152 - categorical_accuracy: 0.6915 - val_loss: 1.2263 - val_categorical_accuracy: 0.6256\n",
            "Epoch 13/100\n",
            "704/704 [==============================] - 12s 17ms/step - loss: 0.8947 - categorical_accuracy: 0.6978 - val_loss: 0.6608 - val_categorical_accuracy: 0.7698\n",
            "Epoch 14/100\n",
            "704/704 [==============================] - 12s 16ms/step - loss: 0.8648 - categorical_accuracy: 0.7077 - val_loss: 0.7370 - val_categorical_accuracy: 0.7468\n",
            "Epoch 15/100\n",
            "704/704 [==============================] - 12s 16ms/step - loss: 0.8387 - categorical_accuracy: 0.7188 - val_loss: 1.1198 - val_categorical_accuracy: 0.6492\n",
            "Epoch 16/100\n",
            "704/704 [==============================] - 12s 17ms/step - loss: 0.8328 - categorical_accuracy: 0.7229 - val_loss: 0.5944 - val_categorical_accuracy: 0.7896\n",
            "Epoch 17/100\n",
            "704/704 [==============================] - 12s 16ms/step - loss: 0.8069 - categorical_accuracy: 0.7297 - val_loss: 0.6685 - val_categorical_accuracy: 0.7772\n",
            "Epoch 18/100\n",
            "704/704 [==============================] - 12s 17ms/step - loss: 0.7910 - categorical_accuracy: 0.7353 - val_loss: 0.6437 - val_categorical_accuracy: 0.7804\n",
            "Epoch 19/100\n",
            "704/704 [==============================] - 12s 16ms/step - loss: 0.7755 - categorical_accuracy: 0.7415 - val_loss: 0.8078 - val_categorical_accuracy: 0.7310\n",
            "Epoch 20/100\n",
            "704/704 [==============================] - 12s 16ms/step - loss: 0.7611 - categorical_accuracy: 0.7454 - val_loss: 0.5464 - val_categorical_accuracy: 0.8108\n",
            "Epoch 21/100\n",
            "704/704 [==============================] - 12s 17ms/step - loss: 0.7491 - categorical_accuracy: 0.7520 - val_loss: 0.8378 - val_categorical_accuracy: 0.7330\n",
            "Epoch 22/100\n",
            "704/704 [==============================] - 12s 17ms/step - loss: 0.7305 - categorical_accuracy: 0.7577 - val_loss: 0.6467 - val_categorical_accuracy: 0.7840\n",
            "Epoch 23/100\n",
            "704/704 [==============================] - 11s 16ms/step - loss: 0.7230 - categorical_accuracy: 0.7605 - val_loss: 0.5755 - val_categorical_accuracy: 0.8024\n",
            "Epoch 24/100\n",
            "704/704 [==============================] - 12s 17ms/step - loss: 0.7121 - categorical_accuracy: 0.7634 - val_loss: 0.6199 - val_categorical_accuracy: 0.7944\n",
            "Epoch 25/100\n",
            "704/704 [==============================] - 12s 16ms/step - loss: 0.7023 - categorical_accuracy: 0.7669 - val_loss: 0.6621 - val_categorical_accuracy: 0.7832\n",
            "Epoch 26/100\n",
            "704/704 [==============================] - 12s 16ms/step - loss: 0.6918 - categorical_accuracy: 0.7714 - val_loss: 0.6830 - val_categorical_accuracy: 0.7630\n",
            "Epoch 27/100\n",
            "704/704 [==============================] - 12s 17ms/step - loss: 0.6922 - categorical_accuracy: 0.7711 - val_loss: 0.6612 - val_categorical_accuracy: 0.7842\n",
            "Epoch 28/100\n",
            "704/704 [==============================] - 12s 18ms/step - loss: 0.6797 - categorical_accuracy: 0.7743 - val_loss: 0.7212 - val_categorical_accuracy: 0.7622\n",
            "Epoch 29/100\n",
            "704/704 [==============================] - 12s 17ms/step - loss: 0.6655 - categorical_accuracy: 0.7809 - val_loss: 0.4784 - val_categorical_accuracy: 0.8364\n",
            "Epoch 30/100\n",
            "704/704 [==============================] - 12s 17ms/step - loss: 0.6622 - categorical_accuracy: 0.7814 - val_loss: 0.5187 - val_categorical_accuracy: 0.8264\n",
            "Epoch 31/100\n",
            "704/704 [==============================] - 12s 17ms/step - loss: 0.6542 - categorical_accuracy: 0.7846 - val_loss: 0.5673 - val_categorical_accuracy: 0.8140\n",
            "Epoch 32/100\n",
            "704/704 [==============================] - 12s 17ms/step - loss: 0.6447 - categorical_accuracy: 0.7869 - val_loss: 0.6680 - val_categorical_accuracy: 0.7816\n",
            "Epoch 33/100\n",
            "704/704 [==============================] - 12s 17ms/step - loss: 0.6383 - categorical_accuracy: 0.7909 - val_loss: 0.6188 - val_categorical_accuracy: 0.7944\n",
            "Epoch 34/100\n",
            "704/704 [==============================] - 12s 17ms/step - loss: 0.6246 - categorical_accuracy: 0.7941 - val_loss: 0.4630 - val_categorical_accuracy: 0.8402\n",
            "Epoch 35/100\n",
            "704/704 [==============================] - 12s 17ms/step - loss: 0.6198 - categorical_accuracy: 0.7945 - val_loss: 0.4640 - val_categorical_accuracy: 0.8428\n",
            "Epoch 36/100\n",
            "704/704 [==============================] - 12s 17ms/step - loss: 0.6130 - categorical_accuracy: 0.7968 - val_loss: 0.6441 - val_categorical_accuracy: 0.7930\n",
            "Epoch 37/100\n",
            "704/704 [==============================] - 12s 17ms/step - loss: 0.6113 - categorical_accuracy: 0.7996 - val_loss: 0.5052 - val_categorical_accuracy: 0.8188\n",
            "Epoch 38/100\n",
            "704/704 [==============================] - 12s 17ms/step - loss: 0.5982 - categorical_accuracy: 0.8017 - val_loss: 0.9772 - val_categorical_accuracy: 0.7262\n",
            "Epoch 39/100\n",
            "704/704 [==============================] - 13s 18ms/step - loss: 0.6014 - categorical_accuracy: 0.8037 - val_loss: 0.5676 - val_categorical_accuracy: 0.8136\n",
            "Epoch 40/100\n",
            "704/704 [==============================] - 12s 17ms/step - loss: 0.5974 - categorical_accuracy: 0.8033 - val_loss: 0.5297 - val_categorical_accuracy: 0.8180\n",
            "Epoch 41/100\n",
            "704/704 [==============================] - 12s 17ms/step - loss: 0.5874 - categorical_accuracy: 0.8042 - val_loss: 0.4894 - val_categorical_accuracy: 0.8386\n",
            "Epoch 42/100\n",
            "704/704 [==============================] - 12s 17ms/step - loss: 0.5793 - categorical_accuracy: 0.8086 - val_loss: 0.4461 - val_categorical_accuracy: 0.8484\n",
            "Epoch 43/100\n",
            "704/704 [==============================] - 12s 16ms/step - loss: 0.5753 - categorical_accuracy: 0.8130 - val_loss: 0.5181 - val_categorical_accuracy: 0.8224\n",
            "Epoch 44/100\n",
            "704/704 [==============================] - 12s 16ms/step - loss: 0.5728 - categorical_accuracy: 0.8120 - val_loss: 0.4831 - val_categorical_accuracy: 0.8376\n",
            "Epoch 45/100\n",
            "704/704 [==============================] - 12s 17ms/step - loss: 0.5713 - categorical_accuracy: 0.8131 - val_loss: 0.5808 - val_categorical_accuracy: 0.8046\n",
            "Epoch 46/100\n",
            "704/704 [==============================] - 12s 16ms/step - loss: 0.5512 - categorical_accuracy: 0.8190 - val_loss: 0.5498 - val_categorical_accuracy: 0.8202\n",
            "Epoch 47/100\n",
            "704/704 [==============================] - 12s 16ms/step - loss: 0.5547 - categorical_accuracy: 0.8183 - val_loss: 0.5068 - val_categorical_accuracy: 0.8274\n",
            "Epoch 48/100\n",
            "704/704 [==============================] - 12s 17ms/step - loss: 0.5628 - categorical_accuracy: 0.8188 - val_loss: 0.5292 - val_categorical_accuracy: 0.8216\n",
            "Epoch 49/100\n",
            "704/704 [==============================] - 12s 17ms/step - loss: 0.5534 - categorical_accuracy: 0.8198 - val_loss: 0.4693 - val_categorical_accuracy: 0.8426\n",
            "Epoch 50/100\n",
            "704/704 [==============================] - 12s 17ms/step - loss: 0.5430 - categorical_accuracy: 0.8226 - val_loss: 0.4375 - val_categorical_accuracy: 0.8572\n",
            "Epoch 51/100\n",
            "704/704 [==============================] - 12s 17ms/step - loss: 0.5459 - categorical_accuracy: 0.8216 - val_loss: 0.6171 - val_categorical_accuracy: 0.8014\n",
            "Epoch 52/100\n",
            "704/704 [==============================] - 12s 17ms/step - loss: 0.5436 - categorical_accuracy: 0.8207 - val_loss: 0.6858 - val_categorical_accuracy: 0.7832\n",
            "Epoch 53/100\n",
            "704/704 [==============================] - 12s 17ms/step - loss: 0.5369 - categorical_accuracy: 0.8245 - val_loss: 0.4781 - val_categorical_accuracy: 0.8440\n",
            "Epoch 54/100\n",
            "704/704 [==============================] - 12s 17ms/step - loss: 0.5323 - categorical_accuracy: 0.8259 - val_loss: 0.7079 - val_categorical_accuracy: 0.7746\n",
            "Epoch 55/100\n",
            "704/704 [==============================] - 12s 17ms/step - loss: 0.5387 - categorical_accuracy: 0.8228 - val_loss: 0.4880 - val_categorical_accuracy: 0.8394\n",
            "Epoch 56/100\n",
            "704/704 [==============================] - 12s 16ms/step - loss: 0.5237 - categorical_accuracy: 0.8296 - val_loss: 0.5673 - val_categorical_accuracy: 0.8116\n",
            "Epoch 57/100\n",
            "704/704 [==============================] - 12s 17ms/step - loss: 0.5214 - categorical_accuracy: 0.8292 - val_loss: 0.4690 - val_categorical_accuracy: 0.8430\n",
            "Epoch 58/100\n",
            "704/704 [==============================] - 12s 17ms/step - loss: 0.5268 - categorical_accuracy: 0.8269 - val_loss: 0.5407 - val_categorical_accuracy: 0.8258\n",
            "Epoch 59/100\n",
            "704/704 [==============================] - 12s 17ms/step - loss: 0.5202 - categorical_accuracy: 0.8308 - val_loss: 0.5604 - val_categorical_accuracy: 0.8224\n",
            "Epoch 60/100\n",
            "704/704 [==============================] - 12s 17ms/step - loss: 0.5167 - categorical_accuracy: 0.8333 - val_loss: 0.4715 - val_categorical_accuracy: 0.8436\n",
            "Epoch 61/100\n",
            "704/704 [==============================] - 12s 17ms/step - loss: 0.5089 - categorical_accuracy: 0.8343 - val_loss: 0.5401 - val_categorical_accuracy: 0.8286\n",
            "Epoch 62/100\n",
            "704/704 [==============================] - 12s 17ms/step - loss: 0.5013 - categorical_accuracy: 0.8363 - val_loss: 0.7149 - val_categorical_accuracy: 0.7746\n",
            "Epoch 63/100\n",
            "704/704 [==============================] - 12s 17ms/step - loss: 0.5088 - categorical_accuracy: 0.8339 - val_loss: 0.5303 - val_categorical_accuracy: 0.8326\n",
            "Epoch 64/100\n",
            "704/704 [==============================] - 12s 17ms/step - loss: 0.5058 - categorical_accuracy: 0.8352 - val_loss: 0.5212 - val_categorical_accuracy: 0.8228\n",
            "Epoch 65/100\n",
            "704/704 [==============================] - 12s 17ms/step - loss: 0.4987 - categorical_accuracy: 0.8383 - val_loss: 0.4592 - val_categorical_accuracy: 0.8558\n",
            "Epoch 66/100\n",
            "704/704 [==============================] - 12s 17ms/step - loss: 0.4942 - categorical_accuracy: 0.8394 - val_loss: 0.4651 - val_categorical_accuracy: 0.8462\n",
            "Epoch 67/100\n",
            "704/704 [==============================] - 12s 17ms/step - loss: 0.4897 - categorical_accuracy: 0.8391 - val_loss: 0.4338 - val_categorical_accuracy: 0.8566\n",
            "Epoch 68/100\n",
            "704/704 [==============================] - 12s 17ms/step - loss: 0.4997 - categorical_accuracy: 0.8366 - val_loss: 0.5704 - val_categorical_accuracy: 0.8134\n",
            "Epoch 69/100\n",
            "704/704 [==============================] - 12s 16ms/step - loss: 0.4869 - categorical_accuracy: 0.8412 - val_loss: 0.4863 - val_categorical_accuracy: 0.8344\n",
            "Epoch 70/100\n",
            "704/704 [==============================] - 12s 17ms/step - loss: 0.4773 - categorical_accuracy: 0.8454 - val_loss: 0.4122 - val_categorical_accuracy: 0.8598\n",
            "Epoch 71/100\n",
            "704/704 [==============================] - 12s 17ms/step - loss: 0.4840 - categorical_accuracy: 0.8433 - val_loss: 0.5207 - val_categorical_accuracy: 0.8310\n",
            "Epoch 72/100\n",
            "704/704 [==============================] - 12s 17ms/step - loss: 0.4826 - categorical_accuracy: 0.8437 - val_loss: 0.5576 - val_categorical_accuracy: 0.8206\n",
            "Epoch 73/100\n",
            "704/704 [==============================] - 12s 17ms/step - loss: 0.4789 - categorical_accuracy: 0.8460 - val_loss: 0.4963 - val_categorical_accuracy: 0.8456\n",
            "Epoch 74/100\n",
            "704/704 [==============================] - 13s 18ms/step - loss: 0.4804 - categorical_accuracy: 0.8447 - val_loss: 0.5346 - val_categorical_accuracy: 0.8298\n",
            "Epoch 75/100\n",
            "704/704 [==============================] - 13s 18ms/step - loss: 0.4726 - categorical_accuracy: 0.8462 - val_loss: 0.4836 - val_categorical_accuracy: 0.8436\n",
            "Epoch 76/100\n",
            "704/704 [==============================] - 13s 18ms/step - loss: 0.4697 - categorical_accuracy: 0.8480 - val_loss: 0.5116 - val_categorical_accuracy: 0.8436\n",
            "Epoch 77/100\n",
            "704/704 [==============================] - 13s 18ms/step - loss: 0.4631 - categorical_accuracy: 0.8494 - val_loss: 0.5582 - val_categorical_accuracy: 0.8240\n",
            "Epoch 78/100\n",
            "704/704 [==============================] - 13s 18ms/step - loss: 0.4607 - categorical_accuracy: 0.8481 - val_loss: 0.6321 - val_categorical_accuracy: 0.8076\n",
            "Epoch 79/100\n",
            "704/704 [==============================] - 12s 17ms/step - loss: 0.4663 - categorical_accuracy: 0.8502 - val_loss: 0.4510 - val_categorical_accuracy: 0.8540\n",
            "Epoch 80/100\n",
            "704/704 [==============================] - 12s 17ms/step - loss: 0.4574 - categorical_accuracy: 0.8514 - val_loss: 0.4292 - val_categorical_accuracy: 0.8630\n",
            "Epoch 81/100\n",
            "704/704 [==============================] - 12s 17ms/step - loss: 0.4593 - categorical_accuracy: 0.8520 - val_loss: 0.4749 - val_categorical_accuracy: 0.8506\n",
            "Epoch 82/100\n",
            "704/704 [==============================] - 12s 18ms/step - loss: 0.4654 - categorical_accuracy: 0.8504 - val_loss: 0.5024 - val_categorical_accuracy: 0.8426\n",
            "Epoch 83/100\n",
            "704/704 [==============================] - 12s 17ms/step - loss: 0.4553 - categorical_accuracy: 0.8530 - val_loss: 0.5049 - val_categorical_accuracy: 0.8388\n",
            "Epoch 84/100\n",
            "704/704 [==============================] - 12s 17ms/step - loss: 0.4560 - categorical_accuracy: 0.8510 - val_loss: 0.4401 - val_categorical_accuracy: 0.8582\n",
            "Epoch 85/100\n",
            "704/704 [==============================] - 12s 17ms/step - loss: 0.4460 - categorical_accuracy: 0.8550 - val_loss: 0.4693 - val_categorical_accuracy: 0.8488\n",
            "Epoch 86/100\n",
            "704/704 [==============================] - 12s 17ms/step - loss: 0.4429 - categorical_accuracy: 0.8562 - val_loss: 0.4436 - val_categorical_accuracy: 0.8510\n",
            "Epoch 87/100\n",
            "704/704 [==============================] - 12s 17ms/step - loss: 0.4531 - categorical_accuracy: 0.8546 - val_loss: 0.4041 - val_categorical_accuracy: 0.8636\n",
            "Epoch 88/100\n",
            "704/704 [==============================] - 12s 17ms/step - loss: 0.4458 - categorical_accuracy: 0.8559 - val_loss: 0.4560 - val_categorical_accuracy: 0.8544\n",
            "Epoch 89/100\n",
            "704/704 [==============================] - 12s 17ms/step - loss: 0.4438 - categorical_accuracy: 0.8576 - val_loss: 0.4329 - val_categorical_accuracy: 0.8566\n",
            "Epoch 90/100\n",
            "704/704 [==============================] - 12s 17ms/step - loss: 0.4406 - categorical_accuracy: 0.8578 - val_loss: 0.3991 - val_categorical_accuracy: 0.8752\n",
            "Epoch 91/100\n",
            "704/704 [==============================] - 12s 17ms/step - loss: 0.4460 - categorical_accuracy: 0.8557 - val_loss: 0.4752 - val_categorical_accuracy: 0.8500\n",
            "Epoch 92/100\n",
            "704/704 [==============================] - 12s 17ms/step - loss: 0.4299 - categorical_accuracy: 0.8625 - val_loss: 0.5000 - val_categorical_accuracy: 0.8456\n",
            "Epoch 93/100\n",
            "704/704 [==============================] - 12s 17ms/step - loss: 0.4312 - categorical_accuracy: 0.8623 - val_loss: 0.4521 - val_categorical_accuracy: 0.8574\n",
            "Epoch 94/100\n",
            "704/704 [==============================] - 12s 17ms/step - loss: 0.4299 - categorical_accuracy: 0.8612 - val_loss: 0.5238 - val_categorical_accuracy: 0.8356\n",
            "Epoch 95/100\n",
            "704/704 [==============================] - 12s 18ms/step - loss: 0.4335 - categorical_accuracy: 0.8599 - val_loss: 0.4771 - val_categorical_accuracy: 0.8436\n",
            "Epoch 96/100\n",
            "704/704 [==============================] - 12s 17ms/step - loss: 0.4306 - categorical_accuracy: 0.8604 - val_loss: 0.4152 - val_categorical_accuracy: 0.8634\n",
            "Epoch 97/100\n",
            "704/704 [==============================] - 12s 17ms/step - loss: 0.4278 - categorical_accuracy: 0.8620 - val_loss: 0.4288 - val_categorical_accuracy: 0.8574\n",
            "Epoch 98/100\n",
            "704/704 [==============================] - 12s 17ms/step - loss: 0.4298 - categorical_accuracy: 0.8626 - val_loss: 0.4277 - val_categorical_accuracy: 0.8582\n",
            "Epoch 99/100\n",
            "704/704 [==============================] - 12s 16ms/step - loss: 0.4308 - categorical_accuracy: 0.8621 - val_loss: 0.4596 - val_categorical_accuracy: 0.8548\n",
            "Epoch 100/100\n",
            "704/704 [==============================] - 12s 17ms/step - loss: 0.4295 - categorical_accuracy: 0.8613 - val_loss: 0.4173 - val_categorical_accuracy: 0.8674\n"
          ],
          "name": "stdout"
        }
      ]
    },
    {
      "cell_type": "markdown",
      "metadata": {
        "id": "KveJ67OSLffj"
      },
      "source": [
        "驗證在測試集上："
      ]
    },
    {
      "cell_type": "code",
      "metadata": {
        "colab": {
          "base_uri": "https://localhost:8080/"
        },
        "id": "x-87yzVWLffj",
        "outputId": "645ed479-d81c-49b9-f089-6bd8435cecfe"
      },
      "source": [
        "model_4 = keras.models.load_model('lab5-logs/models/run-4-best-model.h5')\n",
        "loss, acc = model_4.evaluate(test_data)\n",
        "print('\\nModel-4 Accuracy: {}%'.format(acc))"
      ],
      "execution_count": 29,
      "outputs": [
        {
          "output_type": "stream",
          "text": [
            "157/157 [==============================] - 1s 6ms/step - loss: 0.4112 - categorical_accuracy: 0.8701\n",
            "\n",
            "Model-4 Accuracy: 0.8701000213623047%\n"
          ],
          "name": "stdout"
        }
      ]
    },
    {
      "cell_type": "markdown",
      "metadata": {
        "id": "czkYya2CLffk"
      },
      "source": [
        "### 比較四種網路的訓練結果"
      ]
    },
    {
      "cell_type": "code",
      "metadata": {
        "colab": {
          "base_uri": "https://localhost:8080/"
        },
        "id": "K9nrKk9oLffk",
        "outputId": "b9a8d5b9-e96d-4065-946c-3cfb98897c78"
      },
      "source": [
        "model_1 = keras.models.load_model('lab5-logs/models/run-1-best-model.h5')\n",
        "model_2 = keras.models.load_model('lab5-logs/models/run-2-best-model.h5')\n",
        "model_3 = keras.models.load_model('lab5-logs/models/run-3-best-model.h5')\n",
        "model_4 = keras.models.load_model('lab5-logs/models/run-4-best-model.h5')\n",
        "loss_1, acc_1 = model_1.evaluate(test_data)\n",
        "loss_2, acc_2 = model_2.evaluate(test_data)\n",
        "loss_3, acc_3 = model_3.evaluate(test_data)\n",
        "loss_4, acc_4 = model_4.evaluate(test_data)"
      ],
      "execution_count": 30,
      "outputs": [
        {
          "output_type": "stream",
          "text": [
            "157/157 [==============================] - 1s 5ms/step - loss: 0.7325 - categorical_accuracy: 0.7516\n",
            "157/157 [==============================] - 1s 4ms/step - loss: 0.6523 - categorical_accuracy: 0.7866\n",
            "157/157 [==============================] - 1s 4ms/step - loss: 0.6216 - categorical_accuracy: 0.8054\n",
            "157/157 [==============================] - 1s 5ms/step - loss: 0.4112 - categorical_accuracy: 0.8701\n"
          ],
          "name": "stdout"
        }
      ]
    },
    {
      "cell_type": "code",
      "metadata": {
        "colab": {
          "base_uri": "https://localhost:8080/",
          "height": 173
        },
        "id": "8-MuAeaNLffk",
        "outputId": "3a82200d-e5b1-4594-9cbb-0ed01e81aa29"
      },
      "source": [
        "loss = [loss_1, loss_2, loss_3, loss_4]  \n",
        "acc = [acc_1, acc_2, acc_3, acc_4]\n",
        "\n",
        "dict = {\"Loss\": loss,  \n",
        "        \"Accuracy\": acc}\n",
        "\n",
        "df = pd.DataFrame(dict)\n",
        "df"
      ],
      "execution_count": 31,
      "outputs": [
        {
          "output_type": "execute_result",
          "data": {
            "text/html": [
              "<div>\n",
              "<style scoped>\n",
              "    .dataframe tbody tr th:only-of-type {\n",
              "        vertical-align: middle;\n",
              "    }\n",
              "\n",
              "    .dataframe tbody tr th {\n",
              "        vertical-align: top;\n",
              "    }\n",
              "\n",
              "    .dataframe thead th {\n",
              "        text-align: right;\n",
              "    }\n",
              "</style>\n",
              "<table border=\"1\" class=\"dataframe\">\n",
              "  <thead>\n",
              "    <tr style=\"text-align: right;\">\n",
              "      <th></th>\n",
              "      <th>Loss</th>\n",
              "      <th>Accuracy</th>\n",
              "    </tr>\n",
              "  </thead>\n",
              "  <tbody>\n",
              "    <tr>\n",
              "      <th>0</th>\n",
              "      <td>0.732505</td>\n",
              "      <td>0.7516</td>\n",
              "    </tr>\n",
              "    <tr>\n",
              "      <th>1</th>\n",
              "      <td>0.652258</td>\n",
              "      <td>0.7866</td>\n",
              "    </tr>\n",
              "    <tr>\n",
              "      <th>2</th>\n",
              "      <td>0.621569</td>\n",
              "      <td>0.8054</td>\n",
              "    </tr>\n",
              "    <tr>\n",
              "      <th>3</th>\n",
              "      <td>0.411151</td>\n",
              "      <td>0.8701</td>\n",
              "    </tr>\n",
              "  </tbody>\n",
              "</table>\n",
              "</div>"
            ],
            "text/plain": [
              "       Loss  Accuracy\n",
              "0  0.732505    0.7516\n",
              "1  0.652258    0.7866\n",
              "2  0.621569    0.8054\n",
              "3  0.411151    0.8701"
            ]
          },
          "metadata": {
            "tags": []
          },
          "execution_count": 31
        }
      ]
    }
  ]
}