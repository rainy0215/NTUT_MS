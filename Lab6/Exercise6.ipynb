{
  "nbformat": 4,
  "nbformat_minor": 0,
  "metadata": {
    "kernelspec": {
      "name": "python3",
      "display_name": "Python 3"
    },
    "pycharm": {
      "stem_cell": {
        "cell_type": "raw",
        "metadata": {
          "collapsed": false
        },
        "source": []
      }
    },
    "colab": {
      "name": "Exercise6.ipynb",
      "provenance": []
    },
    "language_info": {
      "name": "python"
    },
    "accelerator": "GPU"
  },
  "cells": [
    {
      "cell_type": "markdown",
      "metadata": {
        "id": "7e5YkoQLZkSa"
      },
      "source": [
        "# Exercise6: TensorFlow進階技巧"
      ]
    },
    {
      "cell_type": "markdown",
      "metadata": {
        "id": "oSaqojSYZkSb"
      },
      "source": [
        "<table class=\"tfo-notebook-buttons\" align=\"left\">\n",
        "  <td>\n",
        "    <a target=\"_blank\" href=\"https://colab.research.google.com/github/taipeitechmmslab/MMSLAB-TF2/blob/master/Exercise/Exercise6.ipynb\"><img src=\"https://www.tensorflow.org/images/colab_logo_32px.png\" />Run in Google Colab</a>\n",
        "  </td>\n",
        "  <td>\n",
        "    <a target=\"_blank\" href=\"https://github.com/taipeitechmmslab/MMSLAB-TF2/blob/master/Exercise/Exercise6.ipynb\"><img src=\"https://www.tensorflow.org/images/GitHub-Mark-32px.png\" />View source on GitHub</a>\n",
        "  </td>\n",
        "</table>"
      ]
    },
    {
      "cell_type": "code",
      "metadata": {
        "id": "_rm_vK0wZkSc"
      },
      "source": [
        "import tensorflow as tf"
      ],
      "execution_count": 1,
      "outputs": []
    },
    {
      "cell_type": "markdown",
      "metadata": {
        "id": "rHtTPu37ZkSc"
      },
      "source": [
        "## Custom Layers\n",
        "透過繼承`tf.keras.layers.Layer`類別，來輕鬆創建字定義的網路層。\n",
        "\n",
        "你可以到https://www.tensorflow.org/api_docs/python/tf/keras/layers 官方API察看更多的網路層。"
      ]
    },
    {
      "cell_type": "markdown",
      "metadata": {
        "id": "XjLJGJiSZkSd"
      },
      "source": [
        "Example: 簡單的客自化Convolutional layers。"
      ]
    },
    {
      "cell_type": "code",
      "metadata": {
        "id": "nRgYNw1HZkSd"
      },
      "source": [
        "class CustomConv2D(tf.keras.layers.Layer):\n",
        "    def __init__(self, filters, kernel_size, strides=(1, 1), padding=\"VALID\", **kwargs):\n",
        "        super(CustomConv2D, self).__init__(**kwargs)\n",
        "        self.filters = filters\n",
        "        self.kernel_size = kernel_size\n",
        "        self.strides = (1, *strides, 1)\n",
        "        self.padding = padding\n",
        "\n",
        "    def build(self, input_shape):\n",
        "        kernel_h, kernel_w = self.kernel_size\n",
        "        input_dim = input_shape[-1]\n",
        "        # 創建卷積的權重值(weights)\n",
        "        self.w = self.add_weight(name='kernel', \n",
        "                                 shape=(kernel_h, kernel_w, input_dim, self.filters),\n",
        "                                 initializer='glorot_uniform',  # 設定初始化方法\n",
        "                                 trainable=True)  # 設定這個權重是否能夠訓練(更動)\n",
        "        # 創建卷積的偏差值(bias)\n",
        "        self.b = self.add_weight(name='bias', \n",
        "                                 shape=(self.filters,),\n",
        "                                 initializer='zeros',  # 設定初始化方法\n",
        "                                 trainable=True)  # 設定這個權重是否能夠訓練(更動)\n",
        "\n",
        "    def call(self, inputs):\n",
        "        x = tf.nn.conv2d(inputs, self.w, self.strides, padding=self.padding) # 卷積運算\n",
        "        x = tf.nn.bias_add(x, self.b)  # 加上偏差值\n",
        "        x = tf.nn.relu(x)  # 激活函數\n",
        "        return x"
      ],
      "execution_count": 2,
      "outputs": []
    },
    {
      "cell_type": "markdown",
      "metadata": {
        "id": "F5cfG1QSZkSe"
      },
      "source": [
        "## Custom Dense Layers\n",
        "透過繼承`tf.keras.layers.Layer`類別，來輕鬆創建字定義的網路層。\n",
        "\n",
        "你可以到https://www.tensorflow.org/api_docs/python/tf/keras/layers 官方API察看更多的網路層。"
      ]
    },
    {
      "cell_type": "code",
      "metadata": {
        "id": "Pl5VgukbZkSe"
      },
      "source": [
        "class CustomDense(tf.keras.layers.Layer):\n",
        "    def __init__(self, unit, activation=None, use_bias=True, **kwargs):\n",
        "        super(CustomDense, self).__init__(**kwargs)\n",
        "        self.unit = unit\n",
        "        self.activation = tf.keras.activations.get(activation)\n",
        "        self.use_bias = use_bias\n",
        "    \n",
        "    def build(self, input_shape):\n",
        "        input_dim = input_shape[-1]\n",
        "        #========================= Write your code here ========================= #\n",
        "\n",
        "        self.b = self.add_weight(name='bias', \n",
        "                                 shape=(self.filters,),\n",
        "                                 initializer='zeros',  # 設定初始化方法\n",
        "                                 trainable=True)  # 設定這個權重是否能夠訓練(更動)\n",
        "        #if self.use_bias:\n",
        "\n",
        "        #======================================================================== #\n",
        "\n",
        "    def call(self, inputs):\n",
        "        outputs = tf.matmul(inputs, self.w) + self.b\n",
        "        if self.activation is not None:\n",
        "            return self.activation(outputs)\n",
        "        return outputs"
      ],
      "execution_count": 5,
      "outputs": []
    },
    {
      "cell_type": "markdown",
      "metadata": {
        "id": "sxakYsXUZkSf"
      },
      "source": [
        "## Custom Loss\n",
        "\n",
        "在設計進階的研究方法或更深入解決問題時，TensorFlow官方文件所提供的損失函數，通常不夠使用，這時候你就必須自己定義損失函數，實作自己設計的損失函數。"
      ]
    },
    {
      "cell_type": "markdown",
      "metadata": {
        "id": "IyjhTfdRZkSg"
      },
      "source": [
        "Example: 簡單的客自化Crossentropy Loss。"
      ]
    },
    {
      "cell_type": "code",
      "metadata": {
        "scrolled": true,
        "id": "T0um9VtWZkSg"
      },
      "source": [
        "def custom_categorical_crossentropy(y_true, y_pred):\n",
        "    # x = tf.reduce_mean(-tf.reduce_sum(y_true * tf.log(y_pred), reduction_indices=[1]))\n",
        "    x = tf.nn.softmax_cross_entropy_with_logits(labels=y_true, logits=y_pred)\n",
        "    return x"
      ],
      "execution_count": 6,
      "outputs": []
    },
    {
      "cell_type": "markdown",
      "metadata": {
        "id": "Yvuk0qUUZkSg"
      },
      "source": [
        "## Custom Metrics\n",
        "\n",
        "如果你需要的指標函數官方API並沒有提供，你可以通過繼承`tf.keras.metrics.Metric`類別，來輕鬆創建自定義的指標函數。"
      ]
    },
    {
      "cell_type": "markdown",
      "metadata": {
        "id": "6QS-S0izZkSh"
      },
      "source": [
        "Example: 計算多少個樣本是正確分類的。"
      ]
    },
    {
      "cell_type": "code",
      "metadata": {
        "id": "k4xTNfjAZkSh"
      },
      "source": [
        "class CustomCategoricalAccuracy(tf.keras.metrics.Metric):\n",
        "    def __init__(self, name='custom_catrgorical_accuracy', **kwargs):\n",
        "        super(CustomCategoricalAccuracy, self).__init__(name=name, **kwargs)\n",
        "        # 記錄正確預測的數量\n",
        "        self.correct = self.add_weight('correct_numbers', initializer='zeros')\n",
        "        # 記錄全部資料的量數\n",
        "        self.total = self.add_weight('total_numbers', initializer='zeros')\n",
        "\n",
        "    def update_state(self, y_true, y_pred, sample_weight=None):\n",
        "        # 輸入答案為One-hot編碼，所以取最大的數值為答案\n",
        "        y_true = tf.argmax(y_true, axis=-1)\n",
        "        # 取預測輸出最大的數值為預測結果\n",
        "        y_pred = tf.argmax(y_pred, axis=-1)\n",
        "        # 比較預測結果是否正確，正確會返回True(正確)，錯誤會返回False(錯誤)\n",
        "        values = tf.equal(y_true, y_pred)\n",
        "        # 轉為浮點數True(正確)=1.0，False(錯誤)=0.0\n",
        "        values = tf.cast(values, tf.float32)\n",
        "        # 將values所有數值相加就會等於正確預測的總數\n",
        "        values_sum = tf.reduce_sum(values)\n",
        "        # 計算這個Batch的資料數量\n",
        "        num_values = tf.cast(tf.size(values), tf.float32)\n",
        "        self.correct.assign_add(values_sum)  # 更新正確預測的總數\n",
        "        self.total.assign_add(num_values)  # 更新資料量的總數\n",
        "\n",
        "    def result(self):\n",
        "        # 計算準確率\n",
        "        return tf.math.divide_no_nan(self.correct, self.total)\n",
        "\n",
        "    def reset_states(self):\n",
        "        # 每一次Epoch結束後會重新初始化變數\n",
        "        self.correct.assign(0.)\n",
        "        self.total.assign(0.)"
      ],
      "execution_count": 7,
      "outputs": []
    },
    {
      "cell_type": "markdown",
      "metadata": {
        "id": "D8I6fglmZkSi"
      },
      "source": [
        "## Custom Callbacks\n",
        "\n",
        "如果你需要的監控或執行的操作官方的Callbacks函數沒有提供，你可以通過繼承`tf.keras.callbacks.Callback`類別，來輕鬆創建字定義的Callbacks函數。"
      ]
    },
    {
      "cell_type": "markdown",
      "metadata": {
        "id": "QVWUusxcZkSj"
      },
      "source": [
        "Example: 紀錄每一個batch的loss值。"
      ]
    },
    {
      "cell_type": "code",
      "metadata": {
        "id": "ejOQWm1pZkSj"
      },
      "source": [
        "class SaveModel(tf.keras.callbacks.Callback):\n",
        "    def __init__(self, weights_file, monitor='loss', mode='min', save_weights_only=False):\n",
        "        super(SaveModel, self).__init__()\n",
        "        self.weights_file = weights_file\n",
        "        self.monitor = monitor\n",
        "        self.mode = mode\n",
        "        self.save_weights_only = save_weights_only\n",
        "        if mode == 'min':\n",
        "            self.best = np.Inf\n",
        "        else:\n",
        "            self.best = -np.Inf\n",
        "        \n",
        "    def save_model(self):\n",
        "        if self.save_weights_only:\n",
        "            self.model.save_weights(self.weights_file)\n",
        "        else:\n",
        "            self.model.save(self.weights_file)\n",
        "\n",
        "    def on_epoch_end(self, epoch, logs=None):\n",
        "        monitor_value = logs.get(self.monitor)\n",
        "        if self.mode == 'min' and monitor_value < self.best:\n",
        "            self.save_model()\n",
        "            self.best = monitor_value\n",
        "        elif self.mode == 'max' and monitor_value > self.best:\n",
        "            self.save_model()\n",
        "            self.best = monitor_value"
      ],
      "execution_count": 8,
      "outputs": []
    },
    {
      "cell_type": "markdown",
      "metadata": {
        "id": "shUYLDlDZkSk"
      },
      "source": [
        "# 實驗：比較Keras高階API和客製化API兩種網路訓練的結果"
      ]
    },
    {
      "cell_type": "markdown",
      "metadata": {
        "id": "BP_JpbbmZkSk"
      },
      "source": [
        "### Import 必要套件"
      ]
    },
    {
      "cell_type": "code",
      "metadata": {
        "colab": {
          "base_uri": "https://localhost:8080/",
          "height": 338
        },
        "id": "jtr3NMO9ZkSk",
        "outputId": "49a2e69a-93e7-48fc-cf0d-59a221a8f53d"
      },
      "source": [
        "import os\n",
        "import numpy as np\n",
        "import pandas as pd\n",
        "import tensorflow as tf\n",
        "import tensorflow_datasets as tfds\n",
        "import matplotlib.pyplot as plt\n",
        "from tensorflow import keras\n",
        "from tensorflow.keras import layers\n",
        "from tensorflow.keras import initializers\n",
        "from preprocessing import parse_aug_fn, parse_fn"
      ],
      "execution_count": 9,
      "outputs": [
        {
          "output_type": "error",
          "ename": "ModuleNotFoundError",
          "evalue": "ignored",
          "traceback": [
            "\u001b[0;31m---------------------------------------------------------------------------\u001b[0m",
            "\u001b[0;31mModuleNotFoundError\u001b[0m                       Traceback (most recent call last)",
            "\u001b[0;32m<ipython-input-9-85af8302875a>\u001b[0m in \u001b[0;36m<module>\u001b[0;34m()\u001b[0m\n\u001b[1;32m      8\u001b[0m \u001b[0;32mfrom\u001b[0m \u001b[0mtensorflow\u001b[0m\u001b[0;34m.\u001b[0m\u001b[0mkeras\u001b[0m \u001b[0;32mimport\u001b[0m \u001b[0mlayers\u001b[0m\u001b[0;34m\u001b[0m\u001b[0;34m\u001b[0m\u001b[0m\n\u001b[1;32m      9\u001b[0m \u001b[0;32mfrom\u001b[0m \u001b[0mtensorflow\u001b[0m\u001b[0;34m.\u001b[0m\u001b[0mkeras\u001b[0m \u001b[0;32mimport\u001b[0m \u001b[0minitializers\u001b[0m\u001b[0;34m\u001b[0m\u001b[0;34m\u001b[0m\u001b[0m\n\u001b[0;32m---> 10\u001b[0;31m \u001b[0;32mfrom\u001b[0m \u001b[0mpreprocessing\u001b[0m \u001b[0;32mimport\u001b[0m \u001b[0mparse_aug_fn\u001b[0m\u001b[0;34m,\u001b[0m \u001b[0mparse_fn\u001b[0m\u001b[0;34m\u001b[0m\u001b[0;34m\u001b[0m\u001b[0m\n\u001b[0m",
            "\u001b[0;31mModuleNotFoundError\u001b[0m: No module named 'preprocessing'",
            "",
            "\u001b[0;31m---------------------------------------------------------------------------\u001b[0;32m\nNOTE: If your import is failing due to a missing package, you can\nmanually install dependencies using either !pip or !apt.\n\nTo view examples of installing some common dependencies, click the\n\"Open Examples\" button below.\n\u001b[0;31m---------------------------------------------------------------------------\u001b[0m\n"
          ]
        }
      ]
    },
    {
      "cell_type": "markdown",
      "metadata": {
        "id": "IWH6VhycZkSk"
      },
      "source": [
        "### Cifar 10\n",
        "載入Cifar10數據集"
      ]
    },
    {
      "cell_type": "code",
      "metadata": {
        "id": "RMf3w3XrZkSl"
      },
      "source": [
        "# 將train Data重新分成9:1等分，分別分給train data, valid data\n",
        "train_split, valid_split = ['train[:90%]', 'train[90%:]']\n",
        "# 取得訓練數據，並順便讀取data的資訊\n",
        "train_data, info = tfds.load(\"cifar10\", split=train_split, with_info=True)\n",
        "# 取得驗證數據\n",
        "valid_data = tfds.load(\"cifar10\", split=valid_split)\n",
        "# 取得測試數據\n",
        "test_data = tfds.load(\"cifar10\", split=tfds.Split.TEST)"
      ],
      "execution_count": null,
      "outputs": []
    },
    {
      "cell_type": "markdown",
      "metadata": {
        "id": "qBqTeqgZZkSl"
      },
      "source": [
        "### Dataset 設定"
      ]
    },
    {
      "cell_type": "code",
      "metadata": {
        "id": "zgxOiJx7ZkSl"
      },
      "source": [
        "AUTOTUNE = tf.data.experimental.AUTOTUNE  # 自動調整模式\n",
        "batch_size = 64  # 批次大小\n",
        "train_num = int(info.splits['train'].num_examples / 10) * 9  # 訓練資料數量\n",
        "\n",
        "train_data = train_data.shuffle(train_num)  # 打散資料集\n",
        "# 載入預處理「 parse_aug_fn」function，cpu數量為自動調整模式\n",
        "train_data = train_data.map(map_func=parse_aug_fn, num_parallel_calls=AUTOTUNE)\n",
        "# 設定批次大小並將prefetch模式開啟(暫存空間為自動調整模式)\n",
        "train_data = train_data.batch(batch_size).prefetch(buffer_size=AUTOTUNE)\n",
        "\n",
        "# 載入預處理「 parse_fn」function，cpu數量為自動調整模式\n",
        "valid_data = valid_data.map(map_func=parse_fn, num_parallel_calls=AUTOTUNE)\n",
        "# 設定批次大小並將prefetch模式開啟(暫存空間為自動調整模式)\n",
        "valid_data = valid_data.batch(batch_size).prefetch(buffer_size=AUTOTUNE)\n",
        "\n",
        "# 載入預處理「 parse_fn」function，cpu數量為自動調整模式\n",
        "test_data = test_data.map(map_func=parse_fn, num_parallel_calls=AUTOTUNE)\n",
        "# 設定批次大小並將prefetch模式開啟(暫存空間為自動調整模式)\n",
        "test_data = test_data.batch(batch_size).prefetch(buffer_size=AUTOTUNE)"
      ],
      "execution_count": null,
      "outputs": []
    },
    {
      "cell_type": "markdown",
      "metadata": {
        "id": "RhZqJGauZkSm"
      },
      "source": [
        "### 2. 使用客自化API訓練網路模型"
      ]
    },
    {
      "cell_type": "markdown",
      "metadata": {
        "id": "PzBPtv29ZkSm"
      },
      "source": [
        "- Custom Layer：將原本的Conv2d改成CustomConv2D。\n",
        "- Custom Loss：將原本的CategoricalCrossentropy改成custom_loss。\n",
        "- Custom Metrics：加入一個新的指標函數CatgoricalTruePositives。\n",
        "- Custom Callbacks：紀錄每一個batch的Loss值變化。"
      ]
    },
    {
      "cell_type": "code",
      "metadata": {
        "id": "xHQoOiImZkSm"
      },
      "source": [
        "inputs = keras.Input(shape=(32, 32, 3))\n",
        "x = CustomConv2D(64, (3, 3))(inputs)\n",
        "x = layers.MaxPool2D()(x)\n",
        "x = CustomConv2D(128, (3, 3))(x)\n",
        "x = CustomConv2D(256, (3, 3))(x)\n",
        "x = CustomConv2D(128, (3, 3))(x)\n",
        "x = CustomConv2D(64, (3, 3))(x)\n",
        "x = layers.Flatten()(x)\n",
        "x = CustomDense(64, activation='relu')(x)\n",
        "outputs = CustomDense(10)(x)\n",
        "# 建立網路模型(將輸入到輸出所有經過的網路層連接起來)\n",
        "model = keras.Model(inputs, outputs, name='model')\n",
        "model.summary()"
      ],
      "execution_count": null,
      "outputs": []
    },
    {
      "cell_type": "code",
      "metadata": {
        "id": "dIUn05PjZkSn"
      },
      "source": [
        "# 儲存訓練記錄檔\n",
        "logs_dirs = 'lab6-logs'\n",
        "model_cbk = keras.callbacks.TensorBoard(log_dir='lab6-logs')\n",
        "\n",
        "# 紀錄每一個batch的Loss值變化\n",
        "model_dirs = logs_dirs + '/models'\n",
        "os.makedirs(model_dirs, exist_ok=True)\n",
        "custom_save_model = SaveModel(model_dirs + '/custom_save.h5', \n",
        "                              monitor='val_custom_catrgorical_accuracy', \n",
        "                              mode='max', \n",
        "                              save_weights_only=True)"
      ],
      "execution_count": null,
      "outputs": []
    },
    {
      "cell_type": "code",
      "metadata": {
        "id": "4LgiJOb-ZkSn"
      },
      "source": [
        "# 設定訓練使用的優化器、損失函數和指標函數\n",
        "model.compile(keras.optimizers.Adam(), \n",
        "           loss=custom_categorical_crossentropy, \n",
        "           metrics=[CustomCategoricalAccuracy()])\n",
        "\n",
        "# 訓練網路模型\n",
        "model.fit(train_data,\n",
        "            epochs=20, \n",
        "            validation_data=valid_data,\n",
        "            callbacks=[model_cbk, custom_save_model])"
      ],
      "execution_count": null,
      "outputs": []
    },
    {
      "cell_type": "markdown",
      "metadata": {
        "id": "KMXMjMn-ZkSn"
      },
      "source": [
        "驗證網路模型："
      ]
    },
    {
      "cell_type": "code",
      "metadata": {
        "id": "kzI4yS9sZkSo"
      },
      "source": [
        "model.load_weights(model_dirs+'/custom_save.h5')\n",
        "loss, acc = model.evaluate(test_data)\n",
        "print(\"Loss: {}, Accuracy: {}\".format(loss, acc))"
      ],
      "execution_count": null,
      "outputs": []
    }
  ]
}