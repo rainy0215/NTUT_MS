{
  "nbformat": 4,
  "nbformat_minor": 0,
  "metadata": {
    "kernelspec": {
      "display_name": "tf2",
      "language": "python",
      "name": "tf2"
    },
    "language_info": {
      "codemirror_mode": {
        "name": "ipython",
        "version": 3
      },
      "file_extension": ".py",
      "mimetype": "text/x-python",
      "name": "python",
      "nbconvert_exporter": "python",
      "pygments_lexer": "ipython3",
      "version": "3.7.7"
    },
    "pycharm": {
      "stem_cell": {
        "cell_type": "raw",
        "metadata": {
          "collapsed": false
        },
        "source": []
      }
    },
    "colab": {
      "name": "Exercise2.ipynb",
      "provenance": []
    }
  },
  "cells": [
    {
      "cell_type": "markdown",
      "metadata": {
        "id": "xcKI7jDFg6OS"
      },
      "source": [
        "# Exercise2：房價預測模型"
      ]
    },
    {
      "cell_type": "markdown",
      "metadata": {
        "id": "w_oMwyTDg6OX"
      },
      "source": [
        "<table class=\"tfo-notebook-buttons\" align=\"left\">\n",
        "  <td>\n",
        "    <a target=\"_blank\" href=\"https://colab.research.google.com/github/taipeitechmmslab/MMSLAB-TF2/blob/master/Exercise/Exercise2.ipynb\"><img src=\"https://www.tensorflow.org/images/colab_logo_32px.png\" />Run in Google Colab</a>\n",
        "  </td>\n",
        "  <td>\n",
        "    <a target=\"_blank\" href=\"https://github.com/taipeitechmmslab/MMSLAB-TF2/blob/master/Exercise/Exercise2.ipynb\"><img src=\"https://www.tensorflow.org/images/GitHub-Mark-32px.png\" />View source on GitHub</a>\n",
        "  </td>\n",
        "</table>"
      ]
    },
    {
      "cell_type": "markdown",
      "metadata": {
        "id": "cS7c7lMtg6OY"
      },
      "source": [
        "### Import必要套件"
      ]
    },
    {
      "cell_type": "code",
      "metadata": {
        "id": "nWOi-f9ug6OZ"
      },
      "source": [
        "import os\n",
        "import numpy as np\n",
        "import pandas as pd\n",
        "import tensorflow as tf\n",
        "import matplotlib.pyplot as plt\n",
        "\n",
        "from tensorflow import keras\n",
        "from tensorflow.keras import layers"
      ],
      "execution_count": 1,
      "outputs": []
    },
    {
      "cell_type": "markdown",
      "metadata": {
        "id": "gLk3wTFTg6Oa"
      },
      "source": [
        "### 數據讀取並分析"
      ]
    },
    {
      "cell_type": "code",
      "metadata": {
        "scrolled": true,
        "colab": {
          "base_uri": "https://localhost:8080/"
        },
        "id": "5GjIEVyHg6Oa",
        "outputId": "ff0f89cb-a595-4503-c5bb-fd28cf211a88"
      },
      "source": [
        "url='https://raw.githubusercontent.com/rainy0215/NTUT_MS/master/Lab2/kc_house_data.csv'\n",
        "data = pd.read_csv(url)\n",
        "# 顯示dataset的形狀，共21613比資料，每一比資料有21種不同資訊。\n",
        "data.shape"
      ],
      "execution_count": 2,
      "outputs": [
        {
          "output_type": "execute_result",
          "data": {
            "text/plain": [
              "(21613, 21)"
            ]
          },
          "metadata": {
            "tags": []
          },
          "execution_count": 2
        }
      ]
    },
    {
      "cell_type": "code",
      "metadata": {
        "colab": {
          "base_uri": "https://localhost:8080/",
          "height": 224
        },
        "id": "QeqTibYpg6Ob",
        "outputId": "6262df17-7f5d-42bb-fdf5-69dc48732fd0"
      },
      "source": [
        "# 將顯示列數設定為25，不然會有部份資料無法顯示\n",
        "pd.options.display.max_columns = 25\n",
        "# head 會顯示前五行的數據\n",
        "data.head()"
      ],
      "execution_count": 3,
      "outputs": [
        {
          "output_type": "execute_result",
          "data": {
            "text/html": [
              "<div>\n",
              "<style scoped>\n",
              "    .dataframe tbody tr th:only-of-type {\n",
              "        vertical-align: middle;\n",
              "    }\n",
              "\n",
              "    .dataframe tbody tr th {\n",
              "        vertical-align: top;\n",
              "    }\n",
              "\n",
              "    .dataframe thead th {\n",
              "        text-align: right;\n",
              "    }\n",
              "</style>\n",
              "<table border=\"1\" class=\"dataframe\">\n",
              "  <thead>\n",
              "    <tr style=\"text-align: right;\">\n",
              "      <th></th>\n",
              "      <th>id</th>\n",
              "      <th>date</th>\n",
              "      <th>price</th>\n",
              "      <th>bedrooms</th>\n",
              "      <th>bathrooms</th>\n",
              "      <th>sqft_living</th>\n",
              "      <th>sqft_lot</th>\n",
              "      <th>floors</th>\n",
              "      <th>waterfront</th>\n",
              "      <th>view</th>\n",
              "      <th>condition</th>\n",
              "      <th>grade</th>\n",
              "      <th>sqft_above</th>\n",
              "      <th>sqft_basement</th>\n",
              "      <th>yr_built</th>\n",
              "      <th>yr_renovated</th>\n",
              "      <th>zipcode</th>\n",
              "      <th>lat</th>\n",
              "      <th>long</th>\n",
              "      <th>sqft_living15</th>\n",
              "      <th>sqft_lot15</th>\n",
              "    </tr>\n",
              "  </thead>\n",
              "  <tbody>\n",
              "    <tr>\n",
              "      <th>0</th>\n",
              "      <td>7129300520</td>\n",
              "      <td>20141013T000000</td>\n",
              "      <td>221900.0</td>\n",
              "      <td>3</td>\n",
              "      <td>1.00</td>\n",
              "      <td>1180</td>\n",
              "      <td>5650</td>\n",
              "      <td>1.0</td>\n",
              "      <td>0</td>\n",
              "      <td>0</td>\n",
              "      <td>3</td>\n",
              "      <td>7</td>\n",
              "      <td>1180</td>\n",
              "      <td>0</td>\n",
              "      <td>1955</td>\n",
              "      <td>0</td>\n",
              "      <td>98178</td>\n",
              "      <td>47.5112</td>\n",
              "      <td>-122.257</td>\n",
              "      <td>1340</td>\n",
              "      <td>5650</td>\n",
              "    </tr>\n",
              "    <tr>\n",
              "      <th>1</th>\n",
              "      <td>6414100192</td>\n",
              "      <td>20141209T000000</td>\n",
              "      <td>538000.0</td>\n",
              "      <td>3</td>\n",
              "      <td>2.25</td>\n",
              "      <td>2570</td>\n",
              "      <td>7242</td>\n",
              "      <td>2.0</td>\n",
              "      <td>0</td>\n",
              "      <td>0</td>\n",
              "      <td>3</td>\n",
              "      <td>7</td>\n",
              "      <td>2170</td>\n",
              "      <td>400</td>\n",
              "      <td>1951</td>\n",
              "      <td>1991</td>\n",
              "      <td>98125</td>\n",
              "      <td>47.7210</td>\n",
              "      <td>-122.319</td>\n",
              "      <td>1690</td>\n",
              "      <td>7639</td>\n",
              "    </tr>\n",
              "    <tr>\n",
              "      <th>2</th>\n",
              "      <td>5631500400</td>\n",
              "      <td>20150225T000000</td>\n",
              "      <td>180000.0</td>\n",
              "      <td>2</td>\n",
              "      <td>1.00</td>\n",
              "      <td>770</td>\n",
              "      <td>10000</td>\n",
              "      <td>1.0</td>\n",
              "      <td>0</td>\n",
              "      <td>0</td>\n",
              "      <td>3</td>\n",
              "      <td>6</td>\n",
              "      <td>770</td>\n",
              "      <td>0</td>\n",
              "      <td>1933</td>\n",
              "      <td>0</td>\n",
              "      <td>98028</td>\n",
              "      <td>47.7379</td>\n",
              "      <td>-122.233</td>\n",
              "      <td>2720</td>\n",
              "      <td>8062</td>\n",
              "    </tr>\n",
              "    <tr>\n",
              "      <th>3</th>\n",
              "      <td>2487200875</td>\n",
              "      <td>20141209T000000</td>\n",
              "      <td>604000.0</td>\n",
              "      <td>4</td>\n",
              "      <td>3.00</td>\n",
              "      <td>1960</td>\n",
              "      <td>5000</td>\n",
              "      <td>1.0</td>\n",
              "      <td>0</td>\n",
              "      <td>0</td>\n",
              "      <td>5</td>\n",
              "      <td>7</td>\n",
              "      <td>1050</td>\n",
              "      <td>910</td>\n",
              "      <td>1965</td>\n",
              "      <td>0</td>\n",
              "      <td>98136</td>\n",
              "      <td>47.5208</td>\n",
              "      <td>-122.393</td>\n",
              "      <td>1360</td>\n",
              "      <td>5000</td>\n",
              "    </tr>\n",
              "    <tr>\n",
              "      <th>4</th>\n",
              "      <td>1954400510</td>\n",
              "      <td>20150218T000000</td>\n",
              "      <td>510000.0</td>\n",
              "      <td>3</td>\n",
              "      <td>2.00</td>\n",
              "      <td>1680</td>\n",
              "      <td>8080</td>\n",
              "      <td>1.0</td>\n",
              "      <td>0</td>\n",
              "      <td>0</td>\n",
              "      <td>3</td>\n",
              "      <td>8</td>\n",
              "      <td>1680</td>\n",
              "      <td>0</td>\n",
              "      <td>1987</td>\n",
              "      <td>0</td>\n",
              "      <td>98074</td>\n",
              "      <td>47.6168</td>\n",
              "      <td>-122.045</td>\n",
              "      <td>1800</td>\n",
              "      <td>7503</td>\n",
              "    </tr>\n",
              "  </tbody>\n",
              "</table>\n",
              "</div>"
            ],
            "text/plain": [
              "           id             date     price  bedrooms  bathrooms  sqft_living  \\\n",
              "0  7129300520  20141013T000000  221900.0         3       1.00         1180   \n",
              "1  6414100192  20141209T000000  538000.0         3       2.25         2570   \n",
              "2  5631500400  20150225T000000  180000.0         2       1.00          770   \n",
              "3  2487200875  20141209T000000  604000.0         4       3.00         1960   \n",
              "4  1954400510  20150218T000000  510000.0         3       2.00         1680   \n",
              "\n",
              "   sqft_lot  floors  waterfront  view  condition  grade  sqft_above  \\\n",
              "0      5650     1.0           0     0          3      7        1180   \n",
              "1      7242     2.0           0     0          3      7        2170   \n",
              "2     10000     1.0           0     0          3      6         770   \n",
              "3      5000     1.0           0     0          5      7        1050   \n",
              "4      8080     1.0           0     0          3      8        1680   \n",
              "\n",
              "   sqft_basement  yr_built  yr_renovated  zipcode      lat     long  \\\n",
              "0              0      1955             0    98178  47.5112 -122.257   \n",
              "1            400      1951          1991    98125  47.7210 -122.319   \n",
              "2              0      1933             0    98028  47.7379 -122.233   \n",
              "3            910      1965             0    98136  47.5208 -122.393   \n",
              "4              0      1987             0    98074  47.6168 -122.045   \n",
              "\n",
              "   sqft_living15  sqft_lot15  \n",
              "0           1340        5650  \n",
              "1           1690        7639  \n",
              "2           2720        8062  \n",
              "3           1360        5000  \n",
              "4           1800        7503  "
            ]
          },
          "metadata": {
            "tags": []
          },
          "execution_count": 3
        }
      ]
    },
    {
      "cell_type": "markdown",
      "metadata": {
        "id": "SvQkRg5gg6Oc"
      },
      "source": [
        "各個數據的簡寫分別代表下面意思：\n",
        "- date：房屋出售日期。\n",
        "- price：房屋價格（目標）。\n",
        "- bedrooms：臥室數量。\n",
        "- bathrooms：浴室數量。\n",
        "- sqft_living：居住的坪數（平方英尺）。\n",
        "- sqft_lot：實際的坪數（平方英尺）。\n",
        "- floors：房屋總共樓層。\n",
        "- waterfront：海景房。\n",
        "- view：房屋是否看過。\n",
        "- condition：整體條件有多好。\n",
        "- grade：房屋的整體等級（根據King County評分系統）。\n",
        "- sqft_above：除了地下室外的坪數（平方英尺）。\n",
        "- sqft_basement：地下室的坪數（平方英尺）。\n",
        "- yr_built：房屋建造時間。\n",
        "- yr_renovated：何時重新裝修過（一些沒重新裝修過或是裝修紀錄沒被記錄到的數值都為0）。\n",
        "- zipcode：郵政編碼。\n",
        "- lat：緯度座標。\n",
        "- long：經度座標。\n",
        "- sqft_living15：2015年紀錄的居住坪數（可能是翻新的原因導致sqft_living15與sqft_living不同）。\n",
        "- sqft_lot15：2015年紀錄的實際坪數（可能是翻新的原因導致sqft_lot15與sqft_lot不同）。"
      ]
    },
    {
      "cell_type": "markdown",
      "metadata": {
        "id": "M6_qFDU5g6Od"
      },
      "source": [
        "### 檢查資料的型態\n",
        "\n",
        "資料型態總共有五種：object(string),booleab, integer, float and categorical."
      ]
    },
    {
      "cell_type": "code",
      "metadata": {
        "colab": {
          "base_uri": "https://localhost:8080/"
        },
        "id": "leDrxuTmg6Oe",
        "outputId": "85081fb0-faea-441d-ee33-2919ec13166f"
      },
      "source": [
        "data.dtypes"
      ],
      "execution_count": 4,
      "outputs": [
        {
          "output_type": "execute_result",
          "data": {
            "text/plain": [
              "id                 int64\n",
              "date              object\n",
              "price            float64\n",
              "bedrooms           int64\n",
              "bathrooms        float64\n",
              "sqft_living        int64\n",
              "sqft_lot           int64\n",
              "floors           float64\n",
              "waterfront         int64\n",
              "view               int64\n",
              "condition          int64\n",
              "grade              int64\n",
              "sqft_above         int64\n",
              "sqft_basement      int64\n",
              "yr_built           int64\n",
              "yr_renovated       int64\n",
              "zipcode            int64\n",
              "lat              float64\n",
              "long             float64\n",
              "sqft_living15      int64\n",
              "sqft_lot15         int64\n",
              "dtype: object"
            ]
          },
          "metadata": {
            "tags": []
          },
          "execution_count": 4
        }
      ]
    },
    {
      "cell_type": "markdown",
      "metadata": {
        "id": "1_sgoIU2g6Oe"
      },
      "source": [
        "### 數據前處理\n",
        "轉換資料型態：\n",
        "因為數據集裡的date數據是字串（string）格式，而模型的輸入只接受數值格式，所以可以透過以下程式碼將其轉為數值，並分成年、月及日三種數據。"
      ]
    },
    {
      "cell_type": "code",
      "metadata": {
        "colab": {
          "base_uri": "https://localhost:8080/",
          "height": 224
        },
        "id": "Aru0QSOtg6Of",
        "outputId": "63fabe33-15f3-405b-9392-91dcbff08ef5"
      },
      "source": [
        "# 將date日期拆為年、月和日並轉成數值\n",
        "data['year'] = pd.to_numeric(data['date'].str.slice(0, 4))\n",
        "data['month'] = pd.to_numeric(data['date'].str.slice(4, 6))\n",
        "data['day'] = pd.to_numeric(data['date'].str.slice(6, 8))\n",
        "\n",
        "# 刪除沒有用的數據，inplace則是將更新後的資料存回原本的地方\n",
        "data.drop(['id'], axis=\"columns\", inplace=True)\n",
        "data.drop(['date'], axis=\"columns\", inplace=True)\n",
        "\n",
        "data.head()"
      ],
      "execution_count": 5,
      "outputs": [
        {
          "output_type": "execute_result",
          "data": {
            "text/html": [
              "<div>\n",
              "<style scoped>\n",
              "    .dataframe tbody tr th:only-of-type {\n",
              "        vertical-align: middle;\n",
              "    }\n",
              "\n",
              "    .dataframe tbody tr th {\n",
              "        vertical-align: top;\n",
              "    }\n",
              "\n",
              "    .dataframe thead th {\n",
              "        text-align: right;\n",
              "    }\n",
              "</style>\n",
              "<table border=\"1\" class=\"dataframe\">\n",
              "  <thead>\n",
              "    <tr style=\"text-align: right;\">\n",
              "      <th></th>\n",
              "      <th>price</th>\n",
              "      <th>bedrooms</th>\n",
              "      <th>bathrooms</th>\n",
              "      <th>sqft_living</th>\n",
              "      <th>sqft_lot</th>\n",
              "      <th>floors</th>\n",
              "      <th>waterfront</th>\n",
              "      <th>view</th>\n",
              "      <th>condition</th>\n",
              "      <th>grade</th>\n",
              "      <th>sqft_above</th>\n",
              "      <th>sqft_basement</th>\n",
              "      <th>yr_built</th>\n",
              "      <th>yr_renovated</th>\n",
              "      <th>zipcode</th>\n",
              "      <th>lat</th>\n",
              "      <th>long</th>\n",
              "      <th>sqft_living15</th>\n",
              "      <th>sqft_lot15</th>\n",
              "      <th>year</th>\n",
              "      <th>month</th>\n",
              "      <th>day</th>\n",
              "    </tr>\n",
              "  </thead>\n",
              "  <tbody>\n",
              "    <tr>\n",
              "      <th>0</th>\n",
              "      <td>221900.0</td>\n",
              "      <td>3</td>\n",
              "      <td>1.00</td>\n",
              "      <td>1180</td>\n",
              "      <td>5650</td>\n",
              "      <td>1.0</td>\n",
              "      <td>0</td>\n",
              "      <td>0</td>\n",
              "      <td>3</td>\n",
              "      <td>7</td>\n",
              "      <td>1180</td>\n",
              "      <td>0</td>\n",
              "      <td>1955</td>\n",
              "      <td>0</td>\n",
              "      <td>98178</td>\n",
              "      <td>47.5112</td>\n",
              "      <td>-122.257</td>\n",
              "      <td>1340</td>\n",
              "      <td>5650</td>\n",
              "      <td>2014</td>\n",
              "      <td>10</td>\n",
              "      <td>13</td>\n",
              "    </tr>\n",
              "    <tr>\n",
              "      <th>1</th>\n",
              "      <td>538000.0</td>\n",
              "      <td>3</td>\n",
              "      <td>2.25</td>\n",
              "      <td>2570</td>\n",
              "      <td>7242</td>\n",
              "      <td>2.0</td>\n",
              "      <td>0</td>\n",
              "      <td>0</td>\n",
              "      <td>3</td>\n",
              "      <td>7</td>\n",
              "      <td>2170</td>\n",
              "      <td>400</td>\n",
              "      <td>1951</td>\n",
              "      <td>1991</td>\n",
              "      <td>98125</td>\n",
              "      <td>47.7210</td>\n",
              "      <td>-122.319</td>\n",
              "      <td>1690</td>\n",
              "      <td>7639</td>\n",
              "      <td>2014</td>\n",
              "      <td>12</td>\n",
              "      <td>9</td>\n",
              "    </tr>\n",
              "    <tr>\n",
              "      <th>2</th>\n",
              "      <td>180000.0</td>\n",
              "      <td>2</td>\n",
              "      <td>1.00</td>\n",
              "      <td>770</td>\n",
              "      <td>10000</td>\n",
              "      <td>1.0</td>\n",
              "      <td>0</td>\n",
              "      <td>0</td>\n",
              "      <td>3</td>\n",
              "      <td>6</td>\n",
              "      <td>770</td>\n",
              "      <td>0</td>\n",
              "      <td>1933</td>\n",
              "      <td>0</td>\n",
              "      <td>98028</td>\n",
              "      <td>47.7379</td>\n",
              "      <td>-122.233</td>\n",
              "      <td>2720</td>\n",
              "      <td>8062</td>\n",
              "      <td>2015</td>\n",
              "      <td>2</td>\n",
              "      <td>25</td>\n",
              "    </tr>\n",
              "    <tr>\n",
              "      <th>3</th>\n",
              "      <td>604000.0</td>\n",
              "      <td>4</td>\n",
              "      <td>3.00</td>\n",
              "      <td>1960</td>\n",
              "      <td>5000</td>\n",
              "      <td>1.0</td>\n",
              "      <td>0</td>\n",
              "      <td>0</td>\n",
              "      <td>5</td>\n",
              "      <td>7</td>\n",
              "      <td>1050</td>\n",
              "      <td>910</td>\n",
              "      <td>1965</td>\n",
              "      <td>0</td>\n",
              "      <td>98136</td>\n",
              "      <td>47.5208</td>\n",
              "      <td>-122.393</td>\n",
              "      <td>1360</td>\n",
              "      <td>5000</td>\n",
              "      <td>2014</td>\n",
              "      <td>12</td>\n",
              "      <td>9</td>\n",
              "    </tr>\n",
              "    <tr>\n",
              "      <th>4</th>\n",
              "      <td>510000.0</td>\n",
              "      <td>3</td>\n",
              "      <td>2.00</td>\n",
              "      <td>1680</td>\n",
              "      <td>8080</td>\n",
              "      <td>1.0</td>\n",
              "      <td>0</td>\n",
              "      <td>0</td>\n",
              "      <td>3</td>\n",
              "      <td>8</td>\n",
              "      <td>1680</td>\n",
              "      <td>0</td>\n",
              "      <td>1987</td>\n",
              "      <td>0</td>\n",
              "      <td>98074</td>\n",
              "      <td>47.6168</td>\n",
              "      <td>-122.045</td>\n",
              "      <td>1800</td>\n",
              "      <td>7503</td>\n",
              "      <td>2015</td>\n",
              "      <td>2</td>\n",
              "      <td>18</td>\n",
              "    </tr>\n",
              "  </tbody>\n",
              "</table>\n",
              "</div>"
            ],
            "text/plain": [
              "      price  bedrooms  bathrooms  sqft_living  sqft_lot  floors  waterfront  \\\n",
              "0  221900.0         3       1.00         1180      5650     1.0           0   \n",
              "1  538000.0         3       2.25         2570      7242     2.0           0   \n",
              "2  180000.0         2       1.00          770     10000     1.0           0   \n",
              "3  604000.0         4       3.00         1960      5000     1.0           0   \n",
              "4  510000.0         3       2.00         1680      8080     1.0           0   \n",
              "\n",
              "   view  condition  grade  sqft_above  sqft_basement  yr_built  yr_renovated  \\\n",
              "0     0          3      7        1180              0      1955             0   \n",
              "1     0          3      7        2170            400      1951          1991   \n",
              "2     0          3      6         770              0      1933             0   \n",
              "3     0          5      7        1050            910      1965             0   \n",
              "4     0          3      8        1680              0      1987             0   \n",
              "\n",
              "   zipcode      lat     long  sqft_living15  sqft_lot15  year  month  day  \n",
              "0    98178  47.5112 -122.257           1340        5650  2014     10   13  \n",
              "1    98125  47.7210 -122.319           1690        7639  2014     12    9  \n",
              "2    98028  47.7379 -122.233           2720        8062  2015      2   25  \n",
              "3    98136  47.5208 -122.393           1360        5000  2014     12    9  \n",
              "4    98074  47.6168 -122.045           1800        7503  2015      2   18  "
            ]
          },
          "metadata": {
            "tags": []
          },
          "execution_count": 5
        }
      ]
    },
    {
      "cell_type": "markdown",
      "metadata": {
        "id": "CA3v7_2jg6Of"
      },
      "source": [
        "分割數據集（Dataset）：將數據集切割成三個部份，訓練數據（Training data）、驗證數據（Validation data）和測試數據（Testing data）。"
      ]
    },
    {
      "cell_type": "code",
      "metadata": {
        "id": "rm-Yr9RBg6Of"
      },
      "source": [
        "data_num = data.shape[0]\n",
        "# 取得一筆與data數量相同的亂數索引，主要目的是用於打散資料\n",
        "indexes = np.random.permutation(data_num)\n",
        "# 並將亂數索引值分為Train、validation和test分為，這裡的劃分比例為6:2:2\n",
        "train_indexes = indexes[:int(data_num *0.6)]\n",
        "val_indexes = indexes[int(data_num *0.6):int(data_num *0.8)]\n",
        "test_indexes = indexes[int(data_num *0.8):]\n",
        "# 透過索引值從data取出訓練資料、驗證資料和測試資料\n",
        "train_data = data.loc[train_indexes]\n",
        "val_data = data.loc[val_indexes]\n",
        "test_data = data.loc[test_indexes]"
      ],
      "execution_count": 6,
      "outputs": []
    },
    {
      "cell_type": "markdown",
      "metadata": {
        "id": "ECfXnZZUg6Og"
      },
      "source": [
        "### Normalization 正規化"
      ]
    },
    {
      "cell_type": "markdown",
      "metadata": {
        "id": "Bk_h8Z8og6Og"
      },
      "source": [
        "使用標準分數(Standard Score, 又稱z-score)將數據正規化，經過z-score正規化後數據的都會聚集在0附近， 標準差為1。 \n",
        "\n",
        "(x - 平均值) / 標準差"
      ]
    },
    {
      "cell_type": "code",
      "metadata": {
        "scrolled": true,
        "id": "wK7asJCLg6Oh"
      },
      "source": [
        "train_validation_data = pd.concat([train_data, val_data])\n",
        "mean = train_validation_data.mean()\n",
        "std = train_validation_data.std()\n",
        "\n",
        "train_data = (train_data - mean) / std\n",
        "val_data = (val_data - mean) / std"
      ],
      "execution_count": 7,
      "outputs": []
    },
    {
      "cell_type": "markdown",
      "metadata": {
        "id": "oJ-blOoug6Oh"
      },
      "source": [
        "### 建立Numpy array格式的訓練數據"
      ]
    },
    {
      "cell_type": "code",
      "metadata": {
        "id": "MGl4T6nwg6Oh"
      },
      "source": [
        "x_train = np.array(train_data.drop('price', axis='columns'))\n",
        "y_train = np.array(train_data['price'])\n",
        "x_val = np.array(val_data.drop('price', axis='columns'))\n",
        "y_val = np.array(val_data['price'])"
      ],
      "execution_count": 8,
      "outputs": []
    },
    {
      "cell_type": "markdown",
      "metadata": {
        "id": "g7W36fZYg6Oh"
      },
      "source": [
        "整理過後的資料共12967筆，且一筆資料有21種資訊(所以網路輸入必須為21)。"
      ]
    },
    {
      "cell_type": "code",
      "metadata": {
        "colab": {
          "base_uri": "https://localhost:8080/"
        },
        "id": "co709FLtg6Oi",
        "outputId": "5b13eddb-31d8-4e91-8e3c-1b0a7a974f80"
      },
      "source": [
        "x_train.shape"
      ],
      "execution_count": 9,
      "outputs": [
        {
          "output_type": "execute_result",
          "data": {
            "text/plain": [
              "(12967, 21)"
            ]
          },
          "metadata": {
            "tags": []
          },
          "execution_count": 9
        }
      ]
    },
    {
      "cell_type": "markdown",
      "metadata": {
        "id": "tMeuIZtCg6Oi"
      },
      "source": [
        "### 建立並訓練網路模型\n",
        "\n",
        "這裡建構三層全連接層的網路架構，並且使用ReLU作為隱藏層的激活函數，而由於需得到線性輸出，故輸出層不使用任何激活函數。\n",
        "\n",
        "提示: https://www.tensorflow.org/api_docs/python/tf/keras/layers?hl=zh-cn"
      ]
    },
    {
      "cell_type": "code",
      "metadata": {
        "colab": {
          "base_uri": "https://localhost:8080/"
        },
        "id": "s3ImcoAvg6Oi",
        "outputId": "4855176f-aec2-478e-e190-df8efab103b8"
      },
      "source": [
        "#========================= Write your code here ========================= #\n",
        "# 建立一個Sequential型態的model\n",
        "model = keras.Sequential(name='model-1')\n",
        "# 第1層全連接層設為128個unit，kernel_regularizer=l1，將輸入形狀設定為(21, )\n",
        "model.add(layers.Dense(128, kernel_regularizer=keras.regularizers.l1(0.001),activation='relu', input_shape=(21,)))\n",
        "# 第3層激活層(activation layer)為LeakyReLU\n",
        "model.add(tf.keras.layers.LeakyReLU())\n",
        "# 第4層Dropout層，捨棄比率設定為20%\n",
        "model.add(layers.Dropout(0.2))\n",
        "# 第5層全連接層設為128個unit，kernel_regularizer=l1\n",
        "model.add(layers.Dense(128, kernel_regularizer=keras.regularizers.l1(0.001),activation='relu'))\n",
        "# 第6層激活層(activation layer)為LeakyReLU\n",
        "model.add(tf.keras.layers.LeakyReLU())\n",
        "# 第7層Dropout層，捨棄比率設定為20%\n",
        "model.add(layers.Dropout(0.2))\n",
        "# 最後一層全連接層設為1個unit\n",
        "model.add(layers.Dense(1))\n",
        "#======================================================================== #\n",
        "\n",
        "# 顯示網路模型架構\n",
        "model.summary()"
      ],
      "execution_count": 21,
      "outputs": [
        {
          "output_type": "stream",
          "text": [
            "Model: \"model-1\"\n",
            "_________________________________________________________________\n",
            "Layer (type)                 Output Shape              Param #   \n",
            "=================================================================\n",
            "dense_15 (Dense)             (None, 128)               2816      \n",
            "_________________________________________________________________\n",
            "leaky_re_lu_1 (LeakyReLU)    (None, 128)               0         \n",
            "_________________________________________________________________\n",
            "dropout_1 (Dropout)          (None, 128)               0         \n",
            "_________________________________________________________________\n",
            "dense_16 (Dense)             (None, 128)               16512     \n",
            "_________________________________________________________________\n",
            "leaky_re_lu_2 (LeakyReLU)    (None, 128)               0         \n",
            "_________________________________________________________________\n",
            "dropout_2 (Dropout)          (None, 128)               0         \n",
            "_________________________________________________________________\n",
            "dense_17 (Dense)             (None, 1)                 129       \n",
            "=================================================================\n",
            "Total params: 19,457\n",
            "Trainable params: 19,457\n",
            "Non-trainable params: 0\n",
            "_________________________________________________________________\n"
          ],
          "name": "stdout"
        }
      ]
    },
    {
      "cell_type": "markdown",
      "metadata": {
        "id": "N3Qhz-1Lg6Oj"
      },
      "source": [
        "設定訓練使用的優化器、損失函數和指標函數："
      ]
    },
    {
      "cell_type": "code",
      "metadata": {
        "id": "EH0Gvpqrg6Oj"
      },
      "source": [
        "model.compile(\n",
        "    # optimizers使用Adam(0.002)\n",
        "    optimizer=keras.optimizers.Adam(0.002),                # Write your code here\n",
        "    # loss使用MAE Loss\n",
        "    loss=  keras.losses.MeanAbsoluteError()                    # Write your code here\n",
        ")"
      ],
      "execution_count": 23,
      "outputs": []
    },
    {
      "cell_type": "markdown",
      "metadata": {
        "id": "1TpW9AfOg6Ol"
      },
      "source": [
        "創建模型儲存目錄："
      ]
    },
    {
      "cell_type": "code",
      "metadata": {
        "id": "l82ejVMRg6Om"
      },
      "source": [
        "model_dir = 'lab2-logs/models/'\n",
        "if not os.path.isdir(model_dir):\n",
        "    os.makedirs(model_dir)"
      ],
      "execution_count": 24,
      "outputs": []
    },
    {
      "cell_type": "markdown",
      "metadata": {
        "id": "GKyxE4Ajg6On"
      },
      "source": [
        "設定回調函數："
      ]
    },
    {
      "cell_type": "code",
      "metadata": {
        "id": "fej7Obzcg6On"
      },
      "source": [
        "# TensorBoard回調函數會幫忙紀錄訓練資訊，並存成TensorBoard的紀錄檔\n",
        "log_dir = os.path.join('lab2-logs', 'model-1')\n",
        "model_cbk = keras.callbacks.TensorBoard(log_dir=log_dir)\n",
        "# ModelCheckpoint回調函數幫忙儲存網路模型，可以設定只儲存最好的模型，「monitor」表示被監測的數據，「mode」min則代表監測數據越小越好。\n",
        "model_mckp = keras.callbacks.ModelCheckpoint(model_dir + '/Best-model-1.h5', \n",
        "                                        monitor='val_mean_absolute_error', \n",
        "                                        save_best_only=True, \n",
        "                                        mode='min')"
      ],
      "execution_count": 25,
      "outputs": []
    },
    {
      "cell_type": "markdown",
      "metadata": {
        "id": "yWo2Xt3Rg6Oo"
      },
      "source": [
        "訓練網路模型："
      ]
    },
    {
      "cell_type": "code",
      "metadata": {
        "scrolled": true,
        "colab": {
          "base_uri": "https://localhost:8080/"
        },
        "id": "X5NBX56Ug6Oo",
        "outputId": "d61d76cc-6625-4b37-aa73-15fc8de68c23"
      },
      "source": [
        "history = model.fit(x_train, y_train,  # 傳入訓練數據\n",
        "               batch_size=64,  # 批次大小設為64\n",
        "               epochs=50,  # 整個dataset訓練50遍\n",
        "               validation_data=(x_val, y_val),  # 驗證數據\n",
        "               callbacks=[model_cbk, model_mckp])  # Tensorboard回調函數紀錄訓練過程，ModelCheckpoint回調函數儲存最好的模型"
      ],
      "execution_count": 26,
      "outputs": [
        {
          "output_type": "stream",
          "text": [
            "Epoch 1/50\n",
            "203/203 [==============================] - 1s 3ms/step - loss: 1.4713 - val_loss: 0.6085\n",
            "WARNING:tensorflow:Can save best model only with val_mean_absolute_error available, skipping.\n",
            "Epoch 2/50\n",
            "203/203 [==============================] - 0s 2ms/step - loss: 0.5332 - val_loss: 0.3788\n",
            "WARNING:tensorflow:Can save best model only with val_mean_absolute_error available, skipping.\n",
            "Epoch 3/50\n",
            "203/203 [==============================] - 0s 2ms/step - loss: 0.3732 - val_loss: 0.3302\n",
            "WARNING:tensorflow:Can save best model only with val_mean_absolute_error available, skipping.\n",
            "Epoch 4/50\n",
            "203/203 [==============================] - 0s 2ms/step - loss: 0.3411 - val_loss: 0.3212\n",
            "WARNING:tensorflow:Can save best model only with val_mean_absolute_error available, skipping.\n",
            "Epoch 5/50\n",
            "203/203 [==============================] - 0s 2ms/step - loss: 0.3195 - val_loss: 0.3048\n",
            "WARNING:tensorflow:Can save best model only with val_mean_absolute_error available, skipping.\n",
            "Epoch 6/50\n",
            "203/203 [==============================] - 0s 2ms/step - loss: 0.3194 - val_loss: 0.2968\n",
            "WARNING:tensorflow:Can save best model only with val_mean_absolute_error available, skipping.\n",
            "Epoch 7/50\n",
            "203/203 [==============================] - 0s 2ms/step - loss: 0.3091 - val_loss: 0.2958\n",
            "WARNING:tensorflow:Can save best model only with val_mean_absolute_error available, skipping.\n",
            "Epoch 8/50\n",
            "203/203 [==============================] - 0s 2ms/step - loss: 0.3088 - val_loss: 0.3059\n",
            "WARNING:tensorflow:Can save best model only with val_mean_absolute_error available, skipping.\n",
            "Epoch 9/50\n",
            "203/203 [==============================] - 0s 2ms/step - loss: 0.3035 - val_loss: 0.2899\n",
            "WARNING:tensorflow:Can save best model only with val_mean_absolute_error available, skipping.\n",
            "Epoch 10/50\n",
            "203/203 [==============================] - 0s 2ms/step - loss: 0.3039 - val_loss: 0.2844\n",
            "WARNING:tensorflow:Can save best model only with val_mean_absolute_error available, skipping.\n",
            "Epoch 11/50\n",
            "203/203 [==============================] - 0s 2ms/step - loss: 0.2991 - val_loss: 0.2951\n",
            "WARNING:tensorflow:Can save best model only with val_mean_absolute_error available, skipping.\n",
            "Epoch 12/50\n",
            "203/203 [==============================] - 0s 2ms/step - loss: 0.2975 - val_loss: 0.2849\n",
            "WARNING:tensorflow:Can save best model only with val_mean_absolute_error available, skipping.\n",
            "Epoch 13/50\n",
            "203/203 [==============================] - 0s 2ms/step - loss: 0.3036 - val_loss: 0.2880\n",
            "WARNING:tensorflow:Can save best model only with val_mean_absolute_error available, skipping.\n",
            "Epoch 14/50\n",
            "203/203 [==============================] - 0s 2ms/step - loss: 0.2945 - val_loss: 0.2844\n",
            "WARNING:tensorflow:Can save best model only with val_mean_absolute_error available, skipping.\n",
            "Epoch 15/50\n",
            "203/203 [==============================] - 0s 2ms/step - loss: 0.2962 - val_loss: 0.2780\n",
            "WARNING:tensorflow:Can save best model only with val_mean_absolute_error available, skipping.\n",
            "Epoch 16/50\n",
            "203/203 [==============================] - 0s 2ms/step - loss: 0.3039 - val_loss: 0.2834\n",
            "WARNING:tensorflow:Can save best model only with val_mean_absolute_error available, skipping.\n",
            "Epoch 17/50\n",
            "203/203 [==============================] - 0s 2ms/step - loss: 0.2901 - val_loss: 0.2788\n",
            "WARNING:tensorflow:Can save best model only with val_mean_absolute_error available, skipping.\n",
            "Epoch 18/50\n",
            "203/203 [==============================] - 0s 2ms/step - loss: 0.2922 - val_loss: 0.2877\n",
            "WARNING:tensorflow:Can save best model only with val_mean_absolute_error available, skipping.\n",
            "Epoch 19/50\n",
            "203/203 [==============================] - 0s 2ms/step - loss: 0.2947 - val_loss: 0.2735\n",
            "WARNING:tensorflow:Can save best model only with val_mean_absolute_error available, skipping.\n",
            "Epoch 20/50\n",
            "203/203 [==============================] - 0s 2ms/step - loss: 0.2937 - val_loss: 0.2811\n",
            "WARNING:tensorflow:Can save best model only with val_mean_absolute_error available, skipping.\n",
            "Epoch 21/50\n",
            "203/203 [==============================] - 0s 2ms/step - loss: 0.2939 - val_loss: 0.2789\n",
            "WARNING:tensorflow:Can save best model only with val_mean_absolute_error available, skipping.\n",
            "Epoch 22/50\n",
            "203/203 [==============================] - 0s 2ms/step - loss: 0.2952 - val_loss: 0.2757\n",
            "WARNING:tensorflow:Can save best model only with val_mean_absolute_error available, skipping.\n",
            "Epoch 23/50\n",
            "203/203 [==============================] - 0s 2ms/step - loss: 0.2829 - val_loss: 0.2880\n",
            "WARNING:tensorflow:Can save best model only with val_mean_absolute_error available, skipping.\n",
            "Epoch 24/50\n",
            "203/203 [==============================] - 0s 2ms/step - loss: 0.2871 - val_loss: 0.2856\n",
            "WARNING:tensorflow:Can save best model only with val_mean_absolute_error available, skipping.\n",
            "Epoch 25/50\n",
            "203/203 [==============================] - 0s 2ms/step - loss: 0.2974 - val_loss: 0.2804\n",
            "WARNING:tensorflow:Can save best model only with val_mean_absolute_error available, skipping.\n",
            "Epoch 26/50\n",
            "203/203 [==============================] - 0s 2ms/step - loss: 0.2972 - val_loss: 0.2811\n",
            "WARNING:tensorflow:Can save best model only with val_mean_absolute_error available, skipping.\n",
            "Epoch 27/50\n",
            "203/203 [==============================] - 0s 2ms/step - loss: 0.2941 - val_loss: 0.2707\n",
            "WARNING:tensorflow:Can save best model only with val_mean_absolute_error available, skipping.\n",
            "Epoch 28/50\n",
            "203/203 [==============================] - 0s 2ms/step - loss: 0.2959 - val_loss: 0.2744\n",
            "WARNING:tensorflow:Can save best model only with val_mean_absolute_error available, skipping.\n",
            "Epoch 29/50\n",
            "203/203 [==============================] - 0s 2ms/step - loss: 0.2946 - val_loss: 0.2753\n",
            "WARNING:tensorflow:Can save best model only with val_mean_absolute_error available, skipping.\n",
            "Epoch 30/50\n",
            "203/203 [==============================] - 0s 2ms/step - loss: 0.2922 - val_loss: 0.2739\n",
            "WARNING:tensorflow:Can save best model only with val_mean_absolute_error available, skipping.\n",
            "Epoch 31/50\n",
            "203/203 [==============================] - 0s 2ms/step - loss: 0.2963 - val_loss: 0.2705\n",
            "WARNING:tensorflow:Can save best model only with val_mean_absolute_error available, skipping.\n",
            "Epoch 32/50\n",
            "203/203 [==============================] - 0s 2ms/step - loss: 0.2879 - val_loss: 0.2708\n",
            "WARNING:tensorflow:Can save best model only with val_mean_absolute_error available, skipping.\n",
            "Epoch 33/50\n",
            "203/203 [==============================] - 0s 2ms/step - loss: 0.2886 - val_loss: 0.2829\n",
            "WARNING:tensorflow:Can save best model only with val_mean_absolute_error available, skipping.\n",
            "Epoch 34/50\n",
            "203/203 [==============================] - 0s 2ms/step - loss: 0.2882 - val_loss: 0.2739\n",
            "WARNING:tensorflow:Can save best model only with val_mean_absolute_error available, skipping.\n",
            "Epoch 35/50\n",
            "203/203 [==============================] - 0s 2ms/step - loss: 0.2941 - val_loss: 0.2694\n",
            "WARNING:tensorflow:Can save best model only with val_mean_absolute_error available, skipping.\n",
            "Epoch 36/50\n",
            "203/203 [==============================] - 0s 2ms/step - loss: 0.2872 - val_loss: 0.2704\n",
            "WARNING:tensorflow:Can save best model only with val_mean_absolute_error available, skipping.\n",
            "Epoch 37/50\n",
            "203/203 [==============================] - 0s 2ms/step - loss: 0.2943 - val_loss: 0.2728\n",
            "WARNING:tensorflow:Can save best model only with val_mean_absolute_error available, skipping.\n",
            "Epoch 38/50\n",
            "203/203 [==============================] - 0s 2ms/step - loss: 0.2911 - val_loss: 0.2689\n",
            "WARNING:tensorflow:Can save best model only with val_mean_absolute_error available, skipping.\n",
            "Epoch 39/50\n",
            "203/203 [==============================] - 0s 2ms/step - loss: 0.2823 - val_loss: 0.2678\n",
            "WARNING:tensorflow:Can save best model only with val_mean_absolute_error available, skipping.\n",
            "Epoch 40/50\n",
            "203/203 [==============================] - 0s 2ms/step - loss: 0.2915 - val_loss: 0.2706\n",
            "WARNING:tensorflow:Can save best model only with val_mean_absolute_error available, skipping.\n",
            "Epoch 41/50\n",
            "203/203 [==============================] - 0s 2ms/step - loss: 0.2905 - val_loss: 0.2774\n",
            "WARNING:tensorflow:Can save best model only with val_mean_absolute_error available, skipping.\n",
            "Epoch 42/50\n",
            "203/203 [==============================] - 0s 2ms/step - loss: 0.2890 - val_loss: 0.2930\n",
            "WARNING:tensorflow:Can save best model only with val_mean_absolute_error available, skipping.\n",
            "Epoch 43/50\n",
            "203/203 [==============================] - 0s 2ms/step - loss: 0.2943 - val_loss: 0.2797\n",
            "WARNING:tensorflow:Can save best model only with val_mean_absolute_error available, skipping.\n",
            "Epoch 44/50\n",
            "203/203 [==============================] - 0s 2ms/step - loss: 0.2865 - val_loss: 0.2680\n",
            "WARNING:tensorflow:Can save best model only with val_mean_absolute_error available, skipping.\n",
            "Epoch 45/50\n",
            "203/203 [==============================] - 0s 2ms/step - loss: 0.2871 - val_loss: 0.2855\n",
            "WARNING:tensorflow:Can save best model only with val_mean_absolute_error available, skipping.\n",
            "Epoch 46/50\n",
            "203/203 [==============================] - 0s 2ms/step - loss: 0.2893 - val_loss: 0.2668\n",
            "WARNING:tensorflow:Can save best model only with val_mean_absolute_error available, skipping.\n",
            "Epoch 47/50\n",
            "203/203 [==============================] - 0s 2ms/step - loss: 0.2875 - val_loss: 0.2639\n",
            "WARNING:tensorflow:Can save best model only with val_mean_absolute_error available, skipping.\n",
            "Epoch 48/50\n",
            "203/203 [==============================] - 0s 2ms/step - loss: 0.2776 - val_loss: 0.2685\n",
            "WARNING:tensorflow:Can save best model only with val_mean_absolute_error available, skipping.\n",
            "Epoch 49/50\n",
            "203/203 [==============================] - 0s 2ms/step - loss: 0.2832 - val_loss: 0.2656\n",
            "WARNING:tensorflow:Can save best model only with val_mean_absolute_error available, skipping.\n",
            "Epoch 50/50\n",
            "203/203 [==============================] - 0s 2ms/step - loss: 0.2839 - val_loss: 0.2714\n",
            "WARNING:tensorflow:Can save best model only with val_mean_absolute_error available, skipping.\n"
          ],
          "name": "stdout"
        }
      ]
    },
    {
      "cell_type": "markdown",
      "metadata": {
        "id": "CIoBM_x_g6Op"
      },
      "source": [
        "### 訓練結果"
      ]
    },
    {
      "cell_type": "code",
      "metadata": {
        "colab": {
          "base_uri": "https://localhost:8080/"
        },
        "id": "ia2G8uZTg6Op",
        "outputId": "88145992-216b-4771-f5b3-4acb5daea118"
      },
      "source": [
        "history.history.keys()  # 查看history儲存的資訊有哪些"
      ],
      "execution_count": 27,
      "outputs": [
        {
          "output_type": "execute_result",
          "data": {
            "text/plain": [
              "dict_keys(['loss', 'val_loss'])"
            ]
          },
          "metadata": {
            "tags": []
          },
          "execution_count": 27
        }
      ]
    },
    {
      "cell_type": "code",
      "metadata": {
        "colab": {
          "base_uri": "https://localhost:8080/",
          "height": 312
        },
        "id": "gXcYSUTQg6Oq",
        "outputId": "7c07e75c-1ec0-44c4-e8e7-e9c9cebaa22b"
      },
      "source": [
        "plt.plot(history.history['loss'], label='train')\n",
        "plt.plot(history.history['val_loss'], label='validation')\n",
        "plt.title('Mean square error')\n",
        "plt.ylabel('loss')\n",
        "plt.xlabel('epochs')\n",
        "plt.legend(loc='upper right')"
      ],
      "execution_count": 28,
      "outputs": [
        {
          "output_type": "execute_result",
          "data": {
            "text/plain": [
              "<matplotlib.legend.Legend at 0x7f76edafdd10>"
            ]
          },
          "metadata": {
            "tags": []
          },
          "execution_count": 28
        },
        {
          "output_type": "display_data",
          "data": {
            "image/png": "[encoded data removed]",
            "text/plain": [
              "<Figure size 432x288 with 1 Axes>"
            ]
          },
          "metadata": {
            "tags": [],
            "needs_background": "light"
          }
        }
      ]
    },
    {
      "cell_type": "markdown",
      "metadata": {
        "id": "6pTw75CIg6Or"
      },
      "source": [
        "測試數據的誤差百分比：用測試數據預測房屋價格並與答案計算誤差百分比。"
      ]
    },
    {
      "cell_type": "code",
      "metadata": {
        "id": "uf3aMj1og6Or"
      },
      "source": [
        "# 載入模型\n",
        "model = keras.models.load_model('lab2-logs/models/Best-model-1.h5')\n",
        "# 先將房屋價格取出\n",
        "y_test = np.array(test_data['price'])\n",
        "# 標準化數據\n",
        "test_data = (test_data - mean) / std\n",
        "# 將輸入數據存成Numpy 格式\n",
        "x_test = np.array(test_data.drop('price', axis='columns'))\n",
        "# 預測測試數據\n",
        "y_pred = model.predict(x_test)\n",
        "# 將預測結果轉換回來(因為訓練時的訓練目標也有經過標準化)\n",
        "y_pred = np.reshape(y_pred * std['price'] + mean['price'], y_test.shape)\n",
        "# 計算平均的誤差百分比\n",
        "percentage_error = np.mean(np.abs(y_test - y_pred)) / np.mean(y_test) * 100\n",
        "# 顯示誤差百分比\n",
        "print(\"Model Percentage Error: {:.2f}%\".format(percentage_error))"
      ],
      "execution_count": null,
      "outputs": []
    }
  ]
}