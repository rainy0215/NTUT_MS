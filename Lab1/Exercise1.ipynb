{
  "nbformat": 4,
  "nbformat_minor": 0,
  "metadata": {
    "kernelspec": {
      "display_name": "tf2.3",
      "language": "python",
      "name": "tf2.3"
    },
    "language_info": {
      "codemirror_mode": {
        "name": "ipython",
        "version": 3
      },
      "file_extension": ".py",
      "mimetype": "text/x-python",
      "name": "python",
      "nbconvert_exporter": "python",
      "pygments_lexer": "ipython3",
      "version": "3.7.7"
    },
    "colab": {
      "name": "Exercise1.ipynb",
      "provenance": [],
      "collapsed_sections": []
    }
  },
  "cells": [
    {
      "cell_type": "markdown",
      "metadata": {
        "id": "Bgh4IKisGs-4"
      },
      "source": [
        "# Exercise1"
      ]
    },
    {
      "cell_type": "markdown",
      "metadata": {
        "id": "fVaUWdsRGs-8"
      },
      "source": [
        "<table class=\"tfo-notebook-buttons\" align=\"left\">\n",
        "  <td>\n",
        "    <a target=\"_blank\" href=\"https://colab.research.google.com/github/taipeitechmmslab/MMSLAB-TF2/blob/master/Exercise/Exercise1.ipynb\"><img src=\"https://www.tensorflow.org/images/colab_logo_32px.png\" />Run in Google Colab</a>\n",
        "  </td>\n",
        "  <td>\n",
        "    <a target=\"_blank\" href=\"https://github.com/taipeitechmmslab/MMSLAB-TF2/blob/master/Exercise/Exercise1.ipynb\"><img src=\"https://www.tensorflow.org/images/GitHub-Mark-32px.png\" />View source on GitHub</a>\n",
        "  </td>\n",
        "</table>"
      ]
    },
    {
      "cell_type": "markdown",
      "metadata": {
        "id": "a0MZY9A-Gs-9"
      },
      "source": [
        "### 練習1-1: 測試Numpy和TensorFlow運算效能\n",
        "\n",
        "Numpy的運算在CPU上完成，而TensorFlow則在GPU上完成，測試兩種不同套件執行相同運算所發費的時間。"
      ]
    },
    {
      "cell_type": "markdown",
      "metadata": {
        "id": "sm5KbOcwGs-9"
      },
      "source": [
        "Import 必要套件"
      ]
    },
    {
      "cell_type": "code",
      "metadata": {
        "id": "8bPLzs64Gs--"
      },
      "source": [
        "import time\n",
        "import numpy as np\n",
        "import tensorflow as tf\n",
        "import matplotlib.pyplot as plt\n",
        "from tensorflow import keras\n",
        "from tensorflow.keras import layers\n",
        "from tensorflow.keras.utils import plot_model\n",
        "from IPython.display import Image"
      ],
      "execution_count": 1,
      "outputs": []
    },
    {
      "cell_type": "code",
      "metadata": {
        "colab": {
          "base_uri": "https://localhost:8080/"
        },
        "id": "LfNx99CwGs-_",
        "outputId": "a84dbff0-703e-46ea-9402-4d53a9fc78dc"
      },
      "source": [
        "t_start = time.time()\n",
        "a = np.ones((1000, 1000, 100)) * 3\n",
        "t_end = time.time()\n",
        "print(\"It cost {} sec\".format(t_end - t_start))"
      ],
      "execution_count": 8,
      "outputs": [
        {
          "output_type": "stream",
          "text": [
            "It cost 0.18694257736206055 sec\n"
          ],
          "name": "stdout"
        }
      ]
    },
    {
      "cell_type": "code",
      "metadata": {
        "colab": {
          "base_uri": "https://localhost:8080/"
        },
        "id": "JhcL-ewXGs_A",
        "outputId": "0b921b80-a84f-4cb5-9f68-bbefef52be59"
      },
      "source": [
        "t_start = time.time()\n",
        "# ======================== 修改成tensorflow運算 ======================== #\n",
        "a = tf.constant((1000, 1000, 100)) * 3\n",
        "# ===================================================================== #\n",
        "t_end = time.time()\n",
        "print(\"It cost {} sec\".format(t_end - t_start))"
      ],
      "execution_count": 9,
      "outputs": [
        {
          "output_type": "stream",
          "text": [
            "It cost 0.0009496212005615234 sec\n"
          ],
          "name": "stdout"
        }
      ]
    },
    {
      "cell_type": "markdown",
      "metadata": {
        "id": "-rA-1i7tGs_B"
      },
      "source": [
        "### 練習1-2: 創建 Multi Input and Multi Output Model\n",
        "\n",
        "![Multi Input and Multi Output Model](image/1-2.png)"
      ]
    },
    {
      "cell_type": "markdown",
      "metadata": {
        "id": "A6jk_k3XGs_B"
      },
      "source": [
        "Import 必要套件"
      ]
    },
    {
      "cell_type": "code",
      "metadata": {
        "id": "frXQyOeMGs_B"
      },
      "source": [
        "import tensorflow as tf\n",
        "from tensorflow import keras\n",
        "from tensorflow.keras import layers\n",
        "from tensorflow.keras.utils import plot_model\n",
        "from IPython.display import Image"
      ],
      "execution_count": 4,
      "outputs": []
    },
    {
      "cell_type": "code",
      "metadata": {
        "colab": {
          "base_uri": "https://localhost:8080/",
          "height": 661
        },
        "id": "JChS8ZCcGs_C",
        "outputId": "ff722e75-fbb2-4d2f-ceae-167da05cfbf5"
      },
      "source": [
        "# ============================= 創建Model ============================= #\n",
        "image_inputs = keras.Input(shape=(28, 28, 1), name='Image_Input')\n",
        "hidden1 = layers.Conv2D(64, kernel_size=3, activation='relu', name='hidden1')(image_inputs)\n",
        "hidden2 = layers.Conv2D(64, kernel_size=3, strides=2, activation='relu', name='hidden2')(hidden1)\n",
        "hidden3 = layers.Conv2D(64, kernel_size=3, strides=2, activation='relu', name='hidden3')(hidden2)\n",
        "flatten = layers.Flatten()(hidden3)\n",
        "\n",
        "info_inputs = keras.Input(shape=(10, ), name='Info_Input')\n",
        "hidden4 = layers.Dense(64)(info_inputs)\n",
        "\n",
        "concat = layers.Concatenate()([flatten, hidden4])\n",
        "\n",
        "weather_outputs = layers.Dense(1, name='Output1')(concat)\n",
        "temp_outputs = layers.Dense(1, name='Output2')(concat)\n",
        "humidity_outputs = layers.Dense(1, name='Output3')(concat)\n",
        "\n",
        "model = keras.Model(inputs=[image_inputs, info_inputs], \n",
        "                    outputs=[weather_outputs, temp_outputs, humidity_outputs])\n",
        "# ===================================================================== #\n",
        "\n",
        "\n",
        "# 產生網絡拓撲圖\n",
        "plot_model(model, to_file='Functional_API_Multi_Input_Multi_Output_Model.jpg')\n",
        "\n",
        "# 秀出網絡拓撲圖\n",
        "Image('Functional_API_Multi_Input_Multi_Output_Model.jpg')"
      ],
      "execution_count": 16,
      "outputs": [
        {
          "output_type": "execute_result",
          "data": {
            "image/jpeg": "[encoded data removed]",
            "text/plain": [
              "<IPython.core.display.Image object>"
            ]
          },
          "metadata": {
            "tags": []
          },
          "execution_count": 16
        }
      ]
    },
    {
      "cell_type": "markdown",
      "metadata": {
        "id": "DckLQiLiGs_C"
      },
      "source": [
        "### 練習1-3: tf.data讀取資料\n",
        "\n",
        "`dataset`中參數為`[0, 1, 2, 3, ..., 63]`共64個數值，透過對`dataset`設定，每一次取**16**筆資料，並對整個dataset重複提取**3**次，輸出結果如下。\n",
        "\n",
        "**Output:**\n",
        "```\n",
        "tf.Tensor([ 0  1  2  3  4  5  6  7  8  9 10 11 12 13 14 15], shape=(16,), dtype=int32)\n",
        "tf.Tensor([16 17 18 19 20 21 22 23 24 25 26 27 28 29 30 31], shape=(16,), dtype=int32)\n",
        "tf.Tensor([32 33 34 35 36 37 38 39 40 41 42 43 44 45 46 47], shape=(16,), dtype=int32)\n",
        "tf.Tensor([48 49 50 51 52 53 54 55 56 57 58 59 60 61 62 63], shape=(16,), dtype=int32)\n",
        "tf.Tensor([ 0  1  2  3  4  5  6  7  8  9 10 11 12 13 14 15], shape=(16,), dtype=int32)\n",
        "tf.Tensor([16 17 18 19 20 21 22 23 24 25 26 27 28 29 30 31], shape=(16,), dtype=int32)\n",
        "tf.Tensor([32 33 34 35 36 37 38 39 40 41 42 43 44 45 46 47], shape=(16,), dtype=int32)\n",
        "tf.Tensor([48 49 50 51 52 53 54 55 56 57 58 59 60 61 62 63], shape=(16,), dtype=int32)\n",
        "tf.Tensor([ 0  1  2  3  4  5  6  7  8  9 10 11 12 13 14 15], shape=(16,), dtype=int32)\n",
        "tf.Tensor([16 17 18 19 20 21 22 23 24 25 26 27 28 29 30 31], shape=(16,), dtype=int32)\n",
        "tf.Tensor([32 33 34 35 36 37 38 39 40 41 42 43 44 45 46 47], shape=(16,), dtype=int32)\n",
        "tf.Tensor([48 49 50 51 52 53 54 55 56 57 58 59 60 61 62 63], shape=(16,), dtype=int32)\n",
        "```"
      ]
    },
    {
      "cell_type": "code",
      "metadata": {
        "id": "WergPik7Gs_D"
      },
      "source": [
        "import tensorflow as tf"
      ],
      "execution_count": 17,
      "outputs": []
    },
    {
      "cell_type": "code",
      "metadata": {
        "colab": {
          "base_uri": "https://localhost:8080/"
        },
        "id": "ryZjZuLpGs_D",
        "outputId": "7271a067-bb60-4edd-b840-5a1634d5c7eb"
      },
      "source": [
        "dataset = tf.data.Dataset.from_tensor_slices(tf.range(64))\n",
        "\n",
        "# ============================ 設定dataset ============================ #\n",
        "dataset = dataset.batch(16)\n",
        "dataset = dataset.repeat(3)\n",
        "\n",
        "# ===================================================================== #\n",
        "\n",
        "for data in dataset:\n",
        "    print(data)"
      ],
      "execution_count": 32,
      "outputs": [
        {
          "output_type": "stream",
          "text": [
            "tf.Tensor([ 0  1  2  3  4  5  6  7  8  9 10 11 12 13 14 15], shape=(16,), dtype=int32)\n",
            "tf.Tensor([16 17 18 19 20 21 22 23 24 25 26 27 28 29 30 31], shape=(16,), dtype=int32)\n",
            "tf.Tensor([32 33 34 35 36 37 38 39 40 41 42 43 44 45 46 47], shape=(16,), dtype=int32)\n",
            "tf.Tensor([48 49 50 51 52 53 54 55 56 57 58 59 60 61 62 63], shape=(16,), dtype=int32)\n",
            "tf.Tensor([ 0  1  2  3  4  5  6  7  8  9 10 11 12 13 14 15], shape=(16,), dtype=int32)\n",
            "tf.Tensor([16 17 18 19 20 21 22 23 24 25 26 27 28 29 30 31], shape=(16,), dtype=int32)\n",
            "tf.Tensor([32 33 34 35 36 37 38 39 40 41 42 43 44 45 46 47], shape=(16,), dtype=int32)\n",
            "tf.Tensor([48 49 50 51 52 53 54 55 56 57 58 59 60 61 62 63], shape=(16,), dtype=int32)\n",
            "tf.Tensor([ 0  1  2  3  4  5  6  7  8  9 10 11 12 13 14 15], shape=(16,), dtype=int32)\n",
            "tf.Tensor([16 17 18 19 20 21 22 23 24 25 26 27 28 29 30 31], shape=(16,), dtype=int32)\n",
            "tf.Tensor([32 33 34 35 36 37 38 39 40 41 42 43 44 45 46 47], shape=(16,), dtype=int32)\n",
            "tf.Tensor([48 49 50 51 52 53 54 55 56 57 58 59 60 61 62 63], shape=(16,), dtype=int32)\n"
          ],
          "name": "stdout"
        }
      ]
    }
  ]
}