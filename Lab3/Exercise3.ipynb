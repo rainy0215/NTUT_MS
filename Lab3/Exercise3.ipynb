{
  "nbformat": 4,
  "nbformat_minor": 0,
  "metadata": {
    "kernelspec": {
      "name": "python3",
      "display_name": "Python 3"
    },
    "colab": {
      "name": "Exercise3.ipynb",
      "provenance": []
    },
    "language_info": {
      "name": "python"
    },
    "accelerator": "GPU"
  },
  "cells": [
    {
      "cell_type": "markdown",
      "metadata": {
        "id": "r25ScrivwFda"
      },
      "source": [
        "# Exercise3：Pokemon classification"
      ]
    },
    {
      "cell_type": "markdown",
      "metadata": {
        "id": "iR2uNX2JwFdb"
      },
      "source": [
        "<table class=\"tfo-notebook-buttons\" align=\"left\">\n",
        "  <td>\n",
        "    <a target=\"_blank\" href=\"https://colab.research.google.com/github/taipeitechmmslab/MMSLAB-TF2/blob/master/Exercise/Exercise3.ipynb\"><img src=\"https://www.tensorflow.org/images/colab_logo_32px.png\" />Run in Google Colab</a>\n",
        "  </td>\n",
        "  <td>\n",
        "    <a target=\"_blank\" href=\"https://github.com/taipeitechmmslab/MMSLAB-TF2/blob/master/Exercise/Exercise3.ipynb\"><img src=\"https://www.tensorflow.org/images/GitHub-Mark-32px.png\" />View source on GitHub</a>\n",
        "  </td>\n",
        "</table>"
      ]
    },
    {
      "cell_type": "markdown",
      "metadata": {
        "id": "EMtT4hzSwFdc"
      },
      "source": [
        "https://www.kaggle.com/terminus7/pokemon-challenge\n",
        "\n",
        "- Name：寶可夢名子\n",
        "- Type 1：寶可夢的屬性\n",
        "- Type 2：寶可夢的屬性(寶可夢可能擁有兩種屬性)\n",
        "- HP：生命直\n",
        "- Attack：攻擊力\n",
        "- Defense：守備力\n",
        "- Sp. Atk：特殊攻擊力\n",
        "- Sp. Def：特殊防禦力\n",
        "- Speed：速度\n",
        "- Generation：進化階段\n",
        "- Legendary：神獸 (1=神獸, 0=一般)"
      ]
    },
    {
      "cell_type": "markdown",
      "metadata": {
        "id": "Wh8LV-xHwFdc"
      },
      "source": [
        "### Import"
      ]
    },
    {
      "cell_type": "code",
      "metadata": {
        "id": "6XQIg0PswFdd"
      },
      "source": [
        "import os\n",
        "import numpy as np\n",
        "import pandas as pd\n",
        "import tensorflow as tf\n",
        "import matplotlib.pyplot as plt\n",
        "\n",
        "from tensorflow import keras\n",
        "from tensorflow.keras import layers\n",
        "\n",
        "from tensorflow.keras.utils import plot_model\n",
        "from IPython.display import Image"
      ],
      "execution_count": 1,
      "outputs": []
    },
    {
      "cell_type": "markdown",
      "metadata": {
        "id": "G2tkKLmGwFde"
      },
      "source": [
        "### 讀取數據並分析"
      ]
    },
    {
      "cell_type": "markdown",
      "metadata": {
        "id": "KRQ0TFWlwFde"
      },
      "source": [
        "讀取800隻寶可夢數據："
      ]
    },
    {
      "cell_type": "code",
      "metadata": {
        "scrolled": true,
        "colab": {
          "base_uri": "https://localhost:8080/",
          "height": 204
        },
        "id": "G3GyI-IswFde",
        "outputId": "bf75e9cd-2ac3-4436-c56f-1e013df95a63"
      },
      "source": [
        "url='https://raw.githubusercontent.com/rainy0215/NTUT_MS/master/Lab3/pokemon.csv'\n",
        "pokemon_df = pd.read_csv(url)  # 讀取寶可夢數據\n",
        "pokemon_df.head()  # 顯示頭5比資料"
      ],
      "execution_count": 2,
      "outputs": [
        {
          "output_type": "execute_result",
          "data": {
            "text/html": [
              "<div>\n",
              "<style scoped>\n",
              "    .dataframe tbody tr th:only-of-type {\n",
              "        vertical-align: middle;\n",
              "    }\n",
              "\n",
              "    .dataframe tbody tr th {\n",
              "        vertical-align: top;\n",
              "    }\n",
              "\n",
              "    .dataframe thead th {\n",
              "        text-align: right;\n",
              "    }\n",
              "</style>\n",
              "<table border=\"1\" class=\"dataframe\">\n",
              "  <thead>\n",
              "    <tr style=\"text-align: right;\">\n",
              "      <th></th>\n",
              "      <th>#</th>\n",
              "      <th>Name</th>\n",
              "      <th>Type 1</th>\n",
              "      <th>Type 2</th>\n",
              "      <th>HP</th>\n",
              "      <th>Attack</th>\n",
              "      <th>Defense</th>\n",
              "      <th>Sp. Atk</th>\n",
              "      <th>Sp. Def</th>\n",
              "      <th>Speed</th>\n",
              "      <th>Generation</th>\n",
              "      <th>Legendary</th>\n",
              "    </tr>\n",
              "  </thead>\n",
              "  <tbody>\n",
              "    <tr>\n",
              "      <th>0</th>\n",
              "      <td>1</td>\n",
              "      <td>Bulbasaur</td>\n",
              "      <td>Grass</td>\n",
              "      <td>Poison</td>\n",
              "      <td>45</td>\n",
              "      <td>49</td>\n",
              "      <td>49</td>\n",
              "      <td>65</td>\n",
              "      <td>65</td>\n",
              "      <td>45</td>\n",
              "      <td>1</td>\n",
              "      <td>False</td>\n",
              "    </tr>\n",
              "    <tr>\n",
              "      <th>1</th>\n",
              "      <td>2</td>\n",
              "      <td>Ivysaur</td>\n",
              "      <td>Grass</td>\n",
              "      <td>Poison</td>\n",
              "      <td>60</td>\n",
              "      <td>62</td>\n",
              "      <td>63</td>\n",
              "      <td>80</td>\n",
              "      <td>80</td>\n",
              "      <td>60</td>\n",
              "      <td>1</td>\n",
              "      <td>False</td>\n",
              "    </tr>\n",
              "    <tr>\n",
              "      <th>2</th>\n",
              "      <td>3</td>\n",
              "      <td>Venusaur</td>\n",
              "      <td>Grass</td>\n",
              "      <td>Poison</td>\n",
              "      <td>80</td>\n",
              "      <td>82</td>\n",
              "      <td>83</td>\n",
              "      <td>100</td>\n",
              "      <td>100</td>\n",
              "      <td>80</td>\n",
              "      <td>1</td>\n",
              "      <td>False</td>\n",
              "    </tr>\n",
              "    <tr>\n",
              "      <th>3</th>\n",
              "      <td>4</td>\n",
              "      <td>Mega Venusaur</td>\n",
              "      <td>Grass</td>\n",
              "      <td>Poison</td>\n",
              "      <td>80</td>\n",
              "      <td>100</td>\n",
              "      <td>123</td>\n",
              "      <td>122</td>\n",
              "      <td>120</td>\n",
              "      <td>80</td>\n",
              "      <td>1</td>\n",
              "      <td>False</td>\n",
              "    </tr>\n",
              "    <tr>\n",
              "      <th>4</th>\n",
              "      <td>5</td>\n",
              "      <td>Charmander</td>\n",
              "      <td>Fire</td>\n",
              "      <td>NaN</td>\n",
              "      <td>39</td>\n",
              "      <td>52</td>\n",
              "      <td>43</td>\n",
              "      <td>60</td>\n",
              "      <td>50</td>\n",
              "      <td>65</td>\n",
              "      <td>1</td>\n",
              "      <td>False</td>\n",
              "    </tr>\n",
              "  </tbody>\n",
              "</table>\n",
              "</div>"
            ],
            "text/plain": [
              "   #           Name Type 1  Type 2  ...  Sp. Def  Speed  Generation  Legendary\n",
              "0  1      Bulbasaur  Grass  Poison  ...       65     45           1      False\n",
              "1  2        Ivysaur  Grass  Poison  ...       80     60           1      False\n",
              "2  3       Venusaur  Grass  Poison  ...      100     80           1      False\n",
              "3  4  Mega Venusaur  Grass  Poison  ...      120     80           1      False\n",
              "4  5     Charmander   Fire     NaN  ...       50     65           1      False\n",
              "\n",
              "[5 rows x 12 columns]"
            ]
          },
          "metadata": {
            "tags": []
          },
          "execution_count": 2
        }
      ]
    },
    {
      "cell_type": "markdown",
      "metadata": {
        "id": "zI0YaRD2wFdg"
      },
      "source": [
        "將\"#\"數據設定為索引值："
      ]
    },
    {
      "cell_type": "code",
      "metadata": {
        "colab": {
          "base_uri": "https://localhost:8080/",
          "height": 235
        },
        "id": "41cWsuJnwFdg",
        "outputId": "18dd2ff2-8db4-4bad-8acc-593f0bff2b9d"
      },
      "source": [
        "pokemon_df= pokemon_df.set_index(\"#\")  # 將索引設定為'#'列\n",
        "pokemon_df.head()  # 顯示頭5比資料"
      ],
      "execution_count": 3,
      "outputs": [
        {
          "output_type": "execute_result",
          "data": {
            "text/html": [
              "<div>\n",
              "<style scoped>\n",
              "    .dataframe tbody tr th:only-of-type {\n",
              "        vertical-align: middle;\n",
              "    }\n",
              "\n",
              "    .dataframe tbody tr th {\n",
              "        vertical-align: top;\n",
              "    }\n",
              "\n",
              "    .dataframe thead th {\n",
              "        text-align: right;\n",
              "    }\n",
              "</style>\n",
              "<table border=\"1\" class=\"dataframe\">\n",
              "  <thead>\n",
              "    <tr style=\"text-align: right;\">\n",
              "      <th></th>\n",
              "      <th>Name</th>\n",
              "      <th>Type 1</th>\n",
              "      <th>Type 2</th>\n",
              "      <th>HP</th>\n",
              "      <th>Attack</th>\n",
              "      <th>Defense</th>\n",
              "      <th>Sp. Atk</th>\n",
              "      <th>Sp. Def</th>\n",
              "      <th>Speed</th>\n",
              "      <th>Generation</th>\n",
              "      <th>Legendary</th>\n",
              "    </tr>\n",
              "    <tr>\n",
              "      <th>#</th>\n",
              "      <th></th>\n",
              "      <th></th>\n",
              "      <th></th>\n",
              "      <th></th>\n",
              "      <th></th>\n",
              "      <th></th>\n",
              "      <th></th>\n",
              "      <th></th>\n",
              "      <th></th>\n",
              "      <th></th>\n",
              "      <th></th>\n",
              "    </tr>\n",
              "  </thead>\n",
              "  <tbody>\n",
              "    <tr>\n",
              "      <th>1</th>\n",
              "      <td>Bulbasaur</td>\n",
              "      <td>Grass</td>\n",
              "      <td>Poison</td>\n",
              "      <td>45</td>\n",
              "      <td>49</td>\n",
              "      <td>49</td>\n",
              "      <td>65</td>\n",
              "      <td>65</td>\n",
              "      <td>45</td>\n",
              "      <td>1</td>\n",
              "      <td>False</td>\n",
              "    </tr>\n",
              "    <tr>\n",
              "      <th>2</th>\n",
              "      <td>Ivysaur</td>\n",
              "      <td>Grass</td>\n",
              "      <td>Poison</td>\n",
              "      <td>60</td>\n",
              "      <td>62</td>\n",
              "      <td>63</td>\n",
              "      <td>80</td>\n",
              "      <td>80</td>\n",
              "      <td>60</td>\n",
              "      <td>1</td>\n",
              "      <td>False</td>\n",
              "    </tr>\n",
              "    <tr>\n",
              "      <th>3</th>\n",
              "      <td>Venusaur</td>\n",
              "      <td>Grass</td>\n",
              "      <td>Poison</td>\n",
              "      <td>80</td>\n",
              "      <td>82</td>\n",
              "      <td>83</td>\n",
              "      <td>100</td>\n",
              "      <td>100</td>\n",
              "      <td>80</td>\n",
              "      <td>1</td>\n",
              "      <td>False</td>\n",
              "    </tr>\n",
              "    <tr>\n",
              "      <th>4</th>\n",
              "      <td>Mega Venusaur</td>\n",
              "      <td>Grass</td>\n",
              "      <td>Poison</td>\n",
              "      <td>80</td>\n",
              "      <td>100</td>\n",
              "      <td>123</td>\n",
              "      <td>122</td>\n",
              "      <td>120</td>\n",
              "      <td>80</td>\n",
              "      <td>1</td>\n",
              "      <td>False</td>\n",
              "    </tr>\n",
              "    <tr>\n",
              "      <th>5</th>\n",
              "      <td>Charmander</td>\n",
              "      <td>Fire</td>\n",
              "      <td>NaN</td>\n",
              "      <td>39</td>\n",
              "      <td>52</td>\n",
              "      <td>43</td>\n",
              "      <td>60</td>\n",
              "      <td>50</td>\n",
              "      <td>65</td>\n",
              "      <td>1</td>\n",
              "      <td>False</td>\n",
              "    </tr>\n",
              "  </tbody>\n",
              "</table>\n",
              "</div>"
            ],
            "text/plain": [
              "            Name Type 1  Type 2  HP  ...  Sp. Def  Speed  Generation  Legendary\n",
              "#                                    ...                                       \n",
              "1      Bulbasaur  Grass  Poison  45  ...       65     45           1      False\n",
              "2        Ivysaur  Grass  Poison  60  ...       80     60           1      False\n",
              "3       Venusaur  Grass  Poison  80  ...      100     80           1      False\n",
              "4  Mega Venusaur  Grass  Poison  80  ...      120     80           1      False\n",
              "5     Charmander   Fire     NaN  39  ...       50     65           1      False\n",
              "\n",
              "[5 rows x 11 columns]"
            ]
          },
          "metadata": {
            "tags": []
          },
          "execution_count": 3
        }
      ]
    },
    {
      "cell_type": "markdown",
      "metadata": {
        "id": "yCVpC9S6wFdh"
      },
      "source": [
        "讀取寶可夢對戰數據："
      ]
    },
    {
      "cell_type": "code",
      "metadata": {
        "colab": {
          "base_uri": "https://localhost:8080/",
          "height": 204
        },
        "id": "Wd5aF3zUwFdi",
        "outputId": "27eb116e-d597-4702-feea-55389a25607b"
      },
      "source": [
        "url='https://raw.githubusercontent.com/rainy0215/NTUT_MS/master/Lab3/combats.csv'\n",
        "combats_df = pd.read_csv(url)  # 讀取對戰數據\n",
        "combats_df.head()  # 顯示頭5比資料"
      ],
      "execution_count": 4,
      "outputs": [
        {
          "output_type": "execute_result",
          "data": {
            "text/html": [
              "<div>\n",
              "<style scoped>\n",
              "    .dataframe tbody tr th:only-of-type {\n",
              "        vertical-align: middle;\n",
              "    }\n",
              "\n",
              "    .dataframe tbody tr th {\n",
              "        vertical-align: top;\n",
              "    }\n",
              "\n",
              "    .dataframe thead th {\n",
              "        text-align: right;\n",
              "    }\n",
              "</style>\n",
              "<table border=\"1\" class=\"dataframe\">\n",
              "  <thead>\n",
              "    <tr style=\"text-align: right;\">\n",
              "      <th></th>\n",
              "      <th>First_pokemon</th>\n",
              "      <th>Second_pokemon</th>\n",
              "      <th>Winner</th>\n",
              "    </tr>\n",
              "  </thead>\n",
              "  <tbody>\n",
              "    <tr>\n",
              "      <th>0</th>\n",
              "      <td>266</td>\n",
              "      <td>298</td>\n",
              "      <td>298</td>\n",
              "    </tr>\n",
              "    <tr>\n",
              "      <th>1</th>\n",
              "      <td>702</td>\n",
              "      <td>701</td>\n",
              "      <td>701</td>\n",
              "    </tr>\n",
              "    <tr>\n",
              "      <th>2</th>\n",
              "      <td>191</td>\n",
              "      <td>668</td>\n",
              "      <td>668</td>\n",
              "    </tr>\n",
              "    <tr>\n",
              "      <th>3</th>\n",
              "      <td>237</td>\n",
              "      <td>683</td>\n",
              "      <td>683</td>\n",
              "    </tr>\n",
              "    <tr>\n",
              "      <th>4</th>\n",
              "      <td>151</td>\n",
              "      <td>231</td>\n",
              "      <td>151</td>\n",
              "    </tr>\n",
              "  </tbody>\n",
              "</table>\n",
              "</div>"
            ],
            "text/plain": [
              "   First_pokemon  Second_pokemon  Winner\n",
              "0            266             298     298\n",
              "1            702             701     701\n",
              "2            191             668     668\n",
              "3            237             683     683\n",
              "4            151             231     151"
            ]
          },
          "metadata": {
            "tags": []
          },
          "execution_count": 4
        }
      ]
    },
    {
      "cell_type": "markdown",
      "metadata": {
        "id": "9dTwP10OwFdj"
      },
      "source": [
        "### 補齊缺失 資料"
      ]
    },
    {
      "cell_type": "markdown",
      "metadata": {
        "id": "Su3Cn4ccwFdj"
      },
      "source": [
        "檢查寶可夢數據是否有缺失資料："
      ]
    },
    {
      "cell_type": "code",
      "metadata": {
        "colab": {
          "base_uri": "https://localhost:8080/"
        },
        "id": "SKs7APrhwFdj",
        "outputId": "d509dfbe-1155-4b4e-b5c6-329f22e5fd5f"
      },
      "source": [
        "pokemon_df.info()  # 顯示精靈寶可夢的數據資訊"
      ],
      "execution_count": 5,
      "outputs": [
        {
          "output_type": "stream",
          "text": [
            "<class 'pandas.core.frame.DataFrame'>\n",
            "Int64Index: 800 entries, 1 to 800\n",
            "Data columns (total 11 columns):\n",
            " #   Column      Non-Null Count  Dtype \n",
            "---  ------      --------------  ----- \n",
            " 0   Name        799 non-null    object\n",
            " 1   Type 1      800 non-null    object\n",
            " 2   Type 2      414 non-null    object\n",
            " 3   HP          800 non-null    int64 \n",
            " 4   Attack      800 non-null    int64 \n",
            " 5   Defense     800 non-null    int64 \n",
            " 6   Sp. Atk     800 non-null    int64 \n",
            " 7   Sp. Def     800 non-null    int64 \n",
            " 8   Speed       800 non-null    int64 \n",
            " 9   Generation  800 non-null    int64 \n",
            " 10  Legendary   800 non-null    bool  \n",
            "dtypes: bool(1), int64(7), object(3)\n",
            "memory usage: 69.5+ KB\n"
          ],
          "name": "stdout"
        }
      ]
    },
    {
      "cell_type": "markdown",
      "metadata": {
        "id": "8cZhQsLuwFdk"
      },
      "source": [
        "查看Type2每個類別的數量：\n",
        "\n",
        "透過傳入參數dropna=False，可以將缺失數據（NaN）也考慮進去，NaN代表寶可夢並沒有第二種屬性。"
      ]
    },
    {
      "cell_type": "code",
      "metadata": {
        "colab": {
          "base_uri": "https://localhost:8080/"
        },
        "id": "PVUzv3gxwFdk",
        "outputId": "70343d58-975d-4f8e-b3c6-433762000416"
      },
      "source": [
        "pokemon_df[\"Type 2\"].value_counts(dropna =False)"
      ],
      "execution_count": 6,
      "outputs": [
        {
          "output_type": "execute_result",
          "data": {
            "text/plain": [
              "NaN         386\n",
              "Flying       97\n",
              "Ground       35\n",
              "Poison       34\n",
              "Psychic      33\n",
              "Fighting     26\n",
              "Grass        25\n",
              "Fairy        23\n",
              "Steel        22\n",
              "Dark         20\n",
              "Dragon       18\n",
              "Ghost        14\n",
              "Ice          14\n",
              "Rock         14\n",
              "Water        14\n",
              "Fire         12\n",
              "Electric      6\n",
              "Normal        4\n",
              "Bug           3\n",
              "Name: Type 2, dtype: int64"
            ]
          },
          "metadata": {
            "tags": []
          },
          "execution_count": 6
        }
      ]
    },
    {
      "cell_type": "markdown",
      "metadata": {
        "id": "UXRPevyawFdl"
      },
      "source": [
        "填補缺失數據：使用empty將缺失的欄位填上。"
      ]
    },
    {
      "cell_type": "code",
      "metadata": {
        "colab": {
          "base_uri": "https://localhost:8080/"
        },
        "id": "9p48BmdUwFdl",
        "outputId": "153854e9-d782-4818-d308-f3bd26ebe748"
      },
      "source": [
        "pokemon_df[\"Type 2\"].fillna('empty',inplace=True)\n",
        "pokemon_df[\"Type 2\"].value_counts()"
      ],
      "execution_count": 7,
      "outputs": [
        {
          "output_type": "execute_result",
          "data": {
            "text/plain": [
              "empty       386\n",
              "Flying       97\n",
              "Ground       35\n",
              "Poison       34\n",
              "Psychic      33\n",
              "Fighting     26\n",
              "Grass        25\n",
              "Fairy        23\n",
              "Steel        22\n",
              "Dark         20\n",
              "Dragon       18\n",
              "Water        14\n",
              "Ghost        14\n",
              "Ice          14\n",
              "Rock         14\n",
              "Fire         12\n",
              "Electric      6\n",
              "Normal        4\n",
              "Bug           3\n",
              "Name: Type 2, dtype: int64"
            ]
          },
          "metadata": {
            "tags": []
          },
          "execution_count": 7
        }
      ]
    },
    {
      "cell_type": "markdown",
      "metadata": {
        "id": "pwIlWVanwFdm"
      },
      "source": [
        "### 數據前處理\n",
        "檢查資料型態"
      ]
    },
    {
      "cell_type": "code",
      "metadata": {
        "colab": {
          "base_uri": "https://localhost:8080/"
        },
        "id": "y8XFPtonwFdm",
        "outputId": "e550baec-6568-4b52-8919-f1eb4165a3b9"
      },
      "source": [
        "print(combats_df.dtypes)  # 顯示對戰數據的資料型態\n",
        "print('-' * 30)\n",
        "print(pokemon_df.dtypes)  # 顯示寶可夢數據的資料型態"
      ],
      "execution_count": 8,
      "outputs": [
        {
          "output_type": "stream",
          "text": [
            "First_pokemon     int64\n",
            "Second_pokemon    int64\n",
            "Winner            int64\n",
            "dtype: object\n",
            "------------------------------\n",
            "Name          object\n",
            "Type 1        object\n",
            "Type 2        object\n",
            "HP             int64\n",
            "Attack         int64\n",
            "Defense        int64\n",
            "Sp. Atk        int64\n",
            "Sp. Def        int64\n",
            "Speed          int64\n",
            "Generation     int64\n",
            "Legendary       bool\n",
            "dtype: object\n"
          ],
          "name": "stdout"
        }
      ]
    },
    {
      "cell_type": "markdown",
      "metadata": {
        "id": "AMi13SsgwFdm"
      },
      "source": [
        "轉換數據格式"
      ]
    },
    {
      "cell_type": "code",
      "metadata": {
        "colab": {
          "base_uri": "https://localhost:8080/"
        },
        "id": "o1L2K-PAwFdn",
        "outputId": "4141bdd7-b457-42ed-cb72-4ec6dc2b91a1"
      },
      "source": [
        "pokemon_df['Type 1'] = pokemon_df['Type 1'].astype('category')  # 將'Type 1'轉成category型態\n",
        "pokemon_df['Type 2'] = pokemon_df['Type 2'].astype('category')  # 將'Type 2'轉成category型態\n",
        "pokemon_df['Legendary'] = pokemon_df['Legendary'].astype('int')  # 將'Legendary'轉成int型態\n",
        "pokemon_df.dtypes  # 顯示目前寶可用數據集資料型態"
      ],
      "execution_count": 9,
      "outputs": [
        {
          "output_type": "execute_result",
          "data": {
            "text/plain": [
              "Name            object\n",
              "Type 1        category\n",
              "Type 2        category\n",
              "HP               int64\n",
              "Attack           int64\n",
              "Defense          int64\n",
              "Sp. Atk          int64\n",
              "Sp. Def          int64\n",
              "Speed            int64\n",
              "Generation       int64\n",
              "Legendary        int64\n",
              "dtype: object"
            ]
          },
          "metadata": {
            "tags": []
          },
          "execution_count": 9
        }
      ]
    },
    {
      "cell_type": "markdown",
      "metadata": {
        "id": "UdVSc-ONwFdo"
      },
      "source": [
        "將寶可夢的Type1和Type2轉為One-hot Encoding表示："
      ]
    },
    {
      "cell_type": "code",
      "metadata": {
        "colab": {
          "base_uri": "https://localhost:8080/",
          "height": 235
        },
        "id": "4LhvjQnRwFdo",
        "outputId": "e6861001-62d6-4117-b2c0-ca609e024d3b"
      },
      "source": [
        "df_type1_one_hot = pd.get_dummies(pokemon_df['Type 1'])  # 取得'Type 1'數據的One-hot編碼\n",
        "df_type1_one_hot.head()  # 顯示頭5比資料"
      ],
      "execution_count": 10,
      "outputs": [
        {
          "output_type": "execute_result",
          "data": {
            "text/html": [
              "<div>\n",
              "<style scoped>\n",
              "    .dataframe tbody tr th:only-of-type {\n",
              "        vertical-align: middle;\n",
              "    }\n",
              "\n",
              "    .dataframe tbody tr th {\n",
              "        vertical-align: top;\n",
              "    }\n",
              "\n",
              "    .dataframe thead th {\n",
              "        text-align: right;\n",
              "    }\n",
              "</style>\n",
              "<table border=\"1\" class=\"dataframe\">\n",
              "  <thead>\n",
              "    <tr style=\"text-align: right;\">\n",
              "      <th></th>\n",
              "      <th>Bug</th>\n",
              "      <th>Dark</th>\n",
              "      <th>Dragon</th>\n",
              "      <th>Electric</th>\n",
              "      <th>Fairy</th>\n",
              "      <th>Fighting</th>\n",
              "      <th>Fire</th>\n",
              "      <th>Flying</th>\n",
              "      <th>Ghost</th>\n",
              "      <th>Grass</th>\n",
              "      <th>Ground</th>\n",
              "      <th>Ice</th>\n",
              "      <th>Normal</th>\n",
              "      <th>Poison</th>\n",
              "      <th>Psychic</th>\n",
              "      <th>Rock</th>\n",
              "      <th>Steel</th>\n",
              "      <th>Water</th>\n",
              "    </tr>\n",
              "    <tr>\n",
              "      <th>#</th>\n",
              "      <th></th>\n",
              "      <th></th>\n",
              "      <th></th>\n",
              "      <th></th>\n",
              "      <th></th>\n",
              "      <th></th>\n",
              "      <th></th>\n",
              "      <th></th>\n",
              "      <th></th>\n",
              "      <th></th>\n",
              "      <th></th>\n",
              "      <th></th>\n",
              "      <th></th>\n",
              "      <th></th>\n",
              "      <th></th>\n",
              "      <th></th>\n",
              "      <th></th>\n",
              "      <th></th>\n",
              "    </tr>\n",
              "  </thead>\n",
              "  <tbody>\n",
              "    <tr>\n",
              "      <th>1</th>\n",
              "      <td>0</td>\n",
              "      <td>0</td>\n",
              "      <td>0</td>\n",
              "      <td>0</td>\n",
              "      <td>0</td>\n",
              "      <td>0</td>\n",
              "      <td>0</td>\n",
              "      <td>0</td>\n",
              "      <td>0</td>\n",
              "      <td>1</td>\n",
              "      <td>0</td>\n",
              "      <td>0</td>\n",
              "      <td>0</td>\n",
              "      <td>0</td>\n",
              "      <td>0</td>\n",
              "      <td>0</td>\n",
              "      <td>0</td>\n",
              "      <td>0</td>\n",
              "    </tr>\n",
              "    <tr>\n",
              "      <th>2</th>\n",
              "      <td>0</td>\n",
              "      <td>0</td>\n",
              "      <td>0</td>\n",
              "      <td>0</td>\n",
              "      <td>0</td>\n",
              "      <td>0</td>\n",
              "      <td>0</td>\n",
              "      <td>0</td>\n",
              "      <td>0</td>\n",
              "      <td>1</td>\n",
              "      <td>0</td>\n",
              "      <td>0</td>\n",
              "      <td>0</td>\n",
              "      <td>0</td>\n",
              "      <td>0</td>\n",
              "      <td>0</td>\n",
              "      <td>0</td>\n",
              "      <td>0</td>\n",
              "    </tr>\n",
              "    <tr>\n",
              "      <th>3</th>\n",
              "      <td>0</td>\n",
              "      <td>0</td>\n",
              "      <td>0</td>\n",
              "      <td>0</td>\n",
              "      <td>0</td>\n",
              "      <td>0</td>\n",
              "      <td>0</td>\n",
              "      <td>0</td>\n",
              "      <td>0</td>\n",
              "      <td>1</td>\n",
              "      <td>0</td>\n",
              "      <td>0</td>\n",
              "      <td>0</td>\n",
              "      <td>0</td>\n",
              "      <td>0</td>\n",
              "      <td>0</td>\n",
              "      <td>0</td>\n",
              "      <td>0</td>\n",
              "    </tr>\n",
              "    <tr>\n",
              "      <th>4</th>\n",
              "      <td>0</td>\n",
              "      <td>0</td>\n",
              "      <td>0</td>\n",
              "      <td>0</td>\n",
              "      <td>0</td>\n",
              "      <td>0</td>\n",
              "      <td>0</td>\n",
              "      <td>0</td>\n",
              "      <td>0</td>\n",
              "      <td>1</td>\n",
              "      <td>0</td>\n",
              "      <td>0</td>\n",
              "      <td>0</td>\n",
              "      <td>0</td>\n",
              "      <td>0</td>\n",
              "      <td>0</td>\n",
              "      <td>0</td>\n",
              "      <td>0</td>\n",
              "    </tr>\n",
              "    <tr>\n",
              "      <th>5</th>\n",
              "      <td>0</td>\n",
              "      <td>0</td>\n",
              "      <td>0</td>\n",
              "      <td>0</td>\n",
              "      <td>0</td>\n",
              "      <td>0</td>\n",
              "      <td>1</td>\n",
              "      <td>0</td>\n",
              "      <td>0</td>\n",
              "      <td>0</td>\n",
              "      <td>0</td>\n",
              "      <td>0</td>\n",
              "      <td>0</td>\n",
              "      <td>0</td>\n",
              "      <td>0</td>\n",
              "      <td>0</td>\n",
              "      <td>0</td>\n",
              "      <td>0</td>\n",
              "    </tr>\n",
              "  </tbody>\n",
              "</table>\n",
              "</div>"
            ],
            "text/plain": [
              "   Bug  Dark  Dragon  Electric  Fairy  ...  Poison  Psychic  Rock  Steel  Water\n",
              "#                                      ...                                     \n",
              "1    0     0       0         0      0  ...       0        0     0      0      0\n",
              "2    0     0       0         0      0  ...       0        0     0      0      0\n",
              "3    0     0       0         0      0  ...       0        0     0      0      0\n",
              "4    0     0       0         0      0  ...       0        0     0      0      0\n",
              "5    0     0       0         0      0  ...       0        0     0      0      0\n",
              "\n",
              "[5 rows x 18 columns]"
            ]
          },
          "metadata": {
            "tags": []
          },
          "execution_count": 10
        }
      ]
    },
    {
      "cell_type": "markdown",
      "metadata": {
        "id": "iQZiHVKTwFdp"
      },
      "source": [
        "使用Pandas的get_dummies函數，取得Type2（寶可夢第二種屬性）的One-hot Encoding："
      ]
    },
    {
      "cell_type": "code",
      "metadata": {
        "scrolled": true,
        "colab": {
          "base_uri": "https://localhost:8080/",
          "height": 235
        },
        "id": "SAddlEb9wFdp",
        "outputId": "e170c231-a60c-46f7-b424-e7baae7ce0c3"
      },
      "source": [
        "df_type2_one_hot = pd.get_dummies(pokemon_df['Type 2'])  # 取得'Type 2'數據的One-hot編碼\n",
        "df_type2_one_hot.head()  # 顯示頭5比資料"
      ],
      "execution_count": 11,
      "outputs": [
        {
          "output_type": "execute_result",
          "data": {
            "text/html": [
              "<div>\n",
              "<style scoped>\n",
              "    .dataframe tbody tr th:only-of-type {\n",
              "        vertical-align: middle;\n",
              "    }\n",
              "\n",
              "    .dataframe tbody tr th {\n",
              "        vertical-align: top;\n",
              "    }\n",
              "\n",
              "    .dataframe thead th {\n",
              "        text-align: right;\n",
              "    }\n",
              "</style>\n",
              "<table border=\"1\" class=\"dataframe\">\n",
              "  <thead>\n",
              "    <tr style=\"text-align: right;\">\n",
              "      <th></th>\n",
              "      <th>Bug</th>\n",
              "      <th>Dark</th>\n",
              "      <th>Dragon</th>\n",
              "      <th>Electric</th>\n",
              "      <th>Fairy</th>\n",
              "      <th>Fighting</th>\n",
              "      <th>Fire</th>\n",
              "      <th>Flying</th>\n",
              "      <th>Ghost</th>\n",
              "      <th>Grass</th>\n",
              "      <th>Ground</th>\n",
              "      <th>Ice</th>\n",
              "      <th>Normal</th>\n",
              "      <th>Poison</th>\n",
              "      <th>Psychic</th>\n",
              "      <th>Rock</th>\n",
              "      <th>Steel</th>\n",
              "      <th>Water</th>\n",
              "      <th>empty</th>\n",
              "    </tr>\n",
              "    <tr>\n",
              "      <th>#</th>\n",
              "      <th></th>\n",
              "      <th></th>\n",
              "      <th></th>\n",
              "      <th></th>\n",
              "      <th></th>\n",
              "      <th></th>\n",
              "      <th></th>\n",
              "      <th></th>\n",
              "      <th></th>\n",
              "      <th></th>\n",
              "      <th></th>\n",
              "      <th></th>\n",
              "      <th></th>\n",
              "      <th></th>\n",
              "      <th></th>\n",
              "      <th></th>\n",
              "      <th></th>\n",
              "      <th></th>\n",
              "      <th></th>\n",
              "    </tr>\n",
              "  </thead>\n",
              "  <tbody>\n",
              "    <tr>\n",
              "      <th>1</th>\n",
              "      <td>0</td>\n",
              "      <td>0</td>\n",
              "      <td>0</td>\n",
              "      <td>0</td>\n",
              "      <td>0</td>\n",
              "      <td>0</td>\n",
              "      <td>0</td>\n",
              "      <td>0</td>\n",
              "      <td>0</td>\n",
              "      <td>0</td>\n",
              "      <td>0</td>\n",
              "      <td>0</td>\n",
              "      <td>0</td>\n",
              "      <td>1</td>\n",
              "      <td>0</td>\n",
              "      <td>0</td>\n",
              "      <td>0</td>\n",
              "      <td>0</td>\n",
              "      <td>0</td>\n",
              "    </tr>\n",
              "    <tr>\n",
              "      <th>2</th>\n",
              "      <td>0</td>\n",
              "      <td>0</td>\n",
              "      <td>0</td>\n",
              "      <td>0</td>\n",
              "      <td>0</td>\n",
              "      <td>0</td>\n",
              "      <td>0</td>\n",
              "      <td>0</td>\n",
              "      <td>0</td>\n",
              "      <td>0</td>\n",
              "      <td>0</td>\n",
              "      <td>0</td>\n",
              "      <td>0</td>\n",
              "      <td>1</td>\n",
              "      <td>0</td>\n",
              "      <td>0</td>\n",
              "      <td>0</td>\n",
              "      <td>0</td>\n",
              "      <td>0</td>\n",
              "    </tr>\n",
              "    <tr>\n",
              "      <th>3</th>\n",
              "      <td>0</td>\n",
              "      <td>0</td>\n",
              "      <td>0</td>\n",
              "      <td>0</td>\n",
              "      <td>0</td>\n",
              "      <td>0</td>\n",
              "      <td>0</td>\n",
              "      <td>0</td>\n",
              "      <td>0</td>\n",
              "      <td>0</td>\n",
              "      <td>0</td>\n",
              "      <td>0</td>\n",
              "      <td>0</td>\n",
              "      <td>1</td>\n",
              "      <td>0</td>\n",
              "      <td>0</td>\n",
              "      <td>0</td>\n",
              "      <td>0</td>\n",
              "      <td>0</td>\n",
              "    </tr>\n",
              "    <tr>\n",
              "      <th>4</th>\n",
              "      <td>0</td>\n",
              "      <td>0</td>\n",
              "      <td>0</td>\n",
              "      <td>0</td>\n",
              "      <td>0</td>\n",
              "      <td>0</td>\n",
              "      <td>0</td>\n",
              "      <td>0</td>\n",
              "      <td>0</td>\n",
              "      <td>0</td>\n",
              "      <td>0</td>\n",
              "      <td>0</td>\n",
              "      <td>0</td>\n",
              "      <td>1</td>\n",
              "      <td>0</td>\n",
              "      <td>0</td>\n",
              "      <td>0</td>\n",
              "      <td>0</td>\n",
              "      <td>0</td>\n",
              "    </tr>\n",
              "    <tr>\n",
              "      <th>5</th>\n",
              "      <td>0</td>\n",
              "      <td>0</td>\n",
              "      <td>0</td>\n",
              "      <td>0</td>\n",
              "      <td>0</td>\n",
              "      <td>0</td>\n",
              "      <td>0</td>\n",
              "      <td>0</td>\n",
              "      <td>0</td>\n",
              "      <td>0</td>\n",
              "      <td>0</td>\n",
              "      <td>0</td>\n",
              "      <td>0</td>\n",
              "      <td>0</td>\n",
              "      <td>0</td>\n",
              "      <td>0</td>\n",
              "      <td>0</td>\n",
              "      <td>0</td>\n",
              "      <td>1</td>\n",
              "    </tr>\n",
              "  </tbody>\n",
              "</table>\n",
              "</div>"
            ],
            "text/plain": [
              "   Bug  Dark  Dragon  Electric  Fairy  ...  Psychic  Rock  Steel  Water  empty\n",
              "#                                      ...                                    \n",
              "1    0     0       0         0      0  ...        0     0      0      0      0\n",
              "2    0     0       0         0      0  ...        0     0      0      0      0\n",
              "3    0     0       0         0      0  ...        0     0      0      0      0\n",
              "4    0     0       0         0      0  ...        0     0      0      0      0\n",
              "5    0     0       0         0      0  ...        0     0      0      0      1\n",
              "\n",
              "[5 rows x 19 columns]"
            ]
          },
          "metadata": {
            "tags": []
          },
          "execution_count": 11
        }
      ]
    },
    {
      "cell_type": "markdown",
      "metadata": {
        "id": "wku7HjRIwFdp"
      },
      "source": [
        "將兩組One-hot Encoding合併回數據集："
      ]
    },
    {
      "cell_type": "code",
      "metadata": {
        "scrolled": true,
        "colab": {
          "base_uri": "https://localhost:8080/",
          "height": 289
        },
        "id": "JonbOIkUwFdq",
        "outputId": "6a278fec-87bd-44b7-d8e6-5447d257af21"
      },
      "source": [
        "# 將上方兩個One-hot編碼資料加起來，將缺少的值補0，並轉呈int64型態\n",
        "combine_df_one_hot = df_type1_one_hot.add(df_type2_one_hot, fill_value=0).astype('int64')\n",
        "# 將顯示列數設定為30，不然會有部份資料無法顯示\n",
        "pd.options.display.max_columns = 30\n",
        "# 將One-hot編碼資料加到寶可夢數據中\n",
        "pokemon_df = pokemon_df.join(combine_df_one_hot)\n",
        "pokemon_df.head()  # 顯示頭5比資料"
      ],
      "execution_count": 12,
      "outputs": [
        {
          "output_type": "execute_result",
          "data": {
            "text/html": [
              "<div>\n",
              "<style scoped>\n",
              "    .dataframe tbody tr th:only-of-type {\n",
              "        vertical-align: middle;\n",
              "    }\n",
              "\n",
              "    .dataframe tbody tr th {\n",
              "        vertical-align: top;\n",
              "    }\n",
              "\n",
              "    .dataframe thead th {\n",
              "        text-align: right;\n",
              "    }\n",
              "</style>\n",
              "<table border=\"1\" class=\"dataframe\">\n",
              "  <thead>\n",
              "    <tr style=\"text-align: right;\">\n",
              "      <th></th>\n",
              "      <th>Name</th>\n",
              "      <th>Type 1</th>\n",
              "      <th>Type 2</th>\n",
              "      <th>HP</th>\n",
              "      <th>Attack</th>\n",
              "      <th>Defense</th>\n",
              "      <th>Sp. Atk</th>\n",
              "      <th>Sp. Def</th>\n",
              "      <th>Speed</th>\n",
              "      <th>Generation</th>\n",
              "      <th>Legendary</th>\n",
              "      <th>Bug</th>\n",
              "      <th>Dark</th>\n",
              "      <th>Dragon</th>\n",
              "      <th>Electric</th>\n",
              "      <th>Fairy</th>\n",
              "      <th>Fighting</th>\n",
              "      <th>Fire</th>\n",
              "      <th>Flying</th>\n",
              "      <th>Ghost</th>\n",
              "      <th>Grass</th>\n",
              "      <th>Ground</th>\n",
              "      <th>Ice</th>\n",
              "      <th>Normal</th>\n",
              "      <th>Poison</th>\n",
              "      <th>Psychic</th>\n",
              "      <th>Rock</th>\n",
              "      <th>Steel</th>\n",
              "      <th>Water</th>\n",
              "      <th>empty</th>\n",
              "    </tr>\n",
              "    <tr>\n",
              "      <th>#</th>\n",
              "      <th></th>\n",
              "      <th></th>\n",
              "      <th></th>\n",
              "      <th></th>\n",
              "      <th></th>\n",
              "      <th></th>\n",
              "      <th></th>\n",
              "      <th></th>\n",
              "      <th></th>\n",
              "      <th></th>\n",
              "      <th></th>\n",
              "      <th></th>\n",
              "      <th></th>\n",
              "      <th></th>\n",
              "      <th></th>\n",
              "      <th></th>\n",
              "      <th></th>\n",
              "      <th></th>\n",
              "      <th></th>\n",
              "      <th></th>\n",
              "      <th></th>\n",
              "      <th></th>\n",
              "      <th></th>\n",
              "      <th></th>\n",
              "      <th></th>\n",
              "      <th></th>\n",
              "      <th></th>\n",
              "      <th></th>\n",
              "      <th></th>\n",
              "      <th></th>\n",
              "    </tr>\n",
              "  </thead>\n",
              "  <tbody>\n",
              "    <tr>\n",
              "      <th>1</th>\n",
              "      <td>Bulbasaur</td>\n",
              "      <td>Grass</td>\n",
              "      <td>Poison</td>\n",
              "      <td>45</td>\n",
              "      <td>49</td>\n",
              "      <td>49</td>\n",
              "      <td>65</td>\n",
              "      <td>65</td>\n",
              "      <td>45</td>\n",
              "      <td>1</td>\n",
              "      <td>0</td>\n",
              "      <td>0</td>\n",
              "      <td>0</td>\n",
              "      <td>0</td>\n",
              "      <td>0</td>\n",
              "      <td>0</td>\n",
              "      <td>0</td>\n",
              "      <td>0</td>\n",
              "      <td>0</td>\n",
              "      <td>0</td>\n",
              "      <td>1</td>\n",
              "      <td>0</td>\n",
              "      <td>0</td>\n",
              "      <td>0</td>\n",
              "      <td>1</td>\n",
              "      <td>0</td>\n",
              "      <td>0</td>\n",
              "      <td>0</td>\n",
              "      <td>0</td>\n",
              "      <td>0</td>\n",
              "    </tr>\n",
              "    <tr>\n",
              "      <th>2</th>\n",
              "      <td>Ivysaur</td>\n",
              "      <td>Grass</td>\n",
              "      <td>Poison</td>\n",
              "      <td>60</td>\n",
              "      <td>62</td>\n",
              "      <td>63</td>\n",
              "      <td>80</td>\n",
              "      <td>80</td>\n",
              "      <td>60</td>\n",
              "      <td>1</td>\n",
              "      <td>0</td>\n",
              "      <td>0</td>\n",
              "      <td>0</td>\n",
              "      <td>0</td>\n",
              "      <td>0</td>\n",
              "      <td>0</td>\n",
              "      <td>0</td>\n",
              "      <td>0</td>\n",
              "      <td>0</td>\n",
              "      <td>0</td>\n",
              "      <td>1</td>\n",
              "      <td>0</td>\n",
              "      <td>0</td>\n",
              "      <td>0</td>\n",
              "      <td>1</td>\n",
              "      <td>0</td>\n",
              "      <td>0</td>\n",
              "      <td>0</td>\n",
              "      <td>0</td>\n",
              "      <td>0</td>\n",
              "    </tr>\n",
              "    <tr>\n",
              "      <th>3</th>\n",
              "      <td>Venusaur</td>\n",
              "      <td>Grass</td>\n",
              "      <td>Poison</td>\n",
              "      <td>80</td>\n",
              "      <td>82</td>\n",
              "      <td>83</td>\n",
              "      <td>100</td>\n",
              "      <td>100</td>\n",
              "      <td>80</td>\n",
              "      <td>1</td>\n",
              "      <td>0</td>\n",
              "      <td>0</td>\n",
              "      <td>0</td>\n",
              "      <td>0</td>\n",
              "      <td>0</td>\n",
              "      <td>0</td>\n",
              "      <td>0</td>\n",
              "      <td>0</td>\n",
              "      <td>0</td>\n",
              "      <td>0</td>\n",
              "      <td>1</td>\n",
              "      <td>0</td>\n",
              "      <td>0</td>\n",
              "      <td>0</td>\n",
              "      <td>1</td>\n",
              "      <td>0</td>\n",
              "      <td>0</td>\n",
              "      <td>0</td>\n",
              "      <td>0</td>\n",
              "      <td>0</td>\n",
              "    </tr>\n",
              "    <tr>\n",
              "      <th>4</th>\n",
              "      <td>Mega Venusaur</td>\n",
              "      <td>Grass</td>\n",
              "      <td>Poison</td>\n",
              "      <td>80</td>\n",
              "      <td>100</td>\n",
              "      <td>123</td>\n",
              "      <td>122</td>\n",
              "      <td>120</td>\n",
              "      <td>80</td>\n",
              "      <td>1</td>\n",
              "      <td>0</td>\n",
              "      <td>0</td>\n",
              "      <td>0</td>\n",
              "      <td>0</td>\n",
              "      <td>0</td>\n",
              "      <td>0</td>\n",
              "      <td>0</td>\n",
              "      <td>0</td>\n",
              "      <td>0</td>\n",
              "      <td>0</td>\n",
              "      <td>1</td>\n",
              "      <td>0</td>\n",
              "      <td>0</td>\n",
              "      <td>0</td>\n",
              "      <td>1</td>\n",
              "      <td>0</td>\n",
              "      <td>0</td>\n",
              "      <td>0</td>\n",
              "      <td>0</td>\n",
              "      <td>0</td>\n",
              "    </tr>\n",
              "    <tr>\n",
              "      <th>5</th>\n",
              "      <td>Charmander</td>\n",
              "      <td>Fire</td>\n",
              "      <td>empty</td>\n",
              "      <td>39</td>\n",
              "      <td>52</td>\n",
              "      <td>43</td>\n",
              "      <td>60</td>\n",
              "      <td>50</td>\n",
              "      <td>65</td>\n",
              "      <td>1</td>\n",
              "      <td>0</td>\n",
              "      <td>0</td>\n",
              "      <td>0</td>\n",
              "      <td>0</td>\n",
              "      <td>0</td>\n",
              "      <td>0</td>\n",
              "      <td>0</td>\n",
              "      <td>1</td>\n",
              "      <td>0</td>\n",
              "      <td>0</td>\n",
              "      <td>0</td>\n",
              "      <td>0</td>\n",
              "      <td>0</td>\n",
              "      <td>0</td>\n",
              "      <td>0</td>\n",
              "      <td>0</td>\n",
              "      <td>0</td>\n",
              "      <td>0</td>\n",
              "      <td>0</td>\n",
              "      <td>1</td>\n",
              "    </tr>\n",
              "  </tbody>\n",
              "</table>\n",
              "</div>"
            ],
            "text/plain": [
              "            Name Type 1  Type 2  HP  Attack  Defense  Sp. Atk  Sp. Def  Speed  \\\n",
              "#                                                                               \n",
              "1      Bulbasaur  Grass  Poison  45      49       49       65       65     45   \n",
              "2        Ivysaur  Grass  Poison  60      62       63       80       80     60   \n",
              "3       Venusaur  Grass  Poison  80      82       83      100      100     80   \n",
              "4  Mega Venusaur  Grass  Poison  80     100      123      122      120     80   \n",
              "5     Charmander   Fire   empty  39      52       43       60       50     65   \n",
              "\n",
              "   Generation  Legendary  Bug  Dark  Dragon  Electric  Fairy  Fighting  Fire  \\\n",
              "#                                                                              \n",
              "1           1          0    0     0       0         0      0         0     0   \n",
              "2           1          0    0     0       0         0      0         0     0   \n",
              "3           1          0    0     0       0         0      0         0     0   \n",
              "4           1          0    0     0       0         0      0         0     0   \n",
              "5           1          0    0     0       0         0      0         0     1   \n",
              "\n",
              "   Flying  Ghost  Grass  Ground  Ice  Normal  Poison  Psychic  Rock  Steel  \\\n",
              "#                                                                            \n",
              "1       0      0      1       0    0       0       1        0     0      0   \n",
              "2       0      0      1       0    0       0       1        0     0      0   \n",
              "3       0      0      1       0    0       0       1        0     0      0   \n",
              "4       0      0      1       0    0       0       1        0     0      0   \n",
              "5       0      0      0       0    0       0       0        0     0      0   \n",
              "\n",
              "   Water  empty  \n",
              "#                \n",
              "1      0      0  \n",
              "2      0      0  \n",
              "3      0      0  \n",
              "4      0      0  \n",
              "5      0      1  "
            ]
          },
          "metadata": {
            "tags": []
          },
          "execution_count": 12
        }
      ]
    },
    {
      "cell_type": "markdown",
      "metadata": {
        "id": "G7L1rx7YwFdr"
      },
      "source": [
        "將寶可夢屬性轉為數值表示（0, 1, 2, …18）：透過cat.categories查詢類別的標籤。"
      ]
    },
    {
      "cell_type": "code",
      "metadata": {
        "colab": {
          "base_uri": "https://localhost:8080/"
        },
        "id": "gWltx0oJwFdr",
        "outputId": "3d340371-2bc2-4019-ed52-b82084590b79"
      },
      "source": [
        "dict(enumerate(pokemon_df['Type 2'].cat.categories))"
      ],
      "execution_count": 13,
      "outputs": [
        {
          "output_type": "execute_result",
          "data": {
            "text/plain": [
              "{0: 'Bug',\n",
              " 1: 'Dark',\n",
              " 2: 'Dragon',\n",
              " 3: 'Electric',\n",
              " 4: 'Fairy',\n",
              " 5: 'Fighting',\n",
              " 6: 'Fire',\n",
              " 7: 'Flying',\n",
              " 8: 'Ghost',\n",
              " 9: 'Grass',\n",
              " 10: 'Ground',\n",
              " 11: 'Ice',\n",
              " 12: 'Normal',\n",
              " 13: 'Poison',\n",
              " 14: 'Psychic',\n",
              " 15: 'Rock',\n",
              " 16: 'Steel',\n",
              " 17: 'Water',\n",
              " 18: 'empty'}"
            ]
          },
          "metadata": {
            "tags": []
          },
          "execution_count": 13
        }
      ]
    },
    {
      "cell_type": "markdown",
      "metadata": {
        "id": "NEQNWoqzwFdr"
      },
      "source": [
        "透過cat.codes可以取得類別的編碼值。"
      ]
    },
    {
      "cell_type": "code",
      "metadata": {
        "colab": {
          "base_uri": "https://localhost:8080/"
        },
        "id": "4hcfeAhQwFds",
        "outputId": "d687c1da-c167-4b66-e263-7b43973c4482"
      },
      "source": [
        "pokemon_df['Type 2'].cat.codes.head(10)"
      ],
      "execution_count": 14,
      "outputs": [
        {
          "output_type": "execute_result",
          "data": {
            "text/plain": [
              "#\n",
              "1     13\n",
              "2     13\n",
              "3     13\n",
              "4     13\n",
              "5     18\n",
              "6     18\n",
              "7      7\n",
              "8      2\n",
              "9      7\n",
              "10    18\n",
              "dtype: int8"
            ]
          },
          "metadata": {
            "tags": []
          },
          "execution_count": 14
        }
      ]
    },
    {
      "cell_type": "markdown",
      "metadata": {
        "id": "ilbBRMqiwFds"
      },
      "source": [
        "用數值表示（0, 1, 2…18）取代原本的標籤值："
      ]
    },
    {
      "cell_type": "code",
      "metadata": {
        "colab": {
          "base_uri": "https://localhost:8080/",
          "height": 289
        },
        "id": "DO_X0WZywFds",
        "outputId": "7b221c05-b3ea-48ef-8ebf-1a7d1ef99fdf"
      },
      "source": [
        "pokemon_df['Type 1'] = pokemon_df['Type 1'].cat.codes\n",
        "pokemon_df['Type 2'] = pokemon_df['Type 2'].cat.codes\n",
        "pokemon_df.head()  # 顯示頭5比資料"
      ],
      "execution_count": 15,
      "outputs": [
        {
          "output_type": "execute_result",
          "data": {
            "text/html": [
              "<div>\n",
              "<style scoped>\n",
              "    .dataframe tbody tr th:only-of-type {\n",
              "        vertical-align: middle;\n",
              "    }\n",
              "\n",
              "    .dataframe tbody tr th {\n",
              "        vertical-align: top;\n",
              "    }\n",
              "\n",
              "    .dataframe thead th {\n",
              "        text-align: right;\n",
              "    }\n",
              "</style>\n",
              "<table border=\"1\" class=\"dataframe\">\n",
              "  <thead>\n",
              "    <tr style=\"text-align: right;\">\n",
              "      <th></th>\n",
              "      <th>Name</th>\n",
              "      <th>Type 1</th>\n",
              "      <th>Type 2</th>\n",
              "      <th>HP</th>\n",
              "      <th>Attack</th>\n",
              "      <th>Defense</th>\n",
              "      <th>Sp. Atk</th>\n",
              "      <th>Sp. Def</th>\n",
              "      <th>Speed</th>\n",
              "      <th>Generation</th>\n",
              "      <th>Legendary</th>\n",
              "      <th>Bug</th>\n",
              "      <th>Dark</th>\n",
              "      <th>Dragon</th>\n",
              "      <th>Electric</th>\n",
              "      <th>Fairy</th>\n",
              "      <th>Fighting</th>\n",
              "      <th>Fire</th>\n",
              "      <th>Flying</th>\n",
              "      <th>Ghost</th>\n",
              "      <th>Grass</th>\n",
              "      <th>Ground</th>\n",
              "      <th>Ice</th>\n",
              "      <th>Normal</th>\n",
              "      <th>Poison</th>\n",
              "      <th>Psychic</th>\n",
              "      <th>Rock</th>\n",
              "      <th>Steel</th>\n",
              "      <th>Water</th>\n",
              "      <th>empty</th>\n",
              "    </tr>\n",
              "    <tr>\n",
              "      <th>#</th>\n",
              "      <th></th>\n",
              "      <th></th>\n",
              "      <th></th>\n",
              "      <th></th>\n",
              "      <th></th>\n",
              "      <th></th>\n",
              "      <th></th>\n",
              "      <th></th>\n",
              "      <th></th>\n",
              "      <th></th>\n",
              "      <th></th>\n",
              "      <th></th>\n",
              "      <th></th>\n",
              "      <th></th>\n",
              "      <th></th>\n",
              "      <th></th>\n",
              "      <th></th>\n",
              "      <th></th>\n",
              "      <th></th>\n",
              "      <th></th>\n",
              "      <th></th>\n",
              "      <th></th>\n",
              "      <th></th>\n",
              "      <th></th>\n",
              "      <th></th>\n",
              "      <th></th>\n",
              "      <th></th>\n",
              "      <th></th>\n",
              "      <th></th>\n",
              "      <th></th>\n",
              "    </tr>\n",
              "  </thead>\n",
              "  <tbody>\n",
              "    <tr>\n",
              "      <th>1</th>\n",
              "      <td>Bulbasaur</td>\n",
              "      <td>9</td>\n",
              "      <td>13</td>\n",
              "      <td>45</td>\n",
              "      <td>49</td>\n",
              "      <td>49</td>\n",
              "      <td>65</td>\n",
              "      <td>65</td>\n",
              "      <td>45</td>\n",
              "      <td>1</td>\n",
              "      <td>0</td>\n",
              "      <td>0</td>\n",
              "      <td>0</td>\n",
              "      <td>0</td>\n",
              "      <td>0</td>\n",
              "      <td>0</td>\n",
              "      <td>0</td>\n",
              "      <td>0</td>\n",
              "      <td>0</td>\n",
              "      <td>0</td>\n",
              "      <td>1</td>\n",
              "      <td>0</td>\n",
              "      <td>0</td>\n",
              "      <td>0</td>\n",
              "      <td>1</td>\n",
              "      <td>0</td>\n",
              "      <td>0</td>\n",
              "      <td>0</td>\n",
              "      <td>0</td>\n",
              "      <td>0</td>\n",
              "    </tr>\n",
              "    <tr>\n",
              "      <th>2</th>\n",
              "      <td>Ivysaur</td>\n",
              "      <td>9</td>\n",
              "      <td>13</td>\n",
              "      <td>60</td>\n",
              "      <td>62</td>\n",
              "      <td>63</td>\n",
              "      <td>80</td>\n",
              "      <td>80</td>\n",
              "      <td>60</td>\n",
              "      <td>1</td>\n",
              "      <td>0</td>\n",
              "      <td>0</td>\n",
              "      <td>0</td>\n",
              "      <td>0</td>\n",
              "      <td>0</td>\n",
              "      <td>0</td>\n",
              "      <td>0</td>\n",
              "      <td>0</td>\n",
              "      <td>0</td>\n",
              "      <td>0</td>\n",
              "      <td>1</td>\n",
              "      <td>0</td>\n",
              "      <td>0</td>\n",
              "      <td>0</td>\n",
              "      <td>1</td>\n",
              "      <td>0</td>\n",
              "      <td>0</td>\n",
              "      <td>0</td>\n",
              "      <td>0</td>\n",
              "      <td>0</td>\n",
              "    </tr>\n",
              "    <tr>\n",
              "      <th>3</th>\n",
              "      <td>Venusaur</td>\n",
              "      <td>9</td>\n",
              "      <td>13</td>\n",
              "      <td>80</td>\n",
              "      <td>82</td>\n",
              "      <td>83</td>\n",
              "      <td>100</td>\n",
              "      <td>100</td>\n",
              "      <td>80</td>\n",
              "      <td>1</td>\n",
              "      <td>0</td>\n",
              "      <td>0</td>\n",
              "      <td>0</td>\n",
              "      <td>0</td>\n",
              "      <td>0</td>\n",
              "      <td>0</td>\n",
              "      <td>0</td>\n",
              "      <td>0</td>\n",
              "      <td>0</td>\n",
              "      <td>0</td>\n",
              "      <td>1</td>\n",
              "      <td>0</td>\n",
              "      <td>0</td>\n",
              "      <td>0</td>\n",
              "      <td>1</td>\n",
              "      <td>0</td>\n",
              "      <td>0</td>\n",
              "      <td>0</td>\n",
              "      <td>0</td>\n",
              "      <td>0</td>\n",
              "    </tr>\n",
              "    <tr>\n",
              "      <th>4</th>\n",
              "      <td>Mega Venusaur</td>\n",
              "      <td>9</td>\n",
              "      <td>13</td>\n",
              "      <td>80</td>\n",
              "      <td>100</td>\n",
              "      <td>123</td>\n",
              "      <td>122</td>\n",
              "      <td>120</td>\n",
              "      <td>80</td>\n",
              "      <td>1</td>\n",
              "      <td>0</td>\n",
              "      <td>0</td>\n",
              "      <td>0</td>\n",
              "      <td>0</td>\n",
              "      <td>0</td>\n",
              "      <td>0</td>\n",
              "      <td>0</td>\n",
              "      <td>0</td>\n",
              "      <td>0</td>\n",
              "      <td>0</td>\n",
              "      <td>1</td>\n",
              "      <td>0</td>\n",
              "      <td>0</td>\n",
              "      <td>0</td>\n",
              "      <td>1</td>\n",
              "      <td>0</td>\n",
              "      <td>0</td>\n",
              "      <td>0</td>\n",
              "      <td>0</td>\n",
              "      <td>0</td>\n",
              "    </tr>\n",
              "    <tr>\n",
              "      <th>5</th>\n",
              "      <td>Charmander</td>\n",
              "      <td>6</td>\n",
              "      <td>18</td>\n",
              "      <td>39</td>\n",
              "      <td>52</td>\n",
              "      <td>43</td>\n",
              "      <td>60</td>\n",
              "      <td>50</td>\n",
              "      <td>65</td>\n",
              "      <td>1</td>\n",
              "      <td>0</td>\n",
              "      <td>0</td>\n",
              "      <td>0</td>\n",
              "      <td>0</td>\n",
              "      <td>0</td>\n",
              "      <td>0</td>\n",
              "      <td>0</td>\n",
              "      <td>1</td>\n",
              "      <td>0</td>\n",
              "      <td>0</td>\n",
              "      <td>0</td>\n",
              "      <td>0</td>\n",
              "      <td>0</td>\n",
              "      <td>0</td>\n",
              "      <td>0</td>\n",
              "      <td>0</td>\n",
              "      <td>0</td>\n",
              "      <td>0</td>\n",
              "      <td>0</td>\n",
              "      <td>1</td>\n",
              "    </tr>\n",
              "  </tbody>\n",
              "</table>\n",
              "</div>"
            ],
            "text/plain": [
              "            Name  Type 1  Type 2  HP  Attack  Defense  Sp. Atk  Sp. Def  \\\n",
              "#                                                                         \n",
              "1      Bulbasaur       9      13  45      49       49       65       65   \n",
              "2        Ivysaur       9      13  60      62       63       80       80   \n",
              "3       Venusaur       9      13  80      82       83      100      100   \n",
              "4  Mega Venusaur       9      13  80     100      123      122      120   \n",
              "5     Charmander       6      18  39      52       43       60       50   \n",
              "\n",
              "   Speed  Generation  Legendary  Bug  Dark  Dragon  Electric  Fairy  Fighting  \\\n",
              "#                                                                               \n",
              "1     45           1          0    0     0       0         0      0         0   \n",
              "2     60           1          0    0     0       0         0      0         0   \n",
              "3     80           1          0    0     0       0         0      0         0   \n",
              "4     80           1          0    0     0       0         0      0         0   \n",
              "5     65           1          0    0     0       0         0      0         0   \n",
              "\n",
              "   Fire  Flying  Ghost  Grass  Ground  Ice  Normal  Poison  Psychic  Rock  \\\n",
              "#                                                                           \n",
              "1     0       0      0      1       0    0       0       1        0     0   \n",
              "2     0       0      0      1       0    0       0       1        0     0   \n",
              "3     0       0      0      1       0    0       0       1        0     0   \n",
              "4     0       0      0      1       0    0       0       1        0     0   \n",
              "5     1       0      0      0       0    0       0       0        0     0   \n",
              "\n",
              "   Steel  Water  empty  \n",
              "#                       \n",
              "1      0      0      0  \n",
              "2      0      0      0  \n",
              "3      0      0      0  \n",
              "4      0      0      0  \n",
              "5      0      0      1  "
            ]
          },
          "metadata": {
            "tags": []
          },
          "execution_count": 15
        }
      ]
    },
    {
      "cell_type": "markdown",
      "metadata": {
        "id": "cIk1NGspwFdt"
      },
      "source": [
        "將沒有使用到的資料剔除（name）："
      ]
    },
    {
      "cell_type": "code",
      "metadata": {
        "colab": {
          "base_uri": "https://localhost:8080/",
          "height": 272
        },
        "id": "qOJA6UL3wFdt",
        "outputId": "b8e8c293-8c68-424c-e56d-3d5d7029cbbb"
      },
      "source": [
        "pokemon_df.drop('Name', axis='columns', inplace=True)\n",
        "pokemon_df.head()  # 顯示頭5比資料"
      ],
      "execution_count": 16,
      "outputs": [
        {
          "output_type": "execute_result",
          "data": {
            "text/html": [
              "<div>\n",
              "<style scoped>\n",
              "    .dataframe tbody tr th:only-of-type {\n",
              "        vertical-align: middle;\n",
              "    }\n",
              "\n",
              "    .dataframe tbody tr th {\n",
              "        vertical-align: top;\n",
              "    }\n",
              "\n",
              "    .dataframe thead th {\n",
              "        text-align: right;\n",
              "    }\n",
              "</style>\n",
              "<table border=\"1\" class=\"dataframe\">\n",
              "  <thead>\n",
              "    <tr style=\"text-align: right;\">\n",
              "      <th></th>\n",
              "      <th>Type 1</th>\n",
              "      <th>Type 2</th>\n",
              "      <th>HP</th>\n",
              "      <th>Attack</th>\n",
              "      <th>Defense</th>\n",
              "      <th>Sp. Atk</th>\n",
              "      <th>Sp. Def</th>\n",
              "      <th>Speed</th>\n",
              "      <th>Generation</th>\n",
              "      <th>Legendary</th>\n",
              "      <th>Bug</th>\n",
              "      <th>Dark</th>\n",
              "      <th>Dragon</th>\n",
              "      <th>Electric</th>\n",
              "      <th>Fairy</th>\n",
              "      <th>Fighting</th>\n",
              "      <th>Fire</th>\n",
              "      <th>Flying</th>\n",
              "      <th>Ghost</th>\n",
              "      <th>Grass</th>\n",
              "      <th>Ground</th>\n",
              "      <th>Ice</th>\n",
              "      <th>Normal</th>\n",
              "      <th>Poison</th>\n",
              "      <th>Psychic</th>\n",
              "      <th>Rock</th>\n",
              "      <th>Steel</th>\n",
              "      <th>Water</th>\n",
              "      <th>empty</th>\n",
              "    </tr>\n",
              "    <tr>\n",
              "      <th>#</th>\n",
              "      <th></th>\n",
              "      <th></th>\n",
              "      <th></th>\n",
              "      <th></th>\n",
              "      <th></th>\n",
              "      <th></th>\n",
              "      <th></th>\n",
              "      <th></th>\n",
              "      <th></th>\n",
              "      <th></th>\n",
              "      <th></th>\n",
              "      <th></th>\n",
              "      <th></th>\n",
              "      <th></th>\n",
              "      <th></th>\n",
              "      <th></th>\n",
              "      <th></th>\n",
              "      <th></th>\n",
              "      <th></th>\n",
              "      <th></th>\n",
              "      <th></th>\n",
              "      <th></th>\n",
              "      <th></th>\n",
              "      <th></th>\n",
              "      <th></th>\n",
              "      <th></th>\n",
              "      <th></th>\n",
              "      <th></th>\n",
              "      <th></th>\n",
              "    </tr>\n",
              "  </thead>\n",
              "  <tbody>\n",
              "    <tr>\n",
              "      <th>1</th>\n",
              "      <td>9</td>\n",
              "      <td>13</td>\n",
              "      <td>45</td>\n",
              "      <td>49</td>\n",
              "      <td>49</td>\n",
              "      <td>65</td>\n",
              "      <td>65</td>\n",
              "      <td>45</td>\n",
              "      <td>1</td>\n",
              "      <td>0</td>\n",
              "      <td>0</td>\n",
              "      <td>0</td>\n",
              "      <td>0</td>\n",
              "      <td>0</td>\n",
              "      <td>0</td>\n",
              "      <td>0</td>\n",
              "      <td>0</td>\n",
              "      <td>0</td>\n",
              "      <td>0</td>\n",
              "      <td>1</td>\n",
              "      <td>0</td>\n",
              "      <td>0</td>\n",
              "      <td>0</td>\n",
              "      <td>1</td>\n",
              "      <td>0</td>\n",
              "      <td>0</td>\n",
              "      <td>0</td>\n",
              "      <td>0</td>\n",
              "      <td>0</td>\n",
              "    </tr>\n",
              "    <tr>\n",
              "      <th>2</th>\n",
              "      <td>9</td>\n",
              "      <td>13</td>\n",
              "      <td>60</td>\n",
              "      <td>62</td>\n",
              "      <td>63</td>\n",
              "      <td>80</td>\n",
              "      <td>80</td>\n",
              "      <td>60</td>\n",
              "      <td>1</td>\n",
              "      <td>0</td>\n",
              "      <td>0</td>\n",
              "      <td>0</td>\n",
              "      <td>0</td>\n",
              "      <td>0</td>\n",
              "      <td>0</td>\n",
              "      <td>0</td>\n",
              "      <td>0</td>\n",
              "      <td>0</td>\n",
              "      <td>0</td>\n",
              "      <td>1</td>\n",
              "      <td>0</td>\n",
              "      <td>0</td>\n",
              "      <td>0</td>\n",
              "      <td>1</td>\n",
              "      <td>0</td>\n",
              "      <td>0</td>\n",
              "      <td>0</td>\n",
              "      <td>0</td>\n",
              "      <td>0</td>\n",
              "    </tr>\n",
              "    <tr>\n",
              "      <th>3</th>\n",
              "      <td>9</td>\n",
              "      <td>13</td>\n",
              "      <td>80</td>\n",
              "      <td>82</td>\n",
              "      <td>83</td>\n",
              "      <td>100</td>\n",
              "      <td>100</td>\n",
              "      <td>80</td>\n",
              "      <td>1</td>\n",
              "      <td>0</td>\n",
              "      <td>0</td>\n",
              "      <td>0</td>\n",
              "      <td>0</td>\n",
              "      <td>0</td>\n",
              "      <td>0</td>\n",
              "      <td>0</td>\n",
              "      <td>0</td>\n",
              "      <td>0</td>\n",
              "      <td>0</td>\n",
              "      <td>1</td>\n",
              "      <td>0</td>\n",
              "      <td>0</td>\n",
              "      <td>0</td>\n",
              "      <td>1</td>\n",
              "      <td>0</td>\n",
              "      <td>0</td>\n",
              "      <td>0</td>\n",
              "      <td>0</td>\n",
              "      <td>0</td>\n",
              "    </tr>\n",
              "    <tr>\n",
              "      <th>4</th>\n",
              "      <td>9</td>\n",
              "      <td>13</td>\n",
              "      <td>80</td>\n",
              "      <td>100</td>\n",
              "      <td>123</td>\n",
              "      <td>122</td>\n",
              "      <td>120</td>\n",
              "      <td>80</td>\n",
              "      <td>1</td>\n",
              "      <td>0</td>\n",
              "      <td>0</td>\n",
              "      <td>0</td>\n",
              "      <td>0</td>\n",
              "      <td>0</td>\n",
              "      <td>0</td>\n",
              "      <td>0</td>\n",
              "      <td>0</td>\n",
              "      <td>0</td>\n",
              "      <td>0</td>\n",
              "      <td>1</td>\n",
              "      <td>0</td>\n",
              "      <td>0</td>\n",
              "      <td>0</td>\n",
              "      <td>1</td>\n",
              "      <td>0</td>\n",
              "      <td>0</td>\n",
              "      <td>0</td>\n",
              "      <td>0</td>\n",
              "      <td>0</td>\n",
              "    </tr>\n",
              "    <tr>\n",
              "      <th>5</th>\n",
              "      <td>6</td>\n",
              "      <td>18</td>\n",
              "      <td>39</td>\n",
              "      <td>52</td>\n",
              "      <td>43</td>\n",
              "      <td>60</td>\n",
              "      <td>50</td>\n",
              "      <td>65</td>\n",
              "      <td>1</td>\n",
              "      <td>0</td>\n",
              "      <td>0</td>\n",
              "      <td>0</td>\n",
              "      <td>0</td>\n",
              "      <td>0</td>\n",
              "      <td>0</td>\n",
              "      <td>0</td>\n",
              "      <td>1</td>\n",
              "      <td>0</td>\n",
              "      <td>0</td>\n",
              "      <td>0</td>\n",
              "      <td>0</td>\n",
              "      <td>0</td>\n",
              "      <td>0</td>\n",
              "      <td>0</td>\n",
              "      <td>0</td>\n",
              "      <td>0</td>\n",
              "      <td>0</td>\n",
              "      <td>0</td>\n",
              "      <td>1</td>\n",
              "    </tr>\n",
              "  </tbody>\n",
              "</table>\n",
              "</div>"
            ],
            "text/plain": [
              "   Type 1  Type 2  HP  Attack  Defense  Sp. Atk  Sp. Def  Speed  Generation  \\\n",
              "#                                                                             \n",
              "1       9      13  45      49       49       65       65     45           1   \n",
              "2       9      13  60      62       63       80       80     60           1   \n",
              "3       9      13  80      82       83      100      100     80           1   \n",
              "4       9      13  80     100      123      122      120     80           1   \n",
              "5       6      18  39      52       43       60       50     65           1   \n",
              "\n",
              "   Legendary  Bug  Dark  Dragon  Electric  Fairy  Fighting  Fire  Flying  \\\n",
              "#                                                                          \n",
              "1          0    0     0       0         0      0         0     0       0   \n",
              "2          0    0     0       0         0      0         0     0       0   \n",
              "3          0    0     0       0         0      0         0     0       0   \n",
              "4          0    0     0       0         0      0         0     0       0   \n",
              "5          0    0     0       0         0      0         0     1       0   \n",
              "\n",
              "   Ghost  Grass  Ground  Ice  Normal  Poison  Psychic  Rock  Steel  Water  \\\n",
              "#                                                                           \n",
              "1      0      1       0    0       0       1        0     0      0      0   \n",
              "2      0      1       0    0       0       1        0     0      0      0   \n",
              "3      0      1       0    0       0       1        0     0      0      0   \n",
              "4      0      1       0    0       0       1        0     0      0      0   \n",
              "5      0      0       0    0       0       0        0     0      0      0   \n",
              "\n",
              "   empty  \n",
              "#         \n",
              "1      0  \n",
              "2      0  \n",
              "3      0  \n",
              "4      0  \n",
              "5      1  "
            ]
          },
          "metadata": {
            "tags": []
          },
          "execution_count": 16
        }
      ]
    },
    {
      "cell_type": "markdown",
      "metadata": {
        "id": "SzBenKl9wFdu"
      },
      "source": [
        "將寶可夢對戰數據中勝利方的表示改為0與1："
      ]
    },
    {
      "cell_type": "code",
      "metadata": {
        "scrolled": false,
        "colab": {
          "base_uri": "https://localhost:8080/",
          "height": 204
        },
        "id": "Dd9nB6fswFdu",
        "outputId": "3f54ad0f-a613-4cf1-f186-08389ae5b27b"
      },
      "source": [
        "# apply方法第一個參數為自訂function,而axis為columns的話會將數據一行一\n",
        "# 行放入function中處理，最後將所有結果組合成一個數據結構返回。\n",
        "combats_df['Winner'] = combats_df.apply(lambda x: 0 \n",
        "                                        if x.Winner == x.First_pokemon else 1, \n",
        "                                        axis='columns')\n",
        "combats_df.head()  # 顯示頭5比資料"
      ],
      "execution_count": 17,
      "outputs": [
        {
          "output_type": "execute_result",
          "data": {
            "text/html": [
              "<div>\n",
              "<style scoped>\n",
              "    .dataframe tbody tr th:only-of-type {\n",
              "        vertical-align: middle;\n",
              "    }\n",
              "\n",
              "    .dataframe tbody tr th {\n",
              "        vertical-align: top;\n",
              "    }\n",
              "\n",
              "    .dataframe thead th {\n",
              "        text-align: right;\n",
              "    }\n",
              "</style>\n",
              "<table border=\"1\" class=\"dataframe\">\n",
              "  <thead>\n",
              "    <tr style=\"text-align: right;\">\n",
              "      <th></th>\n",
              "      <th>First_pokemon</th>\n",
              "      <th>Second_pokemon</th>\n",
              "      <th>Winner</th>\n",
              "    </tr>\n",
              "  </thead>\n",
              "  <tbody>\n",
              "    <tr>\n",
              "      <th>0</th>\n",
              "      <td>266</td>\n",
              "      <td>298</td>\n",
              "      <td>1</td>\n",
              "    </tr>\n",
              "    <tr>\n",
              "      <th>1</th>\n",
              "      <td>702</td>\n",
              "      <td>701</td>\n",
              "      <td>1</td>\n",
              "    </tr>\n",
              "    <tr>\n",
              "      <th>2</th>\n",
              "      <td>191</td>\n",
              "      <td>668</td>\n",
              "      <td>1</td>\n",
              "    </tr>\n",
              "    <tr>\n",
              "      <th>3</th>\n",
              "      <td>237</td>\n",
              "      <td>683</td>\n",
              "      <td>1</td>\n",
              "    </tr>\n",
              "    <tr>\n",
              "      <th>4</th>\n",
              "      <td>151</td>\n",
              "      <td>231</td>\n",
              "      <td>0</td>\n",
              "    </tr>\n",
              "  </tbody>\n",
              "</table>\n",
              "</div>"
            ],
            "text/plain": [
              "   First_pokemon  Second_pokemon  Winner\n",
              "0            266             298       1\n",
              "1            702             701       1\n",
              "2            191             668       1\n",
              "3            237             683       1\n",
              "4            151             231       0"
            ]
          },
          "metadata": {
            "tags": []
          },
          "execution_count": 17
        }
      ]
    },
    {
      "cell_type": "markdown",
      "metadata": {
        "id": "5pqnGt1wwFdu"
      },
      "source": [
        "### 分割數據集\n",
        "將數據集分為3個部份分別為：\n",
        "\n",
        "- 訓練集\n",
        "- 驗證集\n",
        "- 測試集"
      ]
    },
    {
      "cell_type": "code",
      "metadata": {
        "id": "8wHJehQwwFdv"
      },
      "source": [
        "data_num = combats_df.shape[0]\n",
        "# 取得一筆與data數量相同的亂數索引，主要目的是用於打散資料\n",
        "indexes = np.random.permutation(data_num)\n",
        "# 並將亂數索引值分為Train、validation和test分為，這裡劃分比例為6:2:2\n",
        "train_indexes = indexes[:int(data_num *0.6)]\n",
        "val_indexes = indexes[int(data_num *0.6):int(data_num *0.8)]\n",
        "test_indexes = indexes[int(data_num *0.8):]\n",
        "# 透過上方的索引值從對戰數據中提取資料\n",
        "train_data = combats_df.loc[train_indexes]\n",
        "val_data = combats_df.loc[val_indexes]\n",
        "test_data = combats_df.loc[test_indexes]"
      ],
      "execution_count": 18,
      "outputs": []
    },
    {
      "cell_type": "markdown",
      "metadata": {
        "id": "PRtQRurrwFdw"
      },
      "source": [
        "### Normalization 標準化"
      ]
    },
    {
      "cell_type": "markdown",
      "metadata": {
        "id": "g2msj5TFwFdw"
      },
      "source": [
        "將數值表示的屬性除以19(因為加上empty共有19種屬性)，讓數值縮放置0~1之間。"
      ]
    },
    {
      "cell_type": "code",
      "metadata": {
        "id": "elC-FrIGwFdx"
      },
      "source": [
        "pokemon_df['Type 1'] = pokemon_df['Type 1'] / 19\n",
        "pokemon_df['Type 2'] = pokemon_df['Type 2'] / 19\n"
      ],
      "execution_count": 19,
      "outputs": []
    },
    {
      "cell_type": "markdown",
      "metadata": {
        "id": "wW3QlfCVwFdx"
      },
      "source": [
        "使用Standard Score將生命值、攻擊力和防禦力等數值標準化。"
      ]
    },
    {
      "cell_type": "code",
      "metadata": {
        "scrolled": true,
        "colab": {
          "base_uri": "https://localhost:8080/",
          "height": 255
        },
        "id": "wvI6XcNHwFdx",
        "outputId": "31fbebd3-e289-4c0b-90eb-394e72c8a16a"
      },
      "source": [
        "mean = pokemon_df.loc[:, 'HP':'Generation'].mean()  # 計算平均值\n",
        "std = pokemon_df.loc[:, 'HP':'Generation'].std()  # 計算標準差\n",
        "# 標準化數據\n",
        "pokemon_df.loc[:,'HP':'Generation'] = (pokemon_df.loc[:,'HP':'Generation']-mean)/std\n",
        "pokemon_df.head()"
      ],
      "execution_count": 20,
      "outputs": [
        {
          "output_type": "execute_result",
          "data": {
            "text/html": [
              "<div>\n",
              "<style scoped>\n",
              "    .dataframe tbody tr th:only-of-type {\n",
              "        vertical-align: middle;\n",
              "    }\n",
              "\n",
              "    .dataframe tbody tr th {\n",
              "        vertical-align: top;\n",
              "    }\n",
              "\n",
              "    .dataframe thead th {\n",
              "        text-align: right;\n",
              "    }\n",
              "</style>\n",
              "<table border=\"1\" class=\"dataframe\">\n",
              "  <thead>\n",
              "    <tr style=\"text-align: right;\">\n",
              "      <th></th>\n",
              "      <th>Type 1</th>\n",
              "      <th>Type 2</th>\n",
              "      <th>HP</th>\n",
              "      <th>Attack</th>\n",
              "      <th>Defense</th>\n",
              "      <th>Sp. Atk</th>\n",
              "      <th>Sp. Def</th>\n",
              "      <th>Speed</th>\n",
              "      <th>Generation</th>\n",
              "      <th>Legendary</th>\n",
              "      <th>Bug</th>\n",
              "      <th>Dark</th>\n",
              "      <th>Dragon</th>\n",
              "      <th>Electric</th>\n",
              "      <th>Fairy</th>\n",
              "      <th>Fighting</th>\n",
              "      <th>Fire</th>\n",
              "      <th>Flying</th>\n",
              "      <th>Ghost</th>\n",
              "      <th>Grass</th>\n",
              "      <th>Ground</th>\n",
              "      <th>Ice</th>\n",
              "      <th>Normal</th>\n",
              "      <th>Poison</th>\n",
              "      <th>Psychic</th>\n",
              "      <th>Rock</th>\n",
              "      <th>Steel</th>\n",
              "      <th>Water</th>\n",
              "      <th>empty</th>\n",
              "    </tr>\n",
              "    <tr>\n",
              "      <th>#</th>\n",
              "      <th></th>\n",
              "      <th></th>\n",
              "      <th></th>\n",
              "      <th></th>\n",
              "      <th></th>\n",
              "      <th></th>\n",
              "      <th></th>\n",
              "      <th></th>\n",
              "      <th></th>\n",
              "      <th></th>\n",
              "      <th></th>\n",
              "      <th></th>\n",
              "      <th></th>\n",
              "      <th></th>\n",
              "      <th></th>\n",
              "      <th></th>\n",
              "      <th></th>\n",
              "      <th></th>\n",
              "      <th></th>\n",
              "      <th></th>\n",
              "      <th></th>\n",
              "      <th></th>\n",
              "      <th></th>\n",
              "      <th></th>\n",
              "      <th></th>\n",
              "      <th></th>\n",
              "      <th></th>\n",
              "      <th></th>\n",
              "      <th></th>\n",
              "    </tr>\n",
              "  </thead>\n",
              "  <tbody>\n",
              "    <tr>\n",
              "      <th>1</th>\n",
              "      <td>0.473684</td>\n",
              "      <td>0.684211</td>\n",
              "      <td>-0.950032</td>\n",
              "      <td>-0.924328</td>\n",
              "      <td>-0.796655</td>\n",
              "      <td>-0.238981</td>\n",
              "      <td>-0.248033</td>\n",
              "      <td>-0.801002</td>\n",
              "      <td>-1.398762</td>\n",
              "      <td>0</td>\n",
              "      <td>0</td>\n",
              "      <td>0</td>\n",
              "      <td>0</td>\n",
              "      <td>0</td>\n",
              "      <td>0</td>\n",
              "      <td>0</td>\n",
              "      <td>0</td>\n",
              "      <td>0</td>\n",
              "      <td>0</td>\n",
              "      <td>1</td>\n",
              "      <td>0</td>\n",
              "      <td>0</td>\n",
              "      <td>0</td>\n",
              "      <td>1</td>\n",
              "      <td>0</td>\n",
              "      <td>0</td>\n",
              "      <td>0</td>\n",
              "      <td>0</td>\n",
              "      <td>0</td>\n",
              "    </tr>\n",
              "    <tr>\n",
              "      <th>2</th>\n",
              "      <td>0.473684</td>\n",
              "      <td>0.684211</td>\n",
              "      <td>-0.362595</td>\n",
              "      <td>-0.523803</td>\n",
              "      <td>-0.347700</td>\n",
              "      <td>0.219422</td>\n",
              "      <td>0.290974</td>\n",
              "      <td>-0.284837</td>\n",
              "      <td>-1.398762</td>\n",
              "      <td>0</td>\n",
              "      <td>0</td>\n",
              "      <td>0</td>\n",
              "      <td>0</td>\n",
              "      <td>0</td>\n",
              "      <td>0</td>\n",
              "      <td>0</td>\n",
              "      <td>0</td>\n",
              "      <td>0</td>\n",
              "      <td>0</td>\n",
              "      <td>1</td>\n",
              "      <td>0</td>\n",
              "      <td>0</td>\n",
              "      <td>0</td>\n",
              "      <td>1</td>\n",
              "      <td>0</td>\n",
              "      <td>0</td>\n",
              "      <td>0</td>\n",
              "      <td>0</td>\n",
              "      <td>0</td>\n",
              "    </tr>\n",
              "    <tr>\n",
              "      <th>3</th>\n",
              "      <td>0.473684</td>\n",
              "      <td>0.684211</td>\n",
              "      <td>0.420654</td>\n",
              "      <td>0.092390</td>\n",
              "      <td>0.293665</td>\n",
              "      <td>0.830626</td>\n",
              "      <td>1.009651</td>\n",
              "      <td>0.403383</td>\n",
              "      <td>-1.398762</td>\n",
              "      <td>0</td>\n",
              "      <td>0</td>\n",
              "      <td>0</td>\n",
              "      <td>0</td>\n",
              "      <td>0</td>\n",
              "      <td>0</td>\n",
              "      <td>0</td>\n",
              "      <td>0</td>\n",
              "      <td>0</td>\n",
              "      <td>0</td>\n",
              "      <td>1</td>\n",
              "      <td>0</td>\n",
              "      <td>0</td>\n",
              "      <td>0</td>\n",
              "      <td>1</td>\n",
              "      <td>0</td>\n",
              "      <td>0</td>\n",
              "      <td>0</td>\n",
              "      <td>0</td>\n",
              "      <td>0</td>\n",
              "    </tr>\n",
              "    <tr>\n",
              "      <th>4</th>\n",
              "      <td>0.473684</td>\n",
              "      <td>0.684211</td>\n",
              "      <td>0.420654</td>\n",
              "      <td>0.646964</td>\n",
              "      <td>1.576395</td>\n",
              "      <td>1.502951</td>\n",
              "      <td>1.728328</td>\n",
              "      <td>0.403383</td>\n",
              "      <td>-1.398762</td>\n",
              "      <td>0</td>\n",
              "      <td>0</td>\n",
              "      <td>0</td>\n",
              "      <td>0</td>\n",
              "      <td>0</td>\n",
              "      <td>0</td>\n",
              "      <td>0</td>\n",
              "      <td>0</td>\n",
              "      <td>0</td>\n",
              "      <td>0</td>\n",
              "      <td>1</td>\n",
              "      <td>0</td>\n",
              "      <td>0</td>\n",
              "      <td>0</td>\n",
              "      <td>1</td>\n",
              "      <td>0</td>\n",
              "      <td>0</td>\n",
              "      <td>0</td>\n",
              "      <td>0</td>\n",
              "      <td>0</td>\n",
              "    </tr>\n",
              "    <tr>\n",
              "      <th>5</th>\n",
              "      <td>0.315789</td>\n",
              "      <td>0.947368</td>\n",
              "      <td>-1.185007</td>\n",
              "      <td>-0.831899</td>\n",
              "      <td>-0.989065</td>\n",
              "      <td>-0.391782</td>\n",
              "      <td>-0.787041</td>\n",
              "      <td>-0.112782</td>\n",
              "      <td>-1.398762</td>\n",
              "      <td>0</td>\n",
              "      <td>0</td>\n",
              "      <td>0</td>\n",
              "      <td>0</td>\n",
              "      <td>0</td>\n",
              "      <td>0</td>\n",
              "      <td>0</td>\n",
              "      <td>1</td>\n",
              "      <td>0</td>\n",
              "      <td>0</td>\n",
              "      <td>0</td>\n",
              "      <td>0</td>\n",
              "      <td>0</td>\n",
              "      <td>0</td>\n",
              "      <td>0</td>\n",
              "      <td>0</td>\n",
              "      <td>0</td>\n",
              "      <td>0</td>\n",
              "      <td>0</td>\n",
              "      <td>1</td>\n",
              "    </tr>\n",
              "  </tbody>\n",
              "</table>\n",
              "</div>"
            ],
            "text/plain": [
              "     Type 1    Type 2        HP    Attack   Defense   Sp. Atk   Sp. Def  \\\n",
              "#                                                                         \n",
              "1  0.473684  0.684211 -0.950032 -0.924328 -0.796655 -0.238981 -0.248033   \n",
              "2  0.473684  0.684211 -0.362595 -0.523803 -0.347700  0.219422  0.290974   \n",
              "3  0.473684  0.684211  0.420654  0.092390  0.293665  0.830626  1.009651   \n",
              "4  0.473684  0.684211  0.420654  0.646964  1.576395  1.502951  1.728328   \n",
              "5  0.315789  0.947368 -1.185007 -0.831899 -0.989065 -0.391782 -0.787041   \n",
              "\n",
              "      Speed  Generation  Legendary  Bug  Dark  Dragon  Electric  Fairy  \\\n",
              "#                                                                        \n",
              "1 -0.801002   -1.398762          0    0     0       0         0      0   \n",
              "2 -0.284837   -1.398762          0    0     0       0         0      0   \n",
              "3  0.403383   -1.398762          0    0     0       0         0      0   \n",
              "4  0.403383   -1.398762          0    0     0       0         0      0   \n",
              "5 -0.112782   -1.398762          0    0     0       0         0      0   \n",
              "\n",
              "   Fighting  Fire  Flying  Ghost  Grass  Ground  Ice  Normal  Poison  Psychic  \\\n",
              "#                                                                               \n",
              "1         0     0       0      0      1       0    0       0       1        0   \n",
              "2         0     0       0      0      1       0    0       0       1        0   \n",
              "3         0     0       0      0      1       0    0       0       1        0   \n",
              "4         0     0       0      0      1       0    0       0       1        0   \n",
              "5         0     1       0      0      0       0    0       0       0        0   \n",
              "\n",
              "   Rock  Steel  Water  empty  \n",
              "#                             \n",
              "1     0      0      0      0  \n",
              "2     0      0      0      0  \n",
              "3     0      0      0      0  \n",
              "4     0      0      0      0  \n",
              "5     0      0      0      1  "
            ]
          },
          "metadata": {
            "tags": []
          },
          "execution_count": 20
        }
      ]
    },
    {
      "cell_type": "markdown",
      "metadata": {
        "id": "mnhRrP_3wFdy"
      },
      "source": [
        "### 建立Numpy array格式的訓練數據"
      ]
    },
    {
      "cell_type": "markdown",
      "metadata": {
        "id": "BgS0t9oZwFdy"
      },
      "source": [
        "準備對戰數據中每個寶可夢對應能力值的索引。"
      ]
    },
    {
      "cell_type": "code",
      "metadata": {
        "colab": {
          "base_uri": "https://localhost:8080/"
        },
        "id": "m1tzRv95wFdz",
        "outputId": "273887ee-7917-4775-dc23-7138fd996e17"
      },
      "source": [
        "x_train_index = np.array(train_data.drop('Winner', axis='columns'))\n",
        "x_val_index = np.array(val_data.drop('Winner', axis='columns'))\n",
        "x_test_index = np.array(test_data.drop('Winner', axis='columns'))\n",
        "print(x_train_index)"
      ],
      "execution_count": 21,
      "outputs": [
        {
          "output_type": "stream",
          "text": [
            "[[ 27 325]\n",
            " [320 664]\n",
            " [ 64 427]\n",
            " ...\n",
            " [466 187]\n",
            " [518 152]\n",
            " [523 407]]\n"
          ],
          "name": "stdout"
        }
      ]
    },
    {
      "cell_type": "markdown",
      "metadata": {
        "id": "Px66t48fwFd0"
      },
      "source": [
        "準備訓練目標"
      ]
    },
    {
      "cell_type": "code",
      "metadata": {
        "id": "Yt9jquXKwFd0"
      },
      "source": [
        "y_train = np.array(train_data['Winner'])\n",
        "y_val = np.array(val_data['Winner'])\n",
        "y_test = np.array(test_data['Winner'])"
      ],
      "execution_count": 22,
      "outputs": []
    },
    {
      "cell_type": "markdown",
      "metadata": {
        "id": "sCEyxBinwFd0"
      },
      "source": [
        "將\"One-hot Encode\"和\"數值\"兩種資料分開"
      ]
    },
    {
      "cell_type": "code",
      "metadata": {
        "colab": {
          "base_uri": "https://localhost:8080/"
        },
        "id": "RfD0zdeSwFd1",
        "outputId": "3c918d1c-e21e-4bd1-b64c-c55b48f9682a"
      },
      "source": [
        "# 取得寶可夢的能力值\n",
        "pokemon_data_normal = np.array(pokemon_df.loc[:, 'HP':'Generation'])\n",
        "pokemon_data_one_hot = np.array(pokemon_df.loc[:, 'Legendary':])\n",
        "print(pokemon_data_normal.shape)\n",
        "print(pokemon_data_one_hot.shape)\n",
        "# 透過前面準備的索引產生輸入數據\n",
        "x_train_normal = pokemon_data_normal[x_train_index -1].reshape((-1, 14))\n",
        "x_val_normal = pokemon_data_normal[x_val_index -1].reshape((-1, 14))\n",
        "x_test_normal = pokemon_data_normal[x_test_index -1].reshape((-1, 14))\n",
        "x_train_one_hot = pokemon_data_one_hot[x_train_index -1].reshape((-1, 40))\n",
        "x_val_one_hot = pokemon_data_one_hot[x_val_index -1].reshape((-1, 40))\n",
        "x_test_one_hot = pokemon_data_one_hot[x_test_index -1].reshape((-1, 40))\n",
        "print(x_train_normal.shape)\n",
        "print(x_train_one_hot.shape)"
      ],
      "execution_count": 23,
      "outputs": [
        {
          "output_type": "stream",
          "text": [
            "(800, 7)\n",
            "(800, 20)\n",
            "(30000, 14)\n",
            "(30000, 40)\n"
          ],
          "name": "stdout"
        }
      ]
    },
    {
      "cell_type": "code",
      "metadata": {
        "colab": {
          "base_uri": "https://localhost:8080/"
        },
        "id": "w1bJxL5IwFd1",
        "outputId": "6732c996-21a4-44b3-f421-0798fb2a3833"
      },
      "source": [
        "# 建立normal data輸入層\n",
        "input_1 = keras.Input(shape=(14, ), name='normal_input')\n",
        "# 建立 one hot encode輸入層\n",
        "input_2 = keras.Input(shape=(40, ), name='one_hot_input')\n",
        "\n",
        "#========================= Write your code here ========================= #\n",
        "# input_1: 第1層全連接層設為64個unit，relu activation function\n",
        "h1_1 = layers.Dense(64, activation='relu')(input_1)\n",
        "# input_1: 第2層Dropout層，捨棄比率設定為20%\n",
        "h1_1_dp = layers.Dropout(0.2) (h1_1)\n",
        "# input_1: 第3層全連接層設為64個unit，relu activation function\n",
        "h1_2 = layers.Dense(64, activation='relu') (h1_1_dp)\n",
        "\n",
        "# input_2: 第1層全連接層設為64個unit，relu activation function\n",
        "h1_3 = layers.Dense(64, activation='relu') (input_2)\n",
        "# input_2: 第2層Dropout層，捨棄比率設定為20%\n",
        "h1_3_dp = layers.Dropout(0.2) (h1_3)\n",
        "# input_2: 第3層全連接層設為32個unit，relu activation function\n",
        "h1_4 = layers.Dense(32, activation='relu') (h1_3_dp)\n",
        "\n",
        "# 第4層Concatenate層，連接input_1和input_2經過全連接後出來的特徵\n",
        "concat = layers.Concatenate() ([h1_2,h1_4])\n",
        "# 第5層Dropout層，捨棄比率設定為20%\n",
        "h2_1 = layers.Dropout(0.2) (concat)\n",
        "# 第6層全連接層設為64個unit，relu activation function\n",
        "h2_2 = layers.Dense(64, activation='relu') (h2_1)\n",
        "# 第7層Dropout層，捨棄比率設定為20%\n",
        "h2_2_dp = layers.Dropout(0.2) (h2_1)\n",
        "# 第8層全連接層設為32個unit，relu activation function\n",
        "h2_3 = layers.Dense(32, activation='relu') (h2_2_dp)\n",
        "# 第9層Dropout層，捨棄比率設定為20%\n",
        "h2_3_dp = layers.Dropout(0.2) (h2_3)\n",
        "# 最後一層全連接層，輸出維度為類別數量，並且使用sigmoid激活函數\n",
        "outputs=layers.Dense(1, activation='sigmoid') (h2_3_dp)\n",
        "#======================================================================== #\n",
        "\n",
        "# 建立網路模型(將輸入到輸出所有經過的網路層連接起來)\n",
        "model = keras.Model(inputs=[input_1, input_2], outputs=outputs, name='model')\n",
        "model.summary()  # 顯示網路架構"
      ],
      "execution_count": 29,
      "outputs": [
        {
          "output_type": "stream",
          "text": [
            "Model: \"model\"\n",
            "__________________________________________________________________________________________________\n",
            "Layer (type)                    Output Shape         Param #     Connected to                     \n",
            "==================================================================================================\n",
            "normal_input (InputLayer)       [(None, 14)]         0                                            \n",
            "__________________________________________________________________________________________________\n",
            "one_hot_input (InputLayer)      [(None, 40)]         0                                            \n",
            "__________________________________________________________________________________________________\n",
            "dense_16 (Dense)                (None, 64)           960         normal_input[0][0]               \n",
            "__________________________________________________________________________________________________\n",
            "dense_18 (Dense)                (None, 64)           2624        one_hot_input[0][0]              \n",
            "__________________________________________________________________________________________________\n",
            "dropout_12 (Dropout)            (None, 64)           0           dense_16[0][0]                   \n",
            "__________________________________________________________________________________________________\n",
            "dropout_13 (Dropout)            (None, 64)           0           dense_18[0][0]                   \n",
            "__________________________________________________________________________________________________\n",
            "dense_17 (Dense)                (None, 64)           4160        dropout_12[0][0]                 \n",
            "__________________________________________________________________________________________________\n",
            "dense_19 (Dense)                (None, 32)           2080        dropout_13[0][0]                 \n",
            "__________________________________________________________________________________________________\n",
            "concatenate_2 (Concatenate)     (None, 96)           0           dense_17[0][0]                   \n",
            "                                                                 dense_19[0][0]                   \n",
            "__________________________________________________________________________________________________\n",
            "dropout_14 (Dropout)            (None, 96)           0           concatenate_2[0][0]              \n",
            "__________________________________________________________________________________________________\n",
            "dropout_15 (Dropout)            (None, 96)           0           dropout_14[0][0]                 \n",
            "__________________________________________________________________________________________________\n",
            "dense_21 (Dense)                (None, 32)           3104        dropout_15[0][0]                 \n",
            "__________________________________________________________________________________________________\n",
            "dropout_16 (Dropout)            (None, 32)           0           dense_21[0][0]                   \n",
            "__________________________________________________________________________________________________\n",
            "dense_22 (Dense)                (None, 1)            33          dropout_16[0][0]                 \n",
            "==================================================================================================\n",
            "Total params: 12,961\n",
            "Trainable params: 12,961\n",
            "Non-trainable params: 0\n",
            "__________________________________________________________________________________________________\n"
          ],
          "name": "stdout"
        }
      ]
    },
    {
      "cell_type": "code",
      "metadata": {
        "colab": {
          "base_uri": "https://localhost:8080/",
          "height": 953
        },
        "id": "rPQxkUgkwFd2",
        "outputId": "a12f2279-677a-415a-8f49-c3f8e5257508"
      },
      "source": [
        "# 產生網絡拓撲圖\n",
        "plot_model(model, to_file='model.png')\n",
        "\n",
        "# 秀出網絡拓撲圖\n",
        "Image('model.png')"
      ],
      "execution_count": 30,
      "outputs": [
        {
          "output_type": "execute_result",
          "data": {
            "image/png": "[encoded data removed]",
            "text/plain": [
              "<IPython.core.display.Image object>"
            ]
          },
          "metadata": {
            "tags": []
          },
          "execution_count": 30
        }
      ]
    },
    {
      "cell_type": "markdown",
      "metadata": {
        "id": "XbofHgZ1wFd2"
      },
      "source": [
        "創建紀錄檔目錄"
      ]
    },
    {
      "cell_type": "code",
      "metadata": {
        "id": "FQZxq1oLwFd2"
      },
      "source": [
        "model_dir = 'lab2-logs/models/'\n",
        "if not os.path.isdir(model_dir):\n",
        "    os.makedirs(model_dir)"
      ],
      "execution_count": 31,
      "outputs": []
    },
    {
      "cell_type": "markdown",
      "metadata": {
        "id": "HiONc0JJwFd2"
      },
      "source": [
        "建立Callback function："
      ]
    },
    {
      "cell_type": "code",
      "metadata": {
        "id": "zTurmlqpwFd3"
      },
      "source": [
        "# 儲存訓練記錄檔\n",
        "log_dir = os.path.join('lab3-logs', 'model')\n",
        "model_cbk = keras.callbacks.TensorBoard(log_dir=log_dir)\n",
        "# 儲存最好的網路模型權重\n",
        "model_mckp = keras.callbacks.ModelCheckpoint(model_dir + '/Best-model.h5', \n",
        "                                         monitor='val_binary_accuracy', \n",
        "                                         save_best_only=True, \n",
        "                                         mode='max')"
      ],
      "execution_count": 33,
      "outputs": []
    },
    {
      "cell_type": "markdown",
      "metadata": {
        "id": "sswysikIwFd3"
      },
      "source": [
        "設定訓練使用的優化器、損失函數和指標函數"
      ]
    },
    {
      "cell_type": "code",
      "metadata": {
        "id": "VMyYPf-QwFd3"
      },
      "source": [
        "model.compile(keras.optimizers.Adam(), \n",
        "               loss=keras.losses.BinaryCrossentropy(), \n",
        "               metrics=[keras.metrics.BinaryAccuracy()])"
      ],
      "execution_count": 34,
      "outputs": []
    },
    {
      "cell_type": "markdown",
      "metadata": {
        "id": "v8tJcUgjwFd4"
      },
      "source": [
        "訓練網路模型"
      ]
    },
    {
      "cell_type": "code",
      "metadata": {
        "scrolled": true,
        "id": "cED_-hhnwFd4",
        "outputId": "34c07a21-a3e4-4077-a257-ffca2a446d4e",
        "colab": {
          "base_uri": "https://localhost:8080/"
        }
      },
      "source": [
        "history = model.fit(\n",
        "    x=[x_train_normal, x_train_one_hot], \n",
        "    y=y_train, \n",
        "    batch_size=64 ,\n",
        "    epochs=100, \n",
        "    validation_data=([x_val_normal, x_val_one_hot], y_val), \n",
        "    callbacks=[model_cbk, model_mckp]\n",
        ")"
      ],
      "execution_count": 35,
      "outputs": [
        {
          "output_type": "stream",
          "text": [
            "Epoch 1/100\n",
            "469/469 [==============================] - 6s 6ms/step - loss: 0.4094 - binary_accuracy: 0.8330 - val_loss: 0.3068 - val_binary_accuracy: 0.9049\n",
            "Epoch 2/100\n",
            "469/469 [==============================] - 2s 5ms/step - loss: 0.2944 - binary_accuracy: 0.9002 - val_loss: 0.2152 - val_binary_accuracy: 0.9240\n",
            "Epoch 3/100\n",
            "469/469 [==============================] - 2s 5ms/step - loss: 0.2374 - binary_accuracy: 0.9175 - val_loss: 0.1722 - val_binary_accuracy: 0.9404\n",
            "Epoch 4/100\n",
            "469/469 [==============================] - 3s 5ms/step - loss: 0.2015 - binary_accuracy: 0.9280 - val_loss: 0.1522 - val_binary_accuracy: 0.9449\n",
            "Epoch 5/100\n",
            "469/469 [==============================] - 2s 5ms/step - loss: 0.1755 - binary_accuracy: 0.9366 - val_loss: 0.1346 - val_binary_accuracy: 0.9487\n",
            "Epoch 6/100\n",
            "469/469 [==============================] - 2s 5ms/step - loss: 0.1604 - binary_accuracy: 0.9430 - val_loss: 0.1220 - val_binary_accuracy: 0.9534\n",
            "Epoch 7/100\n",
            "469/469 [==============================] - 2s 5ms/step - loss: 0.1437 - binary_accuracy: 0.9465 - val_loss: 0.1106 - val_binary_accuracy: 0.9580\n",
            "Epoch 8/100\n",
            "469/469 [==============================] - 2s 5ms/step - loss: 0.1338 - binary_accuracy: 0.9490 - val_loss: 0.1089 - val_binary_accuracy: 0.9565\n",
            "Epoch 9/100\n",
            "469/469 [==============================] - 2s 5ms/step - loss: 0.1260 - binary_accuracy: 0.9518 - val_loss: 0.1013 - val_binary_accuracy: 0.9608\n",
            "Epoch 10/100\n",
            "469/469 [==============================] - 2s 5ms/step - loss: 0.1196 - binary_accuracy: 0.9542 - val_loss: 0.0983 - val_binary_accuracy: 0.9614\n",
            "Epoch 11/100\n",
            "469/469 [==============================] - 2s 5ms/step - loss: 0.1142 - binary_accuracy: 0.9562 - val_loss: 0.0962 - val_binary_accuracy: 0.9626\n",
            "Epoch 12/100\n",
            "469/469 [==============================] - 2s 5ms/step - loss: 0.1106 - binary_accuracy: 0.9573 - val_loss: 0.0910 - val_binary_accuracy: 0.9652\n",
            "Epoch 13/100\n",
            "469/469 [==============================] - 2s 5ms/step - loss: 0.1028 - binary_accuracy: 0.9595 - val_loss: 0.0909 - val_binary_accuracy: 0.9649\n",
            "Epoch 14/100\n",
            "469/469 [==============================] - 2s 5ms/step - loss: 0.1020 - binary_accuracy: 0.9602 - val_loss: 0.0859 - val_binary_accuracy: 0.9677\n",
            "Epoch 15/100\n",
            "469/469 [==============================] - 3s 6ms/step - loss: 0.1017 - binary_accuracy: 0.9605 - val_loss: 0.0864 - val_binary_accuracy: 0.9669\n",
            "Epoch 16/100\n",
            "469/469 [==============================] - 2s 5ms/step - loss: 0.0951 - binary_accuracy: 0.9624 - val_loss: 0.0899 - val_binary_accuracy: 0.9664\n",
            "Epoch 17/100\n",
            "469/469 [==============================] - 3s 5ms/step - loss: 0.0969 - binary_accuracy: 0.9620 - val_loss: 0.0887 - val_binary_accuracy: 0.9671\n",
            "Epoch 18/100\n",
            "469/469 [==============================] - 3s 5ms/step - loss: 0.0946 - binary_accuracy: 0.9628 - val_loss: 0.0851 - val_binary_accuracy: 0.9659\n",
            "Epoch 19/100\n",
            "469/469 [==============================] - 2s 5ms/step - loss: 0.0898 - binary_accuracy: 0.9640 - val_loss: 0.0832 - val_binary_accuracy: 0.9691\n",
            "Epoch 20/100\n",
            "469/469 [==============================] - 2s 5ms/step - loss: 0.0886 - binary_accuracy: 0.9653 - val_loss: 0.0838 - val_binary_accuracy: 0.9685\n",
            "Epoch 21/100\n",
            "469/469 [==============================] - 3s 6ms/step - loss: 0.0887 - binary_accuracy: 0.9659 - val_loss: 0.0827 - val_binary_accuracy: 0.9685\n",
            "Epoch 22/100\n",
            "469/469 [==============================] - 2s 5ms/step - loss: 0.0853 - binary_accuracy: 0.9655 - val_loss: 0.0828 - val_binary_accuracy: 0.9686\n",
            "Epoch 23/100\n",
            "469/469 [==============================] - 2s 5ms/step - loss: 0.0847 - binary_accuracy: 0.9672 - val_loss: 0.0826 - val_binary_accuracy: 0.9681\n",
            "Epoch 24/100\n",
            "469/469 [==============================] - 2s 5ms/step - loss: 0.0845 - binary_accuracy: 0.9668 - val_loss: 0.0898 - val_binary_accuracy: 0.9642\n",
            "Epoch 25/100\n",
            "469/469 [==============================] - 2s 5ms/step - loss: 0.0855 - binary_accuracy: 0.9661 - val_loss: 0.0847 - val_binary_accuracy: 0.9680\n",
            "Epoch 26/100\n",
            "469/469 [==============================] - 2s 5ms/step - loss: 0.0835 - binary_accuracy: 0.9673 - val_loss: 0.0857 - val_binary_accuracy: 0.9697\n",
            "Epoch 27/100\n",
            "469/469 [==============================] - 2s 5ms/step - loss: 0.0837 - binary_accuracy: 0.9666 - val_loss: 0.0832 - val_binary_accuracy: 0.9672\n",
            "Epoch 28/100\n",
            "469/469 [==============================] - 3s 6ms/step - loss: 0.0840 - binary_accuracy: 0.9664 - val_loss: 0.0811 - val_binary_accuracy: 0.9684\n",
            "Epoch 29/100\n",
            "469/469 [==============================] - 2s 5ms/step - loss: 0.0808 - binary_accuracy: 0.9690 - val_loss: 0.0839 - val_binary_accuracy: 0.9696\n",
            "Epoch 30/100\n",
            "469/469 [==============================] - 2s 5ms/step - loss: 0.0811 - binary_accuracy: 0.9693 - val_loss: 0.0797 - val_binary_accuracy: 0.9700\n",
            "Epoch 31/100\n",
            "469/469 [==============================] - 2s 5ms/step - loss: 0.0747 - binary_accuracy: 0.9709 - val_loss: 0.0902 - val_binary_accuracy: 0.9647\n",
            "Epoch 32/100\n",
            "469/469 [==============================] - 2s 5ms/step - loss: 0.0760 - binary_accuracy: 0.9706 - val_loss: 0.0869 - val_binary_accuracy: 0.9678\n",
            "Epoch 33/100\n",
            "469/469 [==============================] - 2s 5ms/step - loss: 0.0762 - binary_accuracy: 0.9703 - val_loss: 0.0830 - val_binary_accuracy: 0.9706\n",
            "Epoch 34/100\n",
            "469/469 [==============================] - 2s 5ms/step - loss: 0.0756 - binary_accuracy: 0.9699 - val_loss: 0.0812 - val_binary_accuracy: 0.9705\n",
            "Epoch 35/100\n",
            "469/469 [==============================] - 2s 5ms/step - loss: 0.0770 - binary_accuracy: 0.9698 - val_loss: 0.0914 - val_binary_accuracy: 0.9675\n",
            "Epoch 36/100\n",
            "469/469 [==============================] - 2s 5ms/step - loss: 0.0749 - binary_accuracy: 0.9717 - val_loss: 0.0784 - val_binary_accuracy: 0.9721\n",
            "Epoch 37/100\n",
            "469/469 [==============================] - 2s 5ms/step - loss: 0.0731 - binary_accuracy: 0.9713 - val_loss: 0.0881 - val_binary_accuracy: 0.9696\n",
            "Epoch 38/100\n",
            "469/469 [==============================] - 2s 5ms/step - loss: 0.0749 - binary_accuracy: 0.9710 - val_loss: 0.0793 - val_binary_accuracy: 0.9716\n",
            "Epoch 39/100\n",
            "469/469 [==============================] - 2s 5ms/step - loss: 0.0733 - binary_accuracy: 0.9710 - val_loss: 0.0795 - val_binary_accuracy: 0.9715\n",
            "Epoch 40/100\n",
            "469/469 [==============================] - 2s 5ms/step - loss: 0.0697 - binary_accuracy: 0.9729 - val_loss: 0.0835 - val_binary_accuracy: 0.9693\n",
            "Epoch 41/100\n",
            "469/469 [==============================] - 2s 5ms/step - loss: 0.0738 - binary_accuracy: 0.9710 - val_loss: 0.0835 - val_binary_accuracy: 0.9711\n",
            "Epoch 42/100\n",
            "469/469 [==============================] - 2s 5ms/step - loss: 0.0705 - binary_accuracy: 0.9723 - val_loss: 0.0767 - val_binary_accuracy: 0.9716\n",
            "Epoch 43/100\n",
            "469/469 [==============================] - 2s 5ms/step - loss: 0.0690 - binary_accuracy: 0.9736 - val_loss: 0.0807 - val_binary_accuracy: 0.9726\n",
            "Epoch 44/100\n",
            "469/469 [==============================] - 2s 5ms/step - loss: 0.0694 - binary_accuracy: 0.9730 - val_loss: 0.0802 - val_binary_accuracy: 0.9715\n",
            "Epoch 45/100\n",
            "469/469 [==============================] - 2s 5ms/step - loss: 0.0692 - binary_accuracy: 0.9725 - val_loss: 0.0870 - val_binary_accuracy: 0.9711\n",
            "Epoch 46/100\n",
            "469/469 [==============================] - 2s 5ms/step - loss: 0.0715 - binary_accuracy: 0.9723 - val_loss: 0.0805 - val_binary_accuracy: 0.9716\n",
            "Epoch 47/100\n",
            "469/469 [==============================] - 2s 5ms/step - loss: 0.0677 - binary_accuracy: 0.9740 - val_loss: 0.0778 - val_binary_accuracy: 0.9715\n",
            "Epoch 48/100\n",
            "469/469 [==============================] - 2s 5ms/step - loss: 0.0657 - binary_accuracy: 0.9749 - val_loss: 0.0809 - val_binary_accuracy: 0.9707\n",
            "Epoch 49/100\n",
            "469/469 [==============================] - 3s 6ms/step - loss: 0.0674 - binary_accuracy: 0.9741 - val_loss: 0.0850 - val_binary_accuracy: 0.9702\n",
            "Epoch 50/100\n",
            "469/469 [==============================] - 2s 5ms/step - loss: 0.0676 - binary_accuracy: 0.9746 - val_loss: 0.0813 - val_binary_accuracy: 0.9729\n",
            "Epoch 51/100\n",
            "469/469 [==============================] - 2s 5ms/step - loss: 0.0658 - binary_accuracy: 0.9745 - val_loss: 0.0845 - val_binary_accuracy: 0.9708\n",
            "Epoch 52/100\n",
            "469/469 [==============================] - 3s 6ms/step - loss: 0.0645 - binary_accuracy: 0.9752 - val_loss: 0.0822 - val_binary_accuracy: 0.9714\n",
            "Epoch 53/100\n",
            "469/469 [==============================] - 2s 5ms/step - loss: 0.0676 - binary_accuracy: 0.9747 - val_loss: 0.0820 - val_binary_accuracy: 0.9710\n",
            "Epoch 54/100\n",
            "469/469 [==============================] - 2s 5ms/step - loss: 0.0673 - binary_accuracy: 0.9734 - val_loss: 0.0894 - val_binary_accuracy: 0.9690\n",
            "Epoch 55/100\n",
            "469/469 [==============================] - 2s 5ms/step - loss: 0.0661 - binary_accuracy: 0.9743 - val_loss: 0.0791 - val_binary_accuracy: 0.9711\n",
            "Epoch 56/100\n",
            "469/469 [==============================] - 2s 5ms/step - loss: 0.0662 - binary_accuracy: 0.9736 - val_loss: 0.0825 - val_binary_accuracy: 0.9724\n",
            "Epoch 57/100\n",
            "469/469 [==============================] - 2s 5ms/step - loss: 0.0650 - binary_accuracy: 0.9753 - val_loss: 0.0814 - val_binary_accuracy: 0.9706\n",
            "Epoch 58/100\n",
            "469/469 [==============================] - 2s 5ms/step - loss: 0.0617 - binary_accuracy: 0.9757 - val_loss: 0.0842 - val_binary_accuracy: 0.9714\n",
            "Epoch 59/100\n",
            "469/469 [==============================] - 2s 5ms/step - loss: 0.0649 - binary_accuracy: 0.9747 - val_loss: 0.0938 - val_binary_accuracy: 0.9673\n",
            "Epoch 60/100\n",
            "469/469 [==============================] - 3s 6ms/step - loss: 0.0618 - binary_accuracy: 0.9766 - val_loss: 0.0901 - val_binary_accuracy: 0.9704\n",
            "Epoch 61/100\n",
            "469/469 [==============================] - 2s 5ms/step - loss: 0.0612 - binary_accuracy: 0.9766 - val_loss: 0.0873 - val_binary_accuracy: 0.9711\n",
            "Epoch 62/100\n",
            "469/469 [==============================] - 2s 5ms/step - loss: 0.0622 - binary_accuracy: 0.9761 - val_loss: 0.0852 - val_binary_accuracy: 0.9706\n",
            "Epoch 63/100\n",
            "469/469 [==============================] - 2s 5ms/step - loss: 0.0617 - binary_accuracy: 0.9768 - val_loss: 0.0805 - val_binary_accuracy: 0.9721\n",
            "Epoch 64/100\n",
            "469/469 [==============================] - 3s 6ms/step - loss: 0.0651 - binary_accuracy: 0.9746 - val_loss: 0.0853 - val_binary_accuracy: 0.9720\n",
            "Epoch 65/100\n",
            "469/469 [==============================] - 3s 6ms/step - loss: 0.0616 - binary_accuracy: 0.9757 - val_loss: 0.0884 - val_binary_accuracy: 0.9692\n",
            "Epoch 66/100\n",
            "469/469 [==============================] - 2s 5ms/step - loss: 0.0607 - binary_accuracy: 0.9764 - val_loss: 0.0910 - val_binary_accuracy: 0.9711\n",
            "Epoch 67/100\n",
            "469/469 [==============================] - 2s 5ms/step - loss: 0.0620 - binary_accuracy: 0.9758 - val_loss: 0.0831 - val_binary_accuracy: 0.9709\n",
            "Epoch 68/100\n",
            "469/469 [==============================] - 2s 5ms/step - loss: 0.0619 - binary_accuracy: 0.9757 - val_loss: 0.0854 - val_binary_accuracy: 0.9709\n",
            "Epoch 69/100\n",
            "469/469 [==============================] - 2s 5ms/step - loss: 0.0605 - binary_accuracy: 0.9756 - val_loss: 0.0858 - val_binary_accuracy: 0.9718\n",
            "Epoch 70/100\n",
            "469/469 [==============================] - 3s 6ms/step - loss: 0.0598 - binary_accuracy: 0.9780 - val_loss: 0.0894 - val_binary_accuracy: 0.9714\n",
            "Epoch 71/100\n",
            "469/469 [==============================] - 2s 5ms/step - loss: 0.0594 - binary_accuracy: 0.9773 - val_loss: 0.0829 - val_binary_accuracy: 0.9713\n",
            "Epoch 72/100\n",
            "469/469 [==============================] - 2s 5ms/step - loss: 0.0632 - binary_accuracy: 0.9767 - val_loss: 0.0926 - val_binary_accuracy: 0.9711\n",
            "Epoch 73/100\n",
            "469/469 [==============================] - 2s 5ms/step - loss: 0.0592 - binary_accuracy: 0.9777 - val_loss: 0.0866 - val_binary_accuracy: 0.9732\n",
            "Epoch 74/100\n",
            "469/469 [==============================] - 3s 6ms/step - loss: 0.0585 - binary_accuracy: 0.9769 - val_loss: 0.0891 - val_binary_accuracy: 0.9716\n",
            "Epoch 75/100\n",
            "469/469 [==============================] - 2s 5ms/step - loss: 0.0598 - binary_accuracy: 0.9771 - val_loss: 0.0844 - val_binary_accuracy: 0.9710\n",
            "Epoch 76/100\n",
            "469/469 [==============================] - 3s 6ms/step - loss: 0.0593 - binary_accuracy: 0.9764 - val_loss: 0.0792 - val_binary_accuracy: 0.9735\n",
            "Epoch 77/100\n",
            "469/469 [==============================] - 2s 5ms/step - loss: 0.0574 - binary_accuracy: 0.9781 - val_loss: 0.0838 - val_binary_accuracy: 0.9720\n",
            "Epoch 78/100\n",
            "469/469 [==============================] - 2s 5ms/step - loss: 0.0547 - binary_accuracy: 0.9789 - val_loss: 0.0893 - val_binary_accuracy: 0.9701\n",
            "Epoch 79/100\n",
            "469/469 [==============================] - 2s 5ms/step - loss: 0.0601 - binary_accuracy: 0.9766 - val_loss: 0.0909 - val_binary_accuracy: 0.9693\n",
            "Epoch 80/100\n",
            "469/469 [==============================] - 3s 6ms/step - loss: 0.0605 - binary_accuracy: 0.9771 - val_loss: 0.0876 - val_binary_accuracy: 0.9727\n",
            "Epoch 81/100\n",
            "469/469 [==============================] - 2s 5ms/step - loss: 0.0598 - binary_accuracy: 0.9772 - val_loss: 0.0912 - val_binary_accuracy: 0.9715\n",
            "Epoch 82/100\n",
            "469/469 [==============================] - 2s 5ms/step - loss: 0.0569 - binary_accuracy: 0.9781 - val_loss: 0.0894 - val_binary_accuracy: 0.9728\n",
            "Epoch 83/100\n",
            "469/469 [==============================] - 2s 5ms/step - loss: 0.0584 - binary_accuracy: 0.9778 - val_loss: 0.0925 - val_binary_accuracy: 0.9716\n",
            "Epoch 84/100\n",
            "469/469 [==============================] - 2s 5ms/step - loss: 0.0563 - binary_accuracy: 0.9785 - val_loss: 0.0873 - val_binary_accuracy: 0.9726\n",
            "Epoch 85/100\n",
            "469/469 [==============================] - 2s 5ms/step - loss: 0.0561 - binary_accuracy: 0.9789 - val_loss: 0.0890 - val_binary_accuracy: 0.9725\n",
            "Epoch 86/100\n",
            "469/469 [==============================] - 2s 5ms/step - loss: 0.0583 - binary_accuracy: 0.9781 - val_loss: 0.0874 - val_binary_accuracy: 0.9726\n",
            "Epoch 87/100\n",
            "469/469 [==============================] - 2s 5ms/step - loss: 0.0568 - binary_accuracy: 0.9784 - val_loss: 0.0949 - val_binary_accuracy: 0.9705\n",
            "Epoch 88/100\n",
            "469/469 [==============================] - 2s 5ms/step - loss: 0.0559 - binary_accuracy: 0.9784 - val_loss: 0.0852 - val_binary_accuracy: 0.9720\n",
            "Epoch 89/100\n",
            "469/469 [==============================] - 2s 5ms/step - loss: 0.0585 - binary_accuracy: 0.9781 - val_loss: 0.0826 - val_binary_accuracy: 0.9723\n",
            "Epoch 90/100\n",
            "469/469 [==============================] - 3s 6ms/step - loss: 0.0554 - binary_accuracy: 0.9782 - val_loss: 0.0919 - val_binary_accuracy: 0.9702\n",
            "Epoch 91/100\n",
            "469/469 [==============================] - 2s 5ms/step - loss: 0.0600 - binary_accuracy: 0.9770 - val_loss: 0.0892 - val_binary_accuracy: 0.9709\n",
            "Epoch 92/100\n",
            "469/469 [==============================] - 2s 5ms/step - loss: 0.0590 - binary_accuracy: 0.9773 - val_loss: 0.0841 - val_binary_accuracy: 0.9728\n",
            "Epoch 93/100\n",
            "469/469 [==============================] - 2s 5ms/step - loss: 0.0551 - binary_accuracy: 0.9781 - val_loss: 0.0937 - val_binary_accuracy: 0.9734\n",
            "Epoch 94/100\n",
            "469/469 [==============================] - 3s 6ms/step - loss: 0.0551 - binary_accuracy: 0.9793 - val_loss: 0.0879 - val_binary_accuracy: 0.9701\n",
            "Epoch 95/100\n",
            "469/469 [==============================] - 2s 5ms/step - loss: 0.0555 - binary_accuracy: 0.9792 - val_loss: 0.0836 - val_binary_accuracy: 0.9731\n",
            "Epoch 96/100\n",
            "469/469 [==============================] - 2s 5ms/step - loss: 0.0553 - binary_accuracy: 0.9787 - val_loss: 0.0875 - val_binary_accuracy: 0.9726\n",
            "Epoch 97/100\n",
            "469/469 [==============================] - 2s 5ms/step - loss: 0.0561 - binary_accuracy: 0.9791 - val_loss: 0.0862 - val_binary_accuracy: 0.9718\n",
            "Epoch 98/100\n",
            "469/469 [==============================] - 2s 5ms/step - loss: 0.0543 - binary_accuracy: 0.9800 - val_loss: 0.0827 - val_binary_accuracy: 0.9726\n",
            "Epoch 99/100\n",
            "469/469 [==============================] - 2s 5ms/step - loss: 0.0562 - binary_accuracy: 0.9790 - val_loss: 0.0822 - val_binary_accuracy: 0.9723\n",
            "Epoch 100/100\n",
            "469/469 [==============================] - 2s 5ms/step - loss: 0.0533 - binary_accuracy: 0.9797 - val_loss: 0.0862 - val_binary_accuracy: 0.9721\n"
          ],
          "name": "stdout"
        }
      ]
    },
    {
      "cell_type": "markdown",
      "metadata": {
        "id": "mHRJ2hUxwFd4"
      },
      "source": [
        "### 比較兩種網路的訓練結果"
      ]
    },
    {
      "cell_type": "code",
      "metadata": {
        "id": "3VPoIMhBwFd5",
        "outputId": "dc9954c6-557c-423d-ad76-987d6bb4658a",
        "colab": {
          "base_uri": "https://localhost:8080/",
          "height": 405
        }
      },
      "source": [
        "plt.figure(figsize=(8, 6))\n",
        "plt.plot(history.history['loss'], label='model-training')\n",
        "plt.plot(history.history['val_loss'], label='model-validation')\n",
        "plt.ylabel('accuracy')\n",
        "plt.xlabel('epochs')\n",
        "plt.legend()"
      ],
      "execution_count": 36,
      "outputs": [
        {
          "output_type": "execute_result",
          "data": {
            "text/plain": [
              "<matplotlib.legend.Legend at 0x7fb2a09240d0>"
            ]
          },
          "metadata": {
            "tags": []
          },
          "execution_count": 36
        },
        {
          "output_type": "display_data",
          "data": {
            "image/png": "[encoded data removed]",
            "text/plain": [
              "<Figure size 576x432 with 1 Axes>"
            ]
          },
          "metadata": {
            "tags": [],
            "needs_background": "light"
          }
        }
      ]
    },
    {
      "cell_type": "code",
      "metadata": {
        "id": "3Qv9fLNtwFd5",
        "outputId": "92225065-3e53-4c85-acf8-11b8fd553b87",
        "colab": {
          "base_uri": "https://localhost:8080/",
          "height": 405
        }
      },
      "source": [
        "plt.figure(figsize=(8, 6))\n",
        "plt.plot(history.history['binary_accuracy'], label='model-training')\n",
        "plt.plot(history.history['val_binary_accuracy'], label='model-validation')\n",
        "plt.ylabel('accuracy')\n",
        "plt.xlabel('epochs')\n",
        "plt.legend()"
      ],
      "execution_count": 37,
      "outputs": [
        {
          "output_type": "execute_result",
          "data": {
            "text/plain": [
              "<matplotlib.legend.Legend at 0x7fb29071f890>"
            ]
          },
          "metadata": {
            "tags": []
          },
          "execution_count": 37
        },
        {
          "output_type": "display_data",
          "data": {
            "image/png": "[encoded data removed]",
            "text/plain": [
              "<Figure size 576x432 with 1 Axes>"
            ]
          },
          "metadata": {
            "tags": [],
            "needs_background": "light"
          }
        }
      ]
    },
    {
      "cell_type": "markdown",
      "metadata": {
        "id": "1RBtUemXwFd6"
      },
      "source": [
        "驗證在測試集上"
      ]
    },
    {
      "cell_type": "code",
      "metadata": {
        "id": "UNniU8hOwFd6",
        "outputId": "e171b299-6b4b-445b-fa8b-0a37749ba0b2",
        "colab": {
          "base_uri": "https://localhost:8080/"
        }
      },
      "source": [
        "# 載入Model準確率最高的模型權重\n",
        "model.load_weights(model_dir + '/Best-model.h5')\n",
        "loss, accuracy = model.evaluate([x_test_normal, x_test_one_hot], y_test)\n",
        "print(\"Model-1: {}%\".format(accuracy))"
      ],
      "execution_count": 38,
      "outputs": [
        {
          "output_type": "stream",
          "text": [
            "313/313 [==============================] - 1s 3ms/step - loss: 0.0908 - binary_accuracy: 0.9702\n",
            "Model-1: 0.9702000021934509%\n"
          ],
          "name": "stdout"
        }
      ]
    }
  ]
}