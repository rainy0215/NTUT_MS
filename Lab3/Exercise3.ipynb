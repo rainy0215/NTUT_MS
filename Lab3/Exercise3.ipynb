{
  "nbformat": 4,
  "nbformat_minor": 0,
  "metadata": {
    "kernelspec": {
      "name": "python3",
      "display_name": "Python 3"
    },
    "colab": {
      "name": "Exercise3.ipynb",
      "provenance": []
    },
    "language_info": {
      "name": "python"
    },
    "accelerator": "GPU"
  },
  "cells": [
    {
      "cell_type": "markdown",
      "metadata": {
        "id": "r25ScrivwFda"
      },
      "source": [
        "# Exercise3：Pokemon classification"
      ]
    },
    {
      "cell_type": "markdown",
      "metadata": {
        "id": "iR2uNX2JwFdb"
      },
      "source": [
        "<table class=\"tfo-notebook-buttons\" align=\"left\">\n",
        "  <td>\n",
        "    <a target=\"_blank\" href=\"https://colab.research.google.com/github/taipeitechmmslab/MMSLAB-TF2/blob/master/Exercise/Exercise3.ipynb\"><img src=\"https://www.tensorflow.org/images/colab_logo_32px.png\" />Run in Google Colab</a>\n",
        "  </td>\n",
        "  <td>\n",
        "    <a target=\"_blank\" href=\"https://github.com/taipeitechmmslab/MMSLAB-TF2/blob/master/Exercise/Exercise3.ipynb\"><img src=\"https://www.tensorflow.org/images/GitHub-Mark-32px.png\" />View source on GitHub</a>\n",
        "  </td>\n",
        "</table>"
      ]
    },
    {
      "cell_type": "markdown",
      "metadata": {
        "id": "EMtT4hzSwFdc"
      },
      "source": [
        "https://www.kaggle.com/terminus7/pokemon-challenge\n",
        "\n",
        "- Name：寶可夢名子\n",
        "- Type 1：寶可夢的屬性\n",
        "- Type 2：寶可夢的屬性(寶可夢可能擁有兩種屬性)\n",
        "- HP：生命直\n",
        "- Attack：攻擊力\n",
        "- Defense：守備力\n",
        "- Sp. Atk：特殊攻擊力\n",
        "- Sp. Def：特殊防禦力\n",
        "- Speed：速度\n",
        "- Generation：進化階段\n",
        "- Legendary：神獸 (1=神獸, 0=一般)"
      ]
    },
    {
      "cell_type": "markdown",
      "metadata": {
        "id": "Wh8LV-xHwFdc"
      },
      "source": [
        "### Import"
      ]
    },
    {
      "cell_type": "code",
      "metadata": {
        "id": "6XQIg0PswFdd"
      },
      "source": [
        "import os\n",
        "import numpy as np\n",
        "import pandas as pd\n",
        "import tensorflow as tf\n",
        "import matplotlib.pyplot as plt\n",
        "\n",
        "from tensorflow import keras\n",
        "from tensorflow.keras import layers\n",
        "\n",
        "from tensorflow.keras.utils import plot_model\n",
        "from IPython.display import Image"
      ],
      "execution_count": 2,
      "outputs": []
    },
    {
      "cell_type": "markdown",
      "metadata": {
        "id": "G2tkKLmGwFde"
      },
      "source": [
        "### 讀取數據並分析"
      ]
    },
    {
      "cell_type": "markdown",
      "metadata": {
        "id": "KRQ0TFWlwFde"
      },
      "source": [
        "讀取800隻寶可夢數據："
      ]
    },
    {
      "cell_type": "code",
      "metadata": {
        "scrolled": true,
        "colab": {
          "base_uri": "https://localhost:8080/",
          "height": 204
        },
        "id": "G3GyI-IswFde",
        "outputId": "49a6d56e-d1e4-401d-f4d0-4d43b2a54b7c"
      },
      "source": [
        "url='https://raw.githubusercontent.com/rainy0215/NTUT_MS/master/Lab3/pokemon.csv'\n",
        "pokemon_df = pd.read_csv(url)  # 讀取寶可夢數據\n",
        "pokemon_df.head()  # 顯示頭5比資料"
      ],
      "execution_count": 3,
      "outputs": [
        {
          "output_type": "execute_result",
          "data": {
            "text/html": [
              "<div>\n",
              "<style scoped>\n",
              "    .dataframe tbody tr th:only-of-type {\n",
              "        vertical-align: middle;\n",
              "    }\n",
              "\n",
              "    .dataframe tbody tr th {\n",
              "        vertical-align: top;\n",
              "    }\n",
              "\n",
              "    .dataframe thead th {\n",
              "        text-align: right;\n",
              "    }\n",
              "</style>\n",
              "<table border=\"1\" class=\"dataframe\">\n",
              "  <thead>\n",
              "    <tr style=\"text-align: right;\">\n",
              "      <th></th>\n",
              "      <th>#</th>\n",
              "      <th>Name</th>\n",
              "      <th>Type 1</th>\n",
              "      <th>Type 2</th>\n",
              "      <th>HP</th>\n",
              "      <th>Attack</th>\n",
              "      <th>Defense</th>\n",
              "      <th>Sp. Atk</th>\n",
              "      <th>Sp. Def</th>\n",
              "      <th>Speed</th>\n",
              "      <th>Generation</th>\n",
              "      <th>Legendary</th>\n",
              "    </tr>\n",
              "  </thead>\n",
              "  <tbody>\n",
              "    <tr>\n",
              "      <th>0</th>\n",
              "      <td>1</td>\n",
              "      <td>Bulbasaur</td>\n",
              "      <td>Grass</td>\n",
              "      <td>Poison</td>\n",
              "      <td>45</td>\n",
              "      <td>49</td>\n",
              "      <td>49</td>\n",
              "      <td>65</td>\n",
              "      <td>65</td>\n",
              "      <td>45</td>\n",
              "      <td>1</td>\n",
              "      <td>False</td>\n",
              "    </tr>\n",
              "    <tr>\n",
              "      <th>1</th>\n",
              "      <td>2</td>\n",
              "      <td>Ivysaur</td>\n",
              "      <td>Grass</td>\n",
              "      <td>Poison</td>\n",
              "      <td>60</td>\n",
              "      <td>62</td>\n",
              "      <td>63</td>\n",
              "      <td>80</td>\n",
              "      <td>80</td>\n",
              "      <td>60</td>\n",
              "      <td>1</td>\n",
              "      <td>False</td>\n",
              "    </tr>\n",
              "    <tr>\n",
              "      <th>2</th>\n",
              "      <td>3</td>\n",
              "      <td>Venusaur</td>\n",
              "      <td>Grass</td>\n",
              "      <td>Poison</td>\n",
              "      <td>80</td>\n",
              "      <td>82</td>\n",
              "      <td>83</td>\n",
              "      <td>100</td>\n",
              "      <td>100</td>\n",
              "      <td>80</td>\n",
              "      <td>1</td>\n",
              "      <td>False</td>\n",
              "    </tr>\n",
              "    <tr>\n",
              "      <th>3</th>\n",
              "      <td>4</td>\n",
              "      <td>Mega Venusaur</td>\n",
              "      <td>Grass</td>\n",
              "      <td>Poison</td>\n",
              "      <td>80</td>\n",
              "      <td>100</td>\n",
              "      <td>123</td>\n",
              "      <td>122</td>\n",
              "      <td>120</td>\n",
              "      <td>80</td>\n",
              "      <td>1</td>\n",
              "      <td>False</td>\n",
              "    </tr>\n",
              "    <tr>\n",
              "      <th>4</th>\n",
              "      <td>5</td>\n",
              "      <td>Charmander</td>\n",
              "      <td>Fire</td>\n",
              "      <td>NaN</td>\n",
              "      <td>39</td>\n",
              "      <td>52</td>\n",
              "      <td>43</td>\n",
              "      <td>60</td>\n",
              "      <td>50</td>\n",
              "      <td>65</td>\n",
              "      <td>1</td>\n",
              "      <td>False</td>\n",
              "    </tr>\n",
              "  </tbody>\n",
              "</table>\n",
              "</div>"
            ],
            "text/plain": [
              "   #           Name Type 1  Type 2  ...  Sp. Def  Speed  Generation  Legendary\n",
              "0  1      Bulbasaur  Grass  Poison  ...       65     45           1      False\n",
              "1  2        Ivysaur  Grass  Poison  ...       80     60           1      False\n",
              "2  3       Venusaur  Grass  Poison  ...      100     80           1      False\n",
              "3  4  Mega Venusaur  Grass  Poison  ...      120     80           1      False\n",
              "4  5     Charmander   Fire     NaN  ...       50     65           1      False\n",
              "\n",
              "[5 rows x 12 columns]"
            ]
          },
          "metadata": {
            "tags": []
          },
          "execution_count": 3
        }
      ]
    },
    {
      "cell_type": "markdown",
      "metadata": {
        "id": "zI0YaRD2wFdg"
      },
      "source": [
        "將\"#\"數據設定為索引值："
      ]
    },
    {
      "cell_type": "code",
      "metadata": {
        "colab": {
          "base_uri": "https://localhost:8080/",
          "height": 235
        },
        "id": "41cWsuJnwFdg",
        "outputId": "4acd19ef-8345-4cb2-e69f-eeec01d7373b"
      },
      "source": [
        "pokemon_df= pokemon_df.set_index(\"#\")  # 將索引設定為'#'列\n",
        "pokemon_df.head()  # 顯示頭5比資料"
      ],
      "execution_count": 4,
      "outputs": [
        {
          "output_type": "execute_result",
          "data": {
            "text/html": [
              "<div>\n",
              "<style scoped>\n",
              "    .dataframe tbody tr th:only-of-type {\n",
              "        vertical-align: middle;\n",
              "    }\n",
              "\n",
              "    .dataframe tbody tr th {\n",
              "        vertical-align: top;\n",
              "    }\n",
              "\n",
              "    .dataframe thead th {\n",
              "        text-align: right;\n",
              "    }\n",
              "</style>\n",
              "<table border=\"1\" class=\"dataframe\">\n",
              "  <thead>\n",
              "    <tr style=\"text-align: right;\">\n",
              "      <th></th>\n",
              "      <th>Name</th>\n",
              "      <th>Type 1</th>\n",
              "      <th>Type 2</th>\n",
              "      <th>HP</th>\n",
              "      <th>Attack</th>\n",
              "      <th>Defense</th>\n",
              "      <th>Sp. Atk</th>\n",
              "      <th>Sp. Def</th>\n",
              "      <th>Speed</th>\n",
              "      <th>Generation</th>\n",
              "      <th>Legendary</th>\n",
              "    </tr>\n",
              "    <tr>\n",
              "      <th>#</th>\n",
              "      <th></th>\n",
              "      <th></th>\n",
              "      <th></th>\n",
              "      <th></th>\n",
              "      <th></th>\n",
              "      <th></th>\n",
              "      <th></th>\n",
              "      <th></th>\n",
              "      <th></th>\n",
              "      <th></th>\n",
              "      <th></th>\n",
              "    </tr>\n",
              "  </thead>\n",
              "  <tbody>\n",
              "    <tr>\n",
              "      <th>1</th>\n",
              "      <td>Bulbasaur</td>\n",
              "      <td>Grass</td>\n",
              "      <td>Poison</td>\n",
              "      <td>45</td>\n",
              "      <td>49</td>\n",
              "      <td>49</td>\n",
              "      <td>65</td>\n",
              "      <td>65</td>\n",
              "      <td>45</td>\n",
              "      <td>1</td>\n",
              "      <td>False</td>\n",
              "    </tr>\n",
              "    <tr>\n",
              "      <th>2</th>\n",
              "      <td>Ivysaur</td>\n",
              "      <td>Grass</td>\n",
              "      <td>Poison</td>\n",
              "      <td>60</td>\n",
              "      <td>62</td>\n",
              "      <td>63</td>\n",
              "      <td>80</td>\n",
              "      <td>80</td>\n",
              "      <td>60</td>\n",
              "      <td>1</td>\n",
              "      <td>False</td>\n",
              "    </tr>\n",
              "    <tr>\n",
              "      <th>3</th>\n",
              "      <td>Venusaur</td>\n",
              "      <td>Grass</td>\n",
              "      <td>Poison</td>\n",
              "      <td>80</td>\n",
              "      <td>82</td>\n",
              "      <td>83</td>\n",
              "      <td>100</td>\n",
              "      <td>100</td>\n",
              "      <td>80</td>\n",
              "      <td>1</td>\n",
              "      <td>False</td>\n",
              "    </tr>\n",
              "    <tr>\n",
              "      <th>4</th>\n",
              "      <td>Mega Venusaur</td>\n",
              "      <td>Grass</td>\n",
              "      <td>Poison</td>\n",
              "      <td>80</td>\n",
              "      <td>100</td>\n",
              "      <td>123</td>\n",
              "      <td>122</td>\n",
              "      <td>120</td>\n",
              "      <td>80</td>\n",
              "      <td>1</td>\n",
              "      <td>False</td>\n",
              "    </tr>\n",
              "    <tr>\n",
              "      <th>5</th>\n",
              "      <td>Charmander</td>\n",
              "      <td>Fire</td>\n",
              "      <td>NaN</td>\n",
              "      <td>39</td>\n",
              "      <td>52</td>\n",
              "      <td>43</td>\n",
              "      <td>60</td>\n",
              "      <td>50</td>\n",
              "      <td>65</td>\n",
              "      <td>1</td>\n",
              "      <td>False</td>\n",
              "    </tr>\n",
              "  </tbody>\n",
              "</table>\n",
              "</div>"
            ],
            "text/plain": [
              "            Name Type 1  Type 2  HP  ...  Sp. Def  Speed  Generation  Legendary\n",
              "#                                    ...                                       \n",
              "1      Bulbasaur  Grass  Poison  45  ...       65     45           1      False\n",
              "2        Ivysaur  Grass  Poison  60  ...       80     60           1      False\n",
              "3       Venusaur  Grass  Poison  80  ...      100     80           1      False\n",
              "4  Mega Venusaur  Grass  Poison  80  ...      120     80           1      False\n",
              "5     Charmander   Fire     NaN  39  ...       50     65           1      False\n",
              "\n",
              "[5 rows x 11 columns]"
            ]
          },
          "metadata": {
            "tags": []
          },
          "execution_count": 4
        }
      ]
    },
    {
      "cell_type": "markdown",
      "metadata": {
        "id": "yCVpC9S6wFdh"
      },
      "source": [
        "讀取寶可夢對戰數據："
      ]
    },
    {
      "cell_type": "code",
      "metadata": {
        "colab": {
          "base_uri": "https://localhost:8080/",
          "height": 204
        },
        "id": "Wd5aF3zUwFdi",
        "outputId": "d41e31dd-2c50-42ff-acfd-8d7675b95b27"
      },
      "source": [
        "url='https://raw.githubusercontent.com/rainy0215/NTUT_MS/master/Lab3/combats.csv'\n",
        "combats_df = pd.read_csv(url)  # 讀取對戰數據\n",
        "combats_df.head()  # 顯示頭5比資料"
      ],
      "execution_count": 5,
      "outputs": [
        {
          "output_type": "execute_result",
          "data": {
            "text/html": [
              "<div>\n",
              "<style scoped>\n",
              "    .dataframe tbody tr th:only-of-type {\n",
              "        vertical-align: middle;\n",
              "    }\n",
              "\n",
              "    .dataframe tbody tr th {\n",
              "        vertical-align: top;\n",
              "    }\n",
              "\n",
              "    .dataframe thead th {\n",
              "        text-align: right;\n",
              "    }\n",
              "</style>\n",
              "<table border=\"1\" class=\"dataframe\">\n",
              "  <thead>\n",
              "    <tr style=\"text-align: right;\">\n",
              "      <th></th>\n",
              "      <th>First_pokemon</th>\n",
              "      <th>Second_pokemon</th>\n",
              "      <th>Winner</th>\n",
              "    </tr>\n",
              "  </thead>\n",
              "  <tbody>\n",
              "    <tr>\n",
              "      <th>0</th>\n",
              "      <td>266</td>\n",
              "      <td>298</td>\n",
              "      <td>298</td>\n",
              "    </tr>\n",
              "    <tr>\n",
              "      <th>1</th>\n",
              "      <td>702</td>\n",
              "      <td>701</td>\n",
              "      <td>701</td>\n",
              "    </tr>\n",
              "    <tr>\n",
              "      <th>2</th>\n",
              "      <td>191</td>\n",
              "      <td>668</td>\n",
              "      <td>668</td>\n",
              "    </tr>\n",
              "    <tr>\n",
              "      <th>3</th>\n",
              "      <td>237</td>\n",
              "      <td>683</td>\n",
              "      <td>683</td>\n",
              "    </tr>\n",
              "    <tr>\n",
              "      <th>4</th>\n",
              "      <td>151</td>\n",
              "      <td>231</td>\n",
              "      <td>151</td>\n",
              "    </tr>\n",
              "  </tbody>\n",
              "</table>\n",
              "</div>"
            ],
            "text/plain": [
              "   First_pokemon  Second_pokemon  Winner\n",
              "0            266             298     298\n",
              "1            702             701     701\n",
              "2            191             668     668\n",
              "3            237             683     683\n",
              "4            151             231     151"
            ]
          },
          "metadata": {
            "tags": []
          },
          "execution_count": 5
        }
      ]
    },
    {
      "cell_type": "markdown",
      "metadata": {
        "id": "9dTwP10OwFdj"
      },
      "source": [
        "### 補齊缺失 資料"
      ]
    },
    {
      "cell_type": "markdown",
      "metadata": {
        "id": "Su3Cn4ccwFdj"
      },
      "source": [
        "檢查寶可夢數據是否有缺失資料："
      ]
    },
    {
      "cell_type": "code",
      "metadata": {
        "colab": {
          "base_uri": "https://localhost:8080/"
        },
        "id": "SKs7APrhwFdj",
        "outputId": "723a1dd6-1afe-421e-f86b-126ff9dc53d3"
      },
      "source": [
        "pokemon_df.info()  # 顯示精靈寶可夢的數據資訊"
      ],
      "execution_count": 6,
      "outputs": [
        {
          "output_type": "stream",
          "text": [
            "<class 'pandas.core.frame.DataFrame'>\n",
            "Int64Index: 800 entries, 1 to 800\n",
            "Data columns (total 11 columns):\n",
            " #   Column      Non-Null Count  Dtype \n",
            "---  ------      --------------  ----- \n",
            " 0   Name        799 non-null    object\n",
            " 1   Type 1      800 non-null    object\n",
            " 2   Type 2      414 non-null    object\n",
            " 3   HP          800 non-null    int64 \n",
            " 4   Attack      800 non-null    int64 \n",
            " 5   Defense     800 non-null    int64 \n",
            " 6   Sp. Atk     800 non-null    int64 \n",
            " 7   Sp. Def     800 non-null    int64 \n",
            " 8   Speed       800 non-null    int64 \n",
            " 9   Generation  800 non-null    int64 \n",
            " 10  Legendary   800 non-null    bool  \n",
            "dtypes: bool(1), int64(7), object(3)\n",
            "memory usage: 69.5+ KB\n"
          ],
          "name": "stdout"
        }
      ]
    },
    {
      "cell_type": "markdown",
      "metadata": {
        "id": "8cZhQsLuwFdk"
      },
      "source": [
        "查看Type2每個類別的數量：\n",
        "\n",
        "透過傳入參數dropna=False，可以將缺失數據（NaN）也考慮進去，NaN代表寶可夢並沒有第二種屬性。"
      ]
    },
    {
      "cell_type": "code",
      "metadata": {
        "colab": {
          "base_uri": "https://localhost:8080/"
        },
        "id": "PVUzv3gxwFdk",
        "outputId": "1e88f946-7689-476f-d4cf-cc4530942a5b"
      },
      "source": [
        "pokemon_df[\"Type 2\"].value_counts(dropna =False)"
      ],
      "execution_count": 7,
      "outputs": [
        {
          "output_type": "execute_result",
          "data": {
            "text/plain": [
              "NaN         386\n",
              "Flying       97\n",
              "Ground       35\n",
              "Poison       34\n",
              "Psychic      33\n",
              "Fighting     26\n",
              "Grass        25\n",
              "Fairy        23\n",
              "Steel        22\n",
              "Dark         20\n",
              "Dragon       18\n",
              "Ghost        14\n",
              "Water        14\n",
              "Ice          14\n",
              "Rock         14\n",
              "Fire         12\n",
              "Electric      6\n",
              "Normal        4\n",
              "Bug           3\n",
              "Name: Type 2, dtype: int64"
            ]
          },
          "metadata": {
            "tags": []
          },
          "execution_count": 7
        }
      ]
    },
    {
      "cell_type": "markdown",
      "metadata": {
        "id": "UXRPevyawFdl"
      },
      "source": [
        "填補缺失數據：使用empty將缺失的欄位填上。"
      ]
    },
    {
      "cell_type": "code",
      "metadata": {
        "colab": {
          "base_uri": "https://localhost:8080/"
        },
        "id": "9p48BmdUwFdl",
        "outputId": "009d6d59-5596-4480-c5f4-867f50a3d227"
      },
      "source": [
        "pokemon_df[\"Type 2\"].fillna('empty',inplace=True)\n",
        "pokemon_df[\"Type 2\"].value_counts()"
      ],
      "execution_count": 8,
      "outputs": [
        {
          "output_type": "execute_result",
          "data": {
            "text/plain": [
              "empty       386\n",
              "Flying       97\n",
              "Ground       35\n",
              "Poison       34\n",
              "Psychic      33\n",
              "Fighting     26\n",
              "Grass        25\n",
              "Fairy        23\n",
              "Steel        22\n",
              "Dark         20\n",
              "Dragon       18\n",
              "Rock         14\n",
              "Ghost        14\n",
              "Water        14\n",
              "Ice          14\n",
              "Fire         12\n",
              "Electric      6\n",
              "Normal        4\n",
              "Bug           3\n",
              "Name: Type 2, dtype: int64"
            ]
          },
          "metadata": {
            "tags": []
          },
          "execution_count": 8
        }
      ]
    },
    {
      "cell_type": "markdown",
      "metadata": {
        "id": "pwIlWVanwFdm"
      },
      "source": [
        "### 數據前處理\n",
        "檢查資料型態"
      ]
    },
    {
      "cell_type": "code",
      "metadata": {
        "colab": {
          "base_uri": "https://localhost:8080/"
        },
        "id": "y8XFPtonwFdm",
        "outputId": "fc87d80a-707d-4267-ce92-6b9d37d14786"
      },
      "source": [
        "print(combats_df.dtypes)  # 顯示對戰數據的資料型態\n",
        "print('-' * 30)\n",
        "print(pokemon_df.dtypes)  # 顯示寶可夢數據的資料型態"
      ],
      "execution_count": 9,
      "outputs": [
        {
          "output_type": "stream",
          "text": [
            "First_pokemon     int64\n",
            "Second_pokemon    int64\n",
            "Winner            int64\n",
            "dtype: object\n",
            "------------------------------\n",
            "Name          object\n",
            "Type 1        object\n",
            "Type 2        object\n",
            "HP             int64\n",
            "Attack         int64\n",
            "Defense        int64\n",
            "Sp. Atk        int64\n",
            "Sp. Def        int64\n",
            "Speed          int64\n",
            "Generation     int64\n",
            "Legendary       bool\n",
            "dtype: object\n"
          ],
          "name": "stdout"
        }
      ]
    },
    {
      "cell_type": "markdown",
      "metadata": {
        "id": "AMi13SsgwFdm"
      },
      "source": [
        "轉換數據格式"
      ]
    },
    {
      "cell_type": "code",
      "metadata": {
        "colab": {
          "base_uri": "https://localhost:8080/"
        },
        "id": "o1L2K-PAwFdn",
        "outputId": "e4a11be2-2831-41bd-cedb-d4ea20ea18cf"
      },
      "source": [
        "pokemon_df['Type 1'] = pokemon_df['Type 1'].astype('category')  # 將'Type 1'轉成category型態\n",
        "pokemon_df['Type 2'] = pokemon_df['Type 2'].astype('category')  # 將'Type 2'轉成category型態\n",
        "pokemon_df['Legendary'] = pokemon_df['Legendary'].astype('int')  # 將'Legendary'轉成int型態\n",
        "pokemon_df.dtypes  # 顯示目前寶可用數據集資料型態"
      ],
      "execution_count": 10,
      "outputs": [
        {
          "output_type": "execute_result",
          "data": {
            "text/plain": [
              "Name            object\n",
              "Type 1        category\n",
              "Type 2        category\n",
              "HP               int64\n",
              "Attack           int64\n",
              "Defense          int64\n",
              "Sp. Atk          int64\n",
              "Sp. Def          int64\n",
              "Speed            int64\n",
              "Generation       int64\n",
              "Legendary        int64\n",
              "dtype: object"
            ]
          },
          "metadata": {
            "tags": []
          },
          "execution_count": 10
        }
      ]
    },
    {
      "cell_type": "markdown",
      "metadata": {
        "id": "UdVSc-ONwFdo"
      },
      "source": [
        "將寶可夢的Type1和Type2轉為One-hot Encoding表示："
      ]
    },
    {
      "cell_type": "code",
      "metadata": {
        "colab": {
          "base_uri": "https://localhost:8080/",
          "height": 235
        },
        "id": "4LhvjQnRwFdo",
        "outputId": "daa93b24-378f-4bc5-9a5c-3861e9d98195"
      },
      "source": [
        "df_type1_one_hot = pd.get_dummies(pokemon_df['Type 1'])  # 取得'Type 1'數據的One-hot編碼\n",
        "df_type1_one_hot.head()  # 顯示頭5比資料"
      ],
      "execution_count": 11,
      "outputs": [
        {
          "output_type": "execute_result",
          "data": {
            "text/html": [
              "<div>\n",
              "<style scoped>\n",
              "    .dataframe tbody tr th:only-of-type {\n",
              "        vertical-align: middle;\n",
              "    }\n",
              "\n",
              "    .dataframe tbody tr th {\n",
              "        vertical-align: top;\n",
              "    }\n",
              "\n",
              "    .dataframe thead th {\n",
              "        text-align: right;\n",
              "    }\n",
              "</style>\n",
              "<table border=\"1\" class=\"dataframe\">\n",
              "  <thead>\n",
              "    <tr style=\"text-align: right;\">\n",
              "      <th></th>\n",
              "      <th>Bug</th>\n",
              "      <th>Dark</th>\n",
              "      <th>Dragon</th>\n",
              "      <th>Electric</th>\n",
              "      <th>Fairy</th>\n",
              "      <th>Fighting</th>\n",
              "      <th>Fire</th>\n",
              "      <th>Flying</th>\n",
              "      <th>Ghost</th>\n",
              "      <th>Grass</th>\n",
              "      <th>Ground</th>\n",
              "      <th>Ice</th>\n",
              "      <th>Normal</th>\n",
              "      <th>Poison</th>\n",
              "      <th>Psychic</th>\n",
              "      <th>Rock</th>\n",
              "      <th>Steel</th>\n",
              "      <th>Water</th>\n",
              "    </tr>\n",
              "    <tr>\n",
              "      <th>#</th>\n",
              "      <th></th>\n",
              "      <th></th>\n",
              "      <th></th>\n",
              "      <th></th>\n",
              "      <th></th>\n",
              "      <th></th>\n",
              "      <th></th>\n",
              "      <th></th>\n",
              "      <th></th>\n",
              "      <th></th>\n",
              "      <th></th>\n",
              "      <th></th>\n",
              "      <th></th>\n",
              "      <th></th>\n",
              "      <th></th>\n",
              "      <th></th>\n",
              "      <th></th>\n",
              "      <th></th>\n",
              "    </tr>\n",
              "  </thead>\n",
              "  <tbody>\n",
              "    <tr>\n",
              "      <th>1</th>\n",
              "      <td>0</td>\n",
              "      <td>0</td>\n",
              "      <td>0</td>\n",
              "      <td>0</td>\n",
              "      <td>0</td>\n",
              "      <td>0</td>\n",
              "      <td>0</td>\n",
              "      <td>0</td>\n",
              "      <td>0</td>\n",
              "      <td>1</td>\n",
              "      <td>0</td>\n",
              "      <td>0</td>\n",
              "      <td>0</td>\n",
              "      <td>0</td>\n",
              "      <td>0</td>\n",
              "      <td>0</td>\n",
              "      <td>0</td>\n",
              "      <td>0</td>\n",
              "    </tr>\n",
              "    <tr>\n",
              "      <th>2</th>\n",
              "      <td>0</td>\n",
              "      <td>0</td>\n",
              "      <td>0</td>\n",
              "      <td>0</td>\n",
              "      <td>0</td>\n",
              "      <td>0</td>\n",
              "      <td>0</td>\n",
              "      <td>0</td>\n",
              "      <td>0</td>\n",
              "      <td>1</td>\n",
              "      <td>0</td>\n",
              "      <td>0</td>\n",
              "      <td>0</td>\n",
              "      <td>0</td>\n",
              "      <td>0</td>\n",
              "      <td>0</td>\n",
              "      <td>0</td>\n",
              "      <td>0</td>\n",
              "    </tr>\n",
              "    <tr>\n",
              "      <th>3</th>\n",
              "      <td>0</td>\n",
              "      <td>0</td>\n",
              "      <td>0</td>\n",
              "      <td>0</td>\n",
              "      <td>0</td>\n",
              "      <td>0</td>\n",
              "      <td>0</td>\n",
              "      <td>0</td>\n",
              "      <td>0</td>\n",
              "      <td>1</td>\n",
              "      <td>0</td>\n",
              "      <td>0</td>\n",
              "      <td>0</td>\n",
              "      <td>0</td>\n",
              "      <td>0</td>\n",
              "      <td>0</td>\n",
              "      <td>0</td>\n",
              "      <td>0</td>\n",
              "    </tr>\n",
              "    <tr>\n",
              "      <th>4</th>\n",
              "      <td>0</td>\n",
              "      <td>0</td>\n",
              "      <td>0</td>\n",
              "      <td>0</td>\n",
              "      <td>0</td>\n",
              "      <td>0</td>\n",
              "      <td>0</td>\n",
              "      <td>0</td>\n",
              "      <td>0</td>\n",
              "      <td>1</td>\n",
              "      <td>0</td>\n",
              "      <td>0</td>\n",
              "      <td>0</td>\n",
              "      <td>0</td>\n",
              "      <td>0</td>\n",
              "      <td>0</td>\n",
              "      <td>0</td>\n",
              "      <td>0</td>\n",
              "    </tr>\n",
              "    <tr>\n",
              "      <th>5</th>\n",
              "      <td>0</td>\n",
              "      <td>0</td>\n",
              "      <td>0</td>\n",
              "      <td>0</td>\n",
              "      <td>0</td>\n",
              "      <td>0</td>\n",
              "      <td>1</td>\n",
              "      <td>0</td>\n",
              "      <td>0</td>\n",
              "      <td>0</td>\n",
              "      <td>0</td>\n",
              "      <td>0</td>\n",
              "      <td>0</td>\n",
              "      <td>0</td>\n",
              "      <td>0</td>\n",
              "      <td>0</td>\n",
              "      <td>0</td>\n",
              "      <td>0</td>\n",
              "    </tr>\n",
              "  </tbody>\n",
              "</table>\n",
              "</div>"
            ],
            "text/plain": [
              "   Bug  Dark  Dragon  Electric  Fairy  ...  Poison  Psychic  Rock  Steel  Water\n",
              "#                                      ...                                     \n",
              "1    0     0       0         0      0  ...       0        0     0      0      0\n",
              "2    0     0       0         0      0  ...       0        0     0      0      0\n",
              "3    0     0       0         0      0  ...       0        0     0      0      0\n",
              "4    0     0       0         0      0  ...       0        0     0      0      0\n",
              "5    0     0       0         0      0  ...       0        0     0      0      0\n",
              "\n",
              "[5 rows x 18 columns]"
            ]
          },
          "metadata": {
            "tags": []
          },
          "execution_count": 11
        }
      ]
    },
    {
      "cell_type": "markdown",
      "metadata": {
        "id": "iQZiHVKTwFdp"
      },
      "source": [
        "使用Pandas的get_dummies函數，取得Type2（寶可夢第二種屬性）的One-hot Encoding："
      ]
    },
    {
      "cell_type": "code",
      "metadata": {
        "scrolled": true,
        "colab": {
          "base_uri": "https://localhost:8080/",
          "height": 235
        },
        "id": "SAddlEb9wFdp",
        "outputId": "50016131-eb61-4fd9-cc44-6ce46e4ec099"
      },
      "source": [
        "df_type2_one_hot = pd.get_dummies(pokemon_df['Type 2'])  # 取得'Type 2'數據的One-hot編碼\n",
        "df_type2_one_hot.head()  # 顯示頭5比資料"
      ],
      "execution_count": 12,
      "outputs": [
        {
          "output_type": "execute_result",
          "data": {
            "text/html": [
              "<div>\n",
              "<style scoped>\n",
              "    .dataframe tbody tr th:only-of-type {\n",
              "        vertical-align: middle;\n",
              "    }\n",
              "\n",
              "    .dataframe tbody tr th {\n",
              "        vertical-align: top;\n",
              "    }\n",
              "\n",
              "    .dataframe thead th {\n",
              "        text-align: right;\n",
              "    }\n",
              "</style>\n",
              "<table border=\"1\" class=\"dataframe\">\n",
              "  <thead>\n",
              "    <tr style=\"text-align: right;\">\n",
              "      <th></th>\n",
              "      <th>Bug</th>\n",
              "      <th>Dark</th>\n",
              "      <th>Dragon</th>\n",
              "      <th>Electric</th>\n",
              "      <th>Fairy</th>\n",
              "      <th>Fighting</th>\n",
              "      <th>Fire</th>\n",
              "      <th>Flying</th>\n",
              "      <th>Ghost</th>\n",
              "      <th>Grass</th>\n",
              "      <th>Ground</th>\n",
              "      <th>Ice</th>\n",
              "      <th>Normal</th>\n",
              "      <th>Poison</th>\n",
              "      <th>Psychic</th>\n",
              "      <th>Rock</th>\n",
              "      <th>Steel</th>\n",
              "      <th>Water</th>\n",
              "      <th>empty</th>\n",
              "    </tr>\n",
              "    <tr>\n",
              "      <th>#</th>\n",
              "      <th></th>\n",
              "      <th></th>\n",
              "      <th></th>\n",
              "      <th></th>\n",
              "      <th></th>\n",
              "      <th></th>\n",
              "      <th></th>\n",
              "      <th></th>\n",
              "      <th></th>\n",
              "      <th></th>\n",
              "      <th></th>\n",
              "      <th></th>\n",
              "      <th></th>\n",
              "      <th></th>\n",
              "      <th></th>\n",
              "      <th></th>\n",
              "      <th></th>\n",
              "      <th></th>\n",
              "      <th></th>\n",
              "    </tr>\n",
              "  </thead>\n",
              "  <tbody>\n",
              "    <tr>\n",
              "      <th>1</th>\n",
              "      <td>0</td>\n",
              "      <td>0</td>\n",
              "      <td>0</td>\n",
              "      <td>0</td>\n",
              "      <td>0</td>\n",
              "      <td>0</td>\n",
              "      <td>0</td>\n",
              "      <td>0</td>\n",
              "      <td>0</td>\n",
              "      <td>0</td>\n",
              "      <td>0</td>\n",
              "      <td>0</td>\n",
              "      <td>0</td>\n",
              "      <td>1</td>\n",
              "      <td>0</td>\n",
              "      <td>0</td>\n",
              "      <td>0</td>\n",
              "      <td>0</td>\n",
              "      <td>0</td>\n",
              "    </tr>\n",
              "    <tr>\n",
              "      <th>2</th>\n",
              "      <td>0</td>\n",
              "      <td>0</td>\n",
              "      <td>0</td>\n",
              "      <td>0</td>\n",
              "      <td>0</td>\n",
              "      <td>0</td>\n",
              "      <td>0</td>\n",
              "      <td>0</td>\n",
              "      <td>0</td>\n",
              "      <td>0</td>\n",
              "      <td>0</td>\n",
              "      <td>0</td>\n",
              "      <td>0</td>\n",
              "      <td>1</td>\n",
              "      <td>0</td>\n",
              "      <td>0</td>\n",
              "      <td>0</td>\n",
              "      <td>0</td>\n",
              "      <td>0</td>\n",
              "    </tr>\n",
              "    <tr>\n",
              "      <th>3</th>\n",
              "      <td>0</td>\n",
              "      <td>0</td>\n",
              "      <td>0</td>\n",
              "      <td>0</td>\n",
              "      <td>0</td>\n",
              "      <td>0</td>\n",
              "      <td>0</td>\n",
              "      <td>0</td>\n",
              "      <td>0</td>\n",
              "      <td>0</td>\n",
              "      <td>0</td>\n",
              "      <td>0</td>\n",
              "      <td>0</td>\n",
              "      <td>1</td>\n",
              "      <td>0</td>\n",
              "      <td>0</td>\n",
              "      <td>0</td>\n",
              "      <td>0</td>\n",
              "      <td>0</td>\n",
              "    </tr>\n",
              "    <tr>\n",
              "      <th>4</th>\n",
              "      <td>0</td>\n",
              "      <td>0</td>\n",
              "      <td>0</td>\n",
              "      <td>0</td>\n",
              "      <td>0</td>\n",
              "      <td>0</td>\n",
              "      <td>0</td>\n",
              "      <td>0</td>\n",
              "      <td>0</td>\n",
              "      <td>0</td>\n",
              "      <td>0</td>\n",
              "      <td>0</td>\n",
              "      <td>0</td>\n",
              "      <td>1</td>\n",
              "      <td>0</td>\n",
              "      <td>0</td>\n",
              "      <td>0</td>\n",
              "      <td>0</td>\n",
              "      <td>0</td>\n",
              "    </tr>\n",
              "    <tr>\n",
              "      <th>5</th>\n",
              "      <td>0</td>\n",
              "      <td>0</td>\n",
              "      <td>0</td>\n",
              "      <td>0</td>\n",
              "      <td>0</td>\n",
              "      <td>0</td>\n",
              "      <td>0</td>\n",
              "      <td>0</td>\n",
              "      <td>0</td>\n",
              "      <td>0</td>\n",
              "      <td>0</td>\n",
              "      <td>0</td>\n",
              "      <td>0</td>\n",
              "      <td>0</td>\n",
              "      <td>0</td>\n",
              "      <td>0</td>\n",
              "      <td>0</td>\n",
              "      <td>0</td>\n",
              "      <td>1</td>\n",
              "    </tr>\n",
              "  </tbody>\n",
              "</table>\n",
              "</div>"
            ],
            "text/plain": [
              "   Bug  Dark  Dragon  Electric  Fairy  ...  Psychic  Rock  Steel  Water  empty\n",
              "#                                      ...                                    \n",
              "1    0     0       0         0      0  ...        0     0      0      0      0\n",
              "2    0     0       0         0      0  ...        0     0      0      0      0\n",
              "3    0     0       0         0      0  ...        0     0      0      0      0\n",
              "4    0     0       0         0      0  ...        0     0      0      0      0\n",
              "5    0     0       0         0      0  ...        0     0      0      0      1\n",
              "\n",
              "[5 rows x 19 columns]"
            ]
          },
          "metadata": {
            "tags": []
          },
          "execution_count": 12
        }
      ]
    },
    {
      "cell_type": "markdown",
      "metadata": {
        "id": "wku7HjRIwFdp"
      },
      "source": [
        "將兩組One-hot Encoding合併回數據集："
      ]
    },
    {
      "cell_type": "code",
      "metadata": {
        "scrolled": true,
        "colab": {
          "base_uri": "https://localhost:8080/",
          "height": 289
        },
        "id": "JonbOIkUwFdq",
        "outputId": "dacccba7-3d61-4d34-8796-8e1f499ec823"
      },
      "source": [
        "# 將上方兩個One-hot編碼資料加起來，將缺少的值補0，並轉呈int64型態\n",
        "combine_df_one_hot = df_type1_one_hot.add(df_type2_one_hot, fill_value=0).astype('int64')\n",
        "# 將顯示列數設定為30，不然會有部份資料無法顯示\n",
        "pd.options.display.max_columns = 30\n",
        "# 將One-hot編碼資料加到寶可夢數據中\n",
        "pokemon_df = pokemon_df.join(combine_df_one_hot)\n",
        "pokemon_df.head()  # 顯示頭5比資料"
      ],
      "execution_count": 13,
      "outputs": [
        {
          "output_type": "execute_result",
          "data": {
            "text/html": [
              "<div>\n",
              "<style scoped>\n",
              "    .dataframe tbody tr th:only-of-type {\n",
              "        vertical-align: middle;\n",
              "    }\n",
              "\n",
              "    .dataframe tbody tr th {\n",
              "        vertical-align: top;\n",
              "    }\n",
              "\n",
              "    .dataframe thead th {\n",
              "        text-align: right;\n",
              "    }\n",
              "</style>\n",
              "<table border=\"1\" class=\"dataframe\">\n",
              "  <thead>\n",
              "    <tr style=\"text-align: right;\">\n",
              "      <th></th>\n",
              "      <th>Name</th>\n",
              "      <th>Type 1</th>\n",
              "      <th>Type 2</th>\n",
              "      <th>HP</th>\n",
              "      <th>Attack</th>\n",
              "      <th>Defense</th>\n",
              "      <th>Sp. Atk</th>\n",
              "      <th>Sp. Def</th>\n",
              "      <th>Speed</th>\n",
              "      <th>Generation</th>\n",
              "      <th>Legendary</th>\n",
              "      <th>Bug</th>\n",
              "      <th>Dark</th>\n",
              "      <th>Dragon</th>\n",
              "      <th>Electric</th>\n",
              "      <th>Fairy</th>\n",
              "      <th>Fighting</th>\n",
              "      <th>Fire</th>\n",
              "      <th>Flying</th>\n",
              "      <th>Ghost</th>\n",
              "      <th>Grass</th>\n",
              "      <th>Ground</th>\n",
              "      <th>Ice</th>\n",
              "      <th>Normal</th>\n",
              "      <th>Poison</th>\n",
              "      <th>Psychic</th>\n",
              "      <th>Rock</th>\n",
              "      <th>Steel</th>\n",
              "      <th>Water</th>\n",
              "      <th>empty</th>\n",
              "    </tr>\n",
              "    <tr>\n",
              "      <th>#</th>\n",
              "      <th></th>\n",
              "      <th></th>\n",
              "      <th></th>\n",
              "      <th></th>\n",
              "      <th></th>\n",
              "      <th></th>\n",
              "      <th></th>\n",
              "      <th></th>\n",
              "      <th></th>\n",
              "      <th></th>\n",
              "      <th></th>\n",
              "      <th></th>\n",
              "      <th></th>\n",
              "      <th></th>\n",
              "      <th></th>\n",
              "      <th></th>\n",
              "      <th></th>\n",
              "      <th></th>\n",
              "      <th></th>\n",
              "      <th></th>\n",
              "      <th></th>\n",
              "      <th></th>\n",
              "      <th></th>\n",
              "      <th></th>\n",
              "      <th></th>\n",
              "      <th></th>\n",
              "      <th></th>\n",
              "      <th></th>\n",
              "      <th></th>\n",
              "      <th></th>\n",
              "    </tr>\n",
              "  </thead>\n",
              "  <tbody>\n",
              "    <tr>\n",
              "      <th>1</th>\n",
              "      <td>Bulbasaur</td>\n",
              "      <td>Grass</td>\n",
              "      <td>Poison</td>\n",
              "      <td>45</td>\n",
              "      <td>49</td>\n",
              "      <td>49</td>\n",
              "      <td>65</td>\n",
              "      <td>65</td>\n",
              "      <td>45</td>\n",
              "      <td>1</td>\n",
              "      <td>0</td>\n",
              "      <td>0</td>\n",
              "      <td>0</td>\n",
              "      <td>0</td>\n",
              "      <td>0</td>\n",
              "      <td>0</td>\n",
              "      <td>0</td>\n",
              "      <td>0</td>\n",
              "      <td>0</td>\n",
              "      <td>0</td>\n",
              "      <td>1</td>\n",
              "      <td>0</td>\n",
              "      <td>0</td>\n",
              "      <td>0</td>\n",
              "      <td>1</td>\n",
              "      <td>0</td>\n",
              "      <td>0</td>\n",
              "      <td>0</td>\n",
              "      <td>0</td>\n",
              "      <td>0</td>\n",
              "    </tr>\n",
              "    <tr>\n",
              "      <th>2</th>\n",
              "      <td>Ivysaur</td>\n",
              "      <td>Grass</td>\n",
              "      <td>Poison</td>\n",
              "      <td>60</td>\n",
              "      <td>62</td>\n",
              "      <td>63</td>\n",
              "      <td>80</td>\n",
              "      <td>80</td>\n",
              "      <td>60</td>\n",
              "      <td>1</td>\n",
              "      <td>0</td>\n",
              "      <td>0</td>\n",
              "      <td>0</td>\n",
              "      <td>0</td>\n",
              "      <td>0</td>\n",
              "      <td>0</td>\n",
              "      <td>0</td>\n",
              "      <td>0</td>\n",
              "      <td>0</td>\n",
              "      <td>0</td>\n",
              "      <td>1</td>\n",
              "      <td>0</td>\n",
              "      <td>0</td>\n",
              "      <td>0</td>\n",
              "      <td>1</td>\n",
              "      <td>0</td>\n",
              "      <td>0</td>\n",
              "      <td>0</td>\n",
              "      <td>0</td>\n",
              "      <td>0</td>\n",
              "    </tr>\n",
              "    <tr>\n",
              "      <th>3</th>\n",
              "      <td>Venusaur</td>\n",
              "      <td>Grass</td>\n",
              "      <td>Poison</td>\n",
              "      <td>80</td>\n",
              "      <td>82</td>\n",
              "      <td>83</td>\n",
              "      <td>100</td>\n",
              "      <td>100</td>\n",
              "      <td>80</td>\n",
              "      <td>1</td>\n",
              "      <td>0</td>\n",
              "      <td>0</td>\n",
              "      <td>0</td>\n",
              "      <td>0</td>\n",
              "      <td>0</td>\n",
              "      <td>0</td>\n",
              "      <td>0</td>\n",
              "      <td>0</td>\n",
              "      <td>0</td>\n",
              "      <td>0</td>\n",
              "      <td>1</td>\n",
              "      <td>0</td>\n",
              "      <td>0</td>\n",
              "      <td>0</td>\n",
              "      <td>1</td>\n",
              "      <td>0</td>\n",
              "      <td>0</td>\n",
              "      <td>0</td>\n",
              "      <td>0</td>\n",
              "      <td>0</td>\n",
              "    </tr>\n",
              "    <tr>\n",
              "      <th>4</th>\n",
              "      <td>Mega Venusaur</td>\n",
              "      <td>Grass</td>\n",
              "      <td>Poison</td>\n",
              "      <td>80</td>\n",
              "      <td>100</td>\n",
              "      <td>123</td>\n",
              "      <td>122</td>\n",
              "      <td>120</td>\n",
              "      <td>80</td>\n",
              "      <td>1</td>\n",
              "      <td>0</td>\n",
              "      <td>0</td>\n",
              "      <td>0</td>\n",
              "      <td>0</td>\n",
              "      <td>0</td>\n",
              "      <td>0</td>\n",
              "      <td>0</td>\n",
              "      <td>0</td>\n",
              "      <td>0</td>\n",
              "      <td>0</td>\n",
              "      <td>1</td>\n",
              "      <td>0</td>\n",
              "      <td>0</td>\n",
              "      <td>0</td>\n",
              "      <td>1</td>\n",
              "      <td>0</td>\n",
              "      <td>0</td>\n",
              "      <td>0</td>\n",
              "      <td>0</td>\n",
              "      <td>0</td>\n",
              "    </tr>\n",
              "    <tr>\n",
              "      <th>5</th>\n",
              "      <td>Charmander</td>\n",
              "      <td>Fire</td>\n",
              "      <td>empty</td>\n",
              "      <td>39</td>\n",
              "      <td>52</td>\n",
              "      <td>43</td>\n",
              "      <td>60</td>\n",
              "      <td>50</td>\n",
              "      <td>65</td>\n",
              "      <td>1</td>\n",
              "      <td>0</td>\n",
              "      <td>0</td>\n",
              "      <td>0</td>\n",
              "      <td>0</td>\n",
              "      <td>0</td>\n",
              "      <td>0</td>\n",
              "      <td>0</td>\n",
              "      <td>1</td>\n",
              "      <td>0</td>\n",
              "      <td>0</td>\n",
              "      <td>0</td>\n",
              "      <td>0</td>\n",
              "      <td>0</td>\n",
              "      <td>0</td>\n",
              "      <td>0</td>\n",
              "      <td>0</td>\n",
              "      <td>0</td>\n",
              "      <td>0</td>\n",
              "      <td>0</td>\n",
              "      <td>1</td>\n",
              "    </tr>\n",
              "  </tbody>\n",
              "</table>\n",
              "</div>"
            ],
            "text/plain": [
              "            Name Type 1  Type 2  HP  Attack  Defense  Sp. Atk  Sp. Def  Speed  \\\n",
              "#                                                                               \n",
              "1      Bulbasaur  Grass  Poison  45      49       49       65       65     45   \n",
              "2        Ivysaur  Grass  Poison  60      62       63       80       80     60   \n",
              "3       Venusaur  Grass  Poison  80      82       83      100      100     80   \n",
              "4  Mega Venusaur  Grass  Poison  80     100      123      122      120     80   \n",
              "5     Charmander   Fire   empty  39      52       43       60       50     65   \n",
              "\n",
              "   Generation  Legendary  Bug  Dark  Dragon  Electric  Fairy  Fighting  Fire  \\\n",
              "#                                                                              \n",
              "1           1          0    0     0       0         0      0         0     0   \n",
              "2           1          0    0     0       0         0      0         0     0   \n",
              "3           1          0    0     0       0         0      0         0     0   \n",
              "4           1          0    0     0       0         0      0         0     0   \n",
              "5           1          0    0     0       0         0      0         0     1   \n",
              "\n",
              "   Flying  Ghost  Grass  Ground  Ice  Normal  Poison  Psychic  Rock  Steel  \\\n",
              "#                                                                            \n",
              "1       0      0      1       0    0       0       1        0     0      0   \n",
              "2       0      0      1       0    0       0       1        0     0      0   \n",
              "3       0      0      1       0    0       0       1        0     0      0   \n",
              "4       0      0      1       0    0       0       1        0     0      0   \n",
              "5       0      0      0       0    0       0       0        0     0      0   \n",
              "\n",
              "   Water  empty  \n",
              "#                \n",
              "1      0      0  \n",
              "2      0      0  \n",
              "3      0      0  \n",
              "4      0      0  \n",
              "5      0      1  "
            ]
          },
          "metadata": {
            "tags": []
          },
          "execution_count": 13
        }
      ]
    },
    {
      "cell_type": "markdown",
      "metadata": {
        "id": "G7L1rx7YwFdr"
      },
      "source": [
        "將寶可夢屬性轉為數值表示（0, 1, 2, …18）：透過cat.categories查詢類別的標籤。"
      ]
    },
    {
      "cell_type": "code",
      "metadata": {
        "colab": {
          "base_uri": "https://localhost:8080/"
        },
        "id": "gWltx0oJwFdr",
        "outputId": "5faf2d4c-5df4-41fc-a1e7-62c61fbaeb18"
      },
      "source": [
        "dict(enumerate(pokemon_df['Type 2'].cat.categories))"
      ],
      "execution_count": 14,
      "outputs": [
        {
          "output_type": "execute_result",
          "data": {
            "text/plain": [
              "{0: 'Bug',\n",
              " 1: 'Dark',\n",
              " 2: 'Dragon',\n",
              " 3: 'Electric',\n",
              " 4: 'Fairy',\n",
              " 5: 'Fighting',\n",
              " 6: 'Fire',\n",
              " 7: 'Flying',\n",
              " 8: 'Ghost',\n",
              " 9: 'Grass',\n",
              " 10: 'Ground',\n",
              " 11: 'Ice',\n",
              " 12: 'Normal',\n",
              " 13: 'Poison',\n",
              " 14: 'Psychic',\n",
              " 15: 'Rock',\n",
              " 16: 'Steel',\n",
              " 17: 'Water',\n",
              " 18: 'empty'}"
            ]
          },
          "metadata": {
            "tags": []
          },
          "execution_count": 14
        }
      ]
    },
    {
      "cell_type": "markdown",
      "metadata": {
        "id": "NEQNWoqzwFdr"
      },
      "source": [
        "透過cat.codes可以取得類別的編碼值。"
      ]
    },
    {
      "cell_type": "code",
      "metadata": {
        "colab": {
          "base_uri": "https://localhost:8080/"
        },
        "id": "4hcfeAhQwFds",
        "outputId": "2ea553cf-2a21-47bc-fabf-4bb9c522833d"
      },
      "source": [
        "pokemon_df['Type 2'].cat.codes.head(10)"
      ],
      "execution_count": 15,
      "outputs": [
        {
          "output_type": "execute_result",
          "data": {
            "text/plain": [
              "#\n",
              "1     13\n",
              "2     13\n",
              "3     13\n",
              "4     13\n",
              "5     18\n",
              "6     18\n",
              "7      7\n",
              "8      2\n",
              "9      7\n",
              "10    18\n",
              "dtype: int8"
            ]
          },
          "metadata": {
            "tags": []
          },
          "execution_count": 15
        }
      ]
    },
    {
      "cell_type": "markdown",
      "metadata": {
        "id": "ilbBRMqiwFds"
      },
      "source": [
        "用數值表示（0, 1, 2…18）取代原本的標籤值："
      ]
    },
    {
      "cell_type": "code",
      "metadata": {
        "colab": {
          "base_uri": "https://localhost:8080/",
          "height": 289
        },
        "id": "DO_X0WZywFds",
        "outputId": "1ec53a55-e324-490a-bd02-fe008c124963"
      },
      "source": [
        "pokemon_df['Type 1'] = pokemon_df['Type 1'].cat.codes\n",
        "pokemon_df['Type 2'] = pokemon_df['Type 2'].cat.codes\n",
        "pokemon_df.head()  # 顯示頭5比資料"
      ],
      "execution_count": 16,
      "outputs": [
        {
          "output_type": "execute_result",
          "data": {
            "text/html": [
              "<div>\n",
              "<style scoped>\n",
              "    .dataframe tbody tr th:only-of-type {\n",
              "        vertical-align: middle;\n",
              "    }\n",
              "\n",
              "    .dataframe tbody tr th {\n",
              "        vertical-align: top;\n",
              "    }\n",
              "\n",
              "    .dataframe thead th {\n",
              "        text-align: right;\n",
              "    }\n",
              "</style>\n",
              "<table border=\"1\" class=\"dataframe\">\n",
              "  <thead>\n",
              "    <tr style=\"text-align: right;\">\n",
              "      <th></th>\n",
              "      <th>Name</th>\n",
              "      <th>Type 1</th>\n",
              "      <th>Type 2</th>\n",
              "      <th>HP</th>\n",
              "      <th>Attack</th>\n",
              "      <th>Defense</th>\n",
              "      <th>Sp. Atk</th>\n",
              "      <th>Sp. Def</th>\n",
              "      <th>Speed</th>\n",
              "      <th>Generation</th>\n",
              "      <th>Legendary</th>\n",
              "      <th>Bug</th>\n",
              "      <th>Dark</th>\n",
              "      <th>Dragon</th>\n",
              "      <th>Electric</th>\n",
              "      <th>Fairy</th>\n",
              "      <th>Fighting</th>\n",
              "      <th>Fire</th>\n",
              "      <th>Flying</th>\n",
              "      <th>Ghost</th>\n",
              "      <th>Grass</th>\n",
              "      <th>Ground</th>\n",
              "      <th>Ice</th>\n",
              "      <th>Normal</th>\n",
              "      <th>Poison</th>\n",
              "      <th>Psychic</th>\n",
              "      <th>Rock</th>\n",
              "      <th>Steel</th>\n",
              "      <th>Water</th>\n",
              "      <th>empty</th>\n",
              "    </tr>\n",
              "    <tr>\n",
              "      <th>#</th>\n",
              "      <th></th>\n",
              "      <th></th>\n",
              "      <th></th>\n",
              "      <th></th>\n",
              "      <th></th>\n",
              "      <th></th>\n",
              "      <th></th>\n",
              "      <th></th>\n",
              "      <th></th>\n",
              "      <th></th>\n",
              "      <th></th>\n",
              "      <th></th>\n",
              "      <th></th>\n",
              "      <th></th>\n",
              "      <th></th>\n",
              "      <th></th>\n",
              "      <th></th>\n",
              "      <th></th>\n",
              "      <th></th>\n",
              "      <th></th>\n",
              "      <th></th>\n",
              "      <th></th>\n",
              "      <th></th>\n",
              "      <th></th>\n",
              "      <th></th>\n",
              "      <th></th>\n",
              "      <th></th>\n",
              "      <th></th>\n",
              "      <th></th>\n",
              "      <th></th>\n",
              "    </tr>\n",
              "  </thead>\n",
              "  <tbody>\n",
              "    <tr>\n",
              "      <th>1</th>\n",
              "      <td>Bulbasaur</td>\n",
              "      <td>9</td>\n",
              "      <td>13</td>\n",
              "      <td>45</td>\n",
              "      <td>49</td>\n",
              "      <td>49</td>\n",
              "      <td>65</td>\n",
              "      <td>65</td>\n",
              "      <td>45</td>\n",
              "      <td>1</td>\n",
              "      <td>0</td>\n",
              "      <td>0</td>\n",
              "      <td>0</td>\n",
              "      <td>0</td>\n",
              "      <td>0</td>\n",
              "      <td>0</td>\n",
              "      <td>0</td>\n",
              "      <td>0</td>\n",
              "      <td>0</td>\n",
              "      <td>0</td>\n",
              "      <td>1</td>\n",
              "      <td>0</td>\n",
              "      <td>0</td>\n",
              "      <td>0</td>\n",
              "      <td>1</td>\n",
              "      <td>0</td>\n",
              "      <td>0</td>\n",
              "      <td>0</td>\n",
              "      <td>0</td>\n",
              "      <td>0</td>\n",
              "    </tr>\n",
              "    <tr>\n",
              "      <th>2</th>\n",
              "      <td>Ivysaur</td>\n",
              "      <td>9</td>\n",
              "      <td>13</td>\n",
              "      <td>60</td>\n",
              "      <td>62</td>\n",
              "      <td>63</td>\n",
              "      <td>80</td>\n",
              "      <td>80</td>\n",
              "      <td>60</td>\n",
              "      <td>1</td>\n",
              "      <td>0</td>\n",
              "      <td>0</td>\n",
              "      <td>0</td>\n",
              "      <td>0</td>\n",
              "      <td>0</td>\n",
              "      <td>0</td>\n",
              "      <td>0</td>\n",
              "      <td>0</td>\n",
              "      <td>0</td>\n",
              "      <td>0</td>\n",
              "      <td>1</td>\n",
              "      <td>0</td>\n",
              "      <td>0</td>\n",
              "      <td>0</td>\n",
              "      <td>1</td>\n",
              "      <td>0</td>\n",
              "      <td>0</td>\n",
              "      <td>0</td>\n",
              "      <td>0</td>\n",
              "      <td>0</td>\n",
              "    </tr>\n",
              "    <tr>\n",
              "      <th>3</th>\n",
              "      <td>Venusaur</td>\n",
              "      <td>9</td>\n",
              "      <td>13</td>\n",
              "      <td>80</td>\n",
              "      <td>82</td>\n",
              "      <td>83</td>\n",
              "      <td>100</td>\n",
              "      <td>100</td>\n",
              "      <td>80</td>\n",
              "      <td>1</td>\n",
              "      <td>0</td>\n",
              "      <td>0</td>\n",
              "      <td>0</td>\n",
              "      <td>0</td>\n",
              "      <td>0</td>\n",
              "      <td>0</td>\n",
              "      <td>0</td>\n",
              "      <td>0</td>\n",
              "      <td>0</td>\n",
              "      <td>0</td>\n",
              "      <td>1</td>\n",
              "      <td>0</td>\n",
              "      <td>0</td>\n",
              "      <td>0</td>\n",
              "      <td>1</td>\n",
              "      <td>0</td>\n",
              "      <td>0</td>\n",
              "      <td>0</td>\n",
              "      <td>0</td>\n",
              "      <td>0</td>\n",
              "    </tr>\n",
              "    <tr>\n",
              "      <th>4</th>\n",
              "      <td>Mega Venusaur</td>\n",
              "      <td>9</td>\n",
              "      <td>13</td>\n",
              "      <td>80</td>\n",
              "      <td>100</td>\n",
              "      <td>123</td>\n",
              "      <td>122</td>\n",
              "      <td>120</td>\n",
              "      <td>80</td>\n",
              "      <td>1</td>\n",
              "      <td>0</td>\n",
              "      <td>0</td>\n",
              "      <td>0</td>\n",
              "      <td>0</td>\n",
              "      <td>0</td>\n",
              "      <td>0</td>\n",
              "      <td>0</td>\n",
              "      <td>0</td>\n",
              "      <td>0</td>\n",
              "      <td>0</td>\n",
              "      <td>1</td>\n",
              "      <td>0</td>\n",
              "      <td>0</td>\n",
              "      <td>0</td>\n",
              "      <td>1</td>\n",
              "      <td>0</td>\n",
              "      <td>0</td>\n",
              "      <td>0</td>\n",
              "      <td>0</td>\n",
              "      <td>0</td>\n",
              "    </tr>\n",
              "    <tr>\n",
              "      <th>5</th>\n",
              "      <td>Charmander</td>\n",
              "      <td>6</td>\n",
              "      <td>18</td>\n",
              "      <td>39</td>\n",
              "      <td>52</td>\n",
              "      <td>43</td>\n",
              "      <td>60</td>\n",
              "      <td>50</td>\n",
              "      <td>65</td>\n",
              "      <td>1</td>\n",
              "      <td>0</td>\n",
              "      <td>0</td>\n",
              "      <td>0</td>\n",
              "      <td>0</td>\n",
              "      <td>0</td>\n",
              "      <td>0</td>\n",
              "      <td>0</td>\n",
              "      <td>1</td>\n",
              "      <td>0</td>\n",
              "      <td>0</td>\n",
              "      <td>0</td>\n",
              "      <td>0</td>\n",
              "      <td>0</td>\n",
              "      <td>0</td>\n",
              "      <td>0</td>\n",
              "      <td>0</td>\n",
              "      <td>0</td>\n",
              "      <td>0</td>\n",
              "      <td>0</td>\n",
              "      <td>1</td>\n",
              "    </tr>\n",
              "  </tbody>\n",
              "</table>\n",
              "</div>"
            ],
            "text/plain": [
              "            Name  Type 1  Type 2  HP  Attack  Defense  Sp. Atk  Sp. Def  \\\n",
              "#                                                                         \n",
              "1      Bulbasaur       9      13  45      49       49       65       65   \n",
              "2        Ivysaur       9      13  60      62       63       80       80   \n",
              "3       Venusaur       9      13  80      82       83      100      100   \n",
              "4  Mega Venusaur       9      13  80     100      123      122      120   \n",
              "5     Charmander       6      18  39      52       43       60       50   \n",
              "\n",
              "   Speed  Generation  Legendary  Bug  Dark  Dragon  Electric  Fairy  Fighting  \\\n",
              "#                                                                               \n",
              "1     45           1          0    0     0       0         0      0         0   \n",
              "2     60           1          0    0     0       0         0      0         0   \n",
              "3     80           1          0    0     0       0         0      0         0   \n",
              "4     80           1          0    0     0       0         0      0         0   \n",
              "5     65           1          0    0     0       0         0      0         0   \n",
              "\n",
              "   Fire  Flying  Ghost  Grass  Ground  Ice  Normal  Poison  Psychic  Rock  \\\n",
              "#                                                                           \n",
              "1     0       0      0      1       0    0       0       1        0     0   \n",
              "2     0       0      0      1       0    0       0       1        0     0   \n",
              "3     0       0      0      1       0    0       0       1        0     0   \n",
              "4     0       0      0      1       0    0       0       1        0     0   \n",
              "5     1       0      0      0       0    0       0       0        0     0   \n",
              "\n",
              "   Steel  Water  empty  \n",
              "#                       \n",
              "1      0      0      0  \n",
              "2      0      0      0  \n",
              "3      0      0      0  \n",
              "4      0      0      0  \n",
              "5      0      0      1  "
            ]
          },
          "metadata": {
            "tags": []
          },
          "execution_count": 16
        }
      ]
    },
    {
      "cell_type": "markdown",
      "metadata": {
        "id": "cIk1NGspwFdt"
      },
      "source": [
        "將沒有使用到的資料剔除（name）："
      ]
    },
    {
      "cell_type": "code",
      "metadata": {
        "colab": {
          "base_uri": "https://localhost:8080/",
          "height": 272
        },
        "id": "qOJA6UL3wFdt",
        "outputId": "ab0b9208-f7eb-4372-8a4f-9cbf56411603"
      },
      "source": [
        "pokemon_df.drop('Name', axis='columns', inplace=True)\n",
        "pokemon_df.head()  # 顯示頭5比資料"
      ],
      "execution_count": 17,
      "outputs": [
        {
          "output_type": "execute_result",
          "data": {
            "text/html": [
              "<div>\n",
              "<style scoped>\n",
              "    .dataframe tbody tr th:only-of-type {\n",
              "        vertical-align: middle;\n",
              "    }\n",
              "\n",
              "    .dataframe tbody tr th {\n",
              "        vertical-align: top;\n",
              "    }\n",
              "\n",
              "    .dataframe thead th {\n",
              "        text-align: right;\n",
              "    }\n",
              "</style>\n",
              "<table border=\"1\" class=\"dataframe\">\n",
              "  <thead>\n",
              "    <tr style=\"text-align: right;\">\n",
              "      <th></th>\n",
              "      <th>Type 1</th>\n",
              "      <th>Type 2</th>\n",
              "      <th>HP</th>\n",
              "      <th>Attack</th>\n",
              "      <th>Defense</th>\n",
              "      <th>Sp. Atk</th>\n",
              "      <th>Sp. Def</th>\n",
              "      <th>Speed</th>\n",
              "      <th>Generation</th>\n",
              "      <th>Legendary</th>\n",
              "      <th>Bug</th>\n",
              "      <th>Dark</th>\n",
              "      <th>Dragon</th>\n",
              "      <th>Electric</th>\n",
              "      <th>Fairy</th>\n",
              "      <th>Fighting</th>\n",
              "      <th>Fire</th>\n",
              "      <th>Flying</th>\n",
              "      <th>Ghost</th>\n",
              "      <th>Grass</th>\n",
              "      <th>Ground</th>\n",
              "      <th>Ice</th>\n",
              "      <th>Normal</th>\n",
              "      <th>Poison</th>\n",
              "      <th>Psychic</th>\n",
              "      <th>Rock</th>\n",
              "      <th>Steel</th>\n",
              "      <th>Water</th>\n",
              "      <th>empty</th>\n",
              "    </tr>\n",
              "    <tr>\n",
              "      <th>#</th>\n",
              "      <th></th>\n",
              "      <th></th>\n",
              "      <th></th>\n",
              "      <th></th>\n",
              "      <th></th>\n",
              "      <th></th>\n",
              "      <th></th>\n",
              "      <th></th>\n",
              "      <th></th>\n",
              "      <th></th>\n",
              "      <th></th>\n",
              "      <th></th>\n",
              "      <th></th>\n",
              "      <th></th>\n",
              "      <th></th>\n",
              "      <th></th>\n",
              "      <th></th>\n",
              "      <th></th>\n",
              "      <th></th>\n",
              "      <th></th>\n",
              "      <th></th>\n",
              "      <th></th>\n",
              "      <th></th>\n",
              "      <th></th>\n",
              "      <th></th>\n",
              "      <th></th>\n",
              "      <th></th>\n",
              "      <th></th>\n",
              "      <th></th>\n",
              "    </tr>\n",
              "  </thead>\n",
              "  <tbody>\n",
              "    <tr>\n",
              "      <th>1</th>\n",
              "      <td>9</td>\n",
              "      <td>13</td>\n",
              "      <td>45</td>\n",
              "      <td>49</td>\n",
              "      <td>49</td>\n",
              "      <td>65</td>\n",
              "      <td>65</td>\n",
              "      <td>45</td>\n",
              "      <td>1</td>\n",
              "      <td>0</td>\n",
              "      <td>0</td>\n",
              "      <td>0</td>\n",
              "      <td>0</td>\n",
              "      <td>0</td>\n",
              "      <td>0</td>\n",
              "      <td>0</td>\n",
              "      <td>0</td>\n",
              "      <td>0</td>\n",
              "      <td>0</td>\n",
              "      <td>1</td>\n",
              "      <td>0</td>\n",
              "      <td>0</td>\n",
              "      <td>0</td>\n",
              "      <td>1</td>\n",
              "      <td>0</td>\n",
              "      <td>0</td>\n",
              "      <td>0</td>\n",
              "      <td>0</td>\n",
              "      <td>0</td>\n",
              "    </tr>\n",
              "    <tr>\n",
              "      <th>2</th>\n",
              "      <td>9</td>\n",
              "      <td>13</td>\n",
              "      <td>60</td>\n",
              "      <td>62</td>\n",
              "      <td>63</td>\n",
              "      <td>80</td>\n",
              "      <td>80</td>\n",
              "      <td>60</td>\n",
              "      <td>1</td>\n",
              "      <td>0</td>\n",
              "      <td>0</td>\n",
              "      <td>0</td>\n",
              "      <td>0</td>\n",
              "      <td>0</td>\n",
              "      <td>0</td>\n",
              "      <td>0</td>\n",
              "      <td>0</td>\n",
              "      <td>0</td>\n",
              "      <td>0</td>\n",
              "      <td>1</td>\n",
              "      <td>0</td>\n",
              "      <td>0</td>\n",
              "      <td>0</td>\n",
              "      <td>1</td>\n",
              "      <td>0</td>\n",
              "      <td>0</td>\n",
              "      <td>0</td>\n",
              "      <td>0</td>\n",
              "      <td>0</td>\n",
              "    </tr>\n",
              "    <tr>\n",
              "      <th>3</th>\n",
              "      <td>9</td>\n",
              "      <td>13</td>\n",
              "      <td>80</td>\n",
              "      <td>82</td>\n",
              "      <td>83</td>\n",
              "      <td>100</td>\n",
              "      <td>100</td>\n",
              "      <td>80</td>\n",
              "      <td>1</td>\n",
              "      <td>0</td>\n",
              "      <td>0</td>\n",
              "      <td>0</td>\n",
              "      <td>0</td>\n",
              "      <td>0</td>\n",
              "      <td>0</td>\n",
              "      <td>0</td>\n",
              "      <td>0</td>\n",
              "      <td>0</td>\n",
              "      <td>0</td>\n",
              "      <td>1</td>\n",
              "      <td>0</td>\n",
              "      <td>0</td>\n",
              "      <td>0</td>\n",
              "      <td>1</td>\n",
              "      <td>0</td>\n",
              "      <td>0</td>\n",
              "      <td>0</td>\n",
              "      <td>0</td>\n",
              "      <td>0</td>\n",
              "    </tr>\n",
              "    <tr>\n",
              "      <th>4</th>\n",
              "      <td>9</td>\n",
              "      <td>13</td>\n",
              "      <td>80</td>\n",
              "      <td>100</td>\n",
              "      <td>123</td>\n",
              "      <td>122</td>\n",
              "      <td>120</td>\n",
              "      <td>80</td>\n",
              "      <td>1</td>\n",
              "      <td>0</td>\n",
              "      <td>0</td>\n",
              "      <td>0</td>\n",
              "      <td>0</td>\n",
              "      <td>0</td>\n",
              "      <td>0</td>\n",
              "      <td>0</td>\n",
              "      <td>0</td>\n",
              "      <td>0</td>\n",
              "      <td>0</td>\n",
              "      <td>1</td>\n",
              "      <td>0</td>\n",
              "      <td>0</td>\n",
              "      <td>0</td>\n",
              "      <td>1</td>\n",
              "      <td>0</td>\n",
              "      <td>0</td>\n",
              "      <td>0</td>\n",
              "      <td>0</td>\n",
              "      <td>0</td>\n",
              "    </tr>\n",
              "    <tr>\n",
              "      <th>5</th>\n",
              "      <td>6</td>\n",
              "      <td>18</td>\n",
              "      <td>39</td>\n",
              "      <td>52</td>\n",
              "      <td>43</td>\n",
              "      <td>60</td>\n",
              "      <td>50</td>\n",
              "      <td>65</td>\n",
              "      <td>1</td>\n",
              "      <td>0</td>\n",
              "      <td>0</td>\n",
              "      <td>0</td>\n",
              "      <td>0</td>\n",
              "      <td>0</td>\n",
              "      <td>0</td>\n",
              "      <td>0</td>\n",
              "      <td>1</td>\n",
              "      <td>0</td>\n",
              "      <td>0</td>\n",
              "      <td>0</td>\n",
              "      <td>0</td>\n",
              "      <td>0</td>\n",
              "      <td>0</td>\n",
              "      <td>0</td>\n",
              "      <td>0</td>\n",
              "      <td>0</td>\n",
              "      <td>0</td>\n",
              "      <td>0</td>\n",
              "      <td>1</td>\n",
              "    </tr>\n",
              "  </tbody>\n",
              "</table>\n",
              "</div>"
            ],
            "text/plain": [
              "   Type 1  Type 2  HP  Attack  Defense  Sp. Atk  Sp. Def  Speed  Generation  \\\n",
              "#                                                                             \n",
              "1       9      13  45      49       49       65       65     45           1   \n",
              "2       9      13  60      62       63       80       80     60           1   \n",
              "3       9      13  80      82       83      100      100     80           1   \n",
              "4       9      13  80     100      123      122      120     80           1   \n",
              "5       6      18  39      52       43       60       50     65           1   \n",
              "\n",
              "   Legendary  Bug  Dark  Dragon  Electric  Fairy  Fighting  Fire  Flying  \\\n",
              "#                                                                          \n",
              "1          0    0     0       0         0      0         0     0       0   \n",
              "2          0    0     0       0         0      0         0     0       0   \n",
              "3          0    0     0       0         0      0         0     0       0   \n",
              "4          0    0     0       0         0      0         0     0       0   \n",
              "5          0    0     0       0         0      0         0     1       0   \n",
              "\n",
              "   Ghost  Grass  Ground  Ice  Normal  Poison  Psychic  Rock  Steel  Water  \\\n",
              "#                                                                           \n",
              "1      0      1       0    0       0       1        0     0      0      0   \n",
              "2      0      1       0    0       0       1        0     0      0      0   \n",
              "3      0      1       0    0       0       1        0     0      0      0   \n",
              "4      0      1       0    0       0       1        0     0      0      0   \n",
              "5      0      0       0    0       0       0        0     0      0      0   \n",
              "\n",
              "   empty  \n",
              "#         \n",
              "1      0  \n",
              "2      0  \n",
              "3      0  \n",
              "4      0  \n",
              "5      1  "
            ]
          },
          "metadata": {
            "tags": []
          },
          "execution_count": 17
        }
      ]
    },
    {
      "cell_type": "markdown",
      "metadata": {
        "id": "SzBenKl9wFdu"
      },
      "source": [
        "將寶可夢對戰數據中勝利方的表示改為0與1："
      ]
    },
    {
      "cell_type": "code",
      "metadata": {
        "scrolled": false,
        "colab": {
          "base_uri": "https://localhost:8080/",
          "height": 204
        },
        "id": "Dd9nB6fswFdu",
        "outputId": "0846f84c-f0eb-4c82-bc34-52487d989497"
      },
      "source": [
        "# apply方法第一個參數為自訂function,而axis為columns的話會將數據一行一\n",
        "# 行放入function中處理，最後將所有結果組合成一個數據結構返回。\n",
        "combats_df['Winner'] = combats_df.apply(lambda x: 0 \n",
        "                                        if x.Winner == x.First_pokemon else 1, \n",
        "                                        axis='columns')\n",
        "combats_df.head()  # 顯示頭5比資料"
      ],
      "execution_count": 18,
      "outputs": [
        {
          "output_type": "execute_result",
          "data": {
            "text/html": [
              "<div>\n",
              "<style scoped>\n",
              "    .dataframe tbody tr th:only-of-type {\n",
              "        vertical-align: middle;\n",
              "    }\n",
              "\n",
              "    .dataframe tbody tr th {\n",
              "        vertical-align: top;\n",
              "    }\n",
              "\n",
              "    .dataframe thead th {\n",
              "        text-align: right;\n",
              "    }\n",
              "</style>\n",
              "<table border=\"1\" class=\"dataframe\">\n",
              "  <thead>\n",
              "    <tr style=\"text-align: right;\">\n",
              "      <th></th>\n",
              "      <th>First_pokemon</th>\n",
              "      <th>Second_pokemon</th>\n",
              "      <th>Winner</th>\n",
              "    </tr>\n",
              "  </thead>\n",
              "  <tbody>\n",
              "    <tr>\n",
              "      <th>0</th>\n",
              "      <td>266</td>\n",
              "      <td>298</td>\n",
              "      <td>1</td>\n",
              "    </tr>\n",
              "    <tr>\n",
              "      <th>1</th>\n",
              "      <td>702</td>\n",
              "      <td>701</td>\n",
              "      <td>1</td>\n",
              "    </tr>\n",
              "    <tr>\n",
              "      <th>2</th>\n",
              "      <td>191</td>\n",
              "      <td>668</td>\n",
              "      <td>1</td>\n",
              "    </tr>\n",
              "    <tr>\n",
              "      <th>3</th>\n",
              "      <td>237</td>\n",
              "      <td>683</td>\n",
              "      <td>1</td>\n",
              "    </tr>\n",
              "    <tr>\n",
              "      <th>4</th>\n",
              "      <td>151</td>\n",
              "      <td>231</td>\n",
              "      <td>0</td>\n",
              "    </tr>\n",
              "  </tbody>\n",
              "</table>\n",
              "</div>"
            ],
            "text/plain": [
              "   First_pokemon  Second_pokemon  Winner\n",
              "0            266             298       1\n",
              "1            702             701       1\n",
              "2            191             668       1\n",
              "3            237             683       1\n",
              "4            151             231       0"
            ]
          },
          "metadata": {
            "tags": []
          },
          "execution_count": 18
        }
      ]
    },
    {
      "cell_type": "markdown",
      "metadata": {
        "id": "5pqnGt1wwFdu"
      },
      "source": [
        "### 分割數據集\n",
        "將數據集分為3個部份分別為：\n",
        "\n",
        "- 訓練集\n",
        "- 驗證集\n",
        "- 測試集"
      ]
    },
    {
      "cell_type": "code",
      "metadata": {
        "id": "8wHJehQwwFdv"
      },
      "source": [
        "data_num = combats_df.shape[0]\n",
        "# 取得一筆與data數量相同的亂數索引，主要目的是用於打散資料\n",
        "indexes = np.random.permutation(data_num)\n",
        "# 並將亂數索引值分為Train、validation和test分為，這裡劃分比例為6:2:2\n",
        "train_indexes = indexes[:int(data_num *0.6)]\n",
        "val_indexes = indexes[int(data_num *0.6):int(data_num *0.8)]\n",
        "test_indexes = indexes[int(data_num *0.8):]\n",
        "# 透過上方的索引值從對戰數據中提取資料\n",
        "train_data = combats_df.loc[train_indexes]\n",
        "val_data = combats_df.loc[val_indexes]\n",
        "test_data = combats_df.loc[test_indexes]"
      ],
      "execution_count": 19,
      "outputs": []
    },
    {
      "cell_type": "markdown",
      "metadata": {
        "id": "PRtQRurrwFdw"
      },
      "source": [
        "### Normalization 標準化"
      ]
    },
    {
      "cell_type": "markdown",
      "metadata": {
        "id": "g2msj5TFwFdw"
      },
      "source": [
        "將數值表示的屬性除以19(因為加上empty共有19種屬性)，讓數值縮放置0~1之間。"
      ]
    },
    {
      "cell_type": "code",
      "metadata": {
        "id": "elC-FrIGwFdx"
      },
      "source": [
        "pokemon_df['Type 1'] = pokemon_df['Type 1'] / 19\n",
        "pokemon_df['Type 2'] = pokemon_df['Type 2'] / 19\n"
      ],
      "execution_count": 20,
      "outputs": []
    },
    {
      "cell_type": "markdown",
      "metadata": {
        "id": "wW3QlfCVwFdx"
      },
      "source": [
        "使用Standard Score將生命值、攻擊力和防禦力等數值標準化。"
      ]
    },
    {
      "cell_type": "code",
      "metadata": {
        "scrolled": true,
        "colab": {
          "base_uri": "https://localhost:8080/",
          "height": 255
        },
        "id": "wvI6XcNHwFdx",
        "outputId": "fe43c802-36b4-4fe3-a5b6-fcc3b8915c70"
      },
      "source": [
        "mean = pokemon_df.loc[:, 'HP':'Generation'].mean()  # 計算平均值\n",
        "std = pokemon_df.loc[:, 'HP':'Generation'].std()  # 計算標準差\n",
        "# 標準化數據\n",
        "pokemon_df.loc[:,'HP':'Generation'] = (pokemon_df.loc[:,'HP':'Generation']-mean)/std\n",
        "pokemon_df.head()"
      ],
      "execution_count": 21,
      "outputs": [
        {
          "output_type": "execute_result",
          "data": {
            "text/html": [
              "<div>\n",
              "<style scoped>\n",
              "    .dataframe tbody tr th:only-of-type {\n",
              "        vertical-align: middle;\n",
              "    }\n",
              "\n",
              "    .dataframe tbody tr th {\n",
              "        vertical-align: top;\n",
              "    }\n",
              "\n",
              "    .dataframe thead th {\n",
              "        text-align: right;\n",
              "    }\n",
              "</style>\n",
              "<table border=\"1\" class=\"dataframe\">\n",
              "  <thead>\n",
              "    <tr style=\"text-align: right;\">\n",
              "      <th></th>\n",
              "      <th>Type 1</th>\n",
              "      <th>Type 2</th>\n",
              "      <th>HP</th>\n",
              "      <th>Attack</th>\n",
              "      <th>Defense</th>\n",
              "      <th>Sp. Atk</th>\n",
              "      <th>Sp. Def</th>\n",
              "      <th>Speed</th>\n",
              "      <th>Generation</th>\n",
              "      <th>Legendary</th>\n",
              "      <th>Bug</th>\n",
              "      <th>Dark</th>\n",
              "      <th>Dragon</th>\n",
              "      <th>Electric</th>\n",
              "      <th>Fairy</th>\n",
              "      <th>Fighting</th>\n",
              "      <th>Fire</th>\n",
              "      <th>Flying</th>\n",
              "      <th>Ghost</th>\n",
              "      <th>Grass</th>\n",
              "      <th>Ground</th>\n",
              "      <th>Ice</th>\n",
              "      <th>Normal</th>\n",
              "      <th>Poison</th>\n",
              "      <th>Psychic</th>\n",
              "      <th>Rock</th>\n",
              "      <th>Steel</th>\n",
              "      <th>Water</th>\n",
              "      <th>empty</th>\n",
              "    </tr>\n",
              "    <tr>\n",
              "      <th>#</th>\n",
              "      <th></th>\n",
              "      <th></th>\n",
              "      <th></th>\n",
              "      <th></th>\n",
              "      <th></th>\n",
              "      <th></th>\n",
              "      <th></th>\n",
              "      <th></th>\n",
              "      <th></th>\n",
              "      <th></th>\n",
              "      <th></th>\n",
              "      <th></th>\n",
              "      <th></th>\n",
              "      <th></th>\n",
              "      <th></th>\n",
              "      <th></th>\n",
              "      <th></th>\n",
              "      <th></th>\n",
              "      <th></th>\n",
              "      <th></th>\n",
              "      <th></th>\n",
              "      <th></th>\n",
              "      <th></th>\n",
              "      <th></th>\n",
              "      <th></th>\n",
              "      <th></th>\n",
              "      <th></th>\n",
              "      <th></th>\n",
              "      <th></th>\n",
              "    </tr>\n",
              "  </thead>\n",
              "  <tbody>\n",
              "    <tr>\n",
              "      <th>1</th>\n",
              "      <td>0.473684</td>\n",
              "      <td>0.684211</td>\n",
              "      <td>-0.950032</td>\n",
              "      <td>-0.924328</td>\n",
              "      <td>-0.796655</td>\n",
              "      <td>-0.238981</td>\n",
              "      <td>-0.248033</td>\n",
              "      <td>-0.801002</td>\n",
              "      <td>-1.398762</td>\n",
              "      <td>0</td>\n",
              "      <td>0</td>\n",
              "      <td>0</td>\n",
              "      <td>0</td>\n",
              "      <td>0</td>\n",
              "      <td>0</td>\n",
              "      <td>0</td>\n",
              "      <td>0</td>\n",
              "      <td>0</td>\n",
              "      <td>0</td>\n",
              "      <td>1</td>\n",
              "      <td>0</td>\n",
              "      <td>0</td>\n",
              "      <td>0</td>\n",
              "      <td>1</td>\n",
              "      <td>0</td>\n",
              "      <td>0</td>\n",
              "      <td>0</td>\n",
              "      <td>0</td>\n",
              "      <td>0</td>\n",
              "    </tr>\n",
              "    <tr>\n",
              "      <th>2</th>\n",
              "      <td>0.473684</td>\n",
              "      <td>0.684211</td>\n",
              "      <td>-0.362595</td>\n",
              "      <td>-0.523803</td>\n",
              "      <td>-0.347700</td>\n",
              "      <td>0.219422</td>\n",
              "      <td>0.290974</td>\n",
              "      <td>-0.284837</td>\n",
              "      <td>-1.398762</td>\n",
              "      <td>0</td>\n",
              "      <td>0</td>\n",
              "      <td>0</td>\n",
              "      <td>0</td>\n",
              "      <td>0</td>\n",
              "      <td>0</td>\n",
              "      <td>0</td>\n",
              "      <td>0</td>\n",
              "      <td>0</td>\n",
              "      <td>0</td>\n",
              "      <td>1</td>\n",
              "      <td>0</td>\n",
              "      <td>0</td>\n",
              "      <td>0</td>\n",
              "      <td>1</td>\n",
              "      <td>0</td>\n",
              "      <td>0</td>\n",
              "      <td>0</td>\n",
              "      <td>0</td>\n",
              "      <td>0</td>\n",
              "    </tr>\n",
              "    <tr>\n",
              "      <th>3</th>\n",
              "      <td>0.473684</td>\n",
              "      <td>0.684211</td>\n",
              "      <td>0.420654</td>\n",
              "      <td>0.092390</td>\n",
              "      <td>0.293665</td>\n",
              "      <td>0.830626</td>\n",
              "      <td>1.009651</td>\n",
              "      <td>0.403383</td>\n",
              "      <td>-1.398762</td>\n",
              "      <td>0</td>\n",
              "      <td>0</td>\n",
              "      <td>0</td>\n",
              "      <td>0</td>\n",
              "      <td>0</td>\n",
              "      <td>0</td>\n",
              "      <td>0</td>\n",
              "      <td>0</td>\n",
              "      <td>0</td>\n",
              "      <td>0</td>\n",
              "      <td>1</td>\n",
              "      <td>0</td>\n",
              "      <td>0</td>\n",
              "      <td>0</td>\n",
              "      <td>1</td>\n",
              "      <td>0</td>\n",
              "      <td>0</td>\n",
              "      <td>0</td>\n",
              "      <td>0</td>\n",
              "      <td>0</td>\n",
              "    </tr>\n",
              "    <tr>\n",
              "      <th>4</th>\n",
              "      <td>0.473684</td>\n",
              "      <td>0.684211</td>\n",
              "      <td>0.420654</td>\n",
              "      <td>0.646964</td>\n",
              "      <td>1.576395</td>\n",
              "      <td>1.502951</td>\n",
              "      <td>1.728328</td>\n",
              "      <td>0.403383</td>\n",
              "      <td>-1.398762</td>\n",
              "      <td>0</td>\n",
              "      <td>0</td>\n",
              "      <td>0</td>\n",
              "      <td>0</td>\n",
              "      <td>0</td>\n",
              "      <td>0</td>\n",
              "      <td>0</td>\n",
              "      <td>0</td>\n",
              "      <td>0</td>\n",
              "      <td>0</td>\n",
              "      <td>1</td>\n",
              "      <td>0</td>\n",
              "      <td>0</td>\n",
              "      <td>0</td>\n",
              "      <td>1</td>\n",
              "      <td>0</td>\n",
              "      <td>0</td>\n",
              "      <td>0</td>\n",
              "      <td>0</td>\n",
              "      <td>0</td>\n",
              "    </tr>\n",
              "    <tr>\n",
              "      <th>5</th>\n",
              "      <td>0.315789</td>\n",
              "      <td>0.947368</td>\n",
              "      <td>-1.185007</td>\n",
              "      <td>-0.831899</td>\n",
              "      <td>-0.989065</td>\n",
              "      <td>-0.391782</td>\n",
              "      <td>-0.787041</td>\n",
              "      <td>-0.112782</td>\n",
              "      <td>-1.398762</td>\n",
              "      <td>0</td>\n",
              "      <td>0</td>\n",
              "      <td>0</td>\n",
              "      <td>0</td>\n",
              "      <td>0</td>\n",
              "      <td>0</td>\n",
              "      <td>0</td>\n",
              "      <td>1</td>\n",
              "      <td>0</td>\n",
              "      <td>0</td>\n",
              "      <td>0</td>\n",
              "      <td>0</td>\n",
              "      <td>0</td>\n",
              "      <td>0</td>\n",
              "      <td>0</td>\n",
              "      <td>0</td>\n",
              "      <td>0</td>\n",
              "      <td>0</td>\n",
              "      <td>0</td>\n",
              "      <td>1</td>\n",
              "    </tr>\n",
              "  </tbody>\n",
              "</table>\n",
              "</div>"
            ],
            "text/plain": [
              "     Type 1    Type 2        HP    Attack   Defense   Sp. Atk   Sp. Def  \\\n",
              "#                                                                         \n",
              "1  0.473684  0.684211 -0.950032 -0.924328 -0.796655 -0.238981 -0.248033   \n",
              "2  0.473684  0.684211 -0.362595 -0.523803 -0.347700  0.219422  0.290974   \n",
              "3  0.473684  0.684211  0.420654  0.092390  0.293665  0.830626  1.009651   \n",
              "4  0.473684  0.684211  0.420654  0.646964  1.576395  1.502951  1.728328   \n",
              "5  0.315789  0.947368 -1.185007 -0.831899 -0.989065 -0.391782 -0.787041   \n",
              "\n",
              "      Speed  Generation  Legendary  Bug  Dark  Dragon  Electric  Fairy  \\\n",
              "#                                                                        \n",
              "1 -0.801002   -1.398762          0    0     0       0         0      0   \n",
              "2 -0.284837   -1.398762          0    0     0       0         0      0   \n",
              "3  0.403383   -1.398762          0    0     0       0         0      0   \n",
              "4  0.403383   -1.398762          0    0     0       0         0      0   \n",
              "5 -0.112782   -1.398762          0    0     0       0         0      0   \n",
              "\n",
              "   Fighting  Fire  Flying  Ghost  Grass  Ground  Ice  Normal  Poison  Psychic  \\\n",
              "#                                                                               \n",
              "1         0     0       0      0      1       0    0       0       1        0   \n",
              "2         0     0       0      0      1       0    0       0       1        0   \n",
              "3         0     0       0      0      1       0    0       0       1        0   \n",
              "4         0     0       0      0      1       0    0       0       1        0   \n",
              "5         0     1       0      0      0       0    0       0       0        0   \n",
              "\n",
              "   Rock  Steel  Water  empty  \n",
              "#                             \n",
              "1     0      0      0      0  \n",
              "2     0      0      0      0  \n",
              "3     0      0      0      0  \n",
              "4     0      0      0      0  \n",
              "5     0      0      0      1  "
            ]
          },
          "metadata": {
            "tags": []
          },
          "execution_count": 21
        }
      ]
    },
    {
      "cell_type": "markdown",
      "metadata": {
        "id": "mnhRrP_3wFdy"
      },
      "source": [
        "### 建立Numpy array格式的訓練數據"
      ]
    },
    {
      "cell_type": "markdown",
      "metadata": {
        "id": "BgS0t9oZwFdy"
      },
      "source": [
        "準備對戰數據中每個寶可夢對應能力值的索引。"
      ]
    },
    {
      "cell_type": "code",
      "metadata": {
        "colab": {
          "base_uri": "https://localhost:8080/"
        },
        "id": "m1tzRv95wFdz",
        "outputId": "452a7329-421e-4848-9b93-f5ca35354c09"
      },
      "source": [
        "x_train_index = np.array(train_data.drop('Winner', axis='columns'))\n",
        "x_val_index = np.array(val_data.drop('Winner', axis='columns'))\n",
        "x_test_index = np.array(test_data.drop('Winner', axis='columns'))\n",
        "print(x_train_index)"
      ],
      "execution_count": 22,
      "outputs": [
        {
          "output_type": "stream",
          "text": [
            "[[779 237]\n",
            " [158 121]\n",
            " [354  59]\n",
            " ...\n",
            " [275  76]\n",
            " [799  82]\n",
            " [493 695]]\n"
          ],
          "name": "stdout"
        }
      ]
    },
    {
      "cell_type": "markdown",
      "metadata": {
        "id": "Px66t48fwFd0"
      },
      "source": [
        "準備訓練目標"
      ]
    },
    {
      "cell_type": "code",
      "metadata": {
        "id": "Yt9jquXKwFd0"
      },
      "source": [
        "y_train = np.array(train_data['Winner'])\n",
        "y_val = np.array(val_data['Winner'])\n",
        "y_test = np.array(test_data['Winner'])"
      ],
      "execution_count": 23,
      "outputs": []
    },
    {
      "cell_type": "markdown",
      "metadata": {
        "id": "sCEyxBinwFd0"
      },
      "source": [
        "將\"One-hot Encode\"和\"數值\"兩種資料分開"
      ]
    },
    {
      "cell_type": "code",
      "metadata": {
        "colab": {
          "base_uri": "https://localhost:8080/"
        },
        "id": "RfD0zdeSwFd1",
        "outputId": "bdfd86d8-206c-414c-b794-1438c833c04e"
      },
      "source": [
        "# 取得寶可夢的能力值\n",
        "pokemon_data_normal = np.array(pokemon_df.loc[:, 'HP':'Generation'])\n",
        "pokemon_data_one_hot = np.array(pokemon_df.loc[:, 'Legendary':])\n",
        "print(pokemon_data_normal.shape)\n",
        "print(pokemon_data_one_hot.shape)\n",
        "# 透過前面準備的索引產生輸入數據\n",
        "x_train_normal = pokemon_data_normal[x_train_index -1].reshape((-1, 14))\n",
        "x_val_normal = pokemon_data_normal[x_val_index -1].reshape((-1, 14))\n",
        "x_test_normal = pokemon_data_normal[x_test_index -1].reshape((-1, 14))\n",
        "x_train_one_hot = pokemon_data_one_hot[x_train_index -1].reshape((-1, 40))\n",
        "x_val_one_hot = pokemon_data_one_hot[x_val_index -1].reshape((-1, 40))\n",
        "x_test_one_hot = pokemon_data_one_hot[x_test_index -1].reshape((-1, 40))\n",
        "print(x_train_normal.shape)\n",
        "print(x_train_one_hot.shape)"
      ],
      "execution_count": 24,
      "outputs": [
        {
          "output_type": "stream",
          "text": [
            "(800, 7)\n",
            "(800, 20)\n",
            "(30000, 14)\n",
            "(30000, 40)\n"
          ],
          "name": "stdout"
        }
      ]
    },
    {
      "cell_type": "code",
      "metadata": {
        "colab": {
          "base_uri": "https://localhost:8080/"
        },
        "id": "w1bJxL5IwFd1",
        "outputId": "2961c622-95df-45fa-94b0-2e8f00c489c9"
      },
      "source": [
        "# 建立normal data輸入層\n",
        "input_1 = keras.Input(shape=(14, ), name='normal_input')\n",
        "# 建立 one hot encode輸入層\n",
        "input_2 = keras.Input(shape=(40, ), name='one_hot_input')\n",
        "\n",
        "#========================= Write your code here ========================= #\n",
        "# input_1: 第1層全連接層設為64個unit，relu activation function\n",
        "x = layers.Dense(64, activation='relu')(input_1)\n",
        "# input_1: 第2層Dropout層，捨棄比率設定為20%\n",
        "x = layers.Dropout(0.2) (x)\n",
        "# input_1: 第3層全連接層設為64個unit，relu activation function\n",
        "x = layers.Dense(64, activation='relu') (x)\n",
        "\n",
        "# input_2: 第1層全連接層設為64個unit，relu activation function\n",
        "x = layers.Dense(64, activation='relu') (input_2)\n",
        "# input_2: 第2層Dropout層，捨棄比率設定為20%\n",
        "x = layers.Dropout(0.2) (x)\n",
        "# input_2: 第3層全連接層設為32個unit，relu activation function\n",
        "x = layers.Dense(32, activation='relu') (x)\n",
        "\n",
        "# 第4層Concatenate層，連接input_1和input_2經過全連接後出來的特徵\n",
        "outputs=layers.Dense(1, activation='relu') (x)\n",
        "# 第5層Dropout層，捨棄比率設定為20%\n",
        "x = layers.Dropout(0.2) (x)\n",
        "# 第6層全連接層設為64個unit，relu activation function\n",
        "x = layers.Dense(64, activation='relu') (x)\n",
        "# 第7層Dropout層，捨棄比率設定為20%\n",
        "x = layers.Dropout(0.2) (x)\n",
        "# 第8層全連接層設為32個unit，relu activation function\n",
        "x = layers.Dense(32, activation='relu') (x)\n",
        "# 第9層Dropout層，捨棄比率設定為20%\n",
        "x = layers.Dropout(0.2) (x)\n",
        "# 最後一層全連接層，輸出維度為類別數量，並且使用sigmoid激活函數\n",
        "outputs=layers.Dense(1, activation='sigmoid') (x)\n",
        "#======================================================================== #\n",
        "\n",
        "# 建立網路模型(將輸入到輸出所有經過的網路層連接起來)\n",
        "model = keras.Model(inputs=[input_1, input_2], outputs=outputs, name='model')\n",
        "model.summary()  # 顯示網路架構"
      ],
      "execution_count": 28,
      "outputs": [
        {
          "output_type": "stream",
          "text": [
            "Model: \"model\"\n",
            "__________________________________________________________________________________________________\n",
            "Layer (type)                    Output Shape         Param #     Connected to                     \n",
            "==================================================================================================\n",
            "one_hot_input (InputLayer)      [(None, 40)]         0                                            \n",
            "__________________________________________________________________________________________________\n",
            "dense_18 (Dense)                (None, 64)           2624        one_hot_input[0][0]              \n",
            "__________________________________________________________________________________________________\n",
            "dropout_13 (Dropout)            (None, 64)           0           dense_18[0][0]                   \n",
            "__________________________________________________________________________________________________\n",
            "dense_19 (Dense)                (None, 32)           2080        dropout_13[0][0]                 \n",
            "__________________________________________________________________________________________________\n",
            "dropout_14 (Dropout)            (None, 32)           0           dense_19[0][0]                   \n",
            "__________________________________________________________________________________________________\n",
            "dense_21 (Dense)                (None, 64)           2112        dropout_14[0][0]                 \n",
            "__________________________________________________________________________________________________\n",
            "dropout_15 (Dropout)            (None, 64)           0           dense_21[0][0]                   \n",
            "__________________________________________________________________________________________________\n",
            "dense_22 (Dense)                (None, 32)           2080        dropout_15[0][0]                 \n",
            "__________________________________________________________________________________________________\n",
            "dropout_16 (Dropout)            (None, 32)           0           dense_22[0][0]                   \n",
            "__________________________________________________________________________________________________\n",
            "normal_input (InputLayer)       [(None, 14)]         0                                            \n",
            "__________________________________________________________________________________________________\n",
            "dense_23 (Dense)                (None, 1)            33          dropout_16[0][0]                 \n",
            "==================================================================================================\n",
            "Total params: 8,929\n",
            "Trainable params: 8,929\n",
            "Non-trainable params: 0\n",
            "__________________________________________________________________________________________________\n"
          ],
          "name": "stdout"
        }
      ]
    },
    {
      "cell_type": "code",
      "metadata": {
        "colab": {
          "base_uri": "https://localhost:8080/",
          "height": 953
        },
        "id": "rPQxkUgkwFd2",
        "outputId": "f7d95117-ea4d-4a47-ea7d-847597c24c32"
      },
      "source": [
        "# 產生網絡拓撲圖\n",
        "plot_model(model, to_file='model.png')\n",
        "\n",
        "# 秀出網絡拓撲圖\n",
        "Image('model.png')"
      ],
      "execution_count": 29,
      "outputs": [
        {
          "output_type": "execute_result",
          "data": {
            "image/png": "[encoded data removed]",
            "text/plain": [
              "<IPython.core.display.Image object>"
            ]
          },
          "metadata": {
            "tags": []
          },
          "execution_count": 29
        }
      ]
    },
    {
      "cell_type": "markdown",
      "metadata": {
        "id": "XbofHgZ1wFd2"
      },
      "source": [
        "創建紀錄檔目錄"
      ]
    },
    {
      "cell_type": "code",
      "metadata": {
        "id": "FQZxq1oLwFd2"
      },
      "source": [
        "model_dir = 'lab2-logs/models/'\n",
        "if not os.path.isdir(model_dir):\n",
        "    os.makedirs(model_dir)"
      ],
      "execution_count": 30,
      "outputs": []
    },
    {
      "cell_type": "markdown",
      "metadata": {
        "id": "HiONc0JJwFd2"
      },
      "source": [
        "建立Callback function："
      ]
    },
    {
      "cell_type": "code",
      "metadata": {
        "id": "zTurmlqpwFd3"
      },
      "source": [
        "# 儲存訓練記錄檔\n",
        "log_dir = os.path.join('lab3-logs', 'model')\n",
        "model_cbk = keras.callbacks.TensorBoard(log_dir=log_dir)\n",
        "# 儲存最好的網路模型權重\n",
        "model_mckp = keras.callbacks.ModelCheckpoint(model_dir + '/Best-model.h5', \n",
        "                                         monitor='val_binary_accuracy', \n",
        "                                         save_best_only=True, \n",
        "                                         mode='max')"
      ],
      "execution_count": 31,
      "outputs": []
    },
    {
      "cell_type": "markdown",
      "metadata": {
        "id": "sswysikIwFd3"
      },
      "source": [
        "設定訓練使用的優化器、損失函數和指標函數"
      ]
    },
    {
      "cell_type": "code",
      "metadata": {
        "id": "VMyYPf-QwFd3"
      },
      "source": [
        "model.compile(keras.optimizers.Adam(), \n",
        "               loss=keras.losses.BinaryCrossentropy(), \n",
        "               metrics=[keras.metrics.BinaryAccuracy()])"
      ],
      "execution_count": null,
      "outputs": []
    },
    {
      "cell_type": "markdown",
      "metadata": {
        "id": "v8tJcUgjwFd4"
      },
      "source": [
        "訓練網路模型"
      ]
    },
    {
      "cell_type": "code",
      "metadata": {
        "scrolled": true,
        "id": "cED_-hhnwFd4",
        "outputId": "17d00a71-05a7-454a-bf59-8ce34517bc56"
      },
      "source": [
        "history = model.fit(\n",
        "    x=[x_train_normal, x_train_one_hot], \n",
        "    y=y_train, \n",
        "    batch_size=64 ,\n",
        "    epochs=100, \n",
        "    validation_data=([x_val_normal, x_val_one_hot], y_val), \n",
        "    callbacks=[model_cbk, model_mckp]\n",
        ")"
      ],
      "execution_count": null,
      "outputs": [
        {
          "output_type": "stream",
          "text": [
            "Epoch 1/100\n",
            "469/469 [==============================] - 1s 3ms/step - loss: 0.3864 - binary_accuracy: 0.8460 - val_loss: 0.2527 - val_binary_accuracy: 0.9142\n",
            "Epoch 2/100\n",
            "469/469 [==============================] - 1s 2ms/step - loss: 0.2609 - binary_accuracy: 0.9056 - val_loss: 0.1900 - val_binary_accuracy: 0.9282\n",
            "Epoch 3/100\n",
            "469/469 [==============================] - 1s 2ms/step - loss: 0.2174 - binary_accuracy: 0.9197 - val_loss: 0.1721 - val_binary_accuracy: 0.9354\n",
            "Epoch 4/100\n",
            "469/469 [==============================] - 1s 2ms/step - loss: 0.1867 - binary_accuracy: 0.9274 - val_loss: 0.1441 - val_binary_accuracy: 0.9446\n",
            "Epoch 5/100\n",
            "469/469 [==============================] - 1s 2ms/step - loss: 0.1674 - binary_accuracy: 0.9370 - val_loss: 0.1310 - val_binary_accuracy: 0.9486\n",
            "Epoch 6/100\n",
            "469/469 [==============================] - 1s 2ms/step - loss: 0.1508 - binary_accuracy: 0.9439 - val_loss: 0.1224 - val_binary_accuracy: 0.9505\n",
            "Epoch 7/100\n",
            "469/469 [==============================] - 1s 2ms/step - loss: 0.1377 - binary_accuracy: 0.9469 - val_loss: 0.1165 - val_binary_accuracy: 0.9527\n",
            "Epoch 8/100\n",
            "469/469 [==============================] - 1s 2ms/step - loss: 0.1265 - binary_accuracy: 0.9519 - val_loss: 0.1044 - val_binary_accuracy: 0.9570\n",
            "Epoch 9/100\n",
            "469/469 [==============================] - 1s 2ms/step - loss: 0.1209 - binary_accuracy: 0.9534 - val_loss: 0.1058 - val_binary_accuracy: 0.9562\n",
            "Epoch 10/100\n",
            "469/469 [==============================] - 1s 2ms/step - loss: 0.1137 - binary_accuracy: 0.9546 - val_loss: 0.1038 - val_binary_accuracy: 0.9566\n",
            "Epoch 11/100\n",
            "469/469 [==============================] - 1s 2ms/step - loss: 0.1097 - binary_accuracy: 0.9573 - val_loss: 0.0965 - val_binary_accuracy: 0.9615\n",
            "Epoch 12/100\n",
            "469/469 [==============================] - 1s 2ms/step - loss: 0.1065 - binary_accuracy: 0.9579 - val_loss: 0.0980 - val_binary_accuracy: 0.9600\n",
            "Epoch 13/100\n",
            "469/469 [==============================] - 1s 2ms/step - loss: 0.1025 - binary_accuracy: 0.9589 - val_loss: 0.0946 - val_binary_accuracy: 0.9633\n",
            "Epoch 14/100\n",
            "469/469 [==============================] - 1s 2ms/step - loss: 0.0985 - binary_accuracy: 0.9619 - val_loss: 0.0956 - val_binary_accuracy: 0.9616\n",
            "Epoch 15/100\n",
            "469/469 [==============================] - 1s 2ms/step - loss: 0.0959 - binary_accuracy: 0.9615 - val_loss: 0.0910 - val_binary_accuracy: 0.9621\n",
            "Epoch 16/100\n",
            "469/469 [==============================] - 1s 2ms/step - loss: 0.0934 - binary_accuracy: 0.9625 - val_loss: 0.0886 - val_binary_accuracy: 0.9658\n",
            "Epoch 17/100\n",
            "469/469 [==============================] - 1s 2ms/step - loss: 0.0935 - binary_accuracy: 0.9634 - val_loss: 0.0906 - val_binary_accuracy: 0.9645\n",
            "Epoch 18/100\n",
            "469/469 [==============================] - 1s 2ms/step - loss: 0.0886 - binary_accuracy: 0.9649 - val_loss: 0.0964 - val_binary_accuracy: 0.9599\n",
            "Epoch 19/100\n",
            "469/469 [==============================] - 1s 2ms/step - loss: 0.0857 - binary_accuracy: 0.9665 - val_loss: 0.0961 - val_binary_accuracy: 0.9597\n",
            "Epoch 20/100\n",
            "469/469 [==============================] - 1s 2ms/step - loss: 0.0844 - binary_accuracy: 0.9670 - val_loss: 0.0845 - val_binary_accuracy: 0.9669\n",
            "Epoch 21/100\n",
            "469/469 [==============================] - 1s 2ms/step - loss: 0.0835 - binary_accuracy: 0.9679 - val_loss: 0.0961 - val_binary_accuracy: 0.9633\n",
            "Epoch 22/100\n",
            "469/469 [==============================] - 1s 2ms/step - loss: 0.0827 - binary_accuracy: 0.9675 - val_loss: 0.0897 - val_binary_accuracy: 0.9631\n",
            "Epoch 23/100\n",
            "469/469 [==============================] - 1s 2ms/step - loss: 0.0802 - binary_accuracy: 0.9695 - val_loss: 0.0831 - val_binary_accuracy: 0.9684\n",
            "Epoch 24/100\n",
            "469/469 [==============================] - 1s 2ms/step - loss: 0.0790 - binary_accuracy: 0.9696 - val_loss: 0.0896 - val_binary_accuracy: 0.9654\n",
            "Epoch 25/100\n",
            "469/469 [==============================] - 1s 2ms/step - loss: 0.0781 - binary_accuracy: 0.9689 - val_loss: 0.0845 - val_binary_accuracy: 0.9661\n",
            "Epoch 26/100\n",
            "469/469 [==============================] - 1s 2ms/step - loss: 0.0772 - binary_accuracy: 0.9699 - val_loss: 0.0929 - val_binary_accuracy: 0.9658\n",
            "Epoch 27/100\n",
            "469/469 [==============================] - 1s 2ms/step - loss: 0.0778 - binary_accuracy: 0.9696 - val_loss: 0.0856 - val_binary_accuracy: 0.9679\n",
            "Epoch 28/100\n",
            "469/469 [==============================] - 1s 2ms/step - loss: 0.0757 - binary_accuracy: 0.9703 - val_loss: 0.0910 - val_binary_accuracy: 0.9647\n",
            "Epoch 29/100\n",
            "469/469 [==============================] - 1s 2ms/step - loss: 0.0776 - binary_accuracy: 0.9698 - val_loss: 0.0883 - val_binary_accuracy: 0.9669\n",
            "Epoch 30/100\n",
            "469/469 [==============================] - 1s 2ms/step - loss: 0.0718 - binary_accuracy: 0.9715 - val_loss: 0.0861 - val_binary_accuracy: 0.9668\n",
            "Epoch 31/100\n",
            "469/469 [==============================] - 1s 2ms/step - loss: 0.0713 - binary_accuracy: 0.9714 - val_loss: 0.0868 - val_binary_accuracy: 0.9665\n",
            "Epoch 32/100\n",
            "469/469 [==============================] - 1s 2ms/step - loss: 0.0733 - binary_accuracy: 0.9699 - val_loss: 0.0932 - val_binary_accuracy: 0.9660\n",
            "Epoch 33/100\n",
            "469/469 [==============================] - 1s 2ms/step - loss: 0.0718 - binary_accuracy: 0.9719 - val_loss: 0.0872 - val_binary_accuracy: 0.9661\n",
            "Epoch 34/100\n",
            "469/469 [==============================] - 1s 2ms/step - loss: 0.0717 - binary_accuracy: 0.9725 - val_loss: 0.0848 - val_binary_accuracy: 0.9702\n",
            "Epoch 35/100\n",
            "469/469 [==============================] - 1s 2ms/step - loss: 0.0696 - binary_accuracy: 0.9726 - val_loss: 0.0910 - val_binary_accuracy: 0.9658\n",
            "Epoch 36/100\n",
            "469/469 [==============================] - 1s 2ms/step - loss: 0.0688 - binary_accuracy: 0.9720 - val_loss: 0.0884 - val_binary_accuracy: 0.9669\n",
            "Epoch 37/100\n",
            "469/469 [==============================] - 1s 2ms/step - loss: 0.0679 - binary_accuracy: 0.9745 - val_loss: 0.0843 - val_binary_accuracy: 0.9680\n",
            "Epoch 38/100\n",
            "469/469 [==============================] - 1s 2ms/step - loss: 0.0667 - binary_accuracy: 0.9723 - val_loss: 0.0842 - val_binary_accuracy: 0.9687\n",
            "Epoch 39/100\n",
            "469/469 [==============================] - 1s 2ms/step - loss: 0.0673 - binary_accuracy: 0.9739 - val_loss: 0.0861 - val_binary_accuracy: 0.9683\n",
            "Epoch 40/100\n",
            "469/469 [==============================] - 1s 2ms/step - loss: 0.0684 - binary_accuracy: 0.9719 - val_loss: 0.0822 - val_binary_accuracy: 0.9700\n",
            "Epoch 41/100\n",
            "469/469 [==============================] - 1s 2ms/step - loss: 0.0669 - binary_accuracy: 0.9732 - val_loss: 0.0859 - val_binary_accuracy: 0.9676\n",
            "Epoch 42/100\n",
            "469/469 [==============================] - 1s 2ms/step - loss: 0.0649 - binary_accuracy: 0.9739 - val_loss: 0.0923 - val_binary_accuracy: 0.9679\n",
            "Epoch 43/100\n",
            "469/469 [==============================] - 1s 2ms/step - loss: 0.0660 - binary_accuracy: 0.9743 - val_loss: 0.0853 - val_binary_accuracy: 0.9700\n",
            "Epoch 44/100\n",
            "469/469 [==============================] - 1s 2ms/step - loss: 0.0624 - binary_accuracy: 0.9755 - val_loss: 0.0880 - val_binary_accuracy: 0.9675\n",
            "Epoch 45/100\n",
            "469/469 [==============================] - 1s 2ms/step - loss: 0.0637 - binary_accuracy: 0.9750 - val_loss: 0.0923 - val_binary_accuracy: 0.9669\n",
            "Epoch 46/100\n",
            "469/469 [==============================] - 1s 2ms/step - loss: 0.0609 - binary_accuracy: 0.9766 - val_loss: 0.0917 - val_binary_accuracy: 0.9701\n",
            "Epoch 47/100\n",
            "469/469 [==============================] - 1s 2ms/step - loss: 0.0629 - binary_accuracy: 0.9760 - val_loss: 0.0899 - val_binary_accuracy: 0.9670\n",
            "Epoch 48/100\n",
            "469/469 [==============================] - 1s 2ms/step - loss: 0.0644 - binary_accuracy: 0.9750 - val_loss: 0.0941 - val_binary_accuracy: 0.9674\n",
            "Epoch 49/100\n",
            "469/469 [==============================] - 1s 2ms/step - loss: 0.0620 - binary_accuracy: 0.9746 - val_loss: 0.0874 - val_binary_accuracy: 0.9691\n",
            "Epoch 50/100\n",
            "469/469 [==============================] - 1s 2ms/step - loss: 0.0583 - binary_accuracy: 0.9763 - val_loss: 0.0903 - val_binary_accuracy: 0.9685\n",
            "Epoch 51/100\n",
            "469/469 [==============================] - 1s 2ms/step - loss: 0.0616 - binary_accuracy: 0.9768 - val_loss: 0.0880 - val_binary_accuracy: 0.9673\n",
            "Epoch 52/100\n",
            "469/469 [==============================] - 1s 2ms/step - loss: 0.0595 - binary_accuracy: 0.9773 - val_loss: 0.1044 - val_binary_accuracy: 0.9654\n"
          ],
          "name": "stdout"
        },
        {
          "output_type": "stream",
          "text": [
            "Epoch 53/100\n",
            "469/469 [==============================] - 1s 2ms/step - loss: 0.0578 - binary_accuracy: 0.9777 - val_loss: 0.0890 - val_binary_accuracy: 0.9700\n",
            "Epoch 54/100\n",
            "469/469 [==============================] - 1s 2ms/step - loss: 0.0606 - binary_accuracy: 0.9772 - val_loss: 0.0887 - val_binary_accuracy: 0.9699\n",
            "Epoch 55/100\n",
            "469/469 [==============================] - 1s 2ms/step - loss: 0.0570 - binary_accuracy: 0.9774 - val_loss: 0.0971 - val_binary_accuracy: 0.9652\n",
            "Epoch 56/100\n",
            "469/469 [==============================] - 1s 2ms/step - loss: 0.0578 - binary_accuracy: 0.9776 - val_loss: 0.1007 - val_binary_accuracy: 0.9637\n",
            "Epoch 57/100\n",
            "469/469 [==============================] - 1s 2ms/step - loss: 0.0609 - binary_accuracy: 0.9765 - val_loss: 0.0902 - val_binary_accuracy: 0.9695\n",
            "Epoch 58/100\n",
            "469/469 [==============================] - 1s 2ms/step - loss: 0.0559 - binary_accuracy: 0.9781 - val_loss: 0.0924 - val_binary_accuracy: 0.9676\n",
            "Epoch 59/100\n",
            "469/469 [==============================] - 1s 2ms/step - loss: 0.0550 - binary_accuracy: 0.9785 - val_loss: 0.0923 - val_binary_accuracy: 0.9686\n",
            "Epoch 60/100\n",
            "469/469 [==============================] - 1s 2ms/step - loss: 0.0562 - binary_accuracy: 0.9785 - val_loss: 0.0862 - val_binary_accuracy: 0.9701\n",
            "Epoch 61/100\n",
            "469/469 [==============================] - 1s 2ms/step - loss: 0.0544 - binary_accuracy: 0.9796 - val_loss: 0.0991 - val_binary_accuracy: 0.9686\n",
            "Epoch 62/100\n",
            "469/469 [==============================] - 1s 2ms/step - loss: 0.0554 - binary_accuracy: 0.9784 - val_loss: 0.0932 - val_binary_accuracy: 0.9681\n",
            "Epoch 63/100\n",
            "469/469 [==============================] - 1s 2ms/step - loss: 0.0562 - binary_accuracy: 0.9775 - val_loss: 0.0957 - val_binary_accuracy: 0.9697\n",
            "Epoch 64/100\n",
            "469/469 [==============================] - 1s 2ms/step - loss: 0.0551 - binary_accuracy: 0.9778 - val_loss: 0.1210 - val_binary_accuracy: 0.9612\n",
            "Epoch 65/100\n",
            "469/469 [==============================] - 1s 2ms/step - loss: 0.0567 - binary_accuracy: 0.9779 - val_loss: 0.0925 - val_binary_accuracy: 0.9714\n",
            "Epoch 66/100\n",
            "469/469 [==============================] - 1s 2ms/step - loss: 0.0542 - binary_accuracy: 0.9794 - val_loss: 0.0878 - val_binary_accuracy: 0.9698\n",
            "Epoch 67/100\n",
            "469/469 [==============================] - 1s 2ms/step - loss: 0.0544 - binary_accuracy: 0.9791 - val_loss: 0.0977 - val_binary_accuracy: 0.9707\n",
            "Epoch 68/100\n",
            "469/469 [==============================] - 1s 2ms/step - loss: 0.0546 - binary_accuracy: 0.9795 - val_loss: 0.0903 - val_binary_accuracy: 0.9703\n",
            "Epoch 69/100\n",
            "469/469 [==============================] - 1s 2ms/step - loss: 0.0555 - binary_accuracy: 0.9779 - val_loss: 0.0859 - val_binary_accuracy: 0.9695\n",
            "Epoch 70/100\n",
            "469/469 [==============================] - 1s 2ms/step - loss: 0.0548 - binary_accuracy: 0.9789 - val_loss: 0.1000 - val_binary_accuracy: 0.9676\n",
            "Epoch 71/100\n",
            "469/469 [==============================] - 1s 2ms/step - loss: 0.0528 - binary_accuracy: 0.9793 - val_loss: 0.0989 - val_binary_accuracy: 0.9697\n",
            "Epoch 72/100\n",
            "469/469 [==============================] - 1s 2ms/step - loss: 0.0518 - binary_accuracy: 0.9801 - val_loss: 0.0901 - val_binary_accuracy: 0.9700\n",
            "Epoch 73/100\n",
            "469/469 [==============================] - 1s 2ms/step - loss: 0.0507 - binary_accuracy: 0.9795 - val_loss: 0.0917 - val_binary_accuracy: 0.9685\n",
            "Epoch 74/100\n",
            "469/469 [==============================] - 1s 2ms/step - loss: 0.0521 - binary_accuracy: 0.9806 - val_loss: 0.0878 - val_binary_accuracy: 0.9726\n",
            "Epoch 75/100\n",
            "469/469 [==============================] - 1s 2ms/step - loss: 0.0544 - binary_accuracy: 0.9791 - val_loss: 0.0905 - val_binary_accuracy: 0.9707\n",
            "Epoch 76/100\n",
            "469/469 [==============================] - 1s 2ms/step - loss: 0.0492 - binary_accuracy: 0.9807 - val_loss: 0.0976 - val_binary_accuracy: 0.9692\n",
            "Epoch 77/100\n",
            "469/469 [==============================] - 1s 2ms/step - loss: 0.0523 - binary_accuracy: 0.9801 - val_loss: 0.1020 - val_binary_accuracy: 0.9680\n",
            "Epoch 78/100\n",
            "469/469 [==============================] - 1s 2ms/step - loss: 0.0497 - binary_accuracy: 0.9812 - val_loss: 0.1032 - val_binary_accuracy: 0.9660\n",
            "Epoch 79/100\n",
            "469/469 [==============================] - 1s 2ms/step - loss: 0.0544 - binary_accuracy: 0.9796 - val_loss: 0.0944 - val_binary_accuracy: 0.9685\n",
            "Epoch 80/100\n",
            "469/469 [==============================] - 1s 2ms/step - loss: 0.0506 - binary_accuracy: 0.9805 - val_loss: 0.1003 - val_binary_accuracy: 0.9673\n",
            "Epoch 81/100\n",
            "469/469 [==============================] - 1s 2ms/step - loss: 0.0523 - binary_accuracy: 0.9797 - val_loss: 0.0930 - val_binary_accuracy: 0.9709\n",
            "Epoch 82/100\n",
            "469/469 [==============================] - 1s 2ms/step - loss: 0.0512 - binary_accuracy: 0.9807 - val_loss: 0.0943 - val_binary_accuracy: 0.9690\n",
            "Epoch 83/100\n",
            "469/469 [==============================] - 1s 2ms/step - loss: 0.0486 - binary_accuracy: 0.9812 - val_loss: 0.0999 - val_binary_accuracy: 0.9694\n",
            "Epoch 84/100\n",
            "469/469 [==============================] - 1s 2ms/step - loss: 0.0500 - binary_accuracy: 0.9813 - val_loss: 0.0945 - val_binary_accuracy: 0.9684\n",
            "Epoch 85/100\n",
            "469/469 [==============================] - 1s 2ms/step - loss: 0.0496 - binary_accuracy: 0.9807 - val_loss: 0.0947 - val_binary_accuracy: 0.9690\n",
            "Epoch 86/100\n",
            "469/469 [==============================] - 1s 2ms/step - loss: 0.0528 - binary_accuracy: 0.9798 - val_loss: 0.0947 - val_binary_accuracy: 0.9688\n",
            "Epoch 87/100\n",
            "469/469 [==============================] - 1s 2ms/step - loss: 0.0481 - binary_accuracy: 0.9821 - val_loss: 0.0953 - val_binary_accuracy: 0.9691\n",
            "Epoch 88/100\n",
            "469/469 [==============================] - 1s 2ms/step - loss: 0.0495 - binary_accuracy: 0.9817 - val_loss: 0.0985 - val_binary_accuracy: 0.9682\n",
            "Epoch 89/100\n",
            "469/469 [==============================] - 1s 2ms/step - loss: 0.0519 - binary_accuracy: 0.9798 - val_loss: 0.0908 - val_binary_accuracy: 0.9702\n",
            "Epoch 90/100\n",
            "469/469 [==============================] - 1s 2ms/step - loss: 0.0489 - binary_accuracy: 0.9813 - val_loss: 0.0962 - val_binary_accuracy: 0.9709\n",
            "Epoch 91/100\n",
            "469/469 [==============================] - 1s 2ms/step - loss: 0.0499 - binary_accuracy: 0.9814 - val_loss: 0.0960 - val_binary_accuracy: 0.9700\n",
            "Epoch 92/100\n",
            "469/469 [==============================] - 1s 2ms/step - loss: 0.0499 - binary_accuracy: 0.9810 - val_loss: 0.0924 - val_binary_accuracy: 0.9692\n",
            "Epoch 93/100\n",
            "469/469 [==============================] - 1s 2ms/step - loss: 0.0463 - binary_accuracy: 0.9816 - val_loss: 0.0953 - val_binary_accuracy: 0.9695\n",
            "Epoch 94/100\n",
            "469/469 [==============================] - 1s 2ms/step - loss: 0.0486 - binary_accuracy: 0.9819 - val_loss: 0.0993 - val_binary_accuracy: 0.9701\n",
            "Epoch 95/100\n",
            "469/469 [==============================] - 1s 2ms/step - loss: 0.0484 - binary_accuracy: 0.9825 - val_loss: 0.0956 - val_binary_accuracy: 0.9684\n",
            "Epoch 96/100\n",
            "469/469 [==============================] - 1s 2ms/step - loss: 0.0478 - binary_accuracy: 0.9815 - val_loss: 0.0895 - val_binary_accuracy: 0.9714\n",
            "Epoch 97/100\n",
            "469/469 [==============================] - 1s 2ms/step - loss: 0.0466 - binary_accuracy: 0.9826 - val_loss: 0.0968 - val_binary_accuracy: 0.9710\n",
            "Epoch 98/100\n",
            "469/469 [==============================] - 1s 2ms/step - loss: 0.0502 - binary_accuracy: 0.9808 - val_loss: 0.0948 - val_binary_accuracy: 0.9710\n",
            "Epoch 99/100\n",
            "469/469 [==============================] - 1s 2ms/step - loss: 0.0477 - binary_accuracy: 0.9819 - val_loss: 0.0907 - val_binary_accuracy: 0.9715\n",
            "Epoch 100/100\n",
            "469/469 [==============================] - 1s 2ms/step - loss: 0.0476 - binary_accuracy: 0.9823 - val_loss: 0.0996 - val_binary_accuracy: 0.9698\n"
          ],
          "name": "stdout"
        }
      ]
    },
    {
      "cell_type": "markdown",
      "metadata": {
        "id": "mHRJ2hUxwFd4"
      },
      "source": [
        "### 比較兩種網路的訓練結果"
      ]
    },
    {
      "cell_type": "code",
      "metadata": {
        "id": "3VPoIMhBwFd5",
        "outputId": "a8f6ce2a-0af2-433c-97ae-a946df2f9268"
      },
      "source": [
        "plt.figure(figsize=(8, 6))\n",
        "plt.plot(history.history['loss'], label='model-training')\n",
        "plt.plot(history.history['val_loss'], label='model-validation')\n",
        "plt.ylabel('accuracy')\n",
        "plt.xlabel('epochs')\n",
        "plt.legend()"
      ],
      "execution_count": null,
      "outputs": [
        {
          "output_type": "execute_result",
          "data": {
            "text/plain": [
              "<matplotlib.legend.Legend at 0x1853cb7f488>"
            ]
          },
          "metadata": {
            "tags": []
          },
          "execution_count": 51
        },
        {
          "output_type": "display_data",
          "data": {
            "image/png": "[encoded data removed]",
            "text/plain": [
              "<Figure size 576x432 with 1 Axes>"
            ]
          },
          "metadata": {
            "tags": [],
            "needs_background": "light"
          }
        }
      ]
    },
    {
      "cell_type": "code",
      "metadata": {
        "id": "3Qv9fLNtwFd5",
        "outputId": "92a2a9dc-85cc-4d12-83b8-4428d741d8f5"
      },
      "source": [
        "plt.figure(figsize=(8, 6))\n",
        "plt.plot(history.history['binary_accuracy'], label='model-training')\n",
        "plt.plot(history.history['val_binary_accuracy'], label='model-validation')\n",
        "plt.ylabel('accuracy')\n",
        "plt.xlabel('epochs')\n",
        "plt.legend()"
      ],
      "execution_count": null,
      "outputs": [
        {
          "output_type": "execute_result",
          "data": {
            "text/plain": [
              "<matplotlib.legend.Legend at 0x1853c7f3908>"
            ]
          },
          "metadata": {
            "tags": []
          },
          "execution_count": 52
        },
        {
          "output_type": "display_data",
          "data": {
            "image/png": "[encoded data removed]",
            "text/plain": [
              "<Figure size 576x432 with 1 Axes>"
            ]
          },
          "metadata": {
            "tags": [],
            "needs_background": "light"
          }
        }
      ]
    },
    {
      "cell_type": "markdown",
      "metadata": {
        "id": "1RBtUemXwFd6"
      },
      "source": [
        "驗證在測試集上"
      ]
    },
    {
      "cell_type": "code",
      "metadata": {
        "id": "UNniU8hOwFd6",
        "outputId": "7a0de216-9d73-4fd3-937c-e8705e23f13a"
      },
      "source": [
        "# 載入Model準確率最高的模型權重\n",
        "model.load_weights(model_dir + '/Best-model.h5')\n",
        "loss, accuracy = model.evaluate([x_test_normal, x_test_one_hot], y_test)\n",
        "print(\"Model-1: {}%\".format(accuracy))"
      ],
      "execution_count": null,
      "outputs": [
        {
          "output_type": "stream",
          "text": [
            "313/313 [==============================] - 0s 441us/step - loss: 0.0947 - binary_accuracy: 0.9704\n",
            "Model-1: 0.9703999757766724%\n"
          ],
          "name": "stdout"
        }
      ]
    }
  ]
}