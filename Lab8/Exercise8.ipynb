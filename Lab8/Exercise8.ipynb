{
  "nbformat": 4,
  "nbformat_minor": 0,
  "metadata": {
    "kernelspec": {
      "name": "python3",
      "display_name": "Python 3"
    },
    "colab": {
      "name": "Exercise8.ipynb",
      "private_outputs": true,
      "provenance": []
    },
    "language_info": {
      "name": "python"
    },
    "accelerator": "GPU"
  },
  "cells": [
    {
      "cell_type": "markdown",
      "metadata": {
        "id": "4JdXIfgc3aNk"
      },
      "source": [
        "# Exercise8：實作Efficientnet網路架構"
      ]
    },
    {
      "cell_type": "markdown",
      "metadata": {
        "id": "_TEk7X_m3aNk"
      },
      "source": [
        "<table class=\"tfo-notebook-buttons\" align=\"left\">\n",
        "  <td>\n",
        "    <a target=\"_blank\" href=\"https://colab.research.google.com/github/taipeitechmmslab/MMSLAB-TF2/blob/master/Exercise/Exercise8.ipynb\"><img src=\"https://www.tensorflow.org/images/colab_logo_32px.png\" />Run in Google Colab</a>\n",
        "  </td>\n",
        "  <td>\n",
        "    <a target=\"_blank\" href=\"https://github.com/taipeitechmmslab/MMSLAB-TF2/blob/master/Exercise/Exercise8.ipynb\"><img src=\"https://www.tensorflow.org/images/GitHub-Mark-32px.png\" />View source on GitHub</a>\n",
        "  </td>\n",
        "</table>"
      ]
    },
    {
      "cell_type": "markdown",
      "metadata": {
        "id": "z9ZVdicj3aNl"
      },
      "source": [
        "### Import必要套件"
      ]
    },
    {
      "cell_type": "code",
      "metadata": {
        "id": "Z0Obm0ke3aNm"
      },
      "source": [
        "import numpy as np\n",
        "import matplotlib.pyplot as plt\n",
        "import tensorflow as tf"
      ],
      "execution_count": null,
      "outputs": []
    },
    {
      "cell_type": "markdown",
      "metadata": {
        "id": "kJYSineB3aNm"
      },
      "source": [
        "---\n",
        "## Keras Applications\n",
        "### 創建EfficientNetB0網路架構\n",
        "- 輸入大小(預設)：(224, 224, 3)\n",
        "- 權重(預設)：`imagenet`\n",
        "- 輸出類別(預設)：1000個類別\n",
        "\n",
        "keras.applications API: https://www.tensorflow.org/api_docs/python/tf/keras/applications\n",
        "\n",
        "※注意: EfficientNet支援`TensorFlow 2.3+`"
      ]
    },
    {
      "cell_type": "code",
      "metadata": {
        "id": "4a-mOwRW3aNn"
      },
      "source": [
        "# Write your code here\n",
        "tf.keras.applications.EfficientNetB0(\n",
        "    include_top=True, weights='imagenet', \n",
        "    input_shape=(224, 224, 3), classes=1000\n",
        "    )"
      ],
      "execution_count": null,
      "outputs": []
    },
    {
      "cell_type": "markdown",
      "metadata": {
        "id": "BGYh4to73aNn"
      },
      "source": [
        "透過`model.summary`可以察看網路模型的每一層資訊："
      ]
    },
    {
      "cell_type": "code",
      "metadata": {
        "scrolled": true,
        "id": "4G5ZLNU53aNo"
      },
      "source": [
        "model.summary()"
      ],
      "execution_count": null,
      "outputs": []
    },
    {
      "cell_type": "markdown",
      "metadata": {
        "id": "wzt_0w6D3aNp"
      },
      "source": [
        "將網路模型儲存到TensorBoard上："
      ]
    },
    {
      "cell_type": "code",
      "metadata": {
        "id": "K4KbZWf63aNp"
      },
      "source": [
        "model_tb = tf.keras.callbacks.TensorBoard(log_dir='lab8-logs-efficientnetB0-keras')\n",
        "model_tb.set_model(model)"
      ],
      "execution_count": null,
      "outputs": []
    },
    {
      "cell_type": "markdown",
      "metadata": {
        "id": "CvghKT9q3aNq"
      },
      "source": [
        "### 資料前處理和輸出解碼"
      ]
    },
    {
      "cell_type": "markdown",
      "metadata": {
        "id": "z7OwO14K3aNq"
      },
      "source": [
        "Import資料預處理和輸出解碼的函式："
      ]
    },
    {
      "cell_type": "code",
      "metadata": {
        "id": "SHZpi6ik3aNq"
      },
      "source": [
        "# Write your code here"
      ],
      "execution_count": null,
      "outputs": []
    },
    {
      "cell_type": "markdown",
      "metadata": {
        "id": "Yte3YAvg3aNr"
      },
      "source": [
        "### 預測輸出結果"
      ]
    },
    {
      "cell_type": "markdown",
      "metadata": {
        "id": "uCQbnUXl3aNr"
      },
      "source": [
        "創建影像讀取的函式：讀取影像，並將影像大小縮放大224x224x3的尺寸。"
      ]
    },
    {
      "cell_type": "code",
      "metadata": {
        "id": "9nEioMew3aNr"
      },
      "source": [
        "def read_img(img_path, resize=(224,224)):\n",
        "    img_string = tf.io.read_file(img_path)  # 讀取檔案\n",
        "    img_decode = tf.image.decode_image(img_string)  # 將檔案以影像格式來解碼\n",
        "    img_decode = tf.image.resize(img_decode, resize)  # 將影像resize到網路輸入大小\n",
        "    # 將影像格式增加到4維(batch, height, width, channels)，模型預測要求格式\n",
        "    img_decode = tf.expand_dims(img_decode, axis=0)\n",
        "    return img_decode"
      ],
      "execution_count": null,
      "outputs": []
    },
    {
      "cell_type": "markdown",
      "metadata": {
        "id": "2T8R2mbk3aNr"
      },
      "source": [
        "從資料夾中讀取一張影像（elephant.jpg）作為測試："
      ]
    },
    {
      "cell_type": "code",
      "metadata": {
        "id": "Hsm2rSKZ3aNs"
      },
      "source": [
        "img_path = '../image/elephant.jpg'\n",
        "img = read_img(img_path)  # 透過剛創建的函式讀取影像\n",
        "plt.imshow(tf.cast(img, tf.uint8)[0])  # 透過matplotlib顯示圖片需將影像轉為Integers"
      ],
      "execution_count": null,
      "outputs": []
    },
    {
      "cell_type": "markdown",
      "metadata": {
        "id": "Hwrr0FvK3aNs"
      },
      "source": [
        "預測結果："
      ]
    },
    {
      "cell_type": "code",
      "metadata": {
        "id": "8FQ9BidR3aNs"
      },
      "source": [
        "img = preprocess_input(img)  # 影像前處理\n",
        "preds = model.predict(img)  # 預測圖片\n",
        "print(\"Predicted:\", decode_predictions(preds, top=3)[0])  # 輸出預測最高的三個類別"
      ],
      "execution_count": null,
      "outputs": []
    },
    {
      "cell_type": "markdown",
      "metadata": {
        "id": "WjmEooUt3aNt"
      },
      "source": [
        "---\n",
        "## TensorFlow Hub\n",
        "\n",
        "Install:\n",
        "```\n",
        "pip install tensorflow-hub\n",
        "```\n",
        "\n",
        "Search:\n",
        "https://tfhub.dev/"
      ]
    },
    {
      "cell_type": "code",
      "metadata": {
        "id": "gXIFJXAs3aNt"
      },
      "source": [
        "import tensorflow as tf\n",
        "import tensorflow_hub as hub"
      ],
      "execution_count": null,
      "outputs": []
    },
    {
      "cell_type": "markdown",
      "metadata": {
        "id": "Eujz5vrU3aNt"
      },
      "source": [
        "### 創建EfficientNet B0模型\n",
        "\n",
        "Model:\n",
        "https://tfhub.dev/tensorflow/efficientnet/b0/classification/1\n",
        "\n",
        "num_classes = 1001 classes of the classification from the original training\n",
        " \n",
        "Image:height x width = 224 x 224 pixels, 3 RGB color values in the range 0~1\n",
        "\n",
        "labels file: https://storage.googleapis.com/download.tensorflow.org/data/ImageNetLabels.txt"
      ]
    },
    {
      "cell_type": "code",
      "metadata": {
        "id": "rEmagRco3aNt"
      },
      "source": [
        "# EfficientNet B0預訓練模型的URL\n",
        "module_url = \"\"     # Write your code here\n",
        "\n",
        "# 創建一個Sequential Model，網路模型裡面包含了EfficientNet B0網路層\n",
        "model = tf.keras.Sequential([\n",
        "    # hub.KerasLayer將載入的EfficientNet B0模型封裝成網路層(Keras Layer)\n",
        "    hub.KerasLayer(module_url, \n",
        "                   name='EfficientNetB0')  # 網路層名稱\n",
        "])\n",
        "model.build([None, 224, 224, 3])"
      ],
      "execution_count": null,
      "outputs": []
    },
    {
      "cell_type": "code",
      "metadata": {
        "scrolled": true,
        "id": "os1zqM3b3aNu"
      },
      "source": [
        "model.summary()"
      ],
      "execution_count": null,
      "outputs": []
    },
    {
      "cell_type": "markdown",
      "metadata": {
        "id": "CrVq0GFd3aNu"
      },
      "source": [
        "### 資料前處理和輸出解碼"
      ]
    },
    {
      "cell_type": "markdown",
      "metadata": {
        "id": "KHNiYBiB3aNu"
      },
      "source": [
        "創建資料前處理函式："
      ]
    },
    {
      "cell_type": "code",
      "metadata": {
        "id": "fAvtCXVp3aNu"
      },
      "source": [
        "def read_img(img_path, resize=(224,224)):\n",
        "    img_string = tf.io.read_file(img_path)  # 讀取檔案\n",
        "    img_decode = tf.image.decode_image(img_string)  # 將檔案以影像格式來解碼\n",
        "    img_decode = tf.image.convert_image_dtype(img_decode, tf.float32)\n",
        "    img_decode = tf.image.resize(img_decode, resize)  # 將影像resize到網路輸入大小\n",
        "    # 將影像格式增加到4維(batch, height, width, channels)，模型預測要求格式\n",
        "    img_decode = tf.expand_dims(img_decode, axis=0)  # \n",
        "    return img_decode"
      ],
      "execution_count": null,
      "outputs": []
    },
    {
      "cell_type": "markdown",
      "metadata": {
        "id": "KvmAMiS53aNv"
      },
      "source": [
        "創建輸出解碼器："
      ]
    },
    {
      "cell_type": "code",
      "metadata": {
        "scrolled": true,
        "id": "6zX2jZpC3aNv"
      },
      "source": [
        "# 下載ImageNet 的標籤檔\n",
        "labels_path = tf.keras.utils.get_file('ImageNetLabels.txt', 'https://storage.googleapis.com/download.tensorflow.org/data/ImageNetLabels.txt')\n",
        "# 讀取標籤檔中的數據\n",
        "with open(labels_path) as file:\n",
        "    lines = file.read().splitlines()\n",
        "print(lines)  # 顯示讀取的標籤\n",
        "\n",
        "imagenet_labels = np.array(lines)  # 將標籤轉成numpy array做為網路輸出的解碼器"
      ],
      "execution_count": null,
      "outputs": []
    },
    {
      "cell_type": "markdown",
      "metadata": {
        "id": "lOz0HH5l3aNv"
      },
      "source": [
        "### 預測輸出結果"
      ]
    },
    {
      "cell_type": "markdown",
      "metadata": {
        "id": "SWsMBeSN3aNv"
      },
      "source": [
        "從資料夾中讀取一張影像（elephant.jpg）作為測試："
      ]
    },
    {
      "cell_type": "code",
      "metadata": {
        "id": "FZNau_Zv3aNv"
      },
      "source": [
        "img_path = '../image/elephant.jpg'\n",
        "img = read_img(img_path)  # 透過剛創建的函式讀取影像\n",
        "plt.imshow(img[0])"
      ],
      "execution_count": null,
      "outputs": []
    },
    {
      "cell_type": "markdown",
      "metadata": {
        "id": "DEwtRSAS3aNw"
      },
      "source": [
        "預測結果："
      ]
    },
    {
      "cell_type": "code",
      "metadata": {
        "id": "PdU4oYEy3aNw"
      },
      "source": [
        "preds = model.predict(img)  # 預測圖片\n",
        "index = np.argmax(preds)  # 取得預測結果最大的Index\n",
        "print(\"Predicted:\", imagenet_labels[index])  # 透過解碼器將輸出轉成標籤"
      ],
      "execution_count": null,
      "outputs": []
    },
    {
      "cell_type": "markdown",
      "metadata": {
        "id": "W9Fr1HNr3aNw"
      },
      "source": [
        "顯示最好的三個預測："
      ]
    },
    {
      "cell_type": "code",
      "metadata": {
        "scrolled": true,
        "id": "BPFyMOc_3aNw"
      },
      "source": [
        "# 取得預測結果最大的三個indexs\n",
        "top3_indexs = np.argsort(preds)[0, ::-1][:3]  \n",
        "print(\"Predicted:\", imagenet_labels[top3_indexs+1])  # 透過解碼器將輸出轉成標籤"
      ],
      "execution_count": null,
      "outputs": []
    },
    {
      "cell_type": "code",
      "metadata": {
        "id": "nrUEiUnQ3aNx"
      },
      "source": [
        ""
      ],
      "execution_count": null,
      "outputs": []
    }
  ]
}